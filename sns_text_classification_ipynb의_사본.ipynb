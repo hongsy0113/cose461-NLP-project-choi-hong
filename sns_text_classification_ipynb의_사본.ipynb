{
  "nbformat": 4,
  "nbformat_minor": 0,
  "metadata": {
    "colab": {
      "name": "sns_text_classification.ipynb의 사본",
      "provenance": [],
      "collapsed_sections": [],
      "include_colab_link": true
    },
    "kernelspec": {
      "display_name": "Python 3",
      "name": "python3"
    },
    "language_info": {
      "name": "python"
    }
  },
  "cells": [
    {
      "cell_type": "markdown",
      "metadata": {
        "id": "view-in-github",
        "colab_type": "text"
      },
      "source": [
        "<a href=\"https://colab.research.google.com/github/hongsy0113/cose461-NLP-project-choi-hong/blob/main/sns_text_classification_ipynb%EC%9D%98_%EC%82%AC%EB%B3%B8.ipynb\" target=\"_parent\"><img src=\"https://colab.research.google.com/assets/colab-badge.svg\" alt=\"Open In Colab\"/></a>"
      ]
    },
    {
      "cell_type": "code",
      "metadata": {
        "id": "UXuP4pAi4Qp-"
      },
      "source": [
        "import pandas as pd\n",
        "import json\n",
        "from pandas import json_normalize\n"
      ],
      "execution_count": 1,
      "outputs": []
    },
    {
      "cell_type": "code",
      "metadata": {
        "colab": {
          "base_uri": "https://localhost:8080/"
        },
        "id": "hFr8oBdHAv-t",
        "outputId": "7413fead-2231-4fb1-d15d-81c200aad279"
      },
      "source": [
        "# json data 파일들을 google drive에 저장\n",
        "# google drive 에 있는 파일들을 접근하기 위해 mount\n",
        "from google.colab import drive\n",
        "drive.mount('/content/gdrive')"
      ],
      "execution_count": 2,
      "outputs": [
        {
          "output_type": "stream",
          "name": "stdout",
          "text": [
            "Mounted at /content/gdrive\n"
          ]
        }
      ]
    },
    {
      "cell_type": "code",
      "metadata": {
        "id": "NqHDRe3fgVLF"
      },
      "source": [
        "# Convert json file to dataFrame\n",
        "# input file parameter should be str, path and name of json file\n",
        "# output dataFrame contains utterances. \n",
        "# each utterance has dialogueInfo and participantsInfo (i.e gender)\n",
        "\n",
        "def json2df (file):\n",
        "  with open(file, 'r') as f:\n",
        "    jdata = json.load(f)\n",
        "  \n",
        "  meta_list = [['header', 'dialogueInfo', 'numberOfParticipants'],\n",
        "             ['header', 'dialogueInfo', 'numberOfUtterances'],\n",
        "             ['header', 'dialogueInfo', 'numberOfTurns'],\n",
        "             ['header', 'dialogueInfo', 'type'],\n",
        "             ['header', 'dialogueInfo', 'topic'],\n",
        "             ['header', 'dialogueInfo', 'dialogueID'],\n",
        "            ]\n",
        "  # dataframe of utterances \n",
        "  df1 = pd.json_normalize(jdata['data'][:], record_path=['body'], meta= meta_list, errors='ignore')\n",
        "  # dataframe of participants info\n",
        "  df2 = pd.json_normalize(jdata['data'], record_path=['header', 'participantsInfo'],  meta= [['header', 'dialogueInfo', 'dialogueID']], errors='ignore')\n",
        "  # join df1 and df2 where (df1.dialogueID == df2.dialogueID and df1.participantID == df2.participantID)\n",
        "  df = pd.merge(left = df1 , right = df2, how = \"left\", on = [\"header.dialogueInfo.dialogueID\", 'participantID' ],sort=False)\n",
        "\n",
        "  # rename column names\n",
        "  # 열이름 너무 길어서 바꿈. P는 참가자, U는 메시지, D는 대화, T는 turn 으로 통일시킴. 맘에 안 들면 바꿔도 ok\n",
        "  df.rename(columns = {'header.dialogueInfo.numberOfParticipants' : 'P_num', \n",
        "                       'header.dialogueInfo.numberOfUtterances': 'U_num', \n",
        "                       'header.dialogueInfo.numberOfTurns':'T_num',\n",
        "                       'header.dialogueInfo.type': 'D_type',\n",
        "                       'header.dialogueInfo.topic': 'D_topic',\n",
        "                       'header.dialogueInfo.dialogueID':'D_id',\n",
        "                       'utteranceID':'U_id',\n",
        "                       'participantID':'P_id',\n",
        "                       'turnID':'T_id',\n",
        "                       'date':'U_date',\n",
        "                       'gender':'P_gender',\n",
        "                       'residentialProvince':'P_residential',\n",
        "                       'age':'P_age'}, inplace = True)\n",
        "  # 대화 id, utterance id 를 index로 함. 마찬가지로 수정해도 됨.\n",
        "  df.set_index(['D_id','U_id'], inplace=True)\n",
        "  return df\n"
      ],
      "execution_count": 3,
      "outputs": []
    },
    {
      "cell_type": "code",
      "metadata": {
        "id": "dVAGe-cvroCw"
      },
      "source": [
        "# 행사.json, 식음료.json 등 여러 데이터셋을 하나로 만들기 위한 함수\n",
        "def concat_json2df (file_list):\n",
        "  result = None\n",
        "\n",
        "  for i, file in enumerate(file_list):\n",
        "    df = json2df(file)\n",
        "    if (i==0):\n",
        "      result = df.copy()\n",
        "    else:\n",
        "      result = pd.concat([result,df])\n",
        "  return result"
      ],
      "execution_count": 4,
      "outputs": []
    },
    {
      "cell_type": "code",
      "metadata": {
        "colab": {
          "base_uri": "https://localhost:8080/",
          "height": 171
        },
        "id": "EggR18Hvsdcb",
        "outputId": "3066f638-05b4-4502-f438-e84285f5e52a"
      },
      "source": [
        "f_list = ['/content/gdrive/MyDrive/cose461/행사.json',\n",
        "          '/content/gdrive/MyDrive/cose461/식음료.json']\n",
        "\n",
        "test3 = concat_json2df(f_list)\n",
        "\n",
        "test3.describe()"
      ],
      "execution_count": 5,
      "outputs": [
        {
          "output_type": "execute_result",
          "data": {
            "text/html": [
              "<div>\n",
              "<style scoped>\n",
              "    .dataframe tbody tr th:only-of-type {\n",
              "        vertical-align: middle;\n",
              "    }\n",
              "\n",
              "    .dataframe tbody tr th {\n",
              "        vertical-align: top;\n",
              "    }\n",
              "\n",
              "    .dataframe thead th {\n",
              "        text-align: right;\n",
              "    }\n",
              "</style>\n",
              "<table border=\"1\" class=\"dataframe\">\n",
              "  <thead>\n",
              "    <tr style=\"text-align: right;\">\n",
              "      <th></th>\n",
              "      <th>utterance</th>\n",
              "      <th>P_id</th>\n",
              "      <th>U_date</th>\n",
              "      <th>T_id</th>\n",
              "      <th>time</th>\n",
              "      <th>P_num</th>\n",
              "      <th>U_num</th>\n",
              "      <th>T_num</th>\n",
              "      <th>D_type</th>\n",
              "      <th>D_topic</th>\n",
              "      <th>P_age</th>\n",
              "      <th>P_residential</th>\n",
              "      <th>P_gender</th>\n",
              "    </tr>\n",
              "  </thead>\n",
              "  <tbody>\n",
              "    <tr>\n",
              "      <th>count</th>\n",
              "      <td>3381752</td>\n",
              "      <td>3381752</td>\n",
              "      <td>3381752</td>\n",
              "      <td>3381752</td>\n",
              "      <td>3381752</td>\n",
              "      <td>3381752</td>\n",
              "      <td>3381752</td>\n",
              "      <td>3381752</td>\n",
              "      <td>3381752</td>\n",
              "      <td>3381752</td>\n",
              "      <td>3381752</td>\n",
              "      <td>3381752</td>\n",
              "      <td>3381752</td>\n",
              "    </tr>\n",
              "    <tr>\n",
              "      <th>unique</th>\n",
              "      <td>2543121</td>\n",
              "      <td>9</td>\n",
              "      <td>2873</td>\n",
              "      <td>20</td>\n",
              "      <td>1440</td>\n",
              "      <td>8</td>\n",
              "      <td>23</td>\n",
              "      <td>17</td>\n",
              "      <td>2</td>\n",
              "      <td>2</td>\n",
              "      <td>9</td>\n",
              "      <td>18</td>\n",
              "      <td>2</td>\n",
              "    </tr>\n",
              "    <tr>\n",
              "      <th>top</th>\n",
              "      <td>#@시스템#사진#</td>\n",
              "      <td>P01</td>\n",
              "      <td>2020-12-21</td>\n",
              "      <td>T3</td>\n",
              "      <td>17:55:00</td>\n",
              "      <td>2</td>\n",
              "      <td>20</td>\n",
              "      <td>8</td>\n",
              "      <td>일상 대화</td>\n",
              "      <td>식음료</td>\n",
              "      <td>20대</td>\n",
              "      <td>서울특별시</td>\n",
              "      <td>여성</td>\n",
              "    </tr>\n",
              "    <tr>\n",
              "      <th>freq</th>\n",
              "      <td>38365</td>\n",
              "      <td>1759889</td>\n",
              "      <td>8714</td>\n",
              "      <td>455462</td>\n",
              "      <td>5287</td>\n",
              "      <td>2981713</td>\n",
              "      <td>499120</td>\n",
              "      <td>599571</td>\n",
              "      <td>3380905</td>\n",
              "      <td>1821031</td>\n",
              "      <td>2470129</td>\n",
              "      <td>969946</td>\n",
              "      <td>2713080</td>\n",
              "    </tr>\n",
              "  </tbody>\n",
              "</table>\n",
              "</div>"
            ],
            "text/plain": [
              "        utterance     P_id      U_date  ...    P_age P_residential  P_gender\n",
              "count     3381752  3381752     3381752  ...  3381752       3381752   3381752\n",
              "unique    2543121        9        2873  ...        9            18         2\n",
              "top     #@시스템#사진#      P01  2020-12-21  ...      20대         서울특별시        여성\n",
              "freq        38365  1759889        8714  ...  2470129        969946   2713080\n",
              "\n",
              "[4 rows x 13 columns]"
            ]
          },
          "metadata": {},
          "execution_count": 5
        }
      ]
    },
    {
      "cell_type": "code",
      "metadata": {
        "id": "IMFAOZn5pCy6"
      },
      "source": [
        "#test test test\n",
        "# 이미 구현되어 있는 형태소 분석 툴을 써야 할 텐데 \n",
        "# '괜찮을거가태' 처럼 표준형태와 다른 형태의 단어들이 우리 모델 학습에 중요할 거 같은데\n",
        "# 이런 거 어케할지. 그냥 전처리 없이 raw단어로 할지"
      ],
      "execution_count": null,
      "outputs": []
    },
    {
      "cell_type": "code",
      "metadata": {
        "colab": {
          "base_uri": "https://localhost:8080/"
        },
        "id": "0eO5NFLhITuF",
        "outputId": "32732d5b-ce5f-4cb3-ae62-02a2ba18fa1c"
      },
      "source": [
        "# Naive-Bayes Method.\n",
        "test = test3[['utterance', 'P_gender']]\n",
        "test['P_gender'].value_counts()"
      ],
      "execution_count": 35,
      "outputs": [
        {
          "output_type": "execute_result",
          "data": {
            "text/plain": [
              "여성    2713080\n",
              "남성     668672\n",
              "Name: P_gender, dtype: int64"
            ]
          },
          "metadata": {},
          "execution_count": 35
        }
      ]
    },
    {
      "cell_type": "code",
      "metadata": {
        "colab": {
          "base_uri": "https://localhost:8080/",
          "height": 445
        },
        "id": "V0PxsLzX9fTb",
        "outputId": "747d4728-ecef-4ce5-8200-1bca87d48bae"
      },
      "source": [
        "test[['P_gender', 'utterance']]"
      ],
      "execution_count": 36,
      "outputs": [
        {
          "output_type": "execute_result",
          "data": {
            "text/html": [
              "<div>\n",
              "<style scoped>\n",
              "    .dataframe tbody tr th:only-of-type {\n",
              "        vertical-align: middle;\n",
              "    }\n",
              "\n",
              "    .dataframe tbody tr th {\n",
              "        vertical-align: top;\n",
              "    }\n",
              "\n",
              "    .dataframe thead th {\n",
              "        text-align: right;\n",
              "    }\n",
              "</style>\n",
              "<table border=\"1\" class=\"dataframe\">\n",
              "  <thead>\n",
              "    <tr style=\"text-align: right;\">\n",
              "      <th></th>\n",
              "      <th></th>\n",
              "      <th>P_gender</th>\n",
              "      <th>utterance</th>\n",
              "    </tr>\n",
              "    <tr>\n",
              "      <th>D_id</th>\n",
              "      <th>U_id</th>\n",
              "      <th></th>\n",
              "      <th></th>\n",
              "    </tr>\n",
              "  </thead>\n",
              "  <tbody>\n",
              "    <tr>\n",
              "      <th rowspan=\"5\" valign=\"top\">223740cf-606e-5149-820c-7dce69513da1</th>\n",
              "      <th>U1</th>\n",
              "      <td>여성</td>\n",
              "      <td>8월 말도 ㄱㅊ해</td>\n",
              "    </tr>\n",
              "    <tr>\n",
              "      <th>U2</th>\n",
              "      <td>여성</td>\n",
              "      <td>그때도 글ㅋㅔ 안추울걸</td>\n",
              "    </tr>\n",
              "    <tr>\n",
              "      <th>U3</th>\n",
              "      <td>여성</td>\n",
              "      <td>29일로 할까?</td>\n",
              "    </tr>\n",
              "    <tr>\n",
              "      <th>U4</th>\n",
              "      <td>여성</td>\n",
              "      <td>날짜라도 일단 확정하면 ㅋㅋㅋ 찾기 수월하니까~</td>\n",
              "    </tr>\n",
              "    <tr>\n",
              "      <th>U5</th>\n",
              "      <td>여성</td>\n",
              "      <td>응응 그럼 29일로가자</td>\n",
              "    </tr>\n",
              "    <tr>\n",
              "      <th>...</th>\n",
              "      <th>...</th>\n",
              "      <td>...</td>\n",
              "      <td>...</td>\n",
              "    </tr>\n",
              "    <tr>\n",
              "      <th rowspan=\"5\" valign=\"top\">fd4c483f-28a3-5703-82d3-2e3b1a984078</th>\n",
              "      <th>U12</th>\n",
              "      <td>여성</td>\n",
              "      <td>리조또랑</td>\n",
              "    </tr>\n",
              "    <tr>\n",
              "      <th>U13</th>\n",
              "      <td>여성</td>\n",
              "      <td>웅</td>\n",
              "    </tr>\n",
              "    <tr>\n",
              "      <th>U14</th>\n",
              "      <td>여성</td>\n",
              "      <td>수육에</td>\n",
              "    </tr>\n",
              "    <tr>\n",
              "      <th>U15</th>\n",
              "      <td>여성</td>\n",
              "      <td>헤헤</td>\n",
              "    </tr>\n",
              "    <tr>\n",
              "      <th>U16</th>\n",
              "      <td>여성</td>\n",
              "      <td>장난아냐</td>\n",
              "    </tr>\n",
              "  </tbody>\n",
              "</table>\n",
              "<p>3381752 rows × 2 columns</p>\n",
              "</div>"
            ],
            "text/plain": [
              "                                          P_gender                   utterance\n",
              "D_id                                 U_id                                     \n",
              "223740cf-606e-5149-820c-7dce69513da1 U1         여성                   8월 말도 ㄱㅊ해\n",
              "                                     U2         여성                그때도 글ㅋㅔ 안추울걸\n",
              "                                     U3         여성                    29일로 할까?\n",
              "                                     U4         여성  날짜라도 일단 확정하면 ㅋㅋㅋ 찾기 수월하니까~\n",
              "                                     U5         여성                응응 그럼 29일로가자\n",
              "...                                            ...                         ...\n",
              "fd4c483f-28a3-5703-82d3-2e3b1a984078 U12        여성                        리조또랑\n",
              "                                     U13        여성                           웅\n",
              "                                     U14        여성                         수육에\n",
              "                                     U15        여성                          헤헤\n",
              "                                     U16        여성                        장난아냐\n",
              "\n",
              "[3381752 rows x 2 columns]"
            ]
          },
          "metadata": {},
          "execution_count": 36
        }
      ]
    },
    {
      "cell_type": "code",
      "metadata": {
        "id": "H1RLmBieJe0V",
        "colab": {
          "base_uri": "https://localhost:8080/"
        },
        "outputId": "22ceeb60-d3ee-4dfb-a8b8-a34da72fcc65"
      },
      "source": [
        "# Gender to discrete variable\n",
        "# 0 : '여성', 1 : '남성'\n",
        "test['P_gender'] = [0 if gender=='여성' else 1 for gender in test['P_gender']]"
      ],
      "execution_count": 37,
      "outputs": [
        {
          "output_type": "stream",
          "name": "stderr",
          "text": [
            "/usr/local/lib/python3.7/dist-packages/ipykernel_launcher.py:3: SettingWithCopyWarning: \n",
            "A value is trying to be set on a copy of a slice from a DataFrame.\n",
            "Try using .loc[row_indexer,col_indexer] = value instead\n",
            "\n",
            "See the caveats in the documentation: https://pandas.pydata.org/pandas-docs/stable/user_guide/indexing.html#returning-a-view-versus-a-copy\n",
            "  This is separate from the ipykernel package so we can avoid doing imports until\n"
          ]
        }
      ]
    },
    {
      "cell_type": "code",
      "metadata": {
        "colab": {
          "base_uri": "https://localhost:8080/"
        },
        "id": "hFBUN_K85ctQ",
        "outputId": "67904038-2fdf-4192-ad17-c96fca3d68d2"
      },
      "source": [
        "!pip install soynlp\n",
        "!apt-get update\n",
        "!apt-get install g++ openjdk-8-jdk python-dev python3-dev\n",
        "!pip3 install JPype1-py3\n",
        "!pip3 install konlpy\n",
        "!JAVA_HOME=\"C:\\Program Files\\Java\\jdk-16.0.1\""
      ],
      "execution_count": 14,
      "outputs": [
        {
          "output_type": "stream",
          "name": "stdout",
          "text": [
            "Collecting soynlp\n",
            "  Downloading soynlp-0.0.493-py3-none-any.whl (416 kB)\n",
            "\u001b[?25l\r\u001b[K     |▉                               | 10 kB 21.4 MB/s eta 0:00:01\r\u001b[K     |█▋                              | 20 kB 26.1 MB/s eta 0:00:01\r\u001b[K     |██▍                             | 30 kB 17.5 MB/s eta 0:00:01\r\u001b[K     |███▏                            | 40 kB 16.3 MB/s eta 0:00:01\r\u001b[K     |████                            | 51 kB 7.2 MB/s eta 0:00:01\r\u001b[K     |████▊                           | 61 kB 7.7 MB/s eta 0:00:01\r\u001b[K     |█████▌                          | 71 kB 8.1 MB/s eta 0:00:01\r\u001b[K     |██████▎                         | 81 kB 9.0 MB/s eta 0:00:01\r\u001b[K     |███████                         | 92 kB 9.1 MB/s eta 0:00:01\r\u001b[K     |███████▉                        | 102 kB 6.8 MB/s eta 0:00:01\r\u001b[K     |████████▋                       | 112 kB 6.8 MB/s eta 0:00:01\r\u001b[K     |█████████▍                      | 122 kB 6.8 MB/s eta 0:00:01\r\u001b[K     |██████████▏                     | 133 kB 6.8 MB/s eta 0:00:01\r\u001b[K     |███████████                     | 143 kB 6.8 MB/s eta 0:00:01\r\u001b[K     |███████████▉                    | 153 kB 6.8 MB/s eta 0:00:01\r\u001b[K     |████████████▋                   | 163 kB 6.8 MB/s eta 0:00:01\r\u001b[K     |█████████████▍                  | 174 kB 6.8 MB/s eta 0:00:01\r\u001b[K     |██████████████▏                 | 184 kB 6.8 MB/s eta 0:00:01\r\u001b[K     |███████████████                 | 194 kB 6.8 MB/s eta 0:00:01\r\u001b[K     |███████████████▊                | 204 kB 6.8 MB/s eta 0:00:01\r\u001b[K     |████████████████▌               | 215 kB 6.8 MB/s eta 0:00:01\r\u001b[K     |█████████████████▎              | 225 kB 6.8 MB/s eta 0:00:01\r\u001b[K     |██████████████████              | 235 kB 6.8 MB/s eta 0:00:01\r\u001b[K     |██████████████████▉             | 245 kB 6.8 MB/s eta 0:00:01\r\u001b[K     |███████████████████▋            | 256 kB 6.8 MB/s eta 0:00:01\r\u001b[K     |████████████████████▍           | 266 kB 6.8 MB/s eta 0:00:01\r\u001b[K     |█████████████████████▎          | 276 kB 6.8 MB/s eta 0:00:01\r\u001b[K     |██████████████████████          | 286 kB 6.8 MB/s eta 0:00:01\r\u001b[K     |██████████████████████▉         | 296 kB 6.8 MB/s eta 0:00:01\r\u001b[K     |███████████████████████▋        | 307 kB 6.8 MB/s eta 0:00:01\r\u001b[K     |████████████████████████▍       | 317 kB 6.8 MB/s eta 0:00:01\r\u001b[K     |█████████████████████████▏      | 327 kB 6.8 MB/s eta 0:00:01\r\u001b[K     |██████████████████████████      | 337 kB 6.8 MB/s eta 0:00:01\r\u001b[K     |██████████████████████████▊     | 348 kB 6.8 MB/s eta 0:00:01\r\u001b[K     |███████████████████████████▌    | 358 kB 6.8 MB/s eta 0:00:01\r\u001b[K     |████████████████████████████▎   | 368 kB 6.8 MB/s eta 0:00:01\r\u001b[K     |█████████████████████████████   | 378 kB 6.8 MB/s eta 0:00:01\r\u001b[K     |█████████████████████████████▉  | 389 kB 6.8 MB/s eta 0:00:01\r\u001b[K     |██████████████████████████████▋ | 399 kB 6.8 MB/s eta 0:00:01\r\u001b[K     |███████████████████████████████▌| 409 kB 6.8 MB/s eta 0:00:01\r\u001b[K     |████████████████████████████████| 416 kB 6.8 MB/s \n",
            "\u001b[?25hRequirement already satisfied: scipy>=1.1.0 in /usr/local/lib/python3.7/dist-packages (from soynlp) (1.4.1)\n",
            "Requirement already satisfied: scikit-learn>=0.20.0 in /usr/local/lib/python3.7/dist-packages (from soynlp) (0.22.2.post1)\n",
            "Requirement already satisfied: psutil>=5.0.1 in /usr/local/lib/python3.7/dist-packages (from soynlp) (5.4.8)\n",
            "Requirement already satisfied: numpy>=1.12.1 in /usr/local/lib/python3.7/dist-packages (from soynlp) (1.19.5)\n",
            "Requirement already satisfied: joblib>=0.11 in /usr/local/lib/python3.7/dist-packages (from scikit-learn>=0.20.0->soynlp) (1.1.0)\n",
            "Installing collected packages: soynlp\n",
            "Successfully installed soynlp-0.0.493\n",
            "Get:1 https://cloud.r-project.org/bin/linux/ubuntu bionic-cran40/ InRelease [3,626 B]\n",
            "Ign:2 https://developer.download.nvidia.com/compute/cuda/repos/ubuntu1804/x86_64  InRelease\n",
            "Ign:3 https://developer.download.nvidia.com/compute/machine-learning/repos/ubuntu1804/x86_64  InRelease\n",
            "Get:4 https://developer.download.nvidia.com/compute/cuda/repos/ubuntu1804/x86_64  Release [696 B]\n",
            "Hit:5 https://developer.download.nvidia.com/compute/machine-learning/repos/ubuntu1804/x86_64  Release\n",
            "Get:6 https://developer.download.nvidia.com/compute/cuda/repos/ubuntu1804/x86_64  Release.gpg [836 B]\n",
            "Get:7 http://security.ubuntu.com/ubuntu bionic-security InRelease [88.7 kB]\n",
            "Get:8 http://ppa.launchpad.net/c2d4u.team/c2d4u4.0+/ubuntu bionic InRelease [15.9 kB]\n",
            "Get:9 https://cloud.r-project.org/bin/linux/ubuntu bionic-cran40/ Packages [73.0 kB]\n",
            "Hit:10 http://archive.ubuntu.com/ubuntu bionic InRelease\n",
            "Get:11 http://archive.ubuntu.com/ubuntu bionic-updates InRelease [88.7 kB]\n",
            "Hit:13 http://ppa.launchpad.net/cran/libgit2/ubuntu bionic InRelease\n",
            "Get:14 https://developer.download.nvidia.com/compute/cuda/repos/ubuntu1804/x86_64  Packages [808 kB]\n",
            "Get:15 http://archive.ubuntu.com/ubuntu bionic-backports InRelease [74.6 kB]\n",
            "Hit:16 http://ppa.launchpad.net/deadsnakes/ppa/ubuntu bionic InRelease\n",
            "Hit:17 http://ppa.launchpad.net/graphics-drivers/ppa/ubuntu bionic InRelease\n",
            "Get:18 http://ppa.launchpad.net/c2d4u.team/c2d4u4.0+/ubuntu bionic/main Sources [1,812 kB]\n",
            "Get:19 http://security.ubuntu.com/ubuntu bionic-security/main amd64 Packages [2,430 kB]\n",
            "Get:20 http://archive.ubuntu.com/ubuntu bionic-updates/multiverse amd64 Packages [34.4 kB]\n",
            "Get:21 http://archive.ubuntu.com/ubuntu bionic-updates/universe amd64 Packages [2,219 kB]\n",
            "Get:22 http://security.ubuntu.com/ubuntu bionic-security/multiverse amd64 Packages [26.8 kB]\n",
            "Get:23 http://security.ubuntu.com/ubuntu bionic-security/universe amd64 Packages [1,439 kB]\n",
            "Get:24 http://security.ubuntu.com/ubuntu bionic-security/restricted amd64 Packages [666 kB]\n",
            "Get:25 http://ppa.launchpad.net/c2d4u.team/c2d4u4.0+/ubuntu bionic/main amd64 Packages [928 kB]\n",
            "Get:26 http://archive.ubuntu.com/ubuntu bionic-updates/restricted amd64 Packages [699 kB]\n",
            "Get:27 http://archive.ubuntu.com/ubuntu bionic-updates/main amd64 Packages [2,867 kB]\n",
            "Fetched 14.3 MB in 4s (3,637 kB/s)\n",
            "Reading package lists... Done\n",
            "Reading package lists... Done\n",
            "Building dependency tree       \n",
            "Reading state information... Done\n",
            "python-dev is already the newest version (2.7.15~rc1-1).\n",
            "g++ is already the newest version (4:7.4.0-1ubuntu2.3).\n",
            "g++ set to manually installed.\n",
            "python3-dev is already the newest version (3.6.7-1~18.04).\n",
            "python3-dev set to manually installed.\n",
            "The following additional packages will be installed:\n",
            "  fonts-dejavu-core fonts-dejavu-extra libatk-wrapper-java\n",
            "  libatk-wrapper-java-jni libgail-common libgail18 libgtk2.0-0 libgtk2.0-bin\n",
            "  libgtk2.0-common libxxf86dga1 openjdk-8-jdk-headless openjdk-8-jre\n",
            "  openjdk-8-jre-headless x11-utils\n",
            "Suggested packages:\n",
            "  gvfs openjdk-8-demo openjdk-8-source visualvm icedtea-8-plugin libnss-mdns\n",
            "  fonts-ipafont-gothic fonts-ipafont-mincho fonts-wqy-microhei\n",
            "  fonts-wqy-zenhei fonts-indic mesa-utils\n",
            "The following NEW packages will be installed:\n",
            "  fonts-dejavu-core fonts-dejavu-extra libatk-wrapper-java\n",
            "  libatk-wrapper-java-jni libgail-common libgail18 libgtk2.0-0 libgtk2.0-bin\n",
            "  libgtk2.0-common libxxf86dga1 openjdk-8-jdk openjdk-8-jdk-headless\n",
            "  openjdk-8-jre openjdk-8-jre-headless x11-utils\n",
            "0 upgraded, 15 newly installed, 0 to remove and 61 not upgraded.\n",
            "Need to get 43.5 MB of archives.\n",
            "After this operation, 163 MB of additional disk space will be used.\n",
            "Get:1 http://archive.ubuntu.com/ubuntu bionic/main amd64 libxxf86dga1 amd64 2:1.1.4-1 [13.7 kB]\n",
            "Get:2 http://archive.ubuntu.com/ubuntu bionic/main amd64 fonts-dejavu-core all 2.37-1 [1,041 kB]\n",
            "Get:3 http://archive.ubuntu.com/ubuntu bionic/main amd64 fonts-dejavu-extra all 2.37-1 [1,953 kB]\n",
            "Get:4 http://archive.ubuntu.com/ubuntu bionic/main amd64 x11-utils amd64 7.7+3build1 [196 kB]\n",
            "Get:5 http://archive.ubuntu.com/ubuntu bionic/main amd64 libatk-wrapper-java all 0.33.3-20ubuntu0.1 [34.7 kB]\n",
            "Get:6 http://archive.ubuntu.com/ubuntu bionic/main amd64 libatk-wrapper-java-jni amd64 0.33.3-20ubuntu0.1 [28.3 kB]\n",
            "Get:7 http://archive.ubuntu.com/ubuntu bionic/main amd64 libgtk2.0-common all 2.24.32-1ubuntu1 [125 kB]\n",
            "Get:8 http://archive.ubuntu.com/ubuntu bionic/main amd64 libgtk2.0-0 amd64 2.24.32-1ubuntu1 [1,769 kB]\n",
            "Get:9 http://archive.ubuntu.com/ubuntu bionic/main amd64 libgail18 amd64 2.24.32-1ubuntu1 [14.2 kB]\n",
            "Get:10 http://archive.ubuntu.com/ubuntu bionic/main amd64 libgail-common amd64 2.24.32-1ubuntu1 [112 kB]\n",
            "Get:11 http://archive.ubuntu.com/ubuntu bionic/main amd64 libgtk2.0-bin amd64 2.24.32-1ubuntu1 [7,536 B]\n",
            "Get:12 http://archive.ubuntu.com/ubuntu bionic-updates/universe amd64 openjdk-8-jre-headless amd64 8u292-b10-0ubuntu1~18.04 [28.2 MB]\n",
            "Get:13 http://archive.ubuntu.com/ubuntu bionic-updates/universe amd64 openjdk-8-jre amd64 8u292-b10-0ubuntu1~18.04 [69.6 kB]\n",
            "Get:14 http://archive.ubuntu.com/ubuntu bionic-updates/universe amd64 openjdk-8-jdk-headless amd64 8u292-b10-0ubuntu1~18.04 [8,284 kB]\n",
            "Get:15 http://archive.ubuntu.com/ubuntu bionic-updates/universe amd64 openjdk-8-jdk amd64 8u292-b10-0ubuntu1~18.04 [1,644 kB]\n",
            "Fetched 43.5 MB in 3s (13.6 MB/s)\n",
            "Selecting previously unselected package libxxf86dga1:amd64.\n",
            "(Reading database ... 155219 files and directories currently installed.)\n",
            "Preparing to unpack .../00-libxxf86dga1_2%3a1.1.4-1_amd64.deb ...\n",
            "Unpacking libxxf86dga1:amd64 (2:1.1.4-1) ...\n",
            "Selecting previously unselected package fonts-dejavu-core.\n",
            "Preparing to unpack .../01-fonts-dejavu-core_2.37-1_all.deb ...\n",
            "Unpacking fonts-dejavu-core (2.37-1) ...\n",
            "Selecting previously unselected package fonts-dejavu-extra.\n",
            "Preparing to unpack .../02-fonts-dejavu-extra_2.37-1_all.deb ...\n",
            "Unpacking fonts-dejavu-extra (2.37-1) ...\n",
            "Selecting previously unselected package x11-utils.\n",
            "Preparing to unpack .../03-x11-utils_7.7+3build1_amd64.deb ...\n",
            "Unpacking x11-utils (7.7+3build1) ...\n",
            "Selecting previously unselected package libatk-wrapper-java.\n",
            "Preparing to unpack .../04-libatk-wrapper-java_0.33.3-20ubuntu0.1_all.deb ...\n",
            "Unpacking libatk-wrapper-java (0.33.3-20ubuntu0.1) ...\n",
            "Selecting previously unselected package libatk-wrapper-java-jni:amd64.\n",
            "Preparing to unpack .../05-libatk-wrapper-java-jni_0.33.3-20ubuntu0.1_amd64.deb ...\n",
            "Unpacking libatk-wrapper-java-jni:amd64 (0.33.3-20ubuntu0.1) ...\n",
            "Selecting previously unselected package libgtk2.0-common.\n",
            "Preparing to unpack .../06-libgtk2.0-common_2.24.32-1ubuntu1_all.deb ...\n",
            "Unpacking libgtk2.0-common (2.24.32-1ubuntu1) ...\n",
            "Selecting previously unselected package libgtk2.0-0:amd64.\n",
            "Preparing to unpack .../07-libgtk2.0-0_2.24.32-1ubuntu1_amd64.deb ...\n",
            "Unpacking libgtk2.0-0:amd64 (2.24.32-1ubuntu1) ...\n",
            "Selecting previously unselected package libgail18:amd64.\n",
            "Preparing to unpack .../08-libgail18_2.24.32-1ubuntu1_amd64.deb ...\n",
            "Unpacking libgail18:amd64 (2.24.32-1ubuntu1) ...\n",
            "Selecting previously unselected package libgail-common:amd64.\n",
            "Preparing to unpack .../09-libgail-common_2.24.32-1ubuntu1_amd64.deb ...\n",
            "Unpacking libgail-common:amd64 (2.24.32-1ubuntu1) ...\n",
            "Selecting previously unselected package libgtk2.0-bin.\n",
            "Preparing to unpack .../10-libgtk2.0-bin_2.24.32-1ubuntu1_amd64.deb ...\n",
            "Unpacking libgtk2.0-bin (2.24.32-1ubuntu1) ...\n",
            "Selecting previously unselected package openjdk-8-jre-headless:amd64.\n",
            "Preparing to unpack .../11-openjdk-8-jre-headless_8u292-b10-0ubuntu1~18.04_amd64.deb ...\n",
            "Unpacking openjdk-8-jre-headless:amd64 (8u292-b10-0ubuntu1~18.04) ...\n",
            "Selecting previously unselected package openjdk-8-jre:amd64.\n",
            "Preparing to unpack .../12-openjdk-8-jre_8u292-b10-0ubuntu1~18.04_amd64.deb ...\n",
            "Unpacking openjdk-8-jre:amd64 (8u292-b10-0ubuntu1~18.04) ...\n",
            "Selecting previously unselected package openjdk-8-jdk-headless:amd64.\n",
            "Preparing to unpack .../13-openjdk-8-jdk-headless_8u292-b10-0ubuntu1~18.04_amd64.deb ...\n",
            "Unpacking openjdk-8-jdk-headless:amd64 (8u292-b10-0ubuntu1~18.04) ...\n",
            "Selecting previously unselected package openjdk-8-jdk:amd64.\n",
            "Preparing to unpack .../14-openjdk-8-jdk_8u292-b10-0ubuntu1~18.04_amd64.deb ...\n",
            "Unpacking openjdk-8-jdk:amd64 (8u292-b10-0ubuntu1~18.04) ...\n",
            "Setting up libgtk2.0-common (2.24.32-1ubuntu1) ...\n",
            "Setting up fonts-dejavu-core (2.37-1) ...\n",
            "Setting up libxxf86dga1:amd64 (2:1.1.4-1) ...\n",
            "Setting up fonts-dejavu-extra (2.37-1) ...\n",
            "Setting up openjdk-8-jre-headless:amd64 (8u292-b10-0ubuntu1~18.04) ...\n",
            "update-alternatives: using /usr/lib/jvm/java-8-openjdk-amd64/jre/bin/orbd to provide /usr/bin/orbd (orbd) in auto mode\n",
            "update-alternatives: using /usr/lib/jvm/java-8-openjdk-amd64/jre/bin/servertool to provide /usr/bin/servertool (servertool) in auto mode\n",
            "update-alternatives: using /usr/lib/jvm/java-8-openjdk-amd64/jre/bin/tnameserv to provide /usr/bin/tnameserv (tnameserv) in auto mode\n",
            "Setting up libgtk2.0-0:amd64 (2.24.32-1ubuntu1) ...\n",
            "Setting up libgail18:amd64 (2.24.32-1ubuntu1) ...\n",
            "Setting up openjdk-8-jdk-headless:amd64 (8u292-b10-0ubuntu1~18.04) ...\n",
            "update-alternatives: using /usr/lib/jvm/java-8-openjdk-amd64/bin/idlj to provide /usr/bin/idlj (idlj) in auto mode\n",
            "update-alternatives: using /usr/lib/jvm/java-8-openjdk-amd64/bin/wsimport to provide /usr/bin/wsimport (wsimport) in auto mode\n",
            "update-alternatives: using /usr/lib/jvm/java-8-openjdk-amd64/bin/jsadebugd to provide /usr/bin/jsadebugd (jsadebugd) in auto mode\n",
            "update-alternatives: using /usr/lib/jvm/java-8-openjdk-amd64/bin/native2ascii to provide /usr/bin/native2ascii (native2ascii) in auto mode\n",
            "update-alternatives: using /usr/lib/jvm/java-8-openjdk-amd64/bin/javah to provide /usr/bin/javah (javah) in auto mode\n",
            "update-alternatives: using /usr/lib/jvm/java-8-openjdk-amd64/bin/hsdb to provide /usr/bin/hsdb (hsdb) in auto mode\n",
            "update-alternatives: using /usr/lib/jvm/java-8-openjdk-amd64/bin/clhsdb to provide /usr/bin/clhsdb (clhsdb) in auto mode\n",
            "update-alternatives: using /usr/lib/jvm/java-8-openjdk-amd64/bin/extcheck to provide /usr/bin/extcheck (extcheck) in auto mode\n",
            "update-alternatives: using /usr/lib/jvm/java-8-openjdk-amd64/bin/schemagen to provide /usr/bin/schemagen (schemagen) in auto mode\n",
            "update-alternatives: using /usr/lib/jvm/java-8-openjdk-amd64/bin/xjc to provide /usr/bin/xjc (xjc) in auto mode\n",
            "update-alternatives: using /usr/lib/jvm/java-8-openjdk-amd64/bin/jhat to provide /usr/bin/jhat (jhat) in auto mode\n",
            "update-alternatives: using /usr/lib/jvm/java-8-openjdk-amd64/bin/wsgen to provide /usr/bin/wsgen (wsgen) in auto mode\n",
            "Setting up x11-utils (7.7+3build1) ...\n",
            "Setting up libgail-common:amd64 (2.24.32-1ubuntu1) ...\n",
            "Setting up libatk-wrapper-java (0.33.3-20ubuntu0.1) ...\n",
            "Setting up libgtk2.0-bin (2.24.32-1ubuntu1) ...\n",
            "Setting up libatk-wrapper-java-jni:amd64 (0.33.3-20ubuntu0.1) ...\n",
            "Setting up openjdk-8-jre:amd64 (8u292-b10-0ubuntu1~18.04) ...\n",
            "update-alternatives: using /usr/lib/jvm/java-8-openjdk-amd64/jre/bin/policytool to provide /usr/bin/policytool (policytool) in auto mode\n",
            "Setting up openjdk-8-jdk:amd64 (8u292-b10-0ubuntu1~18.04) ...\n",
            "update-alternatives: using /usr/lib/jvm/java-8-openjdk-amd64/bin/appletviewer to provide /usr/bin/appletviewer (appletviewer) in auto mode\n",
            "update-alternatives: using /usr/lib/jvm/java-8-openjdk-amd64/bin/jconsole to provide /usr/bin/jconsole (jconsole) in auto mode\n",
            "Processing triggers for man-db (2.8.3-2ubuntu0.1) ...\n",
            "Processing triggers for hicolor-icon-theme (0.17-2) ...\n",
            "Processing triggers for fontconfig (2.12.6-0ubuntu2) ...\n",
            "Processing triggers for mime-support (3.60ubuntu1) ...\n",
            "Processing triggers for libc-bin (2.27-3ubuntu1.3) ...\n",
            "/sbin/ldconfig.real: /usr/local/lib/python3.7/dist-packages/ideep4py/lib/libmkldnn.so.0 is not a symbolic link\n",
            "\n",
            "Collecting JPype1-py3\n",
            "  Downloading JPype1-py3-0.5.5.4.tar.gz (88 kB)\n",
            "\u001b[K     |████████████████████████████████| 88 kB 4.4 MB/s \n",
            "\u001b[?25hBuilding wheels for collected packages: JPype1-py3\n",
            "  Building wheel for JPype1-py3 (setup.py) ... \u001b[?25l\u001b[?25hdone\n",
            "  Created wheel for JPype1-py3: filename=JPype1_py3-0.5.5.4-cp37-cp37m-linux_x86_64.whl size=2693830 sha256=4e4c561131b68548af7fddcd80e1569a9a44eeec1974805e660036b634ce6b3c\n",
            "  Stored in directory: /root/.cache/pip/wheels/e7/d1/09/f55dca0203b0691945bdf0f63d486a0b4d4e5ec4bd78a2502e\n",
            "Successfully built JPype1-py3\n",
            "Installing collected packages: JPype1-py3\n",
            "Successfully installed JPype1-py3-0.5.5.4\n",
            "Collecting konlpy\n",
            "  Downloading konlpy-0.5.2-py2.py3-none-any.whl (19.4 MB)\n",
            "\u001b[K     |████████████████████████████████| 19.4 MB 5.0 MB/s \n",
            "\u001b[?25hRequirement already satisfied: numpy>=1.6 in /usr/local/lib/python3.7/dist-packages (from konlpy) (1.19.5)\n",
            "Requirement already satisfied: lxml>=4.1.0 in /usr/local/lib/python3.7/dist-packages (from konlpy) (4.2.6)\n",
            "Requirement already satisfied: tweepy>=3.7.0 in /usr/local/lib/python3.7/dist-packages (from konlpy) (3.10.0)\n",
            "Collecting beautifulsoup4==4.6.0\n",
            "  Downloading beautifulsoup4-4.6.0-py3-none-any.whl (86 kB)\n",
            "\u001b[K     |████████████████████████████████| 86 kB 5.2 MB/s \n",
            "\u001b[?25hCollecting colorama\n",
            "  Downloading colorama-0.4.4-py2.py3-none-any.whl (16 kB)\n",
            "Collecting JPype1>=0.7.0\n",
            "  Downloading JPype1-1.3.0-cp37-cp37m-manylinux_2_5_x86_64.manylinux1_x86_64.whl (448 kB)\n",
            "\u001b[K     |████████████████████████████████| 448 kB 44.3 MB/s \n",
            "\u001b[?25hRequirement already satisfied: typing-extensions in /usr/local/lib/python3.7/dist-packages (from JPype1>=0.7.0->konlpy) (3.10.0.2)\n",
            "Requirement already satisfied: requests-oauthlib>=0.7.0 in /usr/local/lib/python3.7/dist-packages (from tweepy>=3.7.0->konlpy) (1.3.0)\n",
            "Requirement already satisfied: requests[socks]>=2.11.1 in /usr/local/lib/python3.7/dist-packages (from tweepy>=3.7.0->konlpy) (2.23.0)\n",
            "Requirement already satisfied: six>=1.10.0 in /usr/local/lib/python3.7/dist-packages (from tweepy>=3.7.0->konlpy) (1.15.0)\n",
            "Requirement already satisfied: oauthlib>=3.0.0 in /usr/local/lib/python3.7/dist-packages (from requests-oauthlib>=0.7.0->tweepy>=3.7.0->konlpy) (3.1.1)\n",
            "Requirement already satisfied: idna<3,>=2.5 in /usr/local/lib/python3.7/dist-packages (from requests[socks]>=2.11.1->tweepy>=3.7.0->konlpy) (2.10)\n",
            "Requirement already satisfied: certifi>=2017.4.17 in /usr/local/lib/python3.7/dist-packages (from requests[socks]>=2.11.1->tweepy>=3.7.0->konlpy) (2021.10.8)\n",
            "Requirement already satisfied: urllib3!=1.25.0,!=1.25.1,<1.26,>=1.21.1 in /usr/local/lib/python3.7/dist-packages (from requests[socks]>=2.11.1->tweepy>=3.7.0->konlpy) (1.24.3)\n",
            "Requirement already satisfied: chardet<4,>=3.0.2 in /usr/local/lib/python3.7/dist-packages (from requests[socks]>=2.11.1->tweepy>=3.7.0->konlpy) (3.0.4)\n",
            "Requirement already satisfied: PySocks!=1.5.7,>=1.5.6 in /usr/local/lib/python3.7/dist-packages (from requests[socks]>=2.11.1->tweepy>=3.7.0->konlpy) (1.7.1)\n",
            "Installing collected packages: JPype1, colorama, beautifulsoup4, konlpy\n",
            "  Attempting uninstall: beautifulsoup4\n",
            "    Found existing installation: beautifulsoup4 4.6.3\n",
            "    Uninstalling beautifulsoup4-4.6.3:\n",
            "      Successfully uninstalled beautifulsoup4-4.6.3\n",
            "Successfully installed JPype1-1.3.0 beautifulsoup4-4.6.0 colorama-0.4.4 konlpy-0.5.2\n"
          ]
        }
      ]
    },
    {
      "cell_type": "code",
      "metadata": {
        "id": "jCgF7id4DrMF"
      },
      "source": [
        "from soynlp.normalizer import *\n",
        "from konlpy.tag import Okt\n",
        "import re\n",
        "\n",
        "okt = Okt()\n",
        "\n",
        "def clean(doc) :\n",
        "\n",
        "  doc = okt.pos(doc, norm=True, stem=True)\n",
        "  new_doc = list()\n",
        "\n",
        "  stop_tags = stop_tags = ['Determiner', 'Modifier', 'Josa', 'Foreign']\n",
        "  for text, tag in doc:\n",
        "    \n",
        "    if tag in stop_tags :\n",
        "      continue\n",
        "\n",
        "    text = re.sub(r'[a-zA-Z0-9]+', '', text)  # remove digits.\n",
        "    text = re.sub('[-=+,#/\\?:^$.@*\\\"※~&%ㆍ!』\\\\‘|\\(\\)\\[\\]\\<\\>`\\'…》]', '', text) # 특수문자 제거\n",
        "    text = emoticon_normalize(text, num_repeats=3) # remove repeated emoticon. e.g) ㅋㅋㅋㅋ=>ㅋㅋ, ㅠㅠㅠㅠ=>ㅠㅠ\n",
        "    text = repeat_normalize(text, num_repeats=3) # remove repeated character.\n",
        "    \n",
        "    if tag in 'KoreanParticle' :\n",
        "      text = ''.join(dict.fromkeys(text))\n",
        "\n",
        "    new_doc.append(text)\n",
        "\n",
        "  new_doc = ' '.join(new_doc)\n",
        "  return new_doc "
      ],
      "execution_count": 30,
      "outputs": []
    },
    {
      "cell_type": "code",
      "metadata": {
        "colab": {
          "base_uri": "https://localhost:8080/"
        },
        "id": "YNi_jtSXuhB8",
        "outputId": "9e94265e-a94b-4e7e-a834-0a85ed63e31b"
      },
      "source": [
        "okt.pos('이러지마 제바 ㄹㅇㄴㄹㄴㅇㄹㄴㅇㄹ ㅈㄷㄱ ㅋㅋ', norm=True, stem=True)"
      ],
      "execution_count": 29,
      "outputs": [
        {
          "output_type": "execute_result",
          "data": {
            "text/plain": [
              "[('이르다', 'Verb'),\n",
              " ('제바', 'Noun'),\n",
              " ('ㄹㅇㄴㄹㄴㅇㄹㄴㅇㄹ', 'KoreanParticle'),\n",
              " ('ㅈㄷㄱ', 'KoreanParticle'),\n",
              " ('ㅋㅋ', 'KoreanParticle')]"
            ]
          },
          "metadata": {},
          "execution_count": 29
        }
      ]
    },
    {
      "cell_type": "code",
      "metadata": {
        "colab": {
          "base_uri": "https://localhost:8080/"
        },
        "id": "c-6f5L1FSG6e",
        "outputId": "1e41b77f-b27d-40d0-b102-55a2a714d46e"
      },
      "source": [
        "test_women = test[test['P_gender']==0]\n",
        "test_men = test[test['P_gender']==1]\n",
        "\n",
        "print(\"Number of women : {}, Number of men : {}\".format(test_women['P_gender'].value_counts()[0], test_men['P_gender'].value_counts()))"
      ],
      "execution_count": 38,
      "outputs": [
        {
          "output_type": "stream",
          "name": "stdout",
          "text": [
            "Number of women : 2713080, Number of men : 1    668672\n",
            "Name: P_gender, dtype: int64\n"
          ]
        }
      ]
    },
    {
      "cell_type": "code",
      "metadata": {
        "colab": {
          "base_uri": "https://localhost:8080/",
          "height": 445
        },
        "id": "g8ElT8jRTvxQ",
        "outputId": "ed5408bd-28d6-475a-f78c-deea1aa430b7"
      },
      "source": [
        "test_women = test_women.sample(n=668672, random_state=7)\n",
        "test = pd.concat([test_women, test_men], sort=True)\n",
        "test"
      ],
      "execution_count": 39,
      "outputs": [
        {
          "output_type": "execute_result",
          "data": {
            "text/html": [
              "<div>\n",
              "<style scoped>\n",
              "    .dataframe tbody tr th:only-of-type {\n",
              "        vertical-align: middle;\n",
              "    }\n",
              "\n",
              "    .dataframe tbody tr th {\n",
              "        vertical-align: top;\n",
              "    }\n",
              "\n",
              "    .dataframe thead th {\n",
              "        text-align: right;\n",
              "    }\n",
              "</style>\n",
              "<table border=\"1\" class=\"dataframe\">\n",
              "  <thead>\n",
              "    <tr style=\"text-align: right;\">\n",
              "      <th></th>\n",
              "      <th></th>\n",
              "      <th>P_gender</th>\n",
              "      <th>utterance</th>\n",
              "    </tr>\n",
              "    <tr>\n",
              "      <th>D_id</th>\n",
              "      <th>U_id</th>\n",
              "      <th></th>\n",
              "      <th></th>\n",
              "    </tr>\n",
              "  </thead>\n",
              "  <tbody>\n",
              "    <tr>\n",
              "      <th>8633b7f8-0cb5-56aa-8485-b2014747162f</th>\n",
              "      <th>U16</th>\n",
              "      <td>0</td>\n",
              "      <td>않나??</td>\n",
              "    </tr>\n",
              "    <tr>\n",
              "      <th>c17278aa-7319-5fbb-a728-935f1da985ed</th>\n",
              "      <th>U4</th>\n",
              "      <td>0</td>\n",
              "      <td>ㅋ</td>\n",
              "    </tr>\n",
              "    <tr>\n",
              "      <th>c5f2ece2-6130-5eb1-8ddc-77d6866b0c0b</th>\n",
              "      <th>U3</th>\n",
              "      <td>0</td>\n",
              "      <td>뭔데ㅠㅠㅠ 크흡ㅠㅠ</td>\n",
              "    </tr>\n",
              "    <tr>\n",
              "      <th>acb0fac6-cde2-54dd-8a2f-62b13360286e</th>\n",
              "      <th>U6</th>\n",
              "      <td>0</td>\n",
              "      <td>어디말하는거</td>\n",
              "    </tr>\n",
              "    <tr>\n",
              "      <th>5f539e55-a110-51ab-9c97-833f5e62df2f</th>\n",
              "      <th>U17</th>\n",
              "      <td>0</td>\n",
              "      <td>맥주를마시려고</td>\n",
              "    </tr>\n",
              "    <tr>\n",
              "      <th>...</th>\n",
              "      <th>...</th>\n",
              "      <td>...</td>\n",
              "      <td>...</td>\n",
              "    </tr>\n",
              "    <tr>\n",
              "      <th rowspan=\"5\" valign=\"top\">68161a7a-77e5-58b2-8861-ca4d27e73019</th>\n",
              "      <th>U7</th>\n",
              "      <td>1</td>\n",
              "      <td>예를들어??</td>\n",
              "    </tr>\n",
              "    <tr>\n",
              "      <th>U8</th>\n",
              "      <td>1</td>\n",
              "      <td>블랑 이런거??</td>\n",
              "    </tr>\n",
              "    <tr>\n",
              "      <th>U11</th>\n",
              "      <td>1</td>\n",
              "      <td>옹옹</td>\n",
              "    </tr>\n",
              "    <tr>\n",
              "      <th>U15</th>\n",
              "      <td>1</td>\n",
              "      <td>앟 ㅏ을게쏭ㅇ</td>\n",
              "    </tr>\n",
              "    <tr>\n",
              "      <th>U16</th>\n",
              "      <td>1</td>\n",
              "      <td>저런걸로 사놓을겡</td>\n",
              "    </tr>\n",
              "  </tbody>\n",
              "</table>\n",
              "<p>1337344 rows × 2 columns</p>\n",
              "</div>"
            ],
            "text/plain": [
              "                                           P_gender   utterance\n",
              "D_id                                 U_id                      \n",
              "8633b7f8-0cb5-56aa-8485-b2014747162f U16          0        않나??\n",
              "c17278aa-7319-5fbb-a728-935f1da985ed U4           0           ㅋ\n",
              "c5f2ece2-6130-5eb1-8ddc-77d6866b0c0b U3           0  뭔데ㅠㅠㅠ 크흡ㅠㅠ\n",
              "acb0fac6-cde2-54dd-8a2f-62b13360286e U6           0      어디말하는거\n",
              "5f539e55-a110-51ab-9c97-833f5e62df2f U17          0     맥주를마시려고\n",
              "...                                             ...         ...\n",
              "68161a7a-77e5-58b2-8861-ca4d27e73019 U7           1      예를들어??\n",
              "                                     U8           1    블랑 이런거??\n",
              "                                     U11          1          옹옹\n",
              "                                     U15          1     앟 ㅏ을게쏭ㅇ\n",
              "                                     U16          1   저런걸로 사놓을겡\n",
              "\n",
              "[1337344 rows x 2 columns]"
            ]
          },
          "metadata": {},
          "execution_count": 39
        }
      ]
    },
    {
      "cell_type": "code",
      "metadata": {
        "colab": {
          "base_uri": "https://localhost:8080/",
          "height": 445
        },
        "id": "tppgP6DFWogJ",
        "outputId": "5136556a-4080-4cba-aecf-983991f35e3e"
      },
      "source": [
        "# test = test3[['utterance', 'P_gender']]\n",
        "# test['P_gender'] = [0 if gender=='여성' else 1 for gender in test['P_gender']]\n",
        "test['utterance'] = test['utterance'].apply(clean)\n",
        "test"
      ],
      "execution_count": 40,
      "outputs": [
        {
          "output_type": "execute_result",
          "data": {
            "text/html": [
              "<div>\n",
              "<style scoped>\n",
              "    .dataframe tbody tr th:only-of-type {\n",
              "        vertical-align: middle;\n",
              "    }\n",
              "\n",
              "    .dataframe tbody tr th {\n",
              "        vertical-align: top;\n",
              "    }\n",
              "\n",
              "    .dataframe thead th {\n",
              "        text-align: right;\n",
              "    }\n",
              "</style>\n",
              "<table border=\"1\" class=\"dataframe\">\n",
              "  <thead>\n",
              "    <tr style=\"text-align: right;\">\n",
              "      <th></th>\n",
              "      <th></th>\n",
              "      <th>P_gender</th>\n",
              "      <th>utterance</th>\n",
              "    </tr>\n",
              "    <tr>\n",
              "      <th>D_id</th>\n",
              "      <th>U_id</th>\n",
              "      <th></th>\n",
              "      <th></th>\n",
              "    </tr>\n",
              "  </thead>\n",
              "  <tbody>\n",
              "    <tr>\n",
              "      <th>8633b7f8-0cb5-56aa-8485-b2014747162f</th>\n",
              "      <th>U16</th>\n",
              "      <td>0</td>\n",
              "      <td>않다</td>\n",
              "    </tr>\n",
              "    <tr>\n",
              "      <th>c17278aa-7319-5fbb-a728-935f1da985ed</th>\n",
              "      <th>U4</th>\n",
              "      <td>0</td>\n",
              "      <td>ㅋ</td>\n",
              "    </tr>\n",
              "    <tr>\n",
              "      <th>c5f2ece2-6130-5eb1-8ddc-77d6866b0c0b</th>\n",
              "      <th>U3</th>\n",
              "      <td>0</td>\n",
              "      <td>데 ㅠ 크다 흡 ㅠ</td>\n",
              "    </tr>\n",
              "    <tr>\n",
              "      <th>acb0fac6-cde2-54dd-8a2f-62b13360286e</th>\n",
              "      <th>U6</th>\n",
              "      <td>0</td>\n",
              "      <td>어디 말다</td>\n",
              "    </tr>\n",
              "    <tr>\n",
              "      <th>5f539e55-a110-51ab-9c97-833f5e62df2f</th>\n",
              "      <th>U17</th>\n",
              "      <td>0</td>\n",
              "      <td>맥주 말다</td>\n",
              "    </tr>\n",
              "    <tr>\n",
              "      <th>...</th>\n",
              "      <th>...</th>\n",
              "      <td>...</td>\n",
              "      <td>...</td>\n",
              "    </tr>\n",
              "    <tr>\n",
              "      <th rowspan=\"5\" valign=\"top\">68161a7a-77e5-58b2-8861-ca4d27e73019</th>\n",
              "      <th>U7</th>\n",
              "      <td>1</td>\n",
              "      <td>예 들다</td>\n",
              "    </tr>\n",
              "    <tr>\n",
              "      <th>U8</th>\n",
              "      <td>1</td>\n",
              "      <td>블 이렇다</td>\n",
              "    </tr>\n",
              "    <tr>\n",
              "      <th>U11</th>\n",
              "      <td>1</td>\n",
              "      <td>옹옹</td>\n",
              "    </tr>\n",
              "    <tr>\n",
              "      <th>U15</th>\n",
              "      <td>1</td>\n",
              "      <td>앟 ㅏ 을게쏭 ㅇ</td>\n",
              "    </tr>\n",
              "    <tr>\n",
              "      <th>U16</th>\n",
              "      <td>1</td>\n",
              "      <td>저러다 사다 겡</td>\n",
              "    </tr>\n",
              "  </tbody>\n",
              "</table>\n",
              "<p>1337344 rows × 2 columns</p>\n",
              "</div>"
            ],
            "text/plain": [
              "                                           P_gender   utterance\n",
              "D_id                                 U_id                      \n",
              "8633b7f8-0cb5-56aa-8485-b2014747162f U16          0         않다 \n",
              "c17278aa-7319-5fbb-a728-935f1da985ed U4           0           ㅋ\n",
              "c5f2ece2-6130-5eb1-8ddc-77d6866b0c0b U3           0  데 ㅠ 크다 흡 ㅠ\n",
              "acb0fac6-cde2-54dd-8a2f-62b13360286e U6           0       어디 말다\n",
              "5f539e55-a110-51ab-9c97-833f5e62df2f U17          0       맥주 말다\n",
              "...                                             ...         ...\n",
              "68161a7a-77e5-58b2-8861-ca4d27e73019 U7           1       예 들다 \n",
              "                                     U8           1      블 이렇다 \n",
              "                                     U11          1          옹옹\n",
              "                                     U15          1   앟 ㅏ 을게쏭 ㅇ\n",
              "                                     U16          1    저러다 사다 겡\n",
              "\n",
              "[1337344 rows x 2 columns]"
            ]
          },
          "metadata": {},
          "execution_count": 40
        }
      ]
    },
    {
      "cell_type": "code",
      "metadata": {
        "id": "Sb7vXhAhIkwa"
      },
      "source": [
        "X = test['utterance']\n",
        "y = test['P_gender']\n",
        "\n",
        "from sklearn.naive_bayes import MultinomialNB\n",
        "from sklearn.feature_extraction.text import CountVectorizer\n",
        "from sklearn.model_selection import train_test_split\n",
        "from sklearn.metrics import classification_report, confusion_matrix\n",
        "\n",
        "X_train, X_test, y_train, y_test = train_test_split(X, y, test_size=0.2, random_state=7)\n",
        "X_train, X_val, y_train, y_val = train_test_split(X_train, y_train, test_size=0.25, random_state=7)"
      ],
      "execution_count": 41,
      "outputs": []
    },
    {
      "cell_type": "code",
      "metadata": {
        "id": "1RsXO5MKKTWH",
        "colab": {
          "base_uri": "https://localhost:8080/"
        },
        "outputId": "c3ae4e2b-d579-4381-b5fc-8926daf76293"
      },
      "source": [
        "vectorizer = CountVectorizer(max_features=7777).fit(X_train)\n",
        "X_train_countvector = vectorizer.transform(X_train)\n",
        "\n",
        "feature_names = vectorizer.get_feature_names()\n",
        "print(feature_names)"
      ],
      "execution_count": 44,
      "outputs": [
        {
          "output_type": "stream",
          "name": "stdout",
          "text": [
            "['__', '___', 'ㄱㄲ', 'ㄱㄴ', 'ㄱㄴㄲ', 'ㄱㄷ', 'ㄱㅅ', 'ㄱㅇㄷ', 'ㄱㅊ', 'ㄱㅋ', 'ㄴㅋ', 'ㄴㅏ', 'ㄴㅐ', 'ㄷㅎ', 'ㄷㅏ', 'ㄷㅔ', 'ㄹㅇ', 'ㄹㅎ', 'ㅁㄹ', 'ㅁㅈ', 'ㅁㅊ', 'ㅁㅊㅋ', 'ㅁㅎ', 'ㅂㄷ', 'ㅂㄹ', 'ㅅㄱ', 'ㅅㅂ', 'ㅅㅇ', 'ㅇㄴ', 'ㅇㄷ', 'ㅇㄸ', 'ㅇㄹ', 'ㅇㅁ', 'ㅇㅂ', 'ㅇㅅ', 'ㅇㅈ', 'ㅇㅈㄹ', 'ㅇㅋ', 'ㅇㅋㄷ', 'ㅇㅎ', 'ㅇㅏ', 'ㅇㅓ', 'ㅇㅔ', 'ㅇㅣ', 'ㅈㄴ', 'ㅈㅅ', 'ㅊㅋ', 'ㅋㄱ', 'ㅋㄱㄲ', 'ㅋㄲ', 'ㅋㄲㄱ', 'ㅋㄴ', 'ㅋㄷ', 'ㅋㅁㅊ', 'ㅋㅅ', 'ㅋㅅㅂ', 'ㅋㅇ', 'ㅋㅈ', 'ㅋㅌ', 'ㅋㅎ', 'ㅋㅜ', 'ㅋㅠ', 'ㅌㅋ', 'ㅍㅎ', 'ㅎㄷ', 'ㅎㄹ', 'ㅎㅁ', 'ㅎㅅ', 'ㅎㅇ', 'ㅎㅋ', 'ㅎㅠ', 'ㅏㄴ', 'ㅏㄹ', 'ㅏㅇ', 'ㅐㄴ', 'ㅑㅇ', 'ㅓㄱ', 'ㅓㄴ', 'ㅓㄹ', 'ㅓㅅ', 'ㅓㅆ', 'ㅓㅇ', 'ㅔㅇ', 'ㅔㅋ', 'ㅕㄴ', 'ㅛㅓ', 'ㅜㄴ', 'ㅜㅅ', 'ㅜㅇ', 'ㅜㅋ', 'ㅜㅎ', 'ㅜㅠ', 'ㅜㅠㅋ', 'ㅜㅡ', 'ㅜㅡㅠ', 'ㅠㅁ', 'ㅠㅅ', 'ㅠㅋ', 'ㅠㅍ', 'ㅠㅎ', 'ㅠㅜ', 'ㅠㅜㅋ', 'ㅠㅡ', 'ㅡㄴ', 'ㅡㅁ', 'ㅡㅅ', 'ㅡㅇ', 'ㅡㅋ', 'ㅡㅜ', 'ㅡㅠ', 'ㅣㄴ', 'ㅣㅇ', '가가', '가게', '가격', '가공', '가구', '가기', '가까워지다', '가까이', '가깝다', '가꾸다', '가끔', '가나', '가내', '가노', '가누다', '가늘다', '가능', '가능성', '가능하다', '가다', '가다가', '가도', '가두', '가두다', '가드', '가득', '가득하다', '가든', '가디', '가디건', '가라', '가라아게', '가래', '가래떡', '가로', '가로수길', '가루', '가르다', '가르치다', '가리다', '가리비', '가마', '가만', '가만히', '가면', '가미', '가바', '가방', '가버리다', '가볍다', '가보', '가보다', '가봣어', '가부', '가부장', '가사', '가산', '가성', '가세', '가스', '가슴', '가시', '가시다', '가신', '가안', '가야', '가야대', '가양', '가어', '가염', '가오', '가오슝', '가왜', '가요', '가용', '가운', '가운데', '가위', '가유', '가을', '가이드', '가일', '가입', '가자미', '가장', '가재', '가쟈', '가정', '가정식', '가제', '가젤', '가져가다', '가져다주다', '가져오다', '가조', '가족', '가주', '가줄', '가즈', '가지', '가지다', '가집', '가짜', '가차', '가치', '가타', '가타서', '가터', '가티', '가평', '가하다', '가해', '각각', '각오', '각인', '각자', '간격', '간계', '간곳', '간김', '간다', '간단', '간단하다', '간담', '간닷', '간당간당', '간댜', '간도', '간드', '간디', '간만', '간반', '간사', '간식', '간이', '간장', '간장게장', '간전', '간정', '간지', '간지나다', '간짜장', '간판', '간편하다', '갇히다', '갈거얌', '갈건', '갈겡', '갈겨', '갈고', '갈구다', '갈까말까', '갈껄', '갈껭', '갈꼬', '갈다', '갈대', '갈라', '갈라고', '갈래', '갈랭', '갈리다', '갈릭', '갈매기', '갈매기살', '갈비', '갈비살', '갈비찜', '갈비탕', '갈사', '갈색', '갈수', '갈수록', '갈아', '갈아입다', '갈아타다', '갈이', '갈증', '갈치', '감고', '감귤', '감기', '감다', '감당', '감동', '감사', '감사하다', '감성', '감싸다', '감안', '감자', '감자전', '감자칩', '감자탕', '감칠맛', '감탄', '감태', '감히', '갑각류', '갑자', '갑자기', '갑작스럽다', '갓김치', '강가', '강남', '강남역', '강동', '강된장', '강릉', '강변', '강사', '강아지', '강요', '강원도', '강의', '강의실', '강정', '강제', '강쥐', '강하다', '강화', '강화도', '갖다', '같다', '같이', '갚다', '개강', '개구', '개꿀', '개꿀맛', '개념', '개다', '개도', '개맛', '개미', '개발', '개별', '개봉', '개불', '개비', '개사', '개시', '개운', '개운하다', '개웃', '개월', '개이득', '개인', '개장', '개정', '개조', '개존맛', '개중', '개쩌', '개판', '개학', '객사', '객실', '갠차다', '갠츈', '갠톡', '갸악', '걔네', '거가', '거고', '거구', '거기', '거길', '거나', '거덩', '거도', '거두', '거두다', '거들다', '거래', '거래처', '거려', '거리', '거마', '거만', '거뭐', '거바', '거보', '거봉', '거부', '거북이', '거사', '거실', '거야', '거얌', '거양', '거여', '거의', '거임', '거저', '거절', '거제', '거제도', '거중', '거지', '거지같다', '거진', '거짓말', '거치다', '거품', '걱정', '건가', '건강', '건강검진', '건강하다', '건너', '건너가다', '건너다', '건너편', '건대', '건더기', '건데', '건뎅', '건물', '건빵', '건아', '건안', '건조기', '건조하다', '건지다', '건포도', '걷기', '걷다', '걸다', '걸루', '걸리다', '걸어가다', '걸어오다', '걸음', '걸작', '걸치다', '검다', '검사', '검색', '검정', '검증', '검진', '겁나다', '겁내', '겁니다', '겉바', '겉옷', '겉절이', '게다', '게다가', '게리', '게머', '게뭐', '게살', '게스트하우스', '게이', '게임', '게장', '겜방', '겟다', '겟슈', '겠다', '겨우', '겨울', '겨울왕국', '겨자', '격리', '견과류', '견디다', '견적', '결과', '결국', '결론', '결재', '결정', '결제', '결항', '결혼', '결혼기념일', '결혼식', '결혼식장', '겸사겸사', '경기', '경기도', '경기장', '경대', '경리', '경복궁', '경비', '경산', '경상도', '경우', '경유', '경쟁', '경주', '경주월드', '경찰서', '경치', '경포대', '경험', '곁들이다', '계곡', '계단', '계란', '계란말이', '계란빵', '계란찜', '계란후라이', '계산', '계세', '계속', '계시', '계시다', '계심', '계약', '계절', '계정', '계좌', '계피', '계획', '고가', '고가도', '고간', '고갈', '고개', '고객', '고거', '고건', '고고', '고고싱', '고고씽', '고구마', '고급', '고기', '고기구', '고기국수', '고기랑', '고기만', '고깃집', '고니', '고대로', '고도', '고등', '고등어', '고등학교', '고딩', '고래', '고래고래', '고랫', '고랭', '고량주', '고려', '고로', '고로케', '고롬', '고뤠', '고르곤졸라', '고르다', '고마', '고맙다', '고모', '고문', '고민', '고봉', '고비', '고사리', '고생', '고성', '고소', '고소하다', '고속', '고속도로', '고속버스', '고수', '고시', '고양', '고양이', '고오', '고온', '고왕', '고요', '고용', '고이', '고작', '고잔역', '고장', '고정', '고지', '고집', '고창', '고추', '고추장', '고춧가루', '고치', '고치다', '고통', '고통스럽다', '고프다', '고하', '고함', '고해', '고향', '곤듀', '곤드레', '곤란하다', '곤약', '곤지암', '곧다', '골고루', '골다', '골드', '골든', '골목', '골뱅이', '골프', '곰국', '곰방', '곰탕', '곰팡이', '곱다', '곱빼기', '곱창', '곱창전골', '곳도', '공간', '공감', '공격', '공기', '공기밥', '공덕', '공룡', '공모전', '공복', '공부', '공사', '공식', '공연', '공용', '공원', '공유', '공장', '공주', '공쥬', '공지', '공짜', '공차', '공포', '공항', '공항버스', '공항철도', '공휴일', '곶감', '과메기', '과목', '과식', '과연', '과외', '과음', '과일', '과자', '과장', '과정', '과제', '과즙', '과천', '과카', '관계', '관광', '관광객', '관광지', '관련', '관리', '관심', '관자', '광고', '광광', '광교', '광명', '광명역', '광복절', '광안', '광어', '광장', '광장시장', '광주', '광화문', '괜차', '괜차나', '괜차낭', '괜차너', '괜찬', '괜찮넹', '괜찮다', '괜춘', '괜춘하', '괜츈', '괜탆', '괜히', '괴기', '괴롭다', '괴롭히다', '굉장하다', '교대', '교동', '교보', '교복', '교수', '교시', '교실', '교육', '교자', '교정', '교촌', '교촌치킨', '교토', '교통', '교통비', '교환', '교회', '구가', '구갈', '구거', '구건', '구경', '구경만', '구경해', '구구', '구글', '구나', '구내', '구내식당', '구도', '구두', '구들', '구라', '구래', '구랫', '구랭', '구랭구랭', '구려', '구례', '구로', '구롬', '구루', '구르다', '구름', '구리', '구리다', '구마', '구만', '구매', '구먼', '구멍', '구미', '구분', '구석', '구성', '구수하다', '구야', '구어', '구역', '구영', '구우', '구울', '구월동', '구이', '구입', '구장', '구재', '구정', '구지', '구청', '구체', '구치', '구파발', '구함', '구해', '국가', '국내', '국도', '국룰', '국물', '국민', '국밥', '국밥집', '국산', '국수', '국수나무', '국제', '국화빵', '군것질', '군대', '군데', '군밤', '군산', '군용', '군인', '군자', '군침', '굳다', '굳이', '굴랭', '굴비', '굴소스', '굵다', '굶다', '굽다', '굿굿', '굿굿굿', '굿나잇', '굿모닝', '궁금', '궁금하다', '궁동', '궁물', '궁합', '귀가', '귀국', '귀리', '귀신', '귀여웡', '귀엽다', '귀요미', '귀찮다', '귀하다', '규동', '규모', '그거', '그거슨', '그건', '그걸', '그것', '그게', '그나', '그나마', '그나저나', '그날', '그냥', '그녀', '그늘', '그니', '그니까', '그다음', '그닥', '그대', '그대로', '그동안', '그때', '그땐', '그떄', '그람', '그래그래', '그래도', '그래서', '그랜드', '그램', '그랫', '그랬구나', '그랬는데', '그랬더니', '그랭', '그랭그랭', '그랴', '그랴그랴', '그러겡', '그러나', '그러넹', '그러니까', '그러다가', '그러면', '그러자', '그러쟈', '그러쿤', '그러하다', '그럭저럭', '그런데', '그럴껄', '그렁', '그렇게', '그렇다', '그렇다고', '그렇지만', '그레이', '그로', '그롬', '그루', '그룹', '그르', '그르겡', '그르까', '그르쟈', '그른', '그름', '그릇', '그리고', '그리다', '그리로', '그릭', '그린', '그린티', '그릴', '그림', '그립다', '그만', '그만두다', '그만큼', '그만하다', '그야', '그저', '그저께', '그치다', '그칭', '극단', '극장', '극한', '극혐', '근거', '근교', '근까', '근대', '근데', '근로', '근무', '근방', '근육', '근처', '글구', '글램핑', '글쎄', '글쎄요', '글씨', '글자', '글제', '글치', '글코', '글쿠', '글쿠낭', '글쿠먼', '글쿤', '긁다', '금가면', '금데', '금도', '금밤', '금방', '금식', '금액', '금요일', '금욜', '금욜날', '금융', '금은', '금일', '금전', '금정', '금주', '금지', '금토', '금토일', '금호동', '급식', '급하다', '급행', '긋다', '긍까', '긍데', '긍정', '기간', '기계', '기고', '기구', '기기', '기내', '기내식', '기네', '기네스', '기념', '기념일', '기념품', '기능', '기다', '기다리다', '기다림', '기대', '기대다', '기대하다', '기도', '기두', '기록', '기류', '기르다', '기름', '기름값', '기름기', '기만', '기미', '기별', '기본', '기부', '기분', '기쁘다', '기사', '기상', '기세', '기숙사', '기술', '기안', '기약', '기어', '기억', '기억나다', '기여', '기엽', '기와', '기왕', '기요', '기운', '기울다', '기일', '기장', '기적', '기전', '기절', '기존', '기준', '기지', '기차', '기차표', '기침', '기타', '기특하다', '기표', '기프티콘', '기한', '기해', '기회', '기흥', '긱사', '긴급', '긴자', '긴장', '길가', '길거리', '길다', '길어지다', '길이', '김말이', '김밥', '김밥천국', '김이랑', '김장', '김찌', '김천', '김치', '김치볶음밥', '김치부침개', '김치전', '김치찌개', '김포', '김포공항', '김피탕', '김해', '깊다', '까다롭다', '까르', '까르보', '까르보나라', '까맣다', '까먹다', '까불다', '까비', '까스', '까페', '깍두기', '깎다', '깐풍기', '깔깔', '깔끔하다', '깔다', '깜놀', '깜박', '깜빡', '깜짝', '깨끗하다', '깨다', '깨우다', '깨지다', '깻잎', '꺄륵', '꺄아아', '꺄악', '꺄오', '꺼내다', '꺼리다', '꺼억', '꺼지다', '껀데', '껄껄', '껍데기', '껍질', '꼬기', '꼬깔콘', '꼬꼬', '꼬르륵', '꼬리', '꼬마', '꼬막', '꼬박꼬박', '꼬북칩', '꼬셔', '꼬얌', '꼬이다', '꼬치', '꼭꼭', '꼴깍', '꼼장어', '꽁치', '꽂다', '꽂히다', '꽃게', '꽃게탕', '꽃다발', '꽈배기', '꽉차다', '꾸꾸', '꾸다', '꾸덕꾸덕', '꾸랭', '꾸리', '꾸리다', '꾸미다', '꾸준하다', '꿀꺽', '꿀꿀', '꿀떡', '꿀맛', '꿀빵', '꿀잠', '꿀잼', '꿀팁', '꿈꾸다', '끄다', '끄덕', '끊기다', '끊다', '끌다', '끌리다', '끓다', '끓이다', '끔찍하다', '끝나다', '끝낫', '끝낭', '끝내', '끝내다', '끝내주다', '끝맛', '끼니', '끼다', '끼리', '끼우다', '낄낄', '나가다', '나가야', '나가요', '나갈겡', '나갓', '나기', '나나', '나낼', '나노', '나누다', '나눔', '나능', '나니', '나다', '나대다', '나도야', '나돈', '나돈데', '나둥', '나듀', '나드', '나들이', '나땜', '나라', '나루', '나르다', '나름', '나머지', '나머진', '나먼', '나무', '나물', '나밥', '나방', '나배', '나베', '나보이', '나부', '나쁘다', '나서다', '나스', '나시', '나아', '나아아', '나아지다', '나안', '나야', '나약하다', '나연', '나영', '나오다', '나옹', '나와라', '나왓', '나왓는데', '나왓다', '나왓어', '나왕', '나요', '나용', '나우', '나유', '나은', '나이', '나이스', '나이키', '나이트', '나인', '나일', '나잇', '나장', '나좀', '나주', '나중', '나진', '나집', '나초', '나쵸', '나타나다', '나토', '나트랑', '나트륨', '나하', '나해', '낙곱', '낙곱새', '낙성대', '낙지', '낚시', '난가', '난대', '난또', '난리', '난바', '난밥', '난이', '난중', '난집', '난하다', '난항', '날개', '날다', '날때', '날로', '날리다', '날뻔', '날수', '날씨', '날아가다', '날인', '날짜', '날치', '남기다', '남다', '남대문', '남부', '남산', '남아', '남양주', '남원', '남이섬', '남자', '남자친구', '남지', '남쪽', '남친', '남편', '남포', '남포동', '남해', '납작만두', '납치', '낫다', '낭낭', '낭만', '낭비', '낮다', '낮술', '낮잠', '낮추다', '낱개', '낳다', '내기', '내기억', '내껀', '내내', '내년', '내놓다', '내다', '내려가다', '내려놓다', '내려오다', '내리다', '내면', '내부', '내사', '내야', '내용', '내용물', '내일', '내자', '내장', '내주다', '내지', '내쿠', '냄비', '냄새', '냉국', '냉동', '냉동고', '냉동식품', '냉면', '냉이', '냉장', '냉장고', '냉채', '냠냠', '너구리', '너넨', '너무', '너무나', '너무하다', '너므', '너희', '넉넉하다', '널널', '널다', '넓다', '넘기다', '넘다', '넘어가다', '넘어서다', '넘어오다', '넘어지다', '넘치다', '넣기', '넣다', '네네', '네넴', '네넵', '네넹', '네로', '네모', '네시', '네엡', '네오', '네이버', '네일', '넴넴', '넵넵', '넷이', '넷플', '넷플릭스', '넹넹', '넹넹넹', '녀석', '년도', '년전', '노가리', '노곤', '노노', '노노노', '노놉', '노농', '노답', '노동', '노란색', '노랑', '노랗다', '노래', '노래방', '노량진', '노력', '노른자', '노릇', '노리다', '노맛', '노미', '노보텔', '노선', '노예', '노오', '노원', '노을', '노잼', '노트', '노트북', '노포', '녹다', '녹음', '녹이다', '녹차', '논리', '논문', '논산', '논현', '놀다', '놀때', '놀라다', '놀람', '놀래다', '놀러와', '놀리다', '놀수', '놀이', '놀이기구', '놀이터', '놀쟈', '놉놉', '놋북', '농구', '농담', '농사', '농심', '농장', '농협', '높다', '높아지다', '놓다', '놓치다', '놔두다', '뇸뇸', '누가', '누구', '누군가', '누군데', '누굴', '누규', '누나', '누님', '누드', '누룽지', '누르다', '누리', '누리다', '누텔라', '눅눅하다', '눈감다', '눈거', '눈꽃', '눈뎁', '눈뎅', '눈디', '눈뜨다', '눈물', '눈물나다', '눈썹', '눈앞', '눈치', '눕다', '뉴스', '뉴욕', '뉴질랜드', '뉴코아', '느긋하다', '느껴지다', '느끼다', '느끼하다', '느낌', '느님', '느데', '느리다', '느므', '는가', '는걸', '는고', '는데', '늘다', '늘리다', '늘어나다', '늘어지다', '늙다', '능가', '능거', '능데', '능력', '능이', '늦다', '늦어지다', '늦잠', '늦추다', '니스', '니야', '니지', '니트', '님덜', '님들', '다가', '다가가다', '다가오다', '다감', '다고', '다공', '다그', '다기', '다나', '다낭', '다녀오다', '다니다', '다다', '다다닥', '다담', '다도', '다드', '다라', '다르다', '다른', '다른사람', '다리', '다리다', '다마', '다만', '다머', '다먹엇어', '다모', '다방', '다사', '다섯', '다섯시', '다스', '다시', '다시다', '다시마', '다야', '다양하다', '다오', '다왓', '다우', '다운', '다음', '다음주', '다이빙', '다이소', '다이어리', '다이어터', '다이어트', '다주', '다지다', '다짐', '다치다', '다쿠아즈', '다크', '다한', '다해', '다행', '다행하다', '닦다', '단가', '단계', '단골', '단단하다', '단둘', '단디', '단말', '단맛', '단무지', '단백질', '단양', '단어', '단위', '단점', '단종', '단지', '단체', '단팥빵', '단풍', '단호', '단호박', '닫다', '닫히다', '달걀', '달고나', '달글', '달기', '달다', '달달', '달동', '달라', '달라지다', '달래', '달래다', '달러', '달려가다', '달력', '달리', '달리다', '달이', '달인', '달전', '달콤', '달콤하다', '달팽이', '닭갈비', '닭강정', '닭개장', '닭고기', '닭꼬치', '닭다리', '닭도리탕', '닭똥집', '닭발', '닭백숙', '닭볶음탕', '닭죽', '닭찌찌', '닮다', '담그다', '담기다', '담날', '담다', '담달', '담당', '담당자', '담배', '담백하다', '담번', '담양', '담주', '담쥬', '답답하다', '답례', '답변', '답사', '답장', '답정너', '닷컴', '당구', '당근', '당기다', '당뇨', '당당', '당당하다', '당면', '당분간', '당산', '당신', '당연하다', '당욘', '당일', '당일치기', '당장', '당직', '당진', '당첨', '당하다', '당황', '닿다', '대가', '대가리', '대감', '대강', '대게', '대결', '대고', '대관령', '대구', '대국', '대기', '대기업', '대낮', '대놓고', '대다', '대단하다', '대답', '대도', '대략', '대량', '대로', '대루', '대리', '대림', '대마도', '대만', '대면', '대명', '대못', '대박', '대부도', '대부분', '대비', '대서', '대신', '대안', '대애', '대야', '대여', '대옥', '대왕', '대요', '대용', '대유', '대자', '대장', '대전', '대접', '대중', '대중교통', '대지', '대쪽', '대창', '대천', '대체', '대추', '대출', '대충', '대파', '대패', '대표', '대하', '대학', '대학교', '대학로', '대학생', '대학원', '대한', '대한항공', '대해', '대형', '대화', '대회', '댓글', '댕겨', '댕기', '댕댕', '더니', '더더', '더덕', '더럽다', '더맛', '더보', '더부룩하다', '더블', '더비', '더욱', '더워지다', '더위', '더치', '더치커피', '더하다', '덕복', '덕분', '덕천', '덕후', '던데', '던뎅', '던디', '던지다', '던킨', '덜다', '덜덜', '덜하다', '덥다', '덩생', '덩어리', '덩이', '덮다', '데꼬', '데려가다', '데려오다', '데리', '데리다', '데리야끼', '데스', '데쓰', '데우다', '데이', '데이터', '데이트', '데코', '데크', '데헷', '델꼬', '델러', '델리', '도구', '도깨비', '도나', '도너츠', '도넛', '도니', '도대체', '도둑', '도라지', '도랏', '도로', '도록', '도르다', '도리', '도마', '도망', '도망가다', '도망치다', '도면', '도미', '도미노피자', '도배', '도보', '도비', '도사', '도서관', '도수', '도스', '도시', '도시락', '도심', '도아', '도안', '도야', '도오', '도와주다', '도우', '도움', '도일', '도자기', '도장', '도저히', '도전', '도조', '도주', '도착', '도쿄', '도키', '도토리묵', '도하', '도해', '도회', '독도', '독립', '독서', '독서실', '독일', '독특하다', '독하다', '돈가스', '돈까스', '돈까쓰', '돈나', '돈데', '돈부리', '돈좀', '돋다', '돌다', '돌돌', '돌려주다', '돌리다', '돌림', '돌뼈', '돌솥', '돌솥밥', '돌아가다', '돌아다니다', '돌아보다', '돌아서다', '돌아오다', '돌이', '돌잔치', '돌체', '돕다', '돗자리', '동그라미', '동그랑땡', '동그랗다', '동기', '동남아', '동네', '동대구역', '동대문', '동동', '동래', '동명', '동문', '동물', '동물원', '동방', '동생', '동선', '동성로', '동시', '동아리', '동안', '동영상', '동원', '동의', '동이', '동작', '동쪽', '동치미', '동탄', '동태', '동파육', '동해', '동행', '동화', '돼다', '돼지', '돼지갈비', '돼지고기', '돼지국밥', '되게', '되넹', '되다', '되어다', '된거', '된장', '된장국', '된장찌개', '될껄', '두근', '두근두근', '두기', '두껍다', '두다', '두둥', '두렵다', '두루치기', '두르다', '두리', '두번째', '두부', '두부김치', '두시', '두우', '두유', '두통', '두피', '둘둘', '둘러보다', '둘리', '둘이서', '둘째', '둥이', '뒤지다', '뒤집어지다', '뒤쪽', '뒹굴', '뒹굴뒹굴', '드가', '드니', '드뎌', '드디어', '드라마', '드라이', '드라이브', '드럽다', '드레스', '드레싱', '드롭탑', '드루', '드리다', '드릴', '드림', '드립', '드링킹', '드물다', '드삼', '드세다', '드셧', '드셧나', '드슈', '드심', '득템', '든든하다', '듣기', '듣다', '들고나다', '들기름', '들깨', '들다', '들르다', '들리다', '들어가다', '들어서다', '들어오다', '들어주다', '들이다', '들키다', '듬뿍', '듯이', '등등', '등록', '등뼈', '등산', '등심', '등장', '등촌', '디게', '디너', '디디', '디럭스', '디스', '디자인', '디저트', '디즈니', '디즈니랜드', '디지다', '디카', '딘데', '딤섬', '따갑다', '따끈하다', '따다', '따뜻하다', '따라가다', '따라서', '따라오다', '따로', '따로따로', '따르다', '따릉', '따리', '따숩', '따오다', '따위', '따지다', '따흐흑', '딱딱하다', '딱이다', '딱좋다', '딱지', '딱하다', '딸기', '딸리다', '땅땅', '땅콩', '때리다', '때매', '때메', '때문', '때우다', '땜시', '땡교', '땡기다', '땡땡', '땡초', '땡큐', '떠나다', '떠들다', '떠보다', '떠오르다', '떠지다', '떡갈비', '떡국', '떡보', '떡복', '떡볶이', '떡뽁', '떡집', '떤다', '떨구다', '떨다', '떨리다', '떨어지다', '떼다', '떼잉', '또는', '또또', '또띠아', '또래', '또르르', '또륵', '또뭐', '또오', '또옥', '또용', '또유', '똑같다', '똑같이', '똑똑', '똑똑하다', '똠양꿍', '똥꼬', '똥집', '뚜껑', '뚜레쥬르', '뚜벅', '뚜쥬', '뚝딱', '뚝배기', '뚝섬', '뚫다', '뚫리다', '뚱카롱', '뛰다', '뛰어가다', '뜨겁다', '뜨끈하다', '뜨다', '뜬금', '뜯다', '띄다', '띄우다', '띠용', '띵하다', '라가', '라거', '라그', '라나', '라드', '라따', '라떼', '라라', '라마', '라멘', '라며', '라면', '라미', '라바', '라볶이', '라서', '라성', '라소', '라스트', '라오스', '라우', '라운지', '라이', '라이더', '라이브', '라이스', '라이언', '라이트', '라이프', '라인', '라임', '라즈베리', '라지', '라차', '라카', '랄라', '랍스터', '래그', '래미', '래서', '래야', '랜덤', '랜드', '러버', '러브', '러쉬', '러스트', '러시', '러시아', '러하', '런가', '런던', '런치', '레고', '레드', '레몬', '레벨', '레스토랑', '레슨', '레시', '레시피', '레알', '레이', '레이더스', '레이스', '레인보우', '레일', '레전드', '렉스', '렌즈', '렌지', '렌터카', '렌트', '렌트카', '려고', '려면', '로그', '로나', '로더', '로데오', '로드', '로또', '로라', '로리', '로마', '로만', '로망', '로봇', '로비', '로션', '로스', '로스트', '로안', '로우', '로이', '로자', '로제', '로치', '로티', '롤롤', '롤링', '롯데', '롯데리아', '롯리', '롱패딩', '료낭', '료칸', '루갈', '루꼴', '루루', '루안', '루지', '루트', '루프', '루하', '룰루', '룸메', '류낭', '르쟈그르', '리가', '리기', '리나', '리다', '리더', '리도', '리드', '리뷰', '리셋', '리스', '리스트', '리아', '리안', '리야', '리얼', '리오', '리자', '리조또', '리조트', '리좀', '리즈', '리지', '리츠', '리치', '리코', '리터', '리프', '리필', '리하', '리해', '린다', '린스', '린정', '림프', '링크', '링클', '마가', '마가린', '마감', '마곡', '마구', '마나', '마냥', '마넌', '마누라', '마눌', '마는', '마늘', '마늘빵', '마니마니', '마다', '마당', '마들렌', '마땅하다', '마라샹궈', '마루', '마르', '마르다', '마리', '마리나', '마마', '마무리', '마미', '마법', '마부', '마사지', '마산', '마스', '마스크', '마스터', '마시기', '마시다', '마시멜로', '마심', '마싯다', '마안', '마야', '마약', '마여', '마오', '마왕', '마요', '마요네즈', '마을', '마음', '마음대로', '마이', '마인드', '마일리지', '마자', '마자용', '마장', '마쟈', '마쟈마쟈', '마저', '마주치다', '마중', '마즘', '마지막', '마찬가지', '마치', '마치다', '마침', '마카', '마카롱', '마카오', '마켓', '마크', '마트', '마파두부', '마포', '막걸리', '막국수', '막날', '막내', '막다', '막상', '막차', '막창', '막판', '막히다', '만가', '만기', '만나다', '만나쟈', '만난', '만날', '만남', '만두', '만두국', '만두전골', '만둣국', '만드', '만들기', '만들다', '만들어지다', '만만하다', '만사', '만석', '만약', '만오천원', '만원', '만유', '만이', '만족', '만족스럽다', '만족하다', '만쥬', '만지다', '만찬', '만취', '만큼', '만하', '만해', '만화', '만화카페', '많넹', '많다', '많드', '많아지다', '많이', '말다', '말랑하다', '말랭이', '말레이시아', '말로', '말르다', '말리', '말리다', '말복', '말씀', '말씀드리다', '말아먹다', '말좀', '말차', '말투', '말함', '말해줭', '말햇', '맑다', '맑은', '맘껏', '맘대로', '맘마', '맘모스', '맘스', '맘스터치', '맘터', '맙소사', '맛나', '맛남', '맛낫', '맛동산', '맛보다', '맛없다', '맛임', '맛잇드', '맛있넹', '맛있다', '맛있드', '맛있엇어', '맛저', '맛점', '맛점해', '맛집', '맛초킹', '맛탕', '맛탱', '망고', '망년', '망원', '망원동', '망치다', '망하다', '맞넹', '맞다', '맞은편', '맞이', '맞추다', '맡기다', '맡다', '매년', '매니아', '매니저', '매다', '매드', '매력', '매번', '매실', '매우', '매운갈비찜', '매운탕', '매일', '매장', '매점', '매주', '매직', '매진', '매출', '매콤', '매트', '매형', '맥날', '맥도날드', '맥스', '맥시', '맥심', '맥윙', '맥주', '맥쥬', '맨날', '맵다', '머거다', '머것', '머겅다', '머구다', '머그', '머글', '머더', '머드', '머랭', '머리', '머리카락', '머릿속', '머머', '머물다', '머선', '머스켓', '머스타드', '머시', '머신', '머얌', '머임', '머텅', '머핀', '머함', '머해', '머행', '먹거리', '먹겡', '먹고다', '먹고살다', '먹기', '먹넹', '먹다', '먹물', '먹방', '먹보', '먹어보쟈', '먹어봣', '먹어주다', '먹엇', '먹엇어', '먹엇엉', '먹엇음', '먹었넹', '먹여주다', '먹을랭', '먹음', '먹이', '먹이다', '먹쟈', '먹히다', '먼저', '먼지', '멀다', '멀리', '멀미', '멀어지다', '멀쩡하다', '멈추다', '멋있다', '멋지다', '멍게', '멍멍', '멍청이', '멍청하다', '메가박스', '메뉴', '메뉴판', '메다', '메로나', '메론', '메롱', '메리', '메모', '메밀', '메박', '메이', '메이플', '메인', '메일', '메추리', '멕시카', '멕시코', '멘보샤', '멘붕', '멘탈', '멜론', '멤버', '며칠', '면대', '면도', '면발', '면서', '면세', '면세점', '면안', '면역', '면은', '면접', '면허', '면회', '멸치', '명가', '명도', '명동', '명란', '명란젓', '명랑', '명량', '명륜', '명인', '명절', '명태', '명함', '몇개', '몇번', '모글', '모금', '모기', '모나', '모니터', '모닝', '모델링', '모두', '모드', '모든', '모라', '모란', '모래', '모레', '모로', '모루', '모르다', '모름', '모리', '모모', '모밀', '모바일', '모스', '모습', '모시', '모시다', '모야', '모얌', '모양', '모어', '모으다', '모이', '모이다', '모임', '모자', '모자라다', '모집', '모짜렐라', '모찌', '모카', '모텔', '모하', '모해', '목구멍', '목금', '목동', '목록', '목말', '목사', '목살', '목소리', '목어', '목요일', '목욕', '목욕탕', '목욜', '목욜날', '목자', '목장', '목적', '목적지', '목포', '목표', '몬스터', '몰다', '몰랏', '몰랏어', '몰래', '몰리', '몰리다', '몸무게', '몸살', '몹시', '못자다', '못정', '못햇', '몽골', '몽쉘', '무가', '무거', '무거동', '무거워', '무겁다', '무게', '무국', '무궁화', '무그', '무글', '무기', '무난', '무너지다', '무니', '무덥다', '무도', '무러', '무려', '무료', '무릎', '무리', '무리다', '무리하다', '무마', '무뼈', '무사하다', '무서움', '무섭다', '무스', '무슨', '무시', '무안', '무언가', '무엇', '무오', '무적', '무제한', '무조', '무조건', '무족', '무지', '무척', '무치다', '무한', '무한리필', '무화과', '묵고', '묵다', '묵은지', '묵음', '묵자', '묵쟈', '묶다', '묶음', '문안', '문어', '문의', '문자', '문제', '문화', '묻다', '묻히다', '물가', '물건', '물고기', '물기', '물냉', '물놀이', '물다', '물론', '물르다', '물리', '물리다', '물만두', '물어', '물어보다', '물엿', '물음표', '물이', '물티슈', '물품', '물회', '묽다', '뭉치', '뭉치다', '뭐더', '뭐라다', '뭐먹엇어', '뭐묵', '뭐시', '뭐시기', '뭐임', '뭐좀', '뭐징', '뭐함', '뭐해', '뭐행', '뭔가', '뭔들', '뮤슨', '뮤즐리', '뮤지컬', '미가', '미국', '미나리', '미노', '미니', '미당', '미래', '미루다', '미리', '미만', '미미', '미분', '미사', '미세먼지', '미션', '미소', '미술', '미술관', '미숫가루', '미슐랭', '미스', '미스터', '미식', '미아', '미안', '미안하다', '미역', '미역국', '미용실', '미우다', '미정', '미즈', '미지', '미지근하다', '미쳣', '미치다', '미칭', '미터', '미트', '미트볼', '미팅', '믹서기', '믹스', '민망', '민망하다', '민박', '민족', '민중', '민증', '민초', '민트', '민폐', '믿다', '믿음', '밀가루', '밀다', '밀떡', '밀리', '밀리다', '밀면', '밀크', '밀푀유', '밉다', '밍밍', '밑반찬', '바가지', '바게뜨', '바게트', '바구니', '바글바글', '바깥', '바꾸다', '바꿈', '바뀌다', '바나', '바나나', '바나나킥', '바닐라', '바다', '바닥', '바닷가', '바디', '바라다', '바라보다', '바람', '바럼', '바로', '바로바로', '바루', '바르다', '바르셀로나', '바리', '바바', '바베큐', '바보', '바부', '바부엄', '바뷰럼', '바븐엄', '바비', '바비큐', '바뿌', '바쁘다', '바사', '바사삭', '바삭', '바삭바삭', '바삭바삭하다', '바서', '바스', '바싹', '바알', '바위', '바이', '바이크', '바인', '바지', '바지락', '바질', '바짝', '바퀴', '바퀴벌레', '바프', '박다', '박람회', '박물관', '박사', '박살', '박수', '박스', '박아', '박하', '박하다', '박히다', '반갑다', '반값', '반개', '반나절', '반납', '반대', '반대편', '반도', '반드시', '반미', '반바지', '반복', '반성', '반숙', '반영', '반올림', '반월당', '반응', '반입', '반전', '반절', '반점', '반정', '반주', '반죽', '반지', '반쪽', '반찬', '반칙', '반포', '반품', '반하다', '반함', '받다', '발견', '발급', '발라', '발리', '발리다', '발목', '발사믹', '발산', '발전', '발표', '발해', '발효', '밝다', '밟다', '밤늦다', '밤새', '밤새다', '밥값', '밥그릇', '밥럼', '밥말', '밥맛', '밥머', '밥먹엇어', '밥무', '밥무러', '밥묵', '밥뭐', '밥밥', '밥버거', '밥상', '밥솥', '밥좀', '밥집', '밥통', '밧다', '방가', '방값', '방구', '방금', '방긋', '방기', '방도', '방문', '방방', '방법', '방사', '방송', '방안', '방앗간', '방어', '방울', '방울토마토', '방이', '방콕', '방탄', '방토', '방학', '방해', '방향', '배경', '배고프다', '배곧', '배곱', '배구', '배그', '배기', '배꼽', '배다', '배달', '배드', '배떡', '배려', '배민', '배부', '배부르다', '배불', '배불렁', '배송', '배송비', '배신', '배신자', '배아', '배우다', '배정', '배차', '배추', '배타', '배탈', '배터리', '백년', '백도', '백만원', '백반', '백설기', '백수', '백숙', '백원', '백퍼', '백화점', '밴드', '뱃살', '뱃속', '뱅기', '뱅쇼', '뱉다', '버거', '버거킹', '버겁다', '버그', '버드', '버릇', '버리다', '버블', '버블티', '버섯', '버셜', '버스', '버스정류장', '버전', '버정', '버터', '버티다', '번가', '번갈아', '번개', '번거롭다', '번만', '번은', '번주', '번째', '번하다', '번호', '벌다', '벌레', '벌리다', '벌써', '벌이다', '벌초', '범계', '범벅', '법카', '벗기다', '벗다', '벗어나다', '벚꽃', '베다', '베드', '베란다', '베리', '베베', '베비', '베스킨라빈스', '베스트', '베이', '베이글', '베이비', '베이스', '베이징', '베이커리', '베이컨', '베토디', '베트남', '벤치', '벨벳', '변경', '변비', '변하다', '별거', '별곡', '별도', '별로', '별루', '별미', '별일', '병문안', '병아리', '병원', '보가', '보강', '보고', '보고서', '보고오다', '보관', '보구', '보기', '보나', '보내다', '보넹', '보다', '보더', '보도', '보드', '보드게임', '보드카', '보라', '보라색', '보라카이', '보람', '보로', '보루', '보류', '보리', '보리밥', '보리차', '보삼', '보상', '보성', '보스', '보시', '보신', '보쌈', '보아', '보안', '보얗다', '보여주다', '보영', '보오', '보이', '보이다', '보이지', '보이차', '보일러', '보임', '보장', '보재', '보쟈', '보정', '보조', '보지', '보충', '보태', '보통', '보트', '보틀', '보험', '복귀', '복근', '복날', '복불복', '복사', '복수', '복숭아', '복잡하다', '복장', '복지', '복지관', '복층', '볶다', '볶음', '볶음밥', '볶이', '본가', '본격', '본관', '본당', '본대', '본사', '본식', '본인', '본적', '본점', '볼거리', '볼걸', '볼겡', '볼때', '볼라', '볼랭', '볼링', '볼링장', '볼일', '볼케이노', '봉골레', '봉구', '봉명동', '봉봉', '봉사', '봉지', '봉추', '봉투', '봣는데', '봣어', '뵈다', '뵙다', '부가', '부각', '부공', '부끄럽다', '부다', '부담', '부담스럽다', '부당', '부대', '부대찌개', '부덤', '부동산', '부드럽다', '부들', '부들부들', '부러', '부러지다', '부럼', '부럽다', '부르다', '부리', '부리다', '부리또', '부모님', '부부', '부분', '부산', '부서', '부서지다', '부스', '부실하다', '부안', '부어', '부엌', '부여', '부위', '부인', '부자', '부장', '부전', '부족', '부족하다', '부지런', '부지런하다', '부집', '부찌', '부채살', '부천', '부천역', '부추', '부치다', '부침개', '부탁', '부탁드리다', '부터', '부페', '부평', '북부', '북어', '북적', '북촌', '북한', '분당', '분들', '분리', '분리수거', '분말', '분명', '분명하다', '분수', '분식', '분식집', '분안', '분위기', '분유', '분전', '분해', '분홍', '불가', '불가능', '불가능하다', '불고기', '불국사', '불금', '불꽃', '불다', '불닭', '불닭볶음면', '불량', '불로', '불리', '불리다', '불만', '불맛', '불쌍하다', '불안', '불안하다', '불어', '불족', '불참', '불타다', '불판', '불편', '불편하다', '불호', '붉다', '붓기', '붓다', '붕붕', '붕어빵', '붙다', '붙이', '붙이다', '뷔페', '브라', '브라우니', '브라운', '브라질', '브랜드', '브런치', '브레드', '브레이크', '브로', '브로콜리', '브루', '브리', '브리또', '브이', '블라디', '블랙', '블럭', '블로그', '블루', '블루베리', '비건', '비계', '비교', '비꼬다', '비냉', '비닐', '비다', '비도', '비려', '비리', '비리다', '비만', '비밀', '비번', '비법', '비비', '비비고', '비비다', '비비큐', '비빔', '비빔국수', '비빔면', '비빔밥', '비상', '비수', '비슷', '비슷하다', '비싸다', '비야', '비어', '비엔나', '비엔비', '비오네', '비올', '비요뜨', '비용', '비우다', '비유', '비율', '비자', '비주', '비쥬', '비즈니스', '비지', '비지니스', '비추다', '비치', '비타민', '비행', '비행기', '비행기표', '빅맥', '빈대떡', '빈속', '빈손', '빈펄', '빌다', '빌라', '빌리다', '빕스', '빙수', '빠듯', '빠루', '빠르넹', '빠르다', '빠리', '빠바', '빠빠', '빠이', '빠잉', '빠지다', '빡빡', '빡세', '빡시다', '빡치다', '빨간색', '빨강', '빨갛다', '빨다', '빨대', '빨래', '빨르다', '빨리', '빵꾸', '빵빵', '빵집', '빼기', '빼놓다', '빼다', '빼먹다', '빼빼로', '빼주', '뺏다', '뻑뻑', '뻔하다', '뻗다', '뻥튀기', '뽀뽀', '뽑기', '뽑다', '뿌듯', '뿌듯하다', '뿌리', '뿌리다', '뿌링', '뿌링클', '뿌셔', '뿌옇다', '뿐이다', '삐지다', '사가', '사가다', '사가정', '사갈라', '사감', '사거리', '사건', '사고', '사골', '사과', '사구', '사귀다', '사기', '사냥', '사다', '사당', '사당역', '사도', '사돈', '사두', '사드', '사또', '사라', '사라지다', '사람', '사랑', '사랑스럽다', '사려', '사료', '사르다', '사리', '사마', '사막', '사먹다', '사면', '사모님', '사무', '사무실', '사물함', '사바', '사발', '사발면', '사보다', '사상', '사서', '사수', '사시미', '사실', '사십분', '사업', '사오', '사오다', '사용', '사우나', '사원', '사이', '사이다', '사이드', '사이즈', '사이트', '사인', '사자', '사장', '사전', '사정', '사조', '사주', '사주다', '사주면', '사주지', '사지', '사진', '사진관', '사천', '사촌', '사촌동생', '사치', '사케', '사탕', '사하다', '사항', '사회', '삭제', '산낙지', '산다', '산도', '산미', '산본', '산부인과', '산소', '산이', '산적', '산책', '살걸', '살구', '살기', '살다', '살때', '살라', '살로', '살리다', '살림', '살빠지다', '살빼다', '살살', '살수', '살아나다', '살이', '살인', '살짝', '살찌다', '살펴보다', '삶다', '삼각김밥', '삼각대', '삼겹', '삼겹살', '삼계탕', '삼김', '삼다', '삼만원', '삼박', '삼분', '삼성', '삼성역', '삼십분', '삼양', '삼일', '삼천원', '삼청동', '삼촌', '삼치', '삼키다', '삽겹살', '삿는데', '삿다', '삿어', '삿오', '삿포로', '상가', '상견례', '상관', '상관없다', '상남동', '상담', '상당하다', '상대', '상도', '상동', '상록수', '상무', '상봉', '상상', '상영', '상의', '상이', '상자', '상주', '상처', '상추', '상쾌하다', '상큼', '상태', '상품', '상품권', '상하', '상하이', '상한', '상해', '상황', '상황보고', '상회', '새끼', '새다', '새롭다', '새벽', '새우', '새우깡', '새우다', '새해', '색깔', '색다르다', '샌드위치', '샐러드', '샘플', '생각', '생각나다', '생강', '생강차', '생겻', '생겻어', '생굴', '생기', '생기다', '생략', '생리', '생리통', '생맥', '생명', '생선', '생수', '생신', '생얼', '생으로', '생일', '생크림', '생파', '생활', '샤베트', '샤부샤부', '샤브', '샤브샤브', '샤워', '샤인', '샴페인', '샴푸', '샹궈', '서구', '서귀포', '서나', '서다', '서대문', '서도', '서두르다', '서든', '서랍', '서럽다', '서로', '서류', '서리', '서머', '서면', '서방', '서부', '서브', '서브웨이', '서비스', '서사', '서산', '서서', '서안', '서여', '서요', '서운하다', '서울', '서울대', '서울숲', '서울역', '서자', '서점', '서쪽', '서초', '서치', '서프라이즈', '서핑', '서하', '서해', '서현', '석류', '석수', '석촌', '석촌호수', '석화', '섞다', '섞이다', '선교사', '선릉', '선물', '선배', '선부동', '선생', '선생님', '선선', '선수', '선약', '선유도', '선임', '선정', '선지', '선지국', '선착순', '선크림', '선택', '선호', '설거지', '설계', '설기', '설날', '설다', '설득', '설렁탕', '설레다', '설마', '설명', '설빙', '설사', '설정', '설치', '설치다', '설탕', '섭섭하다', '섭웨', '섭지코지', '섭취', '성격', '성공', '성공하다', '성남', '성당', '성대', '성묘', '성분', '성비', '성산', '성산일출봉', '성수', '성수동', '성심당', '성의', '성인', '성하다', '세계', '세다', '세리', '세면', '세명', '세미나', '세배', '세번', '세부', '세븐', '세븐일레븐', '세상', '세수', '세시', '세우다', '세입', '세잔', '세종', '세종시', '세차', '세트', '센스', '센터', '센텀', '센트럴', '셀러', '셀카', '셀프', '셋트', '셔츠', '셔틀', '셧다', '셰프', '소가', '소갈비', '소개', '소개팅', '소고기', '소금', '소담', '소라', '소래포구', '소로', '소름', '소리', '소맥', '소면', '소문', '소문나다', '소바', '소보', '소비', '소세지', '소소하다', '소속', '소스', '소시지', '소식', '소요', '소용', '소울푸드', '소원', '소자', '소주', '소중하다', '소진', '소파', '소풍', '소프트', '소화', '속눈썹', '속도', '속상하다', '속옷', '속이다', '속초', '손가락', '손님', '손맛', '손바닥', '손잡다', '손절', '손질', '손톱', '손해', '솔솔', '솔직하다', '솔트', '솜사탕', '솜씨', '송금', '송년회', '송도', '송이', '송정', '송파', '송편', '쇠고기', '쇼파', '쇼핑', '쇼핑몰', '수가', '수강신청', '수건', '수고', '수금', '수기', '수능', '수니', '수다', '수당', '수도', '수도권', '수련', '수령', '수로', '수리', '수면', '수목', '수목원', '수박', '수분', '수비드', '수산', '수산시장', '수서', '수성', '수속', '수수료', '수술', '수업', '수없이', '수염', '수영', '수영복', '수영장', '수요', '수요일', '수욜', '수욜날', '수용', '수원', '수원역', '수유', '수육', '수입', '수저', '수정', '수제', '수제비', '수준', '수집', '수프', '수하물', '수학', '수학여행', '수화물', '숙박', '숙성', '숙소', '숙이다', '숙제', '숙주', '숙취', '순간', '순대', '순대볶음', '순두부', '순두부찌개', '순삭', '순서', '순식간', '순위', '순이', '순천', '순천만', '순하다', '숟가락', '숟갈', '술맛', '술사', '술술', '술안주', '술자리', '술집', '술찜', '숨기다', '숨다', '숩니', '숫자', '숭어', '숯불', '쉐라톤', '쉐어', '쉐이크', '쉐프', '쉑쉑', '쉬는시간', '쉬다', '쉬엄쉬엄', '쉽다', '슈가', '슈비', '슈크림', '슈퍼', '슈페', '슈프림', '슝슝', '스낵', '스노', '스랑', '스럽다', '스리', '스몰', '스무디', '스벅', '스벅가', '스스로', '스시', '스위스', '스위치', '스위트', '스윗', '스치다', '스카', '스카이', '스캣', '스케줄', '스케쥴', '스콘', '스쿠터', '스쿨', '스퀘어', '스크램블', '스크림', '스키', '스키장', '스킨', '스타', '스타벅스', '스타일', '스탈', '스터디', '스테끼', '스테이', '스테이크', '스텔라', '스토리', '스톡', '스튜', '스튜디오', '스트', '스트레스', '스트레칭', '스티커', '스틱', '스파', '스파게티', '스파이', '스파클링', '스팸', '스페셜', '스페인', '스포', '스포츠', '스푼', '스프', '스피드', '슬로', '슬리퍼', '슬슬', '슬쩍', '슬프다', '습관', '습하다', '승리', '승부', '승인', '시가', '시간', '시간대', '시간표', '시계', '시골', '시구', '시국', '시금치', '시기', '시긴', '시끄럽다', '시나', '시나몬', '시내', '시네마', '시대', '시댁', '시더', '시도', '시동', '시라', '시래기', '시럽', '시렁', '시로', '시루', '시르다', '시름', '시리다', '시리얼', '시리즈', '시미', '시민', '시반', '시보', '시설', '시세', '시스템', '시식', '시안', '시야', '시에나', '시오', '시옹', '시외버스', '시원', '시원하다', '시인', '시작', '시장', '시전', '시절', '시중', '시즌', '시지', '시집', '시차', '시청', '시청역', '시카고', '시큼하다', '시키다', '시킴', '시트', '시티', '시파', '시퍼', '시프', '시합', '시험', '시흥', '식감', '식구', '식권', '식다', '식단', '식당', '식당가', '식대', '식도', '식량', '식물원', '식비', '식빵', '식사', '식욕', '식이', '식장', '식초', '식탁', '식탐', '식품', '식혜', '식히다', '신가', '신경', '신경안', '신고', '신기', '신기하', '신기하다', '신나다', '신년', '신다', '신당', '신도림', '신도시', '신라', '신라면', '신랑', '신림', '신맛', '신물', '신발', '신부', '신분', '신분증', '신사', '신사역', '신상', '신선하다', '신세계', '신원', '신입', '신전', '신제품', '신주쿠', '신지', '신천', '신청', '신촌', '신촌역', '신포', '신행', '신호', '신호등', '신혼여행', '신화', '싣다', '실가', '실감', '실내', '실력', '실망', '실망하다', '실물', '실밥', '실수', '실습', '실시간', '실어', '실온', '실장', '실제', '실컷', '실패', '실패하다', '실하다', '실험', '실험실', '실화', '싫다', '싫어지다', '싫어하다', '심각', '심각하다', '심다', '심부름', '심사', '심술', '심심', '심심하다', '심야', '심장', '심지어', '심하다', '심해', '심해지다', '십년', '십만원', '십분', '십오분', '싱가폴', '싱겁다', '싱글', '싱싱하다', '싶다', '싸가지', '싸구려', '싸다', '싸우다', '싸움', '싸이', '싸하다', '싹싹', '쌀국수', '쌀떡', '쌀밥', '쌀쌀하다', '쌈밥', '쌈장', '쌓다', '쌓이다', '써다', '써브웨이', '써주다', '썩다', '썰다', '썰매', '쎄다', '쏘다', '쏜다', '쏟다', '쏟아지다', '쐬다', '쑤다', '쑤시다', '쑥쑥', '쓰기', '쓰다', '쓰러지다', '쓰레기', '쓰리다', '쓰이다', '쓴다', '쓴맛', '쓸다', '쓸데없다', '씨리얼', '씨방', '씨앗', '씨유', '씨익', '씹다', '씹히다', '씻기다', '씻다', '아가', '아가씨', '아고다', '아구', '아구찜', '아그랭', '아기', '아깝다', '아끼다', '아내', '아녕', '아뇨', '아뇽', '아뉭', '아니다', '아니먄', '아니묜', '아니얌', '아닛', '아닝', '아닠', '아들', '아디', '아따', '아라', '아랏어', '아래', '아름답다', '아리', '아마', '아마도', '아메', '아메리카노', '아몬드', '아무', '아무래도', '아무렇다', '아무리', '아무튼', '아미', '아바', '아버님', '아버지', '아보', '아보카도', '아부지', '아빠', '아사', '아삭아삭', '아산', '아성', '아숩', '아쉬움', '아쉽다', '아스', '아슬아슬하다', '아시', '아시아', '아시아나', '아싸', '아씨', '아아', '아악', '아앙', '아야', '아영', '아예', '아오', '아우', '아울렛', '아웃', '아웃백', '아웅', '아유', '아이', '아이고', '아이구', '아이디', '아이디어', '아이맥스', '아이스', '아이스박스', '아이스크림', '아이스티', '아이템', '아이패드', '아이폰', '아인', '아잉', '아자', '아저씨', '아주', '아주머니', '아주아주', '아줌마', '아쥬', '아지', '아직', '아직도', '아차산', '아치', '아침', '아침밥', '아쿠아리움', '아트', '아티', '아파트', '아포', '아프다', '아픔', '아하', '아해', '아홉시', '악마', '안감', '안개', '안경', '안고', '안과', '안구', '안나', '안남', '안남다', '안내', '안녕', '안녕하다', '안농', '안뇽', '안다', '안달', '안대', '안댕', '안도', '안동', '안됑', '안되다', '안마', '안먹엇어', '안면도', '안목', '안무', '안물', '안보', '안부', '안산', '안상', '안성', '안성탕면', '안시', '안심', '안암', '안양', '안온', '안이', '안전', '안전하다', '안정', '안좋다', '안주', '안지', '안질리다', '안쪽', '안치', '안타', '안타깝다', '안팔', '안함', '안해', '안햇', '앉다', '않다', '알갱이', '알게썽', '알겠슈', '알구', '알다', '알라', '알라딘', '알람', '알려줭', '알리', '알리오', '알림', '알바', '알바생', '알밥', '알볼', '알썽', '알쏘', '알아내다', '알아보다', '알제', '알쥐', '알찜', '알차다', '알콜', '알탕', '암거', '암튼', '압구정', '앖어', '앗다', '앙금', '앙앙', '앙하다', '앞다리', '앞뒤', '앞머리', '앞임', '앞쪽', '애가', '애견', '애기', '애기야', '애깅', '애도', '애드', '애매', '애매하다', '애슐리', '애애', '애애애', '애월', '애초', '애플', '애플파이', '애호박', '액체', '앤쿡', '야간', '야경', '야곱', '야구', '야구장', '야근', '야기', '야노', '야무지다', '야스', '야시장', '야식', '야야', '야외', '야우리', '야채', '야하다', '야행', '야호', '약간', '약과', '약국', '약도', '약밥', '약속', '약하다', '얇다', '얌얌', '얌전하다', '얍얍', '양가', '양갱', '양고기', '양념', '양념장', '양념치킨', '양도', '양말', '양반', '양배추', '양보', '양산', '양상추', '양식', '양심', '양양', '양은', '양장', '양재', '양재역', '양주', '양치', '양파', '양평', '얘기', '얘드', '어구', '어그', '어깨', '어느', '어늘', '어니', '어니언', '어댜', '어데', '어도', '어둠', '어둡다', '어디', '어디가', '어디루', '어디서', '어딘가', '어딘뎅', '어딘디', '어딜', '어딧', '어딧어', '어딨다', '어따', '어땟어', '어땡', '어땨', '어떄', '어떠케', '어떠하다', '어떡하다', '어떻다', '어뗘', '어뜩하다', '어렵다', '어르다', '어르신', '어른', '어리다', '어린이', '어린이날', '어린이집', '어마', '어마어마하다', '어머', '어머나', '어머니', '어머님', '어무', '어무니', '어묵', '어버이날', '어보', '어색하다', '어서', '어스', '어어', '어엉', '어여', '어요', '어우', '어울리다', '어유', '어으', '어이', '어이구', '어이없다', '어제', '어젠', '어지간하다', '어지럽다', '어짜피', '어째', '어째서', '어쨋', '어쨌든', '어쩌', '어쩌구', '어쩌다', '어쩌면', '어쩌지', '어쩌징', '어쩐지', '어쩔', '어쩜', '어찌', '어차피', '어치', '어카', '어칼', '어캐', '어키', '어키어키', '어플', '어필', '어허', '어회', '어후', '어휴', '억울하다', '억지로', '언넝', '언능', '언니', '언니네', '언닌', '언닝', '언덕', '언양', '언제', '언제나', '언젠가', '얹다', '얻다', '얻어먹다', '얼굴', '얼그레이', '얼능', '얼다', '얼렁', '얼른', '얼릉', '얼리다', '얼마', '얼마나', '얼매', '얼얼하다', '얼음', '얼집', '얼추', '얼큰하다', '엄니', '엄두', '엄마', '엄빠', '엄지', '엄청', '엄청나다', '업그레이드', '업다', '업데이트', '업무', '업체', '없넹', '없다', '없드', '없애다', '없어지다', '없엇어', '없이', '엇네', '엇다', '엇어', '엇엉', '엇음', '엉덩이', '엉망', '엉엉', '엊그제', '에고', '에구', '에구구', '에궁', '에그', '에그드랍', '에그타르트', '에나', '에너지', '에두', '에드', '에바', '에버랜드', '에소', '에스', '에스프레소', '에어', '에어비앤비', '에어아시아', '에어컨', '에어팟', '에에', '에엥', '에이', '에이스', '에이치', '에일', '에잇', '에잉', '에코', '에타', '에프', '에피타이저', '에헴', '에혀', '엑셀', '엑스', '엔씨', '엔젤', '엘베', '엘에이', '엠티', '여권', '여기', '여기다', '여기저기', '여덟시', '여러', '여러가지', '여러분', '여럿', '여름', '여보', '여부', '여붕', '여서', '여섯', '여섯시', '여성', '여수', '여야', '여우', '여유', '여유롭다', '여의나루', '여의도', '여자', '여자애', '여자친구', '여전하다', '여주', '여즘', '여지', '여쭈다', '여치', '여친', '여태', '여해', '여행', '여행가', '여행사', '여행지', '역다', '역대', '역사', '역쉬', '역시', '역전', '역할', '연결', '연구실', '연극', '연기', '연남', '연남동', '연대', '연락', '연말', '연산', '연속', '연수', '연습', '연신내', '연안', '연애', '연어', '연어초밥', '연예인', '연유', '연장', '연차', '연착', '연초', '연탄', '연하다', '연휴', '연희동', '열공', '열다', '열두시', '열라면', '열람', '열리다', '열무', '열무김치', '열쇠', '열시', '열시미', '열심히', '열정', '열차', '열한시', '염색', '엽기', '엽떡', '영국', '영도', '영등포', '영상', '영수증', '영어', '영업', '영원하다', '영종도', '영주', '영통', '영하', '영향', '영혼', '영화', '영화관', '옆집', '예매', '예민하다', '예배', '예비군', '예쁘다', '예산', '예상', '예술', '예스', '예식', '예식장', '예아', '예압', '예약', '예의', '예전', '예정', '옙옙', '옛날', '오가다', '오거', '오거리', '오구', '오구오구', '오그', '오금', '오기', '오냐', '오노', '오늘', '오늘날', '오늘내일', '오늘밤', '오늘아침', '오늘이', '오니', '오다', '오댜', '오뎅', '오드', '오든', '오디', '오딘', '오또케', '오뚜기', '오라', '오래', '오래되다', '오래됨', '오래오래', '오래전', '오랜만', '오레오', '오렌지', '오로지', '오류', '오르다', '오른쪽', '오름', '오리', '오리고기', '오마이갓', '오만원', '오매', '오메', '오므라이스', '오믈렛', '오미자', '오백', '오백원', '오버', '오분', '오브', '오븐', '오빠', '오사카', '오산', '오삼', '오설록', '오셈', '오션', '오션월드', '오소', '오슈', '오시', '오심', '오십분', '오야', '오예', '오오', '오오오', '오옷', '오우', '오우야', '오월', '오이', '오이도', '오인', '오일', '오잉', '오자', '오장', '오전', '오조오억', '오줌', '오지', '오징어', '오차', '오천원', '오카', '오카이', '오케', '오케오케', '오케이', '오케잉', '오켕', '오코노미야끼', '오크', '오키', '오키나와', '오키도키', '오타', '오토', '오토바이', '오트밀', '오프', '오픈', '오해', '오호', '오홋', '오후', '오히려', '옥상', '옥수', '옥수수', '온건', '온당', '온대', '온도', '온라인', '온수', '온천', '올라가다', '올라서다', '올라오다', '올려놓다', '올려주다', '올리고당', '올리다', '올리브', '올리브영', '올리브오일', '올리브유', '올림픽', '올해', '옮기다', '옳다', '옴뇸뇸', '옴총', '옵션', '옷좀', '옹오', '옹옹', '옹옹옹', '옹키', '와나', '와사비', '와쓰', '와아', '와아아', '와우', '와웅', '와이파이', '와이프', '와인', '와중', '와카', '와퍼', '와플', '완료', '완벽', '완벽하다', '완성', '완전', '완전하다', '완젼', '완존', '완죤', '왐마', '왓는데', '왓다', '왓다갓다', '왓더', '왓슈', '왓어', '왓엉', '왓오', '왓음', '왕뚜껑', '왕리', '왕만', '왕복', '왕십리', '왕창', '왜감', '왜구', '왜그러지', '왜냐면', '왜냐하면', '왜또', '왜못', '왜안', '왜애', '왜왜', '왜용', '왜유', '왜캐', '왠만하다', '왠지', '왤다', '왱왱', '외가', '외계인', '외국', '외국인', '외근', '외다', '외롭다', '외박', '외부', '외삼촌', '외식', '외우다', '외출', '외할머니', '왼쪽', '요가', '요거트', '요것', '요구르트', '요금', '요기', '요긴', '요렇게', '요리', '요리사', '요리왕', '요미', '요새', '요양', '요요', '요일', '요정', '요조', '요즘', '요청', '요트', '요플레', '욕먹다', '욕실', '욕심', '욕조', '욜날', '용기', '용다', '용도', '용돈', '용량', '용산', '용산역', '용서', '용이', '용인', '용품', '용하다', '우거지', '우기', '우기다', '우도', '우동', '우등', '우디', '우럭', '우려', '우리', '우리나라', '우리동네', '우리둘', '우리엄마', '우린', '우마', '우산', '우삼겹', '우선', '우씨', '우아', '우어', '우엉', '우와', '우왕', '우우', '우울하다', '우웅', '우웩', '우유', '우육', '우응', '우이', '우잉', '우정', '우주', '우체국', '우한', '운덩', '운동', '운동장', '운동화', '운명', '운영', '운전', '운행', '울다', '울릉도', '울리다', '울면', '울산', '움직', '움직이다', '웁스', '웃기', '웃기다', '웃다', '웃음', '웅뜨', '웅우', '웅웅', '웅웅웅', '웅응', '워낙', '워치', '워크샵', '워터', '워터파크', '워후', '원가', '원금', '원두', '원래', '원룸', '원샷', '원인', '원장', '원정', '원조', '원주', '원피스', '원픽', '원하다', '월급', '월남쌈', '월드', '월말', '월미도', '월요일', '월욜', '월욜날', '월차', '월초', '월화', '웨딩', '웨딩홀', '웨이', '웨이브', '웨이팅', '웨하스', '웬만하다', '웬일', '웰컴', '웹툰', '위기', '위례', '위로', '위메프', '위생', '위스키', '위염', '위장', '위주', '위쪽', '위치', '위탁', '위트', '위해', '위험', '위험하다', '유가', '유감', '유기농', '유늘', '유니', '유니버셜', '유럽', '유로', '유리', '유명', '유명하다', '유부', '유부초밥', '유산균', '유심', '유용하다', '유우', '유유', '유일하다', '유자', '유자차', '유지', '유치원', '유통', '유투브', '유튜브', '유튭', '유행', '유혹', '유후', '유후인', '육개장', '육수', '육전', '육즙', '육포', '육회', '융웅', '으러', '으루', '으른', '으리', '으면', '으아', '으아아', '으악', '으앙', '으어', '으으', '으으응', '으윽', '으음', '으응', '으이', '으이구', '으잉', '은근', '은데', '은어', '은제', '은줄', '은지', '은행', '은행동', '을까', '을지로', '을해', '음력', '음료', '음료수', '음성', '음식', '음식물', '음식점', '음악', '음음', '음주', '음청', '읍니', '읎드다', '응가', '응급실', '응데', '응떡', '응웅', '응원', '응응', '의견', '의논', '의도', '의문', '의미', '의사', '의식', '의심', '의왕', '의외', '의외로', '의욕', '의자', '의정부', '의지', '의향', '이강', '이거지', '이겠다', '이구', '이군', '이그', '이기', '이기다', '이나', '이내', '이노', '이다', '이대', '이대로', '이도', '이동', '이동해', '이두', '이드', '이득', '이디야', '이따', '이따가', '이또', '이란', '이랬는데', '이러니까', '이러다가', '이렇게', '이렇다', '이로', '이론', '이루', '이루다', '이르다', '이름', '이리', '이마', '이마트', '이만', '이만원', '이면', '이모', '이모티콘', '이미', '이미지', '이바', '이발', '이번', '이벤', '이벤트', '이별', '이보', '이분', '이불', '이브', '이빨', '이뿌니', '이뿌다', '이쁘다', '이쁜이', '이사', '이삭', '이상', '이상은', '이상하다', '이서', '이세', '이수', '이수역', '이스', '이슬', '이심', '이십', '이십분', '이씨', '이아', '이안', '이애', '이야기', '이얍', '이양', '이어도', '이어폰', '이엄', '이염', '이예', '이오', '이왕', '이왕이면', '이요', '이욜', '이용', '이월드', '이유', '이유식', '이응', '이의', '이이', '이이이', '이익', '이인', '이잉', '이자', '이자카야', '이전', '이정', '이제', '이제야', '이제일', '이주', '이중', '이즈', '이지', '이직', '이집', '이징', '이쯤', '이차', '이천', '이천원', '이체', '이치란', '이케', '이케아', '이크', '이탈리아', '이탈리안', '이태리', '이태원', '이틀', '이하', '이해', '이해해', '이형', '이후', '익다', '익산', '익선동', '익숙하다', '익숙해지다', '익스', '익히다', '인간', '인감', '인강', '인계', '인계동', '인공', '인근', '인기', '인대', '인덕션', '인도', '인분', '인사', '인사동', '인삼', '인상', '인생', '인성', '인수', '인스타', '인스턴트', '인심', '인용', '인원', '인자', '인절미', '인정', '인제', '인증', '인증샷', '인지', '인지도', '인척', '인천', '인천공항', '인치', '인터넷', '인터파크', '인턴', '인테리어', '인하다', '인형', '일가', '일간', '일곱시', '일다', '일단', '일도', '일드', '일등', '일로', '일루', '일리', '일만', '일박', '일박이일', '일반', '일보', '일본', '일본어', '일부', '일부러', '일산', '일상', '일수', '일식', '일어', '일어나다', '일어나서', '일오', '일요', '일요일', '일욜', '일욜날', '일월', '일이', '일인', '일임', '일전', '일정', '일주', '일주일', '일지', '일찍', '일찍이', '일차', '일출', '일치', '일케', '일해', '일회용', '읽다', '잃다', '잃어버리다', '임마', '임산부', '임신', '임티', '입가심', '입구', '입국', '입금', '입다', '입덧', '입도', '입력', '입맛', '입사', '입술', '입실', '입안', '입어보다', '입원', '입장', '입장료', '입지', '입천장', '입히다', '잇다', '있넹', '있다', '있드', '있을겡', '있을껄', '잉잉', '잊다', '잊어버리다', '자가', '자갸', '자게', '자격증', '자고', '자구', '자궁', '자극', '자기', '자기야', '자기양', '자깅', '자꾸', '자너', '자네', '자녀', '자다', '자도', '자동', '자동차', '자두', '자라', '자라다', '자랑', '자료', '자르다', '자리', '자리다', '자마자', '자매', '자메이카', '자몽', '자바', '자볼', '자서', '자세', '자세하다', '자소', '자시다', '자식', '자신', '자신감', '자아', '자연', '자유', '자유롭다', '자유시간', '자유여행', '자장', '자장면', '자재', '자전거', '자제', '자주', '자지', '자체', '자취', '자켓', '자해', '작고', '작년', '작다', '작성', '작아지다', '작업', '작작', '작전', '잔뜩', '잔소리', '잔업', '잔치', '잔치국수', '잔해', '잖다', '잘나가다', '잘나오다', '잘리다', '잘만', '잘맞다', '잘못', '잘살다', '잘생기다', '잘쓰다', '잘알다', '잘해주다', '잘했넹', '잠그다', '잠깐', '잠도', '잠들다', '잠수', '잠시', '잠실', '잠실역', '잠옷', '잠자다', '잠잠하다', '잡고', '잡곡', '잡기', '잡다', '잡수다', '잡음', '잡지', '잡채', '잡히다', '장가', '장갑', '장거리', '장군', '장기', '장난', '장난감', '장날', '장님', '장담', '장도', '장례식', '장마', '장만', '장면', '장모님', '장미', '장바구니', '장보', '장보고', '장비', '장사', '장소', '장수', '장실', '장아찌', '장안', '장애', '장어', '장염', '장이', '장인', '장점', '장조림', '장지', '장터', '장하다', '장해', '장흥', '잦다', '재고', '재난', '재다', '재료', '재미', '재미나', '재미없다', '재미있다', '재밌다', '재우다', '재질', '재택', '쟁반', '쟁반짜장', '쟁이', '쟈기', '쟈철', '쟈철타', '저가', '저건', '저걸', '저격', '저기', '저녁', '저녁때', '저녁밥', '저녁식사', '저러다', '저런', '저렇게', '저렇다', '저렴', '저렴하다', '저리', '저번', '저수지', '저장', '저쪽', '저하', '저희', '적금', '적다', '적당', '적당하다', '적도', '적립', '적어도', '적응', '적응하다', '적절하다', '적지', '적히다', '전가', '전골', '전국', '전기', '전날', '전달', '전도', '전도사', '전라도', '전략', '전망', '전망대', '전문', '전문가', '전문점', '전번', '전복', '전복죽', '전부', '전분', '전설', '전시', '전시회', '전어', '전역', '전용', '전이', '전자', '전자레인지', '전자렌지', '전쟁', '전주', '전집', '전철', '전체', '전통', '전하', '전해', '전혀', '전화', '전화번호', '전화하다', '전환', '전후', '절대', '절레절레', '절반', '절약', '절제', '젊다', '점검', '점도', '점수', '점심', '점심때', '점심시간', '점심식사', '점장님', '점저', '점점', '접다', '접때', '접선', '접속', '접수', '접시', '젓가락', '젓갈', '젓다', '정가', '정각', '정거장', '정기', '정답', '정도', '정돈', '정류장', '정리', '정말', '정모', '정문', '정반대', '정보', '정복', '정비', '정산', '정상', '정선', '정성', '정수기', '정시', '정식', '정신', '정신없이', '정신차리다', '정원', '정육점', '정은', '정이', '정자', '정작', '정장', '정정', '정체', '정통', '정하쟈', '정함', '정해', '정해지다', '정해진', '정확하다', '젖다', '제갈', '제거', '제공', '제나', '제대', '제대로', '제도', '제때', '제로', '제만', '제모', '제발', '제법', '제보', '제부도', '제비', '제사', '제안', '제야', '제왕', '제외', '제육', '제이', '제일', '제자', '제작', '제조', '제주', '제주도', '제주시', '제주항공', '제천', '제철', '제출', '제품', '제한', '제해', '젠장', '젤라또', '젤로', '젤리', '젤맛', '조각', '조개', '조개찜', '조건', '조교', '조금', '조금씩', '조기', '조르다', '조리', '조리퐁', '조림', '조만간', '조명', '조미료', '조사', '조선', '조식', '조신', '조심', '조심하다', '조아', '조아하다', '조앙', '조용하다', '조율', '조음', '조인', '조절', '조정', '조조', '조지', '조짐', '조치', '조카', '조퇴', '조합', '조화', '조회', '족발', '존귀', '존맛', '존맛임', '존맛탱', '존버', '존예', '존재', '존잼', '존중', '졸귀', '졸다', '졸령', '졸리', '졸리다', '졸업', '졸업식', '졸이다', '졸지', '좀더', '좀비', '좁다', '종각', '종강', '종로', '종료', '종류', '종이', '종이컵', '종일', '종점', '종종', '종합', '좋넹', '좋다', '좋드', '좋아욤', '좋아지다', '좋아하다', '좋쥬', '좌석', '좌회전', '죄다', '죄송', '죄송하다', '죄책감', '죙일', '죠리퐁', '죠스', '주가', '주간', '주거', '주구', '주기', '주꾸미', '주네', '주년', '주니어', '주다', '주더', '주도', '주량', '주례', '주로', '주말', '주머니', '주먹', '주먹밥', '주무', '주무시다', '주문', '주물', '주민', '주방', '주변', '주사', '주소', '주스', '주시', '주식', '주신', '주심', '주안', '주야', '주어', '주위', '주의', '주인', '주인공', '주일', '주임', '주자', '주전', '주전자', '주제', '주중', '주지', '주차', '주차장', '주행', '죽겠네', '죽다', '죽도', '죽여주다', '죽음', '죽이다', '준비', '준비물', '줄기', '줄다', '줄라', '줄알', '줄어들다', '줄이다', '줄줄', '줍다', '중간', '중고', '중국', '중국산', '중국어', '중국요리', '중국음식', '중국인', '중국집', '중도', '중독', '중동', '중딩', '중문', '중순', '중식', '중심', '중앙', '중앙동', '중앙시장', '중요', '중요하다', '중이', '중인', '중임', '중학교', '중화', '쥐다', '쥐포', '쥬스', '쥬씨', '즈음', '즉떡', '즉흥', '즐겁다', '즐기다', '증말', '지각', '지갑', '지게', '지겹다', '지고', '지구', '지굼', '지궁', '지그', '지금', '지기', '지나', '지나가다', '지나다', '지나치다', '지난', '지난번', '지난주', '지남', '지내다', '지네', '지니', '지다', '지단', '지대', '지도', '지라', '지랄', '지루', '지루하다', '지르다', '지리', '지리다', '지리산', '지망', '지면', '지모', '지방', '지송', '지안', '지에스', '지역', '지연', '지오', '지옥', '지용', '지우다', '지원', '지유', '지은', '지인', '지장', '지저분하다', '지점', '지정', '지존', '지지', '지지다', '지진', '지출', '지치다', '지켜보다', '지코', '지키다', '지하', '지하상가', '지하철', '지하철역', '직업', '직원', '직장', '직장인', '직전', '직접', '직진', '직항', '직화', '진공', '진도', '진동', '진라면', '진로', '진료', '진리', '진미채', '진보', '진사', '진상', '진수', '진심', '진에어', '진입', '진자', '진작', '진정', '진정하다', '진주', '진지하다', '진짜', '진짜루', '진짜진짜', '진쨔', '진하다', '진해', '진행', '질겨', '질리', '질리다', '질린다', '질문', '질질', '집다', '집도', '집들이', '집밥', '집사', '집아', '집안', '집안일', '집앞', '집어넣다', '집옴', '집왓', '집임', '집중', '집쪽', '집착', '집콕', '집합', '짓다', '징그럽다', '짖다', '짜다', '짜르', '짜장', '짜장면', '짜증', '짜증나다', '짜지다', '짜짜로니', '짜파게티', '짜파구리', '짠하다', '짧다', '짬뽕', '짭짤하다', '짱깨', '짱짱', '째다', '쩌구', '쩐다', '쩐당', '쩔다', '쩜쩜', '쪼가리', '쪼개다', '쪼금', '쪼꼬', '쪼끔', '쪼매', '쪼오옥', '쪽쪽', '쫀득', '쫄깃', '쫄면', '쫌따', '쬐다', '쭈꾸미', '쭉쭉', '찌개', '찌게', '찌다', '찌르다', '찌찌뽕', '찍기', '찍다', '찍히다', '찐빵', '찔리다', '찜닭', '찜질', '찜질방', '찝찝하다', '찡긋', '찢다', '찢어지다', '차갑다', '차고', '차근차근', '차끌', '차내', '차다', '차도', '차돌', '차돌박이', '차라', '차라리', '차량', '차려', '차례', '차로', '차리다', '차마', '차만', '차비', '차서', '차슈', '차안', '차야', '차원', '차이', '차이나', '차이나다', '차이나타운', '차이다', '차임', '차장', '차지', '차차', '차피', '착각', '착하다', '찬물', '찬성', '찬스', '찬양', '찬찬하다', '찮아다', '찰떡', '참가', '참고', '참기름', '참깨', '참나', '참내', '참다', '참석', '참여', '참외', '참치', '참치회', '찹쌀', '찹쌀떡', '창가', '창고', '창녕', '창동', '창문', '창원', '찾기', '찾다', '찾아가다', '찾아내다', '찾아다니다', '찾아보다', '찾아오다', '채다', '채선당', '채소', '채식', '채우다', '채플', '책보', '책상', '책임지다', '챙기다', '챱챱', '처가', '처갓집', '처넌', '처럼', '처리', '처음', '처형', '천국', '천사', '천안', '천왕', '천원', '천재', '천지', '천천히', '천하다', '천혜향', '철저하다', '철판', '첨가', '첫날', '첫째', '청경채', '청계천', '청구', '청국장', '청년', '청담', '청도', '청라', '청량리', '청바지', '청소', '청송', '청양', '청양고추', '청주', '청첩장', '청춘', '청포도', '체고', '체다', '체력', '체리', '체육대회', '체인', '체인점', '체질', '체코', '체크', '체크아웃', '체험', '첵스', '쳐다보다', '초가', '초과', '초당', '초대', '초도', '초등학교', '초딩', '초록', '초록색', '초반', '초밥', '초보', '초복', '초심', '초이스', '초장', '초지', '초코', '초코렛', '초코우유', '초코케익', '초코쿠키', '초코파이', '초콜렛', '초콜릿', '촉박하다', '촉촉', '촉촉하다', '촌닭', '총총', '총회', '촬영', '촵촵', '최강', '최고', '최고다', '최근', '최대', '최대한', '최선', '최소', '최소한', '최악', '최애', '최저', '최종', '최초', '최후', '쵸코', '추가', '추다', '추리', '추석', '추어', '추어탕', '추억', '추워지다', '추위', '추진', '추천', '추첨', '추카', '축가', '축구', '축의금', '축제', '축하', '춘천', '춘하', '춘해', '출구', '출국', '출근', '출근길', '출동', '출발', '출시', '출장', '출출하다', '출퇴근', '춤추다', '춥다', '충격', '충만', '충무로', '충분', '충분하다', '충전', '충전기', '충정로', '충주', '취급', '취미', '취사', '취소', '취업', '취직', '취하', '취한', '취해', '취향', '츄러스', '츄릅', '츄리', '츄리닝', '치가', '치과', '치기', '치네다', '치노', '치다', '치돈', '치료', '치르다', '치마', '치맥', '치면', '치밥', '치사하다', '치아', '치아바타', '치앙마이', '치약', '치우다', '치이다', '치자', '치즈', '치즈버거', '치즈볼', '치즈스틱', '치즈케이크', '치즈케잌', '치치', '치케', '치키다', '치킨', '치킨너겟', '치킹', '치토스', '치팅', '친가', '친구', '친절하다', '친정', '친척', '친하다', '친해지다', '칠리', '칠리소스', '침대', '칫솔', '칭구', '칭구들', '칭따오', '칭찬', '카나', '카노', '카누', '카드', '카라멜', '카라반', '카레', '카메라', '카스', '카스테라', '카야', '카이', '카츠', '카카오', '카토', '카톡', '카트', '카페', '카페나', '카페라떼', '카페인', '칵테일', '칼국수', '칼로리', '칼칼하다', '칼퇴', '캐나다', '캐다', '캐리어', '캐슬', '캔디', '캠프', '캠핑', '캠핑장', '캡사이신', '캡슐', '캡쳐', '캬캬', '캬캬캬', '커리', '커버', '커서', '커지다', '커플', '커픠', '커피', '커피빈', '커피숍', '커피집', '커피한잔', '컨디션', '컨셉', '컬리', '컴백', '컴터', '컴퓨터', '컵누', '컵라면', '컵밥', '케어', '케이', '케이블카', '케이스', '케이에프씨', '케이준', '케이크', '케익', '케일', '케잌', '케찹', '케챱', '케케', '케케케', '케텍스', '켜다', '코너', '코노', '코다리', '코드', '코딱지', '코로', '코로나', '코바', '코스', '코스트코', '코앞', '코엑스', '코오', '코젤', '코코', '코코넛', '코코아', '코타', '코타키나발루', '코트', '코팅', '코피', '콘도', '콘서트', '콘치', '콘푸', '콜드', '콜라', '콜콜', '콤보', '콧물', '콩국', '콩국수', '콩나물', '콩나물국', '콩불', '콰트로', '쿄쿄', '쿠나', '쿠리다', '쿠앤크', '쿠우', '쿠쿠', '쿠키', '쿠팡', '쿠폰', '쿨쿨', '쿨하다', '쿵푸', '쿼터', '퀄리티', '퀘사디아', '퀴즈', '퀸즈', '큐브', '크게', '크기', '크다', '크래커', '크러쉬', '크레이프', '크레페', '크로와상', '크루즈', '크리', '크리스', '크리스마스', '크림', '크으', '크크', '큰누나', '큰딸', '큰일', '큰집', '클라스', '클라우드', '클래스', '클래식', '클럽', '클리어', '클스', '큼큼', '키득', '키라', '키로', '키우다', '키위', '키즈', '키친', '키키', '키킼', '키트', '킬러', '킬로', '킹크랩', '킼킼', '타고', '타구', '타나', '타낭', '타다', '타도', '타라', '타령', '타로', '타르트', '타요', '타용', '타우', '타운', '타워', '타이', '타이거', '타이밍', '타임', '타입', '타자', '타지', '타코', '타코야끼', '타코야키', '타투', '타협', '탁구', '탁하다', '탄산', '탄산수', '탄수', '탄수화물', '탄탄', '탈때', '탈락', '탈수', '탈출', '탐방', '탐탐', '탑승', '탕수육', '탕슉', '탕집', '탕탕', '태국', '태그', '태안', '태어나다', '태우다', '태풍', '택배', '택시', '터널', '터미널', '터지다', '터치', '터키', '털다', '털리다', '텀블러', '텅구리', '테라', '테라로사', '테라스', '테마', '테스트', '테이', '테이블', '테이크아웃', '텐데', '텐동', '텐트', '토끼', '토나오다', '토닉', '토닥토닥', '토리', '토마', '토마토', '토마토소스', '토스', '토스트', '토요일', '토욜', '토욜날', '토익', '토일', '토피', '토핑', '톡방', '톡톡', '통과', '통금', '통닭', '통모', '통밀', '통보', '통신사', '통영', '통장', '통조림', '통째', '통통', '통통하다', '통해', '통화', '퇴근', '퇴근길', '퇴사', '퇴실', '퇴원', '투게더', '투썸', '투어', '투움바', '투자', '투표', '튀기다', '튀김', '튀다', '튀어', '튜브', '트러플', '트럭', '트렁크', '트리', '트윅스', '트윈', '특강', '특별', '특별하다', '특선', '특수', '특식', '특유', '특이하다', '특히', '틀다', '틀리다', '틀어놓다', '티나', '티라미수', '티라미슈', '티맵', '티백', '티비', '티웨이', '티켓', '티켓팅', '틴바', '파가', '파김치', '파네', '파니', '파다', '파닭', '파도', '파라', '파라다이스', '파란', '파란색', '파랑', '파래', '파뤼', '파리', '파리바게트', '파마', '파먹다', '파바', '파서', '파스', '파스타', '파악', '파우더', '파우치', '파운드', '파워', '파이', '파이다', '파이팅', '파인애플', '파인트', '파일', '파전', '파주', '파크', '파타야', '파토', '파티', '파파이스', '파파존스', '파프리카', '팍팍', '판교', '판다', '판단', '판매', '판이', '팔고', '팔다', '팔도', '팔리다', '팔면', '팔이', '팔자', '팔지', '팔찌', '팔팔', '팝콘', '팟타이', '팡팡', '팥빙수', '팥죽', '패딩', '패밀리', '패션', '패스', '패쓰', '패키지', '패티', '팩트', '팬션', '팬케이크', '팽이버섯', '퍼센트', '퍼스트', '퍼지다', '퍽퍽', '페리', '페북', '페스', '페스티벌', '페이', '페이퍼', '페인', '페퍼로니', '펜션', '펩시', '펴다', '편도', '편식', '편안하다', '편육', '편의점', '편이', '편지', '편집', '편하다', '펼치다', '평가', '평균', '평범하다', '평생', '평소', '평양', '평이', '평일', '평일도', '평점', '평창', '평촌', '평타', '평택', '폐기', '포기', '포도', '포디', '포만', '포식', '포인트', '포장', '포장마차', '포즈', '포차', '포천', '포카칩', '포켓', '포크', '포키', '포테이토', '포토', '포트', '포함', '포항', '폭발', '폭주', '폭탄', '폭풍', '폴바', '표시', '표정', '표현', '푸네', '푸다', '푸드', '푸드코트', '푸딩', '푸르다', '푸지', '푸파', '푹쉬다', '풀다', '풀리다', '풀이', '품다', '품절', '풋살', '풍경', '풍부하다', '풍선', '프라', '프라이', '프라이어', '프라푸치노', '프라하', '프랑스', '프레', '프레즐', '프레첼', '프렌치', '프렌치토스트', '프로', '프로그램', '프로젝트', '프리', '프리미엄', '프린트', '프링글스', '프사', '픈거', '픈데', '플라스틱', '플랜', '플랫', '플러스', '플레이', '플레인', '플렉스', '플로', '피고', '피곤', '피곤하다', '피다', '피드백', '피렌체', '피로', '피로연', '피맥', '피방', '피부', '피스', '피시', '피시방', '피씨', '피아노', '피우다', '피자', '피자스쿨', '피자치즈', '피자헛', '피치', '피카츄', '피크', '피크닉', '피클', '피티', '피피티', '피하', '피해', '픽스', '픽업', '필기', '필드', '필라테스', '필라프', '필름', '필리핀', '필수', '필요', '필요없다', '필요하다', '필터', '핏자', '핑계', '핑크', '하겐다즈', '하고프다', '하규', '하그', '하나', '하나로', '하나요', '하남', '하넹', '하노', '하노이', '하늘', '하니', '하다', '하단', '하동', '하드', '하든', '하디', '하라', '하래', '하루', '하리보', '하모', '하몽', '하므다', '하소', '하아', '하얏트', '하양', '하얗다', '하여간', '하여튼', '하오', '하와', '하와이', '하우스', '하이', '하이디', '하잇', '하자', '하장', '하쟈', '하제', '하지만', '하진', '하차', '하체', '하트', '하프', '하필', '하하', '학관', '학교', '학기', '학년', '학생', '학식', '학원', '학회', '한가득', '한가지', '한가하다', '한강', '한계', '한국', '한국사', '한국인', '한글', '한글날', '한남', '한남동', '한다해', '한데', '한동안', '한때', '한라봉', '한라산', '한마디', '한번', '한복', '한소리', '한솥', '한숨', '한시', '한식', '한신', '한신포차', '한약', '한우', '한의원', '한인', '한일', '한자', '한자리', '한잔', '한장', '한적', '한적하다', '한정', '한정식', '한주', '한지', '한쪽', '한참', '한창', '한텐', '한판', '한판만', '한편', '한화', '할갑다', '할겡', '할기다', '할껀', '할껄', '할라피뇨', '할랬는데', '할랭', '할로윈', '할리스', '할머니', '할미', '할부', '할아버지', '할인', '함께', '함덕', '함바', '함박', '함박스테이크', '함보', '함양', '함정', '합격', '합류', '합리', '합성동', '합세', '합의', '합정', '합정역', '합주', '합치다', '핫도그', '핫바', '핫소스', '핫초코', '핫팩', '핫플', '항거', '항공', '항공권', '항공사', '항상', '항정살', '해갈', '해결', '해내다', '해달', '해달라다', '해도', '해돋이', '해동', '해드리다', '해랑', '해루', '해머', '해먹', '해묵', '해물', '해물찜', '해물탕', '해물파전', '해바', '해방', '해변', '해보다', '해봤다', '해부', '해산', '해산물', '해삼', '해성', '해소', '해수욕장', '해쉬', '해안', '해오다', '해외', '해외여행', '해운대', '해유', '해장', '해장국', '해조', '해주', '해주다', '해주시', '해줭', '해지', '해찌', '해치다', '해피', '해헤', '핵노맛', '핵맛', '핸드', '핸드폰', '햄버거', '햄벅', '햇님', '햇더', '햇던', '햇반', '햇빛', '햇살', '햇슈', '햇습니', '햇오', '햇옹', '햇음', '했넹', '행궁동', '행동', '행복', '행복하다', '행사', '향기', '향수', '향신료', '허거걱', '허걱', '허겁지겁', '허구', '허기', '허기지다', '허니', '허니콤', '허다', '허락', '허리', '허버허버', '허벅지', '허브', '허블', '허쉬', '허억', '허전하다', '허허', '헉스', '헉헉', '헌혈', '헐다', '헐랭', '헐퀴', '헐킈', '헐헐', '험하다', '헠헠', '헤매다', '헤비', '헤어', '헤어지다', '헤에', '헤엑', '헤이', '헤이즐넛', '헤헤', '헤헷', '헤헿', '헬로', '헬스', '헬스장', '헷갈리다', '혁신', '현관', '현금', '현기증', '현대', '현명하다', '현미', '현실', '현장', '현재', '현지', '혈관', '형님', '형도', '형부', '형수', '형제', '혜자', '혜화', '호가든', '호공', '호구', '호다닥', '호두', '호두과자', '호떡', '호랑이', '호로', '호로로', '호로록', '호박', '호박고구마', '호박죽', '호불호', '호빵', '호선', '호수', '호스텔', '호식', '호에', '호에에', '호오', '호우', '호이안', '호일', '호잇', '호점', '호주', '호치민', '호캉스', '호텔', '호프', '호핑', '호호', '혹쉬', '혹시', '혹은', '혼나다', '혼내다', '혼밥', '혼술', '혼자', '홀랭', '홀렝', '홀로', '홀리', '홀짝', '홀홀', '홈런', '홈쇼핑', '홈파티', '홈페이지', '홈플', '홈플러스', '홍게', '홍대', '홍대역', '홍루이젠', '홍보', '홍삼', '홍시', '홍어', '홍익', '홍차', '홍천', '홍콩', '홍합', '홍홍', '화가', '화나다', '화려하다', '화로', '화면', '화목', '화보', '화분', '화성', '화수', '화요', '화요일', '화욜', '화욜날', '화이', '화이트', '화이팅', '화장', '화장실', '화장품', '화정', '화제', '화하다', '확답', '확률', '확신', '확실', '확실하다', '확인', '확정', '환갑', '환경', '환기', '환불', '환상', '환승', '환영', '환율', '환자', '환장하다', '환전', '활동', '활용', '홧팅', '황금', '황소', '황태', '회관', '회덮밥', '회도', '회랑', '회로', '회복', '회복하다', '회비', '회사', '회색', '회식', '회원', '회의', '회장', '회전초밥', '횟집', '횡단보도', '횡성', '효과', '효녀', '효율', '후기', '후다닥', '후드', '후딱', '후라이드', '후라이팬', '후루룩', '후리', '후문', '후반', '후배', '후보', '후식', '후우', '후움', '후추', '후쿠오카', '후회', '후회되다', '후후', '후후후', '후훗', '훈련', '훈제', '훌륭하다', '훌쩍', '훔치다', '훠궈', '훨씬', '휘핑', '휴가', '휴강', '휴게소', '휴게실', '휴대폰', '휴무', '휴식', '휴양', '휴양림', '휴양지', '휴일', '휴지', '흐규', '흐르다', '흐름', '흐리다', '흐미', '흐어', '흐엉', '흐으', '흐윽', '흐음', '흐흐', '흑임자', '흔들다', '흔들리다', '흔하다', '흘리다', '흙흙', '흡수', '흡입', '희다', '희망', '희한하다', '흰색', '흰자', '히잉', '히히히', '히힛', '힌트', '힐링', '힐튼', '힘나다', '힘내다', '힘드다', '힘들다', '힝구', '힝힝']\n"
          ]
        }
      ]
    },
    {
      "cell_type": "code",
      "metadata": {
        "colab": {
          "base_uri": "https://localhost:8080/"
        },
        "id": "L0y9iQd_LSgU",
        "outputId": "15c97505-3665-46bb-f3cb-58472b3b5aff"
      },
      "source": [
        "# 전처리없는 모델.\n",
        "classifier = MultinomialNB()\n",
        "classifier.fit(X_train_countvector, y_train)\n",
        "\n",
        "y_predict = classifier.predict(vectorizer.transform(X_val))\n",
        "cm = confusion_matrix(y_val, y_predict)\n",
        "df_cm = pd.DataFrame(cm, index = ['실제값(0)', '실제값(1)'], columns = ['예측값(0)', '예측값(1)'])\n",
        "print(classification_report(y_val, y_predict))\n"
      ],
      "execution_count": 43,
      "outputs": [
        {
          "output_type": "stream",
          "name": "stdout",
          "text": [
            "              precision    recall  f1-score   support\n",
            "\n",
            "           0       0.56      0.61      0.58    133504\n",
            "           1       0.57      0.52      0.55    133965\n",
            "\n",
            "    accuracy                           0.57    267469\n",
            "   macro avg       0.57      0.57      0.57    267469\n",
            "weighted avg       0.57      0.57      0.57    267469\n",
            "\n"
          ]
        }
      ]
    },
    {
      "cell_type": "code",
      "metadata": {
        "colab": {
          "base_uri": "https://localhost:8080/"
        },
        "id": "Ev5Bd_w9KTZn",
        "outputId": "36bb0b7a-d6ba-4267-d1a1-f503180b39ae"
      },
      "source": [
        "classifier = MultinomialNB()\n",
        "classifier.fit(X_train_countvector, y_train)\n",
        "\n",
        "y_predict = classifier.predict(vectorizer.transform(X_val))\n",
        "cm = confusion_matrix(y_val, y_predict)\n",
        "df_cm = pd.DataFrame(cm, index = ['실제값(0)', '실제값(1)'], columns = ['예측값(0)', '예측값(1)'])\n",
        "print(classification_report(y_val, y_predict))\n"
      ],
      "execution_count": 21,
      "outputs": [
        {
          "output_type": "stream",
          "name": "stdout",
          "text": [
            "              precision    recall  f1-score   support\n",
            "\n",
            "           0       0.55      0.71      0.62    133504\n",
            "           1       0.59      0.42      0.49    133965\n",
            "\n",
            "    accuracy                           0.56    267469\n",
            "   macro avg       0.57      0.56      0.55    267469\n",
            "weighted avg       0.57      0.56      0.55    267469\n",
            "\n"
          ]
        }
      ]
    },
    {
      "cell_type": "code",
      "metadata": {
        "id": "c_5nvf3epv9R"
      },
      "source": [
        ""
      ],
      "execution_count": null,
      "outputs": []
    },
    {
      "cell_type": "code",
      "metadata": {
        "colab": {
          "base_uri": "https://localhost:8080/"
        },
        "id": "d7EwHsdhPGwu",
        "outputId": "ff76334c-fa6d-4f61-dc84-952aafdad156"
      },
      "source": [
        "print(df_cm)"
      ],
      "execution_count": null,
      "outputs": [
        {
          "output_type": "stream",
          "name": "stdout",
          "text": [
            "        예측값(0)  예측값(1)\n",
            "실제값(0)  115617   96192\n",
            "실제값(1)   78604  133212\n"
          ]
        }
      ]
    },
    {
      "cell_type": "code",
      "metadata": {
        "colab": {
          "base_uri": "https://localhost:8080/"
        },
        "id": "CVzm_mwEqVYJ",
        "outputId": "5d562cd1-1183-4636-ad86-b5fd25b4ef06"
      },
      "source": [
        "from sklearn.svm import LinearSVC\n",
        "\n",
        "model2 = LinearSVC()\n",
        "model2.fit(X_train_countvector, y_train)\n",
        "\n",
        "y_predict2 = model2.predict(vectorizer.transform(X_val))\n",
        "cm = confusion_matrix(y_val, y_predict2)\n",
        "df_cm = pd.DataFrame(cm, index = ['실제값(0)', '실제값(1)'], columns = ['예측값(0)', '예측값(1)'])\n",
        "print(classification_report(y_val, y_predict2))\n",
        "\n"
      ],
      "execution_count": 20,
      "outputs": [
        {
          "output_type": "stream",
          "name": "stderr",
          "text": [
            "/usr/local/lib/python3.7/dist-packages/sklearn/svm/_base.py:947: ConvergenceWarning: Liblinear failed to converge, increase the number of iterations.\n",
            "  \"the number of iterations.\", ConvergenceWarning)\n"
          ]
        },
        {
          "output_type": "stream",
          "name": "stdout",
          "text": [
            "              precision    recall  f1-score   support\n",
            "\n",
            "           0       0.59      0.44      0.50    133504\n",
            "           1       0.55      0.69      0.61    133965\n",
            "\n",
            "    accuracy                           0.57    267469\n",
            "   macro avg       0.57      0.57      0.56    267469\n",
            "weighted avg       0.57      0.57      0.56    267469\n",
            "\n"
          ]
        }
      ]
    },
    {
      "cell_type": "markdown",
      "metadata": {
        "id": "dl9JjmVdt0UY"
      },
      "source": [
        ""
      ]
    }
  ]
}