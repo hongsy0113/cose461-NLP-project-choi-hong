{
  "nbformat": 4,
  "nbformat_minor": 0,
  "metadata": {
    "colab": {
      "name": "sns_text_classification.ipynb의 사본",
      "provenance": [],
      "collapsed_sections": [],
      "include_colab_link": true
    },
    "kernelspec": {
      "name": "python3",
      "display_name": "Python 3"
    },
    "language_info": {
      "name": "python"
    }
  },
  "cells": [
    {
      "cell_type": "markdown",
      "metadata": {
        "id": "view-in-github",
        "colab_type": "text"
      },
      "source": [
        "<a href=\"https://colab.research.google.com/github/hongsy0113/cose461-NLP-project-choi-hong/blob/main/sns_text_classification_ipynb%EC%9D%98_%EC%82%AC%EB%B3%B8.ipynb\" target=\"_parent\"><img src=\"https://colab.research.google.com/assets/colab-badge.svg\" alt=\"Open In Colab\"/></a>"
      ]
    },
    {
      "cell_type": "code",
      "metadata": {
        "id": "UXuP4pAi4Qp-"
      },
      "source": [
        "import pandas as pd\n",
        "import json\n",
        "from pandas import json_normalize\n"
      ],
      "execution_count": 1,
      "outputs": []
    },
    {
      "cell_type": "code",
      "metadata": {
        "colab": {
          "base_uri": "https://localhost:8080/"
        },
        "id": "hFr8oBdHAv-t",
        "outputId": "9abbe770-995b-43eb-c250-c85c79543abf"
      },
      "source": [
        "# json data 파일들을 google drive에 저장\n",
        "# google drive 에 있는 파일들을 접근하기 위해 mount\n",
        "from google.colab import drive\n",
        "drive.mount('/content/gdrive')"
      ],
      "execution_count": 2,
      "outputs": [
        {
          "output_type": "stream",
          "name": "stdout",
          "text": [
            "Mounted at /content/gdrive\n"
          ]
        }
      ]
    },
    {
      "cell_type": "code",
      "metadata": {
        "id": "Krw05BWk_RW-",
        "colab": {
          "base_uri": "https://localhost:8080/",
          "height": 244
        },
        "outputId": "9739f757-4750-4d76-dcfb-520cb197be5b"
      },
      "source": [
        "# load json file as below\n",
        "# 참고로 행사3.json 파일은 디버그 용으로 dialogue 두개만 있는 파일임.\n",
        "with open('/content/gdrive/MyDrive/cose461/행사3.json', 'r') as f:\n",
        "\n",
        "    jdata = json.load(f)"
      ],
      "execution_count": 3,
      "outputs": [
        {
          "output_type": "error",
          "ename": "FileNotFoundError",
          "evalue": "ignored",
          "traceback": [
            "\u001b[0;31m---------------------------------------------------------------------------\u001b[0m",
            "\u001b[0;31mFileNotFoundError\u001b[0m                         Traceback (most recent call last)",
            "\u001b[0;32m<ipython-input-3-f47c35620770>\u001b[0m in \u001b[0;36m<module>\u001b[0;34m()\u001b[0m\n\u001b[1;32m      1\u001b[0m \u001b[0;31m# load json file as below\u001b[0m\u001b[0;34m\u001b[0m\u001b[0;34m\u001b[0m\u001b[0;34m\u001b[0m\u001b[0m\n\u001b[1;32m      2\u001b[0m \u001b[0;31m# 참고로 행사3.json 파일은 디버그 용으로 dialogue 두개만 있는 파일임.\u001b[0m\u001b[0;34m\u001b[0m\u001b[0;34m\u001b[0m\u001b[0;34m\u001b[0m\u001b[0m\n\u001b[0;32m----> 3\u001b[0;31m \u001b[0;32mwith\u001b[0m \u001b[0mopen\u001b[0m\u001b[0;34m(\u001b[0m\u001b[0;34m'/content/gdrive/MyDrive/cose461/행사3.json'\u001b[0m\u001b[0;34m,\u001b[0m \u001b[0;34m'r'\u001b[0m\u001b[0;34m)\u001b[0m \u001b[0;32mas\u001b[0m \u001b[0mf\u001b[0m\u001b[0;34m:\u001b[0m\u001b[0;34m\u001b[0m\u001b[0;34m\u001b[0m\u001b[0m\n\u001b[0m\u001b[1;32m      4\u001b[0m \u001b[0;34m\u001b[0m\u001b[0m\n\u001b[1;32m      5\u001b[0m     \u001b[0mjdata\u001b[0m \u001b[0;34m=\u001b[0m \u001b[0mjson\u001b[0m\u001b[0;34m.\u001b[0m\u001b[0mload\u001b[0m\u001b[0;34m(\u001b[0m\u001b[0mf\u001b[0m\u001b[0;34m)\u001b[0m\u001b[0;34m\u001b[0m\u001b[0;34m\u001b[0m\u001b[0m\n",
            "\u001b[0;31mFileNotFoundError\u001b[0m: [Errno 2] No such file or directory: '/content/gdrive/MyDrive/cose461/행사3.json'"
          ]
        }
      ]
    },
    {
      "cell_type": "code",
      "metadata": {
        "id": "NqHDRe3fgVLF"
      },
      "source": [
        "# Convert json file to dataFrame\n",
        "# input file parameter should be str, path and name of json file\n",
        "# output dataFrame contains utterances. \n",
        "# each utterance has dialogueInfo and participantsInfo (i.e gender)\n",
        "\n",
        "def json2df (file):\n",
        "  with open(file, 'r') as f:\n",
        "    jdata = json.load(f)\n",
        "  \n",
        "  meta_list = [['header', 'dialogueInfo', 'numberOfParticipants'],\n",
        "             ['header', 'dialogueInfo', 'numberOfUtterances'],\n",
        "             ['header', 'dialogueInfo', 'numberOfTurns'],\n",
        "             ['header', 'dialogueInfo', 'type'],\n",
        "             ['header', 'dialogueInfo', 'topic'],\n",
        "             ['header', 'dialogueInfo', 'dialogueID'],\n",
        "            ]\n",
        "  # dataframe of utterances \n",
        "  df1 = pd.json_normalize(jdata['data'][:], record_path=['body'], meta= meta_list, errors='ignore')\n",
        "  # dataframe of participants info\n",
        "  df2 = pd.json_normalize(jdata['data'], record_path=['header', 'participantsInfo'],  meta= [['header', 'dialogueInfo', 'dialogueID']], errors='ignore')\n",
        "  # join df1 and df2 where (df1.dialogueID == df2.dialogueID and df1.participantID == df2.participantID)\n",
        "  df = pd.merge(left = df1 , right = df2, how = \"left\", on = [\"header.dialogueInfo.dialogueID\", 'participantID' ],sort=False)\n",
        "\n",
        "  # rename column names\n",
        "  # 열이름 너무 길어서 바꿈. P는 참가자, U는 메시지, D는 대화, T는 turn 으로 통일시킴. 맘에 안 들면 바꿔도 ok\n",
        "  df.rename(columns = {'header.dialogueInfo.numberOfParticipants' : 'P_num', \n",
        "                       'header.dialogueInfo.numberOfUtterances': 'U_num', \n",
        "                       'header.dialogueInfo.numberOfTurns':'T_num',\n",
        "                       'header.dialogueInfo.type': 'D_type',\n",
        "                       'header.dialogueInfo.topic': 'D_topic',\n",
        "                       'header.dialogueInfo.dialogueID':'D_id',\n",
        "                       'utteranceID':'U_id',\n",
        "                       'participantID':'P_id',\n",
        "                       'turnID':'T_id',\n",
        "                       'date':'U_date',\n",
        "                       'gender':'P_gender',\n",
        "                       'residentialProvince':'P_residential',\n",
        "                       'age':'P_age'}, inplace = True)\n",
        "  # 대화 id, utterance id 를 index로 함. 마찬가지로 수정해도 됨.\n",
        "  df.set_index(['D_id','U_id'], inplace=True)\n",
        "  return df\n"
      ],
      "execution_count": 4,
      "outputs": []
    },
    {
      "cell_type": "code",
      "metadata": {
        "id": "dVAGe-cvroCw"
      },
      "source": [
        "# 행사.json, 식음료.json 등 여러 데이터셋을 하나로 만들기 위한 함수\n",
        "def concat_json2df (file_list):\n",
        "  result = None\n",
        "\n",
        "  for i, file in enumerate(file_list):\n",
        "    df = json2df(file)\n",
        "    if (i==0):\n",
        "      result = df.copy()\n",
        "    else:\n",
        "      result = pd.concat([result,df])\n",
        "  return result"
      ],
      "execution_count": 5,
      "outputs": []
    },
    {
      "cell_type": "code",
      "metadata": {
        "colab": {
          "base_uri": "https://localhost:8080/",
          "height": 173
        },
        "id": "EggR18Hvsdcb",
        "outputId": "daf7d2e0-205c-4e58-d1b3-24f7ff514e00"
      },
      "source": [
        "f_list = ['/content/gdrive/MyDrive/cose461/행사.json',\n",
        "          '/content/gdrive/MyDrive/cose461/식음료.json']\n",
        "\n",
        "test3 = concat_json2df(f_list)\n",
        "\n",
        "test3.describe()"
      ],
      "execution_count": 6,
      "outputs": [
        {
          "output_type": "execute_result",
          "data": {
            "text/html": [
              "<div>\n",
              "<style scoped>\n",
              "    .dataframe tbody tr th:only-of-type {\n",
              "        vertical-align: middle;\n",
              "    }\n",
              "\n",
              "    .dataframe tbody tr th {\n",
              "        vertical-align: top;\n",
              "    }\n",
              "\n",
              "    .dataframe thead th {\n",
              "        text-align: right;\n",
              "    }\n",
              "</style>\n",
              "<table border=\"1\" class=\"dataframe\">\n",
              "  <thead>\n",
              "    <tr style=\"text-align: right;\">\n",
              "      <th></th>\n",
              "      <th>utterance</th>\n",
              "      <th>P_id</th>\n",
              "      <th>U_date</th>\n",
              "      <th>T_id</th>\n",
              "      <th>time</th>\n",
              "      <th>P_num</th>\n",
              "      <th>U_num</th>\n",
              "      <th>T_num</th>\n",
              "      <th>D_type</th>\n",
              "      <th>D_topic</th>\n",
              "      <th>P_age</th>\n",
              "      <th>P_residential</th>\n",
              "      <th>P_gender</th>\n",
              "    </tr>\n",
              "  </thead>\n",
              "  <tbody>\n",
              "    <tr>\n",
              "      <th>count</th>\n",
              "      <td>3381752</td>\n",
              "      <td>3381752</td>\n",
              "      <td>3381752</td>\n",
              "      <td>3381752</td>\n",
              "      <td>3381752</td>\n",
              "      <td>3381752</td>\n",
              "      <td>3381752</td>\n",
              "      <td>3381752</td>\n",
              "      <td>3381752</td>\n",
              "      <td>3381752</td>\n",
              "      <td>3381752</td>\n",
              "      <td>3381752</td>\n",
              "      <td>3381752</td>\n",
              "    </tr>\n",
              "    <tr>\n",
              "      <th>unique</th>\n",
              "      <td>2543121</td>\n",
              "      <td>9</td>\n",
              "      <td>2873</td>\n",
              "      <td>20</td>\n",
              "      <td>1440</td>\n",
              "      <td>8</td>\n",
              "      <td>23</td>\n",
              "      <td>17</td>\n",
              "      <td>2</td>\n",
              "      <td>2</td>\n",
              "      <td>9</td>\n",
              "      <td>18</td>\n",
              "      <td>2</td>\n",
              "    </tr>\n",
              "    <tr>\n",
              "      <th>top</th>\n",
              "      <td>#@시스템#사진#</td>\n",
              "      <td>P01</td>\n",
              "      <td>2020-12-21</td>\n",
              "      <td>T3</td>\n",
              "      <td>17:55:00</td>\n",
              "      <td>2</td>\n",
              "      <td>20</td>\n",
              "      <td>8</td>\n",
              "      <td>일상 대화</td>\n",
              "      <td>식음료</td>\n",
              "      <td>20대</td>\n",
              "      <td>서울특별시</td>\n",
              "      <td>여성</td>\n",
              "    </tr>\n",
              "    <tr>\n",
              "      <th>freq</th>\n",
              "      <td>38365</td>\n",
              "      <td>1759889</td>\n",
              "      <td>8714</td>\n",
              "      <td>455462</td>\n",
              "      <td>5287</td>\n",
              "      <td>2981713</td>\n",
              "      <td>499120</td>\n",
              "      <td>599571</td>\n",
              "      <td>3380905</td>\n",
              "      <td>1821031</td>\n",
              "      <td>2470129</td>\n",
              "      <td>969946</td>\n",
              "      <td>2713080</td>\n",
              "    </tr>\n",
              "  </tbody>\n",
              "</table>\n",
              "</div>"
            ],
            "text/plain": [
              "        utterance     P_id      U_date  ...    P_age P_residential  P_gender\n",
              "count     3381752  3381752     3381752  ...  3381752       3381752   3381752\n",
              "unique    2543121        9        2873  ...        9            18         2\n",
              "top     #@시스템#사진#      P01  2020-12-21  ...      20대         서울특별시        여성\n",
              "freq        38365  1759889        8714  ...  2470129        969946   2713080\n",
              "\n",
              "[4 rows x 13 columns]"
            ]
          },
          "metadata": {},
          "execution_count": 6
        }
      ]
    },
    {
      "cell_type": "code",
      "metadata": {
        "colab": {
          "base_uri": "https://localhost:8080/",
          "height": 334
        },
        "id": "Ii5RBE8X8fYZ",
        "outputId": "1250063b-4cc6-42ad-b201-ed42ca5e8c54"
      },
      "source": [
        "# example of json2df function\n",
        "x = json2df('/content/gdrive/MyDrive/cose461/행사3.json')\n",
        "x"
      ],
      "execution_count": 7,
      "outputs": [
        {
          "output_type": "error",
          "ename": "FileNotFoundError",
          "evalue": "ignored",
          "traceback": [
            "\u001b[0;31m---------------------------------------------------------------------------\u001b[0m",
            "\u001b[0;31mFileNotFoundError\u001b[0m                         Traceback (most recent call last)",
            "\u001b[0;32m<ipython-input-7-4aa83877a1d5>\u001b[0m in \u001b[0;36m<module>\u001b[0;34m()\u001b[0m\n\u001b[1;32m      1\u001b[0m \u001b[0;31m# example of json2df function\u001b[0m\u001b[0;34m\u001b[0m\u001b[0;34m\u001b[0m\u001b[0;34m\u001b[0m\u001b[0m\n\u001b[0;32m----> 2\u001b[0;31m \u001b[0mx\u001b[0m \u001b[0;34m=\u001b[0m \u001b[0mjson2df\u001b[0m\u001b[0;34m(\u001b[0m\u001b[0;34m'/content/gdrive/MyDrive/cose461/행사3.json'\u001b[0m\u001b[0;34m)\u001b[0m\u001b[0;34m\u001b[0m\u001b[0;34m\u001b[0m\u001b[0m\n\u001b[0m\u001b[1;32m      3\u001b[0m \u001b[0mx\u001b[0m\u001b[0;34m\u001b[0m\u001b[0;34m\u001b[0m\u001b[0m\n",
            "\u001b[0;32m<ipython-input-4-9d056b4a5d87>\u001b[0m in \u001b[0;36mjson2df\u001b[0;34m(file)\u001b[0m\n\u001b[1;32m      5\u001b[0m \u001b[0;34m\u001b[0m\u001b[0m\n\u001b[1;32m      6\u001b[0m \u001b[0;32mdef\u001b[0m \u001b[0mjson2df\u001b[0m \u001b[0;34m(\u001b[0m\u001b[0mfile\u001b[0m\u001b[0;34m)\u001b[0m\u001b[0;34m:\u001b[0m\u001b[0;34m\u001b[0m\u001b[0;34m\u001b[0m\u001b[0m\n\u001b[0;32m----> 7\u001b[0;31m   \u001b[0;32mwith\u001b[0m \u001b[0mopen\u001b[0m\u001b[0;34m(\u001b[0m\u001b[0mfile\u001b[0m\u001b[0;34m,\u001b[0m \u001b[0;34m'r'\u001b[0m\u001b[0;34m)\u001b[0m \u001b[0;32mas\u001b[0m \u001b[0mf\u001b[0m\u001b[0;34m:\u001b[0m\u001b[0;34m\u001b[0m\u001b[0;34m\u001b[0m\u001b[0m\n\u001b[0m\u001b[1;32m      8\u001b[0m     \u001b[0mjdata\u001b[0m \u001b[0;34m=\u001b[0m \u001b[0mjson\u001b[0m\u001b[0;34m.\u001b[0m\u001b[0mload\u001b[0m\u001b[0;34m(\u001b[0m\u001b[0mf\u001b[0m\u001b[0;34m)\u001b[0m\u001b[0;34m\u001b[0m\u001b[0;34m\u001b[0m\u001b[0m\n\u001b[1;32m      9\u001b[0m \u001b[0;34m\u001b[0m\u001b[0m\n",
            "\u001b[0;31mFileNotFoundError\u001b[0m: [Errno 2] No such file or directory: '/content/gdrive/MyDrive/cose461/행사3.json'"
          ]
        }
      ]
    },
    {
      "cell_type": "code",
      "metadata": {
        "id": "Zc2F2i_epqwN"
      },
      "source": [
        "# example of json2df function\n",
        "test2 = json2df('/content/gdrive/MyDrive/cose461/행사.json')\n"
      ],
      "execution_count": 9,
      "outputs": []
    },
    {
      "cell_type": "code",
      "metadata": {
        "colab": {
          "base_uri": "https://localhost:8080/",
          "height": 172
        },
        "id": "2NXgPRxVqEi9",
        "outputId": "2c4c6f1f-cacd-47f1-bded-f90a48df94f5"
      },
      "source": [
        "test2.describe()"
      ],
      "execution_count": 8,
      "outputs": [
        {
          "output_type": "error",
          "ename": "NameError",
          "evalue": "ignored",
          "traceback": [
            "\u001b[0;31m---------------------------------------------------------------------------\u001b[0m",
            "\u001b[0;31mNameError\u001b[0m                                 Traceback (most recent call last)",
            "\u001b[0;32m<ipython-input-8-2badde3366ee>\u001b[0m in \u001b[0;36m<module>\u001b[0;34m()\u001b[0m\n\u001b[0;32m----> 1\u001b[0;31m \u001b[0mtest2\u001b[0m\u001b[0;34m.\u001b[0m\u001b[0mdescribe\u001b[0m\u001b[0;34m(\u001b[0m\u001b[0;34m)\u001b[0m\u001b[0;34m\u001b[0m\u001b[0;34m\u001b[0m\u001b[0m\n\u001b[0m",
            "\u001b[0;31mNameError\u001b[0m: name 'test2' is not defined"
          ]
        }
      ]
    },
    {
      "cell_type": "code",
      "metadata": {
        "colab": {
          "base_uri": "https://localhost:8080/",
          "height": 244
        },
        "id": "YnzCE--vDRzo",
        "outputId": "2fc99b04-68e4-4d7c-c6a8-71e68703e95d"
      },
      "source": [
        "meta_list = [['header', 'dialogueInfo', 'numberOfParticipants'],\n",
        "             ['header', 'dialogueInfo', 'numberOfUtterances'],\n",
        "             ['header', 'dialogueInfo', 'numberOfTurns'],\n",
        "             ['header', 'dialogueInfo', 'type'],\n",
        "             ['header', 'dialogueInfo', 'topic'],\n",
        "             ['header', 'dialogueInfo', 'dialogueID'],\n",
        "             \n",
        "            ]\n",
        "             #['header', 'participantsInfo', 'residentialProvince'],\n",
        "             #['header', 'participantsInfo', 'gender'],\n",
        "             #['header', 'participantsInfo', 'participantID']]\n",
        "df1 = pd.json_normalize(jdata['data'][:], record_path=['body'], meta= meta_list, errors='ignore')\n",
        "df2 = pd.json_normalize(jdata['data'], record_path=['header', 'participantsInfo'],  meta= [['header', 'dialogueInfo', 'dialogueID']], errors='ignore')\n",
        "df2\n",
        "\n",
        "pd.merge(left = df1 , right = df2, how = \"left\", on = [\"header.dialogueInfo.dialogueID\", 'participantID' ],sort=False)\n"
      ],
      "execution_count": 10,
      "outputs": [
        {
          "output_type": "error",
          "ename": "NameError",
          "evalue": "ignored",
          "traceback": [
            "\u001b[0;31m---------------------------------------------------------------------------\u001b[0m",
            "\u001b[0;31mNameError\u001b[0m                                 Traceback (most recent call last)",
            "\u001b[0;32m<ipython-input-10-7c8e14f91dd6>\u001b[0m in \u001b[0;36m<module>\u001b[0;34m()\u001b[0m\n\u001b[1;32m     10\u001b[0m              \u001b[0;31m#['header', 'participantsInfo', 'gender'],\u001b[0m\u001b[0;34m\u001b[0m\u001b[0;34m\u001b[0m\u001b[0;34m\u001b[0m\u001b[0m\n\u001b[1;32m     11\u001b[0m              \u001b[0;31m#['header', 'participantsInfo', 'participantID']]\u001b[0m\u001b[0;34m\u001b[0m\u001b[0;34m\u001b[0m\u001b[0;34m\u001b[0m\u001b[0m\n\u001b[0;32m---> 12\u001b[0;31m \u001b[0mdf1\u001b[0m \u001b[0;34m=\u001b[0m \u001b[0mpd\u001b[0m\u001b[0;34m.\u001b[0m\u001b[0mjson_normalize\u001b[0m\u001b[0;34m(\u001b[0m\u001b[0mjdata\u001b[0m\u001b[0;34m[\u001b[0m\u001b[0;34m'data'\u001b[0m\u001b[0;34m]\u001b[0m\u001b[0;34m[\u001b[0m\u001b[0;34m:\u001b[0m\u001b[0;34m]\u001b[0m\u001b[0;34m,\u001b[0m \u001b[0mrecord_path\u001b[0m\u001b[0;34m=\u001b[0m\u001b[0;34m[\u001b[0m\u001b[0;34m'body'\u001b[0m\u001b[0;34m]\u001b[0m\u001b[0;34m,\u001b[0m \u001b[0mmeta\u001b[0m\u001b[0;34m=\u001b[0m \u001b[0mmeta_list\u001b[0m\u001b[0;34m,\u001b[0m \u001b[0merrors\u001b[0m\u001b[0;34m=\u001b[0m\u001b[0;34m'ignore'\u001b[0m\u001b[0;34m)\u001b[0m\u001b[0;34m\u001b[0m\u001b[0;34m\u001b[0m\u001b[0m\n\u001b[0m\u001b[1;32m     13\u001b[0m \u001b[0mdf2\u001b[0m \u001b[0;34m=\u001b[0m \u001b[0mpd\u001b[0m\u001b[0;34m.\u001b[0m\u001b[0mjson_normalize\u001b[0m\u001b[0;34m(\u001b[0m\u001b[0mjdata\u001b[0m\u001b[0;34m[\u001b[0m\u001b[0;34m'data'\u001b[0m\u001b[0;34m]\u001b[0m\u001b[0;34m,\u001b[0m \u001b[0mrecord_path\u001b[0m\u001b[0;34m=\u001b[0m\u001b[0;34m[\u001b[0m\u001b[0;34m'header'\u001b[0m\u001b[0;34m,\u001b[0m \u001b[0;34m'participantsInfo'\u001b[0m\u001b[0;34m]\u001b[0m\u001b[0;34m,\u001b[0m  \u001b[0mmeta\u001b[0m\u001b[0;34m=\u001b[0m \u001b[0;34m[\u001b[0m\u001b[0;34m[\u001b[0m\u001b[0;34m'header'\u001b[0m\u001b[0;34m,\u001b[0m \u001b[0;34m'dialogueInfo'\u001b[0m\u001b[0;34m,\u001b[0m \u001b[0;34m'dialogueID'\u001b[0m\u001b[0;34m]\u001b[0m\u001b[0;34m]\u001b[0m\u001b[0;34m,\u001b[0m \u001b[0merrors\u001b[0m\u001b[0;34m=\u001b[0m\u001b[0;34m'ignore'\u001b[0m\u001b[0;34m)\u001b[0m\u001b[0;34m\u001b[0m\u001b[0;34m\u001b[0m\u001b[0m\n\u001b[1;32m     14\u001b[0m \u001b[0mdf2\u001b[0m\u001b[0;34m\u001b[0m\u001b[0;34m\u001b[0m\u001b[0m\n",
            "\u001b[0;31mNameError\u001b[0m: name 'jdata' is not defined"
          ]
        }
      ]
    },
    {
      "cell_type": "code",
      "metadata": {
        "id": "IMFAOZn5pCy6"
      },
      "source": [
        "#test test test\n",
        "# 이미 구현되어 있는 형태소 분석 툴을 써야 할 텐데 \n",
        "# '괜찮을거가태' 처럼 표준형태와 다른 형태의 단어들이 우리 모델 학습에 중요할 거 같은데\n",
        "# 이런 거 어케할지. 그냥 전처리 없이 raw단어로 할지"
      ],
      "execution_count": null,
      "outputs": []
    },
    {
      "cell_type": "code",
      "metadata": {
        "colab": {
          "base_uri": "https://localhost:8080/"
        },
        "id": "0eO5NFLhITuF",
        "outputId": "7e1ad197-f0cd-44ca-8bec-06fc0e14ba91"
      },
      "source": [
        "# Naive-Bayes Method.\n",
        "test = test3[['utterance', 'P_gender']]\n",
        "test['P_gender'].value_counts()"
      ],
      "execution_count": 28,
      "outputs": [
        {
          "output_type": "execute_result",
          "data": {
            "text/plain": [
              "여성    2713080\n",
              "남성     668672\n",
              "Name: P_gender, dtype: int64"
            ]
          },
          "metadata": {},
          "execution_count": 28
        }
      ]
    },
    {
      "cell_type": "code",
      "metadata": {
        "colab": {
          "base_uri": "https://localhost:8080/",
          "height": 558
        },
        "id": "H1RLmBieJe0V",
        "outputId": "1f51a2d8-af30-4d10-bd36-bdbaf1df06f2"
      },
      "source": [
        "# Gender to discrete variable\n",
        "# 0 : '여성', 1 : '남성'\n",
        "test['P_gender'] = [0 if gender=='여성' else 1 for gender in test['P_gender']]\n",
        "test"
      ],
      "execution_count": 39,
      "outputs": [
        {
          "output_type": "stream",
          "name": "stderr",
          "text": [
            "/usr/local/lib/python3.7/dist-packages/ipykernel_launcher.py:3: SettingWithCopyWarning: \n",
            "A value is trying to be set on a copy of a slice from a DataFrame.\n",
            "Try using .loc[row_indexer,col_indexer] = value instead\n",
            "\n",
            "See the caveats in the documentation: https://pandas.pydata.org/pandas-docs/stable/user_guide/indexing.html#returning-a-view-versus-a-copy\n",
            "  This is separate from the ipykernel package so we can avoid doing imports until\n"
          ]
        },
        {
          "output_type": "execute_result",
          "data": {
            "text/html": [
              "<div>\n",
              "<style scoped>\n",
              "    .dataframe tbody tr th:only-of-type {\n",
              "        vertical-align: middle;\n",
              "    }\n",
              "\n",
              "    .dataframe tbody tr th {\n",
              "        vertical-align: top;\n",
              "    }\n",
              "\n",
              "    .dataframe thead th {\n",
              "        text-align: right;\n",
              "    }\n",
              "</style>\n",
              "<table border=\"1\" class=\"dataframe\">\n",
              "  <thead>\n",
              "    <tr style=\"text-align: right;\">\n",
              "      <th></th>\n",
              "      <th></th>\n",
              "      <th>utterance</th>\n",
              "      <th>P_gender</th>\n",
              "    </tr>\n",
              "    <tr>\n",
              "      <th>D_id</th>\n",
              "      <th>U_id</th>\n",
              "      <th></th>\n",
              "      <th></th>\n",
              "    </tr>\n",
              "  </thead>\n",
              "  <tbody>\n",
              "    <tr>\n",
              "      <th rowspan=\"5\" valign=\"top\">223740cf-606e-5149-820c-7dce69513da1</th>\n",
              "      <th>U1</th>\n",
              "      <td>8월 말도 ㄱㅊ해</td>\n",
              "      <td>0</td>\n",
              "    </tr>\n",
              "    <tr>\n",
              "      <th>U2</th>\n",
              "      <td>그때도 글ㅋㅔ 안추울걸</td>\n",
              "      <td>0</td>\n",
              "    </tr>\n",
              "    <tr>\n",
              "      <th>U3</th>\n",
              "      <td>29일로 할까?</td>\n",
              "      <td>0</td>\n",
              "    </tr>\n",
              "    <tr>\n",
              "      <th>U4</th>\n",
              "      <td>날짜라도 일단 확정하면 ㅋㅋㅋ 찾기 수월하니까~</td>\n",
              "      <td>0</td>\n",
              "    </tr>\n",
              "    <tr>\n",
              "      <th>U5</th>\n",
              "      <td>응응 그럼 29일로가자</td>\n",
              "      <td>0</td>\n",
              "    </tr>\n",
              "    <tr>\n",
              "      <th>...</th>\n",
              "      <th>...</th>\n",
              "      <td>...</td>\n",
              "      <td>...</td>\n",
              "    </tr>\n",
              "    <tr>\n",
              "      <th rowspan=\"5\" valign=\"top\">fd4c483f-28a3-5703-82d3-2e3b1a984078</th>\n",
              "      <th>U12</th>\n",
              "      <td>리조또랑</td>\n",
              "      <td>0</td>\n",
              "    </tr>\n",
              "    <tr>\n",
              "      <th>U13</th>\n",
              "      <td>웅</td>\n",
              "      <td>0</td>\n",
              "    </tr>\n",
              "    <tr>\n",
              "      <th>U14</th>\n",
              "      <td>수육에</td>\n",
              "      <td>0</td>\n",
              "    </tr>\n",
              "    <tr>\n",
              "      <th>U15</th>\n",
              "      <td>헤헤</td>\n",
              "      <td>0</td>\n",
              "    </tr>\n",
              "    <tr>\n",
              "      <th>U16</th>\n",
              "      <td>장난아냐</td>\n",
              "      <td>0</td>\n",
              "    </tr>\n",
              "  </tbody>\n",
              "</table>\n",
              "<p>3381752 rows × 2 columns</p>\n",
              "</div>"
            ],
            "text/plain": [
              "                                                            utterance  P_gender\n",
              "D_id                                 U_id                                      \n",
              "223740cf-606e-5149-820c-7dce69513da1 U1                     8월 말도 ㄱㅊ해         0\n",
              "                                     U2                  그때도 글ㅋㅔ 안추울걸         0\n",
              "                                     U3                      29일로 할까?         0\n",
              "                                     U4    날짜라도 일단 확정하면 ㅋㅋㅋ 찾기 수월하니까~         0\n",
              "                                     U5                  응응 그럼 29일로가자         0\n",
              "...                                                               ...       ...\n",
              "fd4c483f-28a3-5703-82d3-2e3b1a984078 U12                         리조또랑         0\n",
              "                                     U13                            웅         0\n",
              "                                     U14                          수육에         0\n",
              "                                     U15                           헤헤         0\n",
              "                                     U16                         장난아냐         0\n",
              "\n",
              "[3381752 rows x 2 columns]"
            ]
          },
          "metadata": {},
          "execution_count": 39
        }
      ]
    },
    {
      "cell_type": "code",
      "metadata": {
        "colab": {
          "base_uri": "https://localhost:8080/"
        },
        "id": "c-6f5L1FSG6e",
        "outputId": "2d9392a5-c129-4ed4-dd7e-472726ce2196"
      },
      "source": [
        "test_women = test[test['P_gender']==0]\n",
        "test_men = test[test['P_gender']==1]\n",
        "\n",
        "print(\"Number of women : {}, Number of men : {}\".format(test_women['P_gender'].value_counts()[0], test_men['P_gender'].value_counts()))"
      ],
      "execution_count": 67,
      "outputs": [
        {
          "output_type": "stream",
          "name": "stdout",
          "text": [
            "Number of women : 2713080, Number of men : 1    668672\n",
            "Name: P_gender, dtype: int64\n"
          ]
        }
      ]
    },
    {
      "cell_type": "code",
      "metadata": {
        "colab": {
          "base_uri": "https://localhost:8080/",
          "height": 450
        },
        "id": "g8ElT8jRTvxQ",
        "outputId": "de2f05dc-e269-4cca-b667-cc030ce42fea"
      },
      "source": [
        "test_women = test_women.sample(n=668672, random_state=7)\n",
        "test = pd.concat([test_women, test_men], sort=True)\n",
        "test"
      ],
      "execution_count": 84,
      "outputs": [
        {
          "output_type": "execute_result",
          "data": {
            "text/html": [
              "<div>\n",
              "<style scoped>\n",
              "    .dataframe tbody tr th:only-of-type {\n",
              "        vertical-align: middle;\n",
              "    }\n",
              "\n",
              "    .dataframe tbody tr th {\n",
              "        vertical-align: top;\n",
              "    }\n",
              "\n",
              "    .dataframe thead th {\n",
              "        text-align: right;\n",
              "    }\n",
              "</style>\n",
              "<table border=\"1\" class=\"dataframe\">\n",
              "  <thead>\n",
              "    <tr style=\"text-align: right;\">\n",
              "      <th></th>\n",
              "      <th></th>\n",
              "      <th>P_gender</th>\n",
              "      <th>utterance</th>\n",
              "    </tr>\n",
              "    <tr>\n",
              "      <th>D_id</th>\n",
              "      <th>U_id</th>\n",
              "      <th></th>\n",
              "      <th></th>\n",
              "    </tr>\n",
              "  </thead>\n",
              "  <tbody>\n",
              "    <tr>\n",
              "      <th>4b84c886-16af-570f-ae9c-467e2c7c16fd</th>\n",
              "      <th>U17</th>\n",
              "      <td>0</td>\n",
              "      <td>#@시스템#사진#</td>\n",
              "    </tr>\n",
              "    <tr>\n",
              "      <th>2c903f6f-1cd3-56d3-aa7b-c20f2d5bebe4</th>\n",
              "      <th>U13</th>\n",
              "      <td>0</td>\n",
              "      <td>샐러드?</td>\n",
              "    </tr>\n",
              "    <tr>\n",
              "      <th>d7a1f855-9b3a-5ade-b171-007d90ff1961</th>\n",
              "      <th>U10</th>\n",
              "      <td>0</td>\n",
              "      <td>둘중에 하나 골라</td>\n",
              "    </tr>\n",
              "    <tr>\n",
              "      <th>a92da65a-927b-51d1-a004-d23abf2ad3c0</th>\n",
              "      <th>U6</th>\n",
              "      <td>0</td>\n",
              "      <td>찾아보는데 메뉴 뭔데 진짜</td>\n",
              "    </tr>\n",
              "    <tr>\n",
              "      <th>774ff6d4-1622-5056-841d-7ed37be148b9</th>\n",
              "      <th>U5</th>\n",
              "      <td>0</td>\n",
              "      <td>푸딩으로 입가심할</td>\n",
              "    </tr>\n",
              "    <tr>\n",
              "      <th>...</th>\n",
              "      <th>...</th>\n",
              "      <td>...</td>\n",
              "      <td>...</td>\n",
              "    </tr>\n",
              "    <tr>\n",
              "      <th rowspan=\"5\" valign=\"top\">68161a7a-77e5-58b2-8861-ca4d27e73019</th>\n",
              "      <th>U7</th>\n",
              "      <td>1</td>\n",
              "      <td>예를들어??</td>\n",
              "    </tr>\n",
              "    <tr>\n",
              "      <th>U8</th>\n",
              "      <td>1</td>\n",
              "      <td>블랑 이런거??</td>\n",
              "    </tr>\n",
              "    <tr>\n",
              "      <th>U11</th>\n",
              "      <td>1</td>\n",
              "      <td>옹옹</td>\n",
              "    </tr>\n",
              "    <tr>\n",
              "      <th>U15</th>\n",
              "      <td>1</td>\n",
              "      <td>앟 ㅏ을게쏭ㅇ</td>\n",
              "    </tr>\n",
              "    <tr>\n",
              "      <th>U16</th>\n",
              "      <td>1</td>\n",
              "      <td>저런걸로 사놓을겡</td>\n",
              "    </tr>\n",
              "  </tbody>\n",
              "</table>\n",
              "<p>1337344 rows × 2 columns</p>\n",
              "</div>"
            ],
            "text/plain": [
              "                                           P_gender       utterance\n",
              "D_id                                 U_id                          \n",
              "4b84c886-16af-570f-ae9c-467e2c7c16fd U17          0       #@시스템#사진#\n",
              "2c903f6f-1cd3-56d3-aa7b-c20f2d5bebe4 U13          0            샐러드?\n",
              "d7a1f855-9b3a-5ade-b171-007d90ff1961 U10          0       둘중에 하나 골라\n",
              "a92da65a-927b-51d1-a004-d23abf2ad3c0 U6           0  찾아보는데 메뉴 뭔데 진짜\n",
              "774ff6d4-1622-5056-841d-7ed37be148b9 U5           0       푸딩으로 입가심할\n",
              "...                                             ...             ...\n",
              "68161a7a-77e5-58b2-8861-ca4d27e73019 U7           1          예를들어??\n",
              "                                     U8           1        블랑 이런거??\n",
              "                                     U11          1              옹옹\n",
              "                                     U15          1         앟 ㅏ을게쏭ㅇ\n",
              "                                     U16          1       저런걸로 사놓을겡\n",
              "\n",
              "[1337344 rows x 2 columns]"
            ]
          },
          "metadata": {},
          "execution_count": 84
        }
      ]
    },
    {
      "cell_type": "code",
      "metadata": {
        "colab": {
          "base_uri": "https://localhost:8080/"
        },
        "id": "1RsXO5MKKTWH",
        "outputId": "07f88cc1-881d-4761-863c-4e036fe721ca"
      },
      "source": [
        "X = test['utterance']\n",
        "y = test['P_gender']\n",
        "\n",
        "from sklearn.naive_bayes import MultinomialNB\n",
        "from sklearn.feature_extraction.text import CountVectorizer\n",
        "from sklearn.model_selection import train_test_split\n",
        "from sklearn.metrics import classification_report, confusion_matrix\n",
        "\n",
        "X_train, X_test, y_train, y_test = train_test_split(X, y, test_size=0.2, random_state=7)\n",
        "X_train, X_val, y_train, y_val = train_test_split(X_train, y_train, test_size=0.25, random_state=7)\n",
        "\n",
        "vectorizer = CountVectorizer(min_df=10).fit(X_train)\n",
        "X_train_countvector = vectorizer.transform(X_train)\n",
        "\n",
        "feature_names = vectorizer.get_feature_names()\n",
        "print(feature_names)"
      ],
      "execution_count": 91,
      "outputs": [
        {
          "output_type": "stream",
          "name": "stdout",
          "text": [
            "['00', '000원', '09', '0칼로리', '10', '100', '100개', '10개', '10만원', '10만원은', '10번', '10분', '10분까지', '10분뒤에', '10분만', '10분에', '10분정도', '10분쯤', '10시', '10시까지', '10시반', '10시반에', '10시부터', '10시에', '10시쯤', '10월', '10월에', '10일', '10일날', '10일에', '10일은', '10키로', '11', '11번', '11시', '11시까지', '11시나', '11시반', '11시반까지', '11시반에', '11시부터', '11시에', '11시쯤', '11시쯤에', '11월', '11월에', '11일', '11일에', '12', '12시', '12시간', '12시까지', '12시나', '12시로', '12시면', '12시반', '12시반에', '12시반쯤', '12시부터', '12시에', '12시쯤', '12월', '12월에', '12일', '12일에', '13', '13분', '13일', '13일날', '13일에', '14', '14일', '14일날', '14일에', '15', '15만원', '15분', '15분에', '15분정도', '15분쯤', '15일', '15일에', '16', '16일', '16일에', '17', '17일', '17일에', '18', '18일', '18일에', '19', '19일', '19일에', '1개', '1개씩', '1년', '1년에', '1도', '1등', '1리터', '1명', '1박', '1박2일', '1박2일로', '1박에', '1박하고', '1번', '1병', '1분', '1시', '1시간', '1시간정도', '1시까지', '1시로', '1시반', '1시부터', '1시에', '1시쯤', '1월', '1월에', '1위', '1인', '1인당', '1인분', '1인분에', '1일', '1일에', '1차', '1층', '1층에', '1키로에', '1호선', '1회', '20', '200', '2000원', '20만원', '20분', '20분까지', '20분에', '20분정도', '20분쯤', '20일', '20일에', '21', '21일', '21일에', '22', '22일', '22일은', '23', '23일', '23일에', '24', '24시', '24시간', '24일', '24일에', '25', '25000원', '25만원', '25분', '25일', '25일에', '26', '26일', '26일에', '27', '27일', '27일에', '28', '28일', '29', '29일', '29일에', '2개', '2개는', '2개만', '2마리', '2만원', '2박', '2박3일', '2박에', '2번', '2분', '2시', '2시간', '2시까지', '2시반', '2시부터', '2시에', '2시쯤', '2월', '2월에', '2인', '2인분', '2일', '2일에', '2잔', '2조각', '2주', '2차', '2차는', '2차로', '2천원', '2층', '2층에', '2층에서', '2층으로', '2호선', '30', '300', '30개', '30까지', '30만원', '30분', '30분까지', '30분만', '30분에', '30분이면', '30분정도', '30분쯤', '30에', '30일', '30일날', '30일에', '30일은', '31', '31일', '31일에', '35', '35분', '3가지', '3개', '3개는', '3개월', '3단계', '3만원', '3명', '3명이서', '3박', '3박4일', '3번', '3분', '3시', '3시간', '3시까지', '3시로', '3시반', '3시부터', '3시에', '3시쯤', '3시쯤에', '3월', '3월에', '3인', '3인분', '3일', '3일에', '3일은', '3일정도', '3주', '3차', '3천원', '3층', '40', '40분', '40분까지', '40분에', '40분정도', '40분쯤', '45분', '45분에', '4개', '4만원', '4명', '4명이서', '4박', '4박5일', '4번', '4시', '4시간', '4시까지', '4시반', '4시반에', '4시에', '4시쯤', '4시쯤에', '4월', '4월에', '4인분', '4일', '4일에', '4층', '4호선', '50', '500', '500원', '50만원', '50분', '50분까지', '50분에', '50분쯤', '55분', '5개', '5단계', '5만', '5만원', '5명', '5번', '5분', '5분뒤', '5분뒤에', '5분만', '5분정도', '5시', '5시간', '5시까지', '5시반', '5시반에', '5시에', '5시쯤', '5월', '5월에', '5인분', '5인이상', '5일', '5일날', '5일에', '5천원', '5키로', '5호선', '60', '60계', '6개', '6만원', '6명', '6분', '6시', '6시간', '6시까지', '6시나', '6시면', '6시반', '6시반에', '6시반쯤', '6시부터', '6시에', '6시쯤', '6월', '6월에', '6일', '70', '7개', '7만원', '7분', '7시', '7시30분', '7시까지', '7시로', '7시면', '7시반', '7시반에', '7시반쯤', '7시부터', '7시에', '7시쯤', '7시쯤에', '7월', '7월에', '7일', '7일에', '7호선', '8개', '8만원', '8분', '8시', '8시20분', '8시30분', '8시까지', '8시면', '8시반', '8시반까지', '8시반에', '8시부터', '8시에', '8시쯤', '8월', '8월에', '8일', '8일에', '8천원', '90', '9시', '9시까지', '9시는', '9시반', '9시부터', '9시에', '9시쯤', '9월', '9월부터', '9월에', '9일', '9일에', '9호선', '__', '_ㅠ', 'bbq', 'bhc', 'cgv', 'cgv에서', 'jmt', 'kfc', 'ktx', 'ok', 'or', 'to', 'url', 'vs', 'why', 'yes', 'you', 'ㄱㄱ', 'ㄱㄱㄱ', 'ㄱㄱㄱㄱ', 'ㄱㄱ싱', 'ㄱㄴ', 'ㄱㄴㄲ', 'ㄱㄷ', 'ㄱㅅ', 'ㄱㅅㄱㅅ', 'ㄱㅇㄷ', 'ㄱㅊ', 'ㄱㅊㄱㅊ', 'ㄱㅊ을듯', 'ㄴㄴ', 'ㄴㄴㄴ', 'ㄴㄴㄴㄴ', 'ㄴ데', 'ㄷㄷ', 'ㄷㄷㄷ', 'ㄷㄷㄷㄷ', 'ㄹㅇ', 'ㄹㅇ로', 'ㄹ응', 'ㅁㄹ', 'ㅁㅈ', 'ㅁㅈㅁㅈ', 'ㅁㅊ', 'ㅁㅎ', 'ㅂㄷㅂㄷ', 'ㅂㄹ', 'ㅅㄱ', 'ㅅㅂ', 'ㅇㄷ', 'ㅇㅁㅇ', 'ㅇㅂㅇ', 'ㅇㅅㅇ', 'ㅇㅇ', 'ㅇㅇㅇ', 'ㅇㅇㅇㅇ', 'ㅇㅇㅇㅇㅇ', 'ㅇㅇㅇㅇㅇㅇ', 'ㅇㅇㅋ', 'ㅇㅇㅋㅋ', 'ㅇㅇㅋㅋㅋ', 'ㅇㅇ그래서', 'ㅇㅈ', 'ㅇㅈㄹ', 'ㅇㅈㅇㅈ', 'ㅇㅋ', 'ㅇㅋㄷㅋ', 'ㅇㅋㅇㅋ', 'ㅇㅎ', 'ㅇㅎㅇㅎ', 'ㅇ웅', 'ㅈㄴ', 'ㅈㅅ', 'ㅈ금', 'ㅊㅋㅊㅋ', 'ㅋㄱ', 'ㅋㄱㅋㅋ', 'ㅋㄷ', 'ㅋㄷㅋㄷ', 'ㅋㅅㅋ', 'ㅋㅋ', 'ㅋㅋㄱ', 'ㅋㅋㄱㄱㅋ', 'ㅋㅋㄱㅋ', 'ㅋㅋㅋ', 'ㅋㅋㅋㄱ', 'ㅋㅋㅋㄱㅋ', 'ㅋㅋㅋㄱㅋㅋ', 'ㅋㅋㅋㅋ', 'ㅋㅋㅋㅋㅋ', 'ㅋㅋㅋㅋㅋㄱㅋ', 'ㅋㅋㅋㅋㅋㅋ', 'ㅋㅋㅋㅋㅋㅋㅋ', 'ㅋㅋㅋㅋㅋㅋㅋㅋ', 'ㅋㅋㅋㅋㅋㅋㅋㅋㅋ', 'ㅋㅋㅋㅋㅋㅋㅋㅋㅋㅋ', 'ㅋㅋㅋㅋㅋㅋㅋㅋㅋㅋㅋ', 'ㅋㅋㅋㅋㅋㅋㅋㅋㅋㅋㅋㅋ', 'ㅋㅋㅋㅋㅋㅋㅋㅋㅋㅋㅋㅋㅋ', 'ㅋㅋㅋㅋㅋㅋㅋㅋㅋㅋㅋㅋㅋㅋ', 'ㅋㅋㅋㅋㅋㅋㅋㅋㅋㅋㅋㅋㅋㅋㅋ', 'ㅋㅋㅋㅋㅋㅋㅋㅋㅋㅋㅋㅋㅋㅋㅋㅋ', 'ㅋㅋㅋㅋㅋㅋㅋㅋㅋㅋㅋㅋㅋㅋㅋㅋㅋ', 'ㅋㅋㅋㅋㅋㅋㅋㅋㅋㅋㅋㅋㅋㅋㅋㅋㅋㅋ', 'ㅋㅋㅋㅋㅋㅋㅋㅋㅋㅋㅋㅋㅋㅋㅋㅋㅋㅋㅋ', 'ㅋㅋㅋㅋㅋㅋㅋㅋㅋㅋㅋㅋㅋㅋㅋㅋㅋㅋㅋㅋ', 'ㅋㅋㅋㅋㅋㅋㅋㅋㅋㅋㅋㅋㅋㅋㅋㅋㅋㅋㅋㅋㅋ', 'ㅋㅋㅋㅋㅋㅋㅋㅋㅋㅋㅋㅋㅋㅋㅋㅋㅋㅋㅋㅋㅋㅋ', 'ㅋㅋㅋㅋㅋㅋㅋㅋㅋㅋㅋㅋㅋㅋㅋㅋㅋㅋㅋㅋㅋㅋㅋ', 'ㅋㅋㅋㅋㅋㅋㅋㅋㅋㅋㅋㅋㅋㅋㅋㅋㅋㅋㅋㅋㅋㅋㅋㅋ', 'ㅋㅋㅋㅋㅋㅋㅋㅋㅋㅋㅋㅋㅋㅋㅋㅋㅋㅋㅋㅋㅋㅋㅋㅋㅋ', 'ㅋㅋㅋㅋㅋㅋㅋㅋㅋㅋㅋㅋㅋㅋㅋㅋㅋㅋㅋㅋㅋㅋㅋㅋㅋㅋ', 'ㅋㅋㅋㅋㅋㅋㅋㅋㅋㅋㅋㅋㅋㅋㅋㅋㅋㅋㅋㅋㅋㅋㅋㅋㅋㅋㅋ', 'ㅋㅋㅋㅋㅋㅋㅋㅋㅋㅋㅋㅋㅋㅋㅋㅋㅋㅋㅋㅋㅋㅋㅋㅋㅋㅋㅋㅋ', 'ㅋㅋㅋㅋㅋㅋㅋㅋㅋㅋㅋㅋㅋㅋㅋㅋㅋㅋㅋㅋㅋㅋㅋㅋㅋㅋㅋㅋㅋ', 'ㅋㅋㅋㅋㅋㅋㅋㅋㅋㅋㅋㅋㅋㅋㅋㅋㅋㅋㅋㅋㅋㅋㅋㅋㅋㅋㅋㅋㅋㅋ', 'ㅋㅋㅋㅋㅋㅋㅋㅋㅋㅋㅋㅋㅋㅋㅋㅋㅋㅋㅋㅋㅋㅋㅋㅋㅋㅋㅋㅋㅋㅋㅋ', 'ㅋㅋㅋㅋㅋㅋㅋㅋㅋㅋㅋㅋㅋㅋㅋㅋㅋㅋㅋㅋㅋㅋㅋㅋㅋㅋㅋㅋㅋㅋㅋㅋ', 'ㅋㅋㅋㅋㅋㅋㅋㅋㅋㅋㅋㅋㅋㅋㅋㅋㅋㅋㅋㅋㅋㅋㅋㅋㅋㅋㅋㅋㅋㅋㅋㅋㅋ', 'ㅋㅋㅋㅋㅋㅋㅋㅋㅋㅋㅋㅋㅋㅋㅋㅋㅋㅋㅋㅋㅋㅋㅋㅋㅋㅋㅋㅋㅋㅋㅋㅋㅋㅋ', 'ㅋㅋㅋㅋㅋㅋㅋㅋㅋㅋㅋㅋㅋㅋㅋㅋㅋㅋㅋㅋㅋㅋㅋㅋㅋㅋㅋㅋㅋㅋㅋㅋㅋㅋㅋ', 'ㅋㅋㅋㅋㅋㅋㅋㅋㅋㅋㅋㅋㅋㅋㅋㅋㅋㅋㅋㅋㅋㅋㅋㅋㅋㅋㅋㅋㅋㅋㅋㅋㅋㅋㅋㅋ', 'ㅋㅋㅋㅋㅋㅋㅋㅋㅋㅋㅋㅋㅋㅋㅋㅋㅋㅋㅋㅋㅋㅋㅋㅋㅋㅋㅋㅋㅋㅋㅋㅋㅋㅋㅋㅋㅋ', 'ㅋㅋㅋㅋㅋㅋㅋㅋㅋㅋㅋㅋㅋㅋㅋㅋㅋㅋㅋㅋㅋㅋㅋㅋㅋㅋㅋㅋㅋㅋㅋㅋㅋㅋㅋㅋㅋㅋㅋ', 'ㅋㅋㅋㅋㅋㅋㅋㅋㅋㅋㅋㅋㅋㅋㅋㅋㅋㅋㅋㅋㅋㅋㅋㅋㅋㅋㅋㅋㅋㅋㅋㅋㅋㅋㅋㅋㅋㅋㅋㅋ', 'ㅋㅋㅋㅋㅋㅋㅋㅋㅋㅋㅋㅋㅋㅋㅋㅋㅋㅋㅋㅋㅋㅋㅋㅋㅋㅋㅋㅋㅋㅋㅋㅋㅋㅋㅋㅋㅋㅋㅋㅋㅋ', 'ㅋㅋㅋㅋㅋㅋㅋㅋㅋㅋ아', 'ㅋㅋㅋㅋㅋㅋㅋㅋㅋ아', 'ㅋㅋㅋㅋㅋㅋㅋㅋ나도', 'ㅋㅋㅋㅋㅋㅋㅋㅋ아', 'ㅋㅋㅋㅋㅋㅋㅋㅋ응', 'ㅋㅋㅋㅋㅋㅋㅋㅋ진짜', 'ㅋㅋㅋㅋㅋㅋㅋ아', 'ㅋㅋㅋㅋㅋㅋㅋ아니', 'ㅋㅋㅋㅋㅋㅋㅋ오', 'ㅋㅋㅋㅋㅋㅋㅋ웅', 'ㅋㅋㅋㅋㅋㅋㅋ응응', 'ㅋㅋㅋㅋㅋㅋ그래', 'ㅋㅋㅋㅋㅋㅋ나', 'ㅋㅋㅋㅋㅋㅋ난', 'ㅋㅋㅋㅋㅋㅋ아', 'ㅋㅋㅋㅋㅋㅋ아니', 'ㅋㅋㅋㅋㅋㅋ오', 'ㅋㅋㅋㅋㅋㅋ왜', 'ㅋㅋㅋㅋㅋㅋ웅', 'ㅋㅋㅋㅋㅋㅋ웅웅', 'ㅋㅋㅋㅋㅋㅋ응응', 'ㅋㅋㅋㅋㅋㅋ진짜', 'ㅋㅋㅋㅋㅋ그냥', 'ㅋㅋㅋㅋㅋ그래', 'ㅋㅋㅋㅋㅋ그럼', 'ㅋㅋㅋㅋㅋ근데', 'ㅋㅋㅋㅋㅋ나', 'ㅋㅋㅋㅋㅋ나도', 'ㅋㅋㅋㅋㅋ난', 'ㅋㅋㅋㅋㅋ내가', 'ㅋㅋㅋㅋㅋ아', 'ㅋㅋㅋㅋㅋ아니', 'ㅋㅋㅋㅋㅋ오', 'ㅋㅋㅋㅋㅋ오늘', 'ㅋㅋㅋㅋㅋ우리', 'ㅋㅋㅋㅋㅋ웅', 'ㅋㅋㅋㅋㅋ웅웅', 'ㅋㅋㅋㅋㅋ응', 'ㅋㅋㅋㅋㅋ응응', 'ㅋㅋㅋㅋㅋ진짜', 'ㅋㅋㅋㅋ그냥', 'ㅋㅋㅋㅋ그래', 'ㅋㅋㅋㅋ그러게', 'ㅋㅋㅋㅋ그럼', 'ㅋㅋㅋㅋ그치', 'ㅋㅋㅋㅋ근데', 'ㅋㅋㅋㅋ나', 'ㅋㅋㅋㅋ나는', 'ㅋㅋㅋㅋ나도', 'ㅋㅋㅋㅋ난', 'ㅋㅋㅋㅋ네', 'ㅋㅋㅋㅋ뭐', 'ㅋㅋㅋㅋ아', 'ㅋㅋㅋㅋ아니', 'ㅋㅋㅋㅋ오', 'ㅋㅋㅋㅋ오늘', 'ㅋㅋㅋㅋ왜', 'ㅋㅋㅋㅋ우리', 'ㅋㅋㅋㅋ웅', 'ㅋㅋㅋㅋ웅웅', 'ㅋㅋㅋㅋ응', 'ㅋㅋㅋㅋ응응', 'ㅋㅋㅋㅋ이제', 'ㅋㅋㅋㅋ진짜', 'ㅋㅋㅋㅋ케', 'ㅋㅋㅋㅋ헐', 'ㅋㅋㅋ그냥', 'ㅋㅋㅋ그래', 'ㅋㅋㅋ그러게', 'ㅋㅋㅋ그럼', 'ㅋㅋㅋ그치', 'ㅋㅋㅋ근데', 'ㅋㅋㅋ나', 'ㅋㅋㅋ나는', 'ㅋㅋㅋ나도', 'ㅋㅋㅋ난', 'ㅋㅋㅋ내가', 'ㅋㅋㅋ너', 'ㅋㅋㅋ너무', 'ㅋㅋㅋ맞아', 'ㅋㅋㅋ뭐', 'ㅋㅋㅋ아', 'ㅋㅋㅋ아니', 'ㅋㅋㅋ오', 'ㅋㅋㅋ오늘', 'ㅋㅋㅋ웅', 'ㅋㅋㅋ응', 'ㅋㅋㅋ응응', 'ㅋㅋㅋ이제', 'ㅋㅋㅋ진짜', 'ㅋㅋㅋ케', 'ㅋㅋ그냥', 'ㅋㅋ그래', 'ㅋㅋ그럼', 'ㅋㅋ근데', 'ㅋㅋ나', 'ㅋㅋ나는', 'ㅋㅋ나도', 'ㅋㅋ난', 'ㅋㅋ맞아', 'ㅋㅋ아', 'ㅋㅋ아니', 'ㅋㅋ웅', 'ㅋㅋ웅웅', 'ㅋㅋ응', 'ㅋㅋ응응', 'ㅋㅋ케', 'ㅋㅌ', 'ㅋㅎ', 'ㅋ응', 'ㅌㅋ', 'ㅌㅋㅋ', 'ㅌㅋㅋㅋ', 'ㅌㅋㅋㅋㅋ', 'ㅌㅋㅋㅋㅋㅋㅋ', 'ㅌㅋㅋㅋㅋㅋㅋㅋ', 'ㅎ_ㅎ', 'ㅎㄷㄷ', 'ㅎㄹ', 'ㅎㅁㅎ', 'ㅎㅅㅎ', 'ㅎㅇ', 'ㅎㅋ', 'ㅎㅎ', 'ㅎㅎㅎ', 'ㅎㅎㅎㄹ', 'ㅎㅎㅎㅎ', 'ㅎㅎㅎㅎㅎ', 'ㅎㅎㅎㅎㅎㅎ', 'ㅎㅎㅎㅎㅎㅎㅎ', 'ㅎㅎㅎㅎㅎㅎㅎㅎ', 'ㅎㅎㅎㅎㅎㅎㅎㅎㅎ', 'ㅎㅎㅎㅎ웅웅', 'ㅎㅎㅎ웅웅', 'ㅎ헤', 'ㅜㅅㅜ', 'ㅜㅜ', 'ㅜㅜㅜ', 'ㅜㅜㅜㅜ', 'ㅜㅜㅜㅜㅜ', 'ㅜㅜㅜㅜㅜㅜ', 'ㅜㅜㅜㅜㅜㅜㅜ', 'ㅜㅜㅠ', 'ㅜㅠ', 'ㅜㅠㅋㅋ', 'ㅜㅠㅠ', 'ㅜㅡㅜ', 'ㅠ_ㅠ', 'ㅠㅁㅠ', 'ㅠㅅㅠ', 'ㅠㅜ', 'ㅠㅜㅜ', 'ㅠㅜㅠ', 'ㅠㅠ', 'ㅠㅠㅋㅋ', 'ㅠㅠㅜ', 'ㅠㅠㅠ', 'ㅠㅠㅠㅜ', 'ㅠㅠㅠㅠ', 'ㅠㅠㅠㅠㅠ', 'ㅠㅠㅠㅠㅠㅠ', 'ㅠㅠㅠㅠㅠㅠㅠ', 'ㅠㅠㅠㅠㅠㅠㅠㅠ', 'ㅠㅠㅠㅠㅠㅠㅠㅠㅠ', 'ㅠㅠㅠㅠㅠㅠㅠㅠㅠㅠ', 'ㅠㅠㅠㅠㅠㅠㅠㅠㅠㅠㅠ', 'ㅠㅡㅠ', 'ㅡㅅㅡ', 'ㅡㅜ', 'ㅡㅠ', 'ㅡㅡ', 'ㅡㅡㅋ', '가거나', '가게', '가게가', '가게는', '가게되면', '가게로', '가게에', '가게에서', '가겠네', '가겠다', '가겠습니다', '가겠어', '가겠지', '가격', '가격대비', '가격도', '가격에', '가격은', '가격이', '가고', '가고시퍼', '가고싶고', '가고싶네', '가고싶다', '가고싶당', '가고싶어', '가고싶어서', '가고싶어요', '가고싶었는데', '가고싶으면', '가고싶은', '가고싶은곳', '가고싶은데', '가고싶음', '가고싶지', '가고잇어', '가고있어', '가고파', '가고픈데', '가구', '가기', '가기가', '가기는', '가기로', '가기엔', '가기전에', '가긴', '가까', '가까우니까', '가까우면', '가까운', '가까운게', '가까운곳으로', '가까운데', '가까운데로', '가까운데서', '가까워', '가까워서', '가까이', '가깝고', '가깝나', '가깝네', '가깝다', '가깝지', '가께', '가끔', '가끔씩', '가끔은', '가나', '가나요', '가냐', '가네', '가는', '가는거', '가는거라', '가는거면', '가는거야', '가는거지', '가는건', '가는건가', '가는건데', '가는걸로', '가는것도', '가는게', '가는겨', '가는곳', '가는구나', '가는구낭ㅎㅎ', '가는길', '가는길에', '가는길이', '가는김에', '가는데', '가는뎅', '가는중', '가는중이야', '가는중입니다', '가는즁', '가능', '가능성이', '가능이야', '가능하나', '가능하다고', '가능하대', '가능하면', '가능하지', '가능한', '가능한가', '가능한데', '가능할까', '가능할듯', '가능함', '가능합니다', '가능해', '가니', '가니까', '가니깐', '가다가', '가더라도', '가던', '가던가', '가던데', '가던지', '가도', '가도돼', '가도록', '가두', '가득', '가든', '가든가', '가든지', '가디건', '가라', '가라고', '가래', '가래떡', '가려고', '가려구', '가려구여', '가려구요', '가려궁', '가려나', '가려다가', '가려면', '가로수길', '가루', '가루가', '가리비', '가만히', '가면', '가면돼', '가면되지', '가면서', '가믄', '가방', '가방에', '가방이', '가벼운', '가볍게', '가보게', '가보고', '가보고싶다', '가보고싶어', '가보까', '가보면', '가보자', '가보장', '가보쟈', '가보지', '가본', '가볼게', '가볼까', '가볼래', '가봄', '가봐', '가봐서', '가봐야', '가봐야겠다', '가봐야지', '가봤는데', '가봤어', '가봤지', '가서', '가성비', '가성비가', '가성비는', '가세요', '가셈', '가셨어', '가슴살', '가시죠', '가실', '가심', '가야', '가야게따', '가야게써', '가야겟네', '가야겟다', '가야겟당', '가야겠군', '가야겠네', '가야겠넹', '가야겠다', '가야겠당', '가야겠어', '가야대', '가야돼', '가야되', '가야되나', '가야되는데', '가야되서', '가야됨', '가야제', '가야죠', '가야쥐', '가야지', '가야징', '가야하고', '가야하나', '가야하는거', '가야하는데', '가야하니까', '가야할듯', '가야함', '가야해', '가야해서', '가야해요', '가여', '가요', '가욤', '가용', '가운데', '가위로', '가유', '가을', '가을에', '가이드', '가있어', '가있을게', '가있을까', '가자', '가자ㅋㅋ', '가자가자', '가자고', '가자고해서', '가자구', '가자는', '가자는데', '가자마자', '가잖아', '가장', '가재', '가쟈', '가쟝', '가져', '가져가', '가져가고', '가져가면', '가져가서', '가져가야지', '가져갈게', '가져갈까', '가져갈께', '가져감', '가져다', '가져오면', '가져온', '가져옴', '가져와', '가져와서', '가져왔어', '가져왕', '가족', '가족끼리', '가족들', '가족들이', '가족들이랑', '가족여행', '가족이', '가족이랑', '가죠', '가줘', '가즈아', '가지', '가지고', '가지구', '가지는', '가지러', '가지마', '가지말고', '가지말까', '가지말자', '가지뭐', '가징', '가츠동', '가치', '가치가', '가티', '가평', '가평에', '각각', '각이다', '각이야', '각인가', '각자', '각잡고', '간거', '간거야', '간게', '간김에', '간다', '간다간다', '간다고', '간다구', '간다는', '간다는데', '간다며', '간다면', '간다하면', '간단', '간단하게', '간단한', '간단한거', '간단히', '간닷', '간당', '간대', '간댔지', '간댜', '간데', '간도', '간드아', '간만', '간만에', '간식', '간식도', '간식으로', '간식은', '간식을', '간에', '간은', '간을', '간이', '간장', '간장게장', '간장계란밥', '간장에', '간지', '간짜장', '간편하게', '갈거', '갈거같아', '갈거같아요', '갈거같은데', '갈거면', '갈거야', '갈거얌', '갈거에요', '갈거임', '갈거지', '갈건데', '갈걸', '갈것', '갈게', '갈게여', '갈게염', '갈게요', '갈게욤', '갈게용', '갈게유', '갈겡', '갈겨', '갈곳', '갈곳이', '갈구야', '갈까', '갈까말까', '갈까봐', '갈까여', '갈까요', '갈까용', '갈깡', '갈꺼', '갈꺼면', '갈꺼야', '갈껀데', '갈께', '갈께요', '갈껭', '갈데가', '갈듯', '갈때', '갈때는', '갈때마다', '갈땐', '갈라고', '갈라구', '갈라면', '갈래', '갈래요', '갈랬는데', '갈랭', '갈려고', '갈려구', '갈려면', '갈릭', '갈만한', '갈매기', '갈면', '갈비', '갈비는', '갈비찜', '갈비탕', '갈수', '갈수도', '갈수록', '갈수있어', '갈수있을까', '갈수있음', '갈아서', '갈아입고', '갈아타고', '갈아타면', '갈일', '갈지', '갈지는', '갈지도', '갈치', '갈치조림', '갈테니', '갈테니까', '갈텐데', '감고', '감기', '감동', '감동란', '감바스', '감바스랑', '감사', '감사감사', '감사합니다', '감사해요', '감성', '감이', '감자', '감자가', '감자는', '감자도', '감자랑', '감자샐러드', '감자전', '감자칩', '감자탕', '감자튀김', '감튀', '감튀가', '감튀는', '감튀도', '감히', '갑니까', '갑니다', '갑니다요', '갑니당', '갑시다', '갑시당', '갑자기', '갑자기요', '갓김치', '갓는데', '갓다가', '갓다와서', '갓어', '갔거든', '갔구나', '갔나', '갔네', '갔는데', '갔다', '갔다가', '갔다오면', '갔다오자', '갔다올게', '갔다올까', '갔다옴', '갔다와', '갔다와서', '갔다왔는데', '갔다왔어', '갔대', '갔더니', '갔던', '갔던곳', '갔어', '갔어요', '갔었는데', '갔었어', '갔었지', '갔으면', '갔을', '갔을때', '갔을때도', '갔음', '갔잖아', '갔지', '강남', '강남에', '강남에서', '강남역', '강남역에서', '강남으로', '강된장', '강릉', '강릉에', '강릉은', '강아지', '강원도', '강원도는', '강의', '강정', '강제', '강해', '강화도', '갖고', '갖다', '갖다줄게', '같고', '같구', '같군요', '같기도', '같기도하고', '같긴', '같긴한데', '같긴해', '같네', '같네요', '같다', '같다고', '같당', '같더라', '같더라고', '같던데', '같습니다', '같아', '같아서', '같아소', '같아여', '같아요', '같아요ㅎㅎ', '같아용', '같앙', '같앙ㅎㅎ', '같애', '같애서', '같어', '같오', '같으니', '같으니까', '같으면', '같은', '같은거', '같은건', '같은걸', '같은게', '같은데', '같은데서', '같은뎅', '같은디', '같음', '같이', '같이가', '같이가면', '같이가서', '같이가요', '같이가자', '같이가장', '같이갈까', '같이갈래', '같이먹어', '같이먹으면', '같이먹자', '같이해', '같지', '같지만', '개꿀', '개꿀맛', '개땡겨', '개많아', '개많이', '개맛잇겟다', '개맛있겠다', '개맛있어', '개맛있음', '개멀어', '개부럽', '개부럽다', '개비싸', '개에', '개운하게', '개웃겨', '개웃기네', '개웃기다', '개이득', '개인', '개인적으로', '개조아', '개존맛', '개존맛탱', '개좋다', '개좋아', '개좋음', '개쩐다', '개추워', '객사', '갠적으로', '갠차나', '갠차낭', '갠춘', '갠츈', '갬성', '걔가', '걔네', '걔는', '걔도', '걔랑', '거고', '거구나', '거기', '거기가', '거기가면', '거기가서', '거기가자', '거기갈까', '거기까지', '거기꺼', '거기나', '거기는', '거기다', '거기다가', '거기도', '거기두', '거기랑', '거기로', '거기루', '거기만', '거기보다', '거기서', '거기선', '거기야', '거기에', '거긴', '거긴가', '거길', '거는', '거니', '거든', '거라', '거랑', '거래', '거리', '거리가', '거리는', '거리두기', '거면', '거봐', '거서', '거실에', '거야', '거의', '거의다', '거임', '거제', '거제도', '거죠', '거지', '거지야', '거진', '거짓말', '거하게', '걱정', '걱정마', '걱정말고', '걱정이', '걱정이네', '걱정이다', '걱정이야', '걱정하지마', '건가', '건강', '건강검진', '건강식', '건강에', '건강을', '건강하게', '건강하고', '건강한', '건너서', '건너편', '건너편에', '건대', '건대에서', '건데', '건면', '건물', '건조기', '건지', '건포도', '걷고', '걷다가', '걸려', '걸려서', '걸려요', '걸로', '걸루', '걸리고', '걸리네', '걸리는', '걸리는데', '걸리니까', '걸리면', '걸리지', '걸린다', '걸린다고', '걸린대', '걸린데', '걸릴', '걸릴듯', '걸림', '걸어', '걸어가', '걸어가는', '걸어가는중', '걸어가면', '걸어갈게', '걸어갈까', '걸어서', '걸으면', '걸작', '검사', '검색', '검색하니까', '검색하면', '검색해봐', '검색해봤는데', '검색해서', '검은', '검은콩', '검정색', '겁나', '겁내', '것도', '것두', '것들', '것만', '것보다', '것은', '것을', '것이', '것처럼', '겉에', '겉은', '겉절이', '게다가', '게속', '게스트하우스', '게임', '게장', '게하', '겜방', '겠네', '겠다', '겨우', '겨울', '겨울에', '겨울엔', '겨울왕국', '겨울이라', '견과류', '결과', '결국', '결국엔', '결론은', '결정', '결정되면', '결정하자', '결제', '결제는', '결혼', '결혼식', '결혼식은', '결혼식이', '결혼식장', '겸사겸사', '겹살이', '겹쳐서', '경기', '경기도', '경복궁', '경비', '경우가', '경주', '경주는', '경주도', '경주에', '경주에서', '경주월드', '경포대', '계곡', '계란', '계란국', '계란도', '계란만', '계란말이', '계란빵', '계란에', '계란은', '계란을', '계란이', '계란이랑', '계란찜', '계란후라이', '계란후라이랑', '계산', '계세요', '계셔', '계셔서', '계속', '계정', '계획', '계획은', '계획을', '계획이', '고객님', '고거', '고건', '고고', '고고고', '고고링', '고고싱', '고고씽', '고구마', '고구마가', '고구마는', '고구마도', '고구마랑', '고구마에', '고구미', '고급', '고급진', '고기', '고기가', '고기국수', '고기나', '고기는', '고기도', '고기랑', '고기로', '고기를', '고기만', '고기먹고', '고기먹으러', '고기먹자', '고기에', '고기와', '고기집', '고깃집', '고냥', '고데기', '고등어', '고등어구이', '고등어는', '고등어회', '고등학교', '고딩때', '고래', '고래고래', '고랫', '고랭', '고랭고랭', '고량주', '고럼', '고럼고럼', '고로케', '고롬', '고뤠', '고르고', '고르면', '고마어', '고마오', '고마워', '고마워요', '고마워용', '고마웡', '고맙네', '고맙다', '고맙다고', '고맙습니다', '고모가', '고민', '고민고민', '고민돼', '고민되네', '고민되넹', '고민된다', '고민쓰', '고민을', '고민이', '고민이군', '고민이네', '고민이다', '고민이당', '고민이야', '고민좀', '고민중', '고민중이야', '고민중이얌', '고민중인데', '고민즁', '고민하다가', '고민해보고', '고민해보자', '고민했는데', '고봉민', '고사리', '고새', '고생', '고생이', '고생이네', '고생했네', '고생했다', '고생했어', '고생했어요', '고소하고', '고소한', '고소해', '고속도로', '고수', '고양이', '고우고우', '고작', '고추', '고추가루', '고추랑', '고추바사삭', '고추장', '고추장불고기', '고추장에', '고추장찌개', '고추참치', '고춧가루', '고터', '고터로', '고터에서', '고파', '고파서', '고프다', '고픈데', '곤약젤리', '골고루', '골드킹', '골라', '골라봐', '골라서', '골라줘', '골목', '골목식당', '골뱅이', '골프', '곰탕', '곰팡이', '곱도리탕', '곱전', '곱창', '곱창도', '곱창볶음', '곱창은', '곱창을', '곱창이', '곱창전골', '곱창집', '곳도', '곳에', '곳에서', '곳으로', '곳은', '곳을', '곳이', '곳이야', '곳인데', '공기', '공기밥', '공덕', '공듀', '공복에', '공부', '공부는', '공부도', '공부를', '공부좀', '공부하고', '공부하구', '공부하다', '공부하다가', '공부하러', '공부하면', '공부하자', '공부할거', '공부해', '공부해야지', '공연', '공원', '공장', '공주', '공주가', '공주는', '공주님', '공주도', '공주랑', '공주야', '공쥬', '공짜', '공짜로', '공차', '공차는', '공항', '공항버스', '공항에', '공항에서', '공휴일', '곶감', '과메기', '과연', '과외', '과일', '과일도', '과일만', '과일은', '과일을', '과일이', '과일이나', '과일이랑', '과자', '과자가', '과자는', '과자도', '과자랑', '과자로', '과자를', '과장님', '과장님이', '과장님이랑', '과장이', '과제', '관광지', '관련', '관리', '관심이', '광고', '광광', '광교', '광명', '광안리', '광어', '광장시장', '광주', '광주는', '광주에서', '광화문', '광화문에', '괘아나', '괜차나', '괜차나요', '괜차나용', '괜차낭', '괜차너', '괜찬아', '괜찮', '괜찮겠다', '괜찮겠어', '괜찮겠어요', '괜찮겠지', '괜찮고', '괜찮구', '괜찮긴', '괜찮나', '괜찮나요', '괜찮네', '괜찮넹', '괜찮니', '괜찮다', '괜찮다고', '괜찮다는데', '괜찮다면', '괜찮당', '괜찮대', '괜찮더라', '괜찮던데', '괜찮습니다', '괜찮아', '괜찮아ㅎㅎ', '괜찮아여', '괜찮아요', '괜찮아용', '괜찮아유', '괜찮았는데', '괜찮았어', '괜찮았어요', '괜찮았지', '괜찮앙', '괜찮어', '괜찮오', '괜찮으니까', '괜찮으려나', '괜찮으면', '괜찮은', '괜찮은가', '괜찮은거', '괜찮은거같아', '괜찮은거야', '괜찮은데', '괜찮은듯', '괜찮은디', '괜찮은지', '괜찮을', '괜찮을거', '괜찮을거같아', '괜찮을거같은데', '괜찮을것', '괜찮을까', '괜찮을듯', '괜찮음', '괜찮지', '괜찮지않을까', '괜춘', '괜춘해', '괜츈', '괜히', '굉장히', '교대', '교수', '교수님', '교수님이', '교육', '교촌', '교촌은', '교촌이', '교촌치킨', '교토', '교회', '교회로', '교회에', '교회에서', '구거', '구건', '구경', '구경도', '구경하고', '구경하구', '구경하다가', '구경하러', '구나', '구내', '구내식당', '구냥', '구니까', '구니깐', '구댕', '구디', '구디에서', '구래', '구래구래', '구래구랭', '구래서', '구래여', '구래염', '구래요', '구래용', '구랩', '구랫', '구랭', '구랭구랭', '구랴', '구러게', '구러면', '구럼', '구려', '구로', '구로에서', '구롤게용', '구롤게용ㅎㅎ', '구롤게유ㅎㅎ', '구롬', '구르쟈구르쟝ㅎㅎ', '구리', '구석에', '구우면', '구운', '구운거', '구웃', '구워', '구워먹고', '구워먹어', '구워먹자', '구워서', '구이', '구재', '구지', '구치', '구함', '국내', '국내로', '국도', '국물', '국물까지', '국물도', '국물만', '국물에', '국물은', '국물이', '국물이랑', '국밥', '국밥먹으러', '국밥집', '국수', '국수는', '국에', '국은', '국을', '국화빵', '군것질', '군고구마', '군대', '군대에서', '군데', '군만두', '군산', '군자에서', '군침', '굳굳', '굳모닝', '굳이', '굴소스', '굴은', '굶고', '굶어', '굽고', '굽네', '굽는', '굿굿', '굿굿ㅎㅎ', '굿굿굿', '굿나잇', '굿모닝', '굿잡', '궁금', '궁금쓰', '궁금하네', '궁금하다', '궁금한거', '궁금한데', '궁금함', '궁금해', '궁금해서', '궈궈', '귀여운', '귀여운데', '귀여워', '귀여워서', '귀여웡', '귀엽게', '귀엽네', '귀엽다', '귀엽당', '귀엽지', '귀요미', '귀차나', '귀차나서', '귀찮', '귀찮게', '귀찮고', '귀찮네', '귀찮다', '귀찮아', '귀찮아서', '귀찮으니까', '귀찮으면', '귀찮은데', '귀찮음', '귀찮지', '귤도', '귤은', '귤이', '그거', '그거까지', '그거나', '그거는', '그거도', '그거라도', '그거랑', '그거로', '그거를', '그거만', '그거말고', '그거먹고', '그거면', '그거밖에', '그거보다', '그거슨', '그거야', '그거에', '그거지', '그건', '그건가', '그건그래', '그건그렇지', '그건좀', '그걸', '그걸로', '그걸루', '그것', '그것도', '그것두', '그것만', '그것보다', '그것은', '그것이', '그게', '그게머야', '그게모야', '그게뭐야', '그곳', '그그', '그기', '그나마', '그나저나', '그날', '그날도', '그날은', '그날이', '그냥', '그냥그래', '그냥와', '그냥저냥', '그놈의', '그니가', '그니까', '그니까요', '그니깐', '그니깡', '그니께', '그다음', '그다음에', '그닥', '그담', '그담날', '그담에', '그담주', '그대로', '그대신', '그돈으로', '그돈이면', '그동네', '그동안', '그때', '그때가', '그때가서', '그때그때', '그때까지', '그때는', '그때도', '그때부터', '그때쯤', '그땐', '그떄', '그라면', '그라믄', '그람', '그래', '그래ㅋㅋ', '그래ㅋㅋㅋ', '그래ㅎㅎ', '그래가지고', '그래그래', '그래그랭', '그래그럼', '그래놓고', '그래도', '그래도되고', '그래두', '그래라', '그래보자', '그래봤자', '그래서', '그래야', '그래야겟다', '그래야겠네', '그래야겠다', '그래야겠어', '그래야지', '그래야징', '그래야할듯', '그래여', '그래옹', '그래요', '그래요오', '그래욤', '그래용', '그래유', '그랜드', '그램', '그랩', '그랫', '그랫는데', '그랫어', '그랬구나', '그랬나', '그랬나봐', '그랬는데', '그랬다', '그랬더니', '그랬던거', '그랬어', '그랬어요', '그랬으면', '그랬음', '그랬지', '그랭', '그랭ㅎㅎ', '그랭그랭', '그랴', '그랴그랴', '그러', '그러게', '그러게여', '그러게요', '그러겠지', '그러겡', '그러고', '그러고보니', '그러기엔', '그러까', '그러나', '그러냐', '그러네', '그러넹', '그러는', '그러는거', '그러는거야', '그러는거지', '그러는데', '그러니', '그러니까', '그러니까요', '그러니깐', '그러다', '그러다가', '그러더라', '그러던가', '그러던데', '그러던지', '그러려고', '그러려나', '그러면', '그러면서', '그러믄', '그러자', '그러장', '그러쟈', '그러지', '그러치', '그러케', '그러쿠나', '그러쿠만', '그러쿤', '그러하다', '그런', '그런가', '그런가바', '그런가벼', '그런가보다', '그런가봄', '그런가봐', '그런거', '그런거같아', '그런거는', '그런거야', '그런거지', '그런건', '그런건가', '그런건데', '그런걸', '그런것', '그런것같아', '그런것도', '그런게', '그런겨', '그런곳', '그런곳은', '그런곳이', '그런데', '그런데도', '그런듯', '그런줄', '그런지', '그럴', '그럴거', '그럴거같아', '그럴거면', '그럴거야', '그럴걸', '그럴것', '그럴게', '그럴게요', '그럴까', '그럴까요', '그럴껄', '그럴듯', '그럴때', '그럴땐', '그럴래', '그럴려고', '그럴려구', '그럴리가', '그럴수', '그럴수도', '그럴수있지', '그럴줄', '그럴지도', '그럼', '그럼ㅋㅋㅋ', '그럼그럼', '그럼나', '그럼요', '그럽시다', '그렇게', '그렇게까지', '그렇게나', '그렇게라도', '그렇게하자', '그렇게해', '그렇겠다', '그렇겠지', '그렇고', '그렇고만', '그렇구나', '그렇구낭', '그렇구만', '그렇구먼', '그렇군', '그렇군요', '그렇긴', '그렇긴하지', '그렇긴한데', '그렇긴해', '그렇네', '그렇다', '그렇다고', '그렇다면', '그렇담', '그렇대', '그렇더라', '그렇습니다', '그렇잖아', '그렇죠', '그렇지', '그렇지만', '그려', '그려그려', '그려요', '그령', '그로게', '그롬', '그르게', '그르까', '그르네', '그르자', '그르쟈', '그르쟈그르쟝ㅎㅎ', '그르쟝ㅎㅎ', '그른가', '그를까', '그름', '그릇', '그릇에', '그리', '그리고', '그리구', '그리로', '그림', '그립다', '그만', '그만두고', '그만먹어', '그만큼', '그맛', '그맛이', '그면', '그분', '그분이', '그사람은', '그사이에', '그새', '그시간에', '그와중에', '그으래', '그자체', '그저', '그저께', '그전에', '그정도', '그정도가', '그정도는', '그정도로', '그정도면', '그정도야', '그정돈', '그제', '그주에', '그중에', '그지', '그집', '그집이', '그쪽', '그쪽에', '그쪽에서', '그쪽으로', '그쯤', '그체', '그쳐', '그쵸', '그치', '그치ㅋㅋ', '그치ㅋㅋㅋ', '그치ㅠㅠ', '그치그치', '그치만', '그친구', '그칭', '극혐', '근ㄷ', '근가', '근까', '근대', '근데', '근데나', '근데도', '근뎅', '근디', '근무', '근처', '근처네', '근처는', '근처로', '근처야', '근처에', '근처에서', '근처인데', '글게', '글고', '글고보니', '글구', '글도', '글두', '글램핑', '글로', '글면', '글서', '글쎄', '글쎄다', '글쎄요', '글쎙', '글제', '글치', '글케', '글쿠나', '글쿠낭', '글쿠낭ㅎㅎ', '글쿠만', '글쿠먼', '글쿤', '금방', '금방가', '금방갈게', '금방이네', '금방이야', '금액', '금에', '금요일', '금요일날', '금요일도', '금요일에', '금요일은', '금요일이', '금요일이나', '금요일이라', '금요일인데', '금욜', '금욜날', '금욜에', '금욜은', '금융', '금은', '금지', '금토', '금토로', '금토일', '금호동', '급식', '급하게', '급한거', '급해서', '급행', '긍가', '긍게', '긍까', '긍께', '긍데', '긔긔', '기가', '기가막히게', '기간', '기간이', '기계', '기계가', '기기', '기내식', '기냥', '기념', '기념으로', '기념품', '기다려', '기다려라', '기다려바', '기다려봐', '기다려야지', '기다려요', '기다려줘', '기다려줘요', '기다렸는데', '기다렸다가', '기다령', '기다료', '기다리게', '기다리고', '기다리고있어', '기다리구', '기다리는', '기다리는거', '기다리는중', '기다리는즁', '기다리다가', '기다리면', '기다리면서', '기다리지', '기다릴게', '기다릴까', '기다림', '기달', '기달려', '기대', '기대가', '기대기대', '기대돼', '기대된다', '기대된당', '기대중', '기대하고', '기대할게', '기대해', '기대했는데', '기둘', '기래', '기름', '기름값', '기름기', '기름에', '기름이', '기름진거', '기본', '기본으로', '기본적으로', '기분', '기분도', '기분이', '기분이야', '기분좋게', '기사', '기상', '기숙사', '기억', '기억나', '기억나나', '기억나지', '기억난다', '기억남', '기억도', '기억안나', '기억에', '기억은', '기억이', '기억이안나', '기억하고', '기여워', '기왕', '기준', '기준으로', '기차', '기차가', '기차는', '기차도', '기차에서', '기차타고', '기침', '기타', '기프티콘', '기회', '기회가', '기회되면', '긱사', '긱사에서', '길거리', '길게', '길면', '길어', '길어서', '길에', '길에서', '길을', '길이', '김가네', '김가루', '김말이', '김밥', '김밥도', '김밥에', '김밥으로', '김밥은', '김밥을', '김밥이', '김밥이랑', '김밥천국', '김볶', '김볶밥', '김에', '김은', '김이랑', '김장', '김찌', '김천', '김치', '김치가', '김치는', '김치도', '김치랑', '김치를', '김치만', '김치만두', '김치볶음밥', '김치부침개', '김치에', '김치전', '김치찌개', '김치찌개가', '김치찌개는', '김치찌개도', '김치찌개를', '김치찌개에', '김치찌게', '김치찜', '김포', '김포공항', '김포로', '김피탕', '김해', '김해에서', '깊은', '까까', '까르보', '까르보나라', '까먹고', '까먹어서', '까먹었다', '까먹었어', '까먹음', '까비', '까서', '까지', '까지는', '까페', '깍두기', '깐풍기', '깔고', '깔깔', '깔깔깔', '깔끔', '깔끔하게', '깔끔하고', '깔끔한', '깔끔해', '깔라만시', '깜놀', '깜빡', '깜빡하고', '깜짝', '깻잎', '깼어', '꺄륵', '꺄륵ㅋㅋ', '꺄아', '꺄아아아', '꺄오', '꺄울', '꺼내', '꺼내서', '꺼억', '꺼져', '껄껄', '껍데기', '껍질', '껴서', '꼬기', '꼬깔콘', '꼬꼬', '꼬르륵', '꼬막', '꼬막비빔밥', '꼬박꼬박', '꼬북칩', '꼬셔서', '꼬치', '꼭꼭', '꼼장어', '꽃게', '꽃게랑', '꽃게탕', '꽃놀이', '꽃다발', '꽈배기', '꽉차서', '꽤나', '꾸덕한', '꾸랭', '꾸준히', '꿀꿀', '꿀맛', '꿀맛임', '꿀잠', '꿈에서', '꿔바로우', '뀨우', '끊고', '끊어', '끊었어', '끊으면', '끊음', '끌고', '끓여', '끓여서', '끓이고', '끓이는', '끓이면', '끓인', '끓임', '끝까지', '끝나', '끝나거', '끝나고', '끝나구', '끝나나', '끝나는', '끝나는거', '끝나는데', '끝나니까', '끝나떠', '끝나면', '끝나서', '끝나써', '끝나야', '끝나요', '끝나자마자', '끝나지', '끝난', '끝난다', '끝날', '끝날거', '끝날거같아', '끝날듯', '끝날때', '끝날때까지', '끝남', '끝낫어', '끝났고', '끝났네', '끝났는데', '끝났다', '끝났어', '끝났어요', '끝났엉', '끝났오', '끝났으면', '끝낭', '끝내고', '끝맛이', '끝에', '끝이', '끝이야', '끝인데', '끼고', '끼리', '끼면', '낄낄', '낄낄ㅋㅋ', '나가', '나가게', '나가고', '나가기', '나가는', '나가는거', '나가는건', '나가는게', '나가는데', '나가는중', '나가니까', '나가도', '나가려고', '나가려구', '나가면', '나가면서', '나가서', '나가야', '나가야지', '나가요', '나가용', '나가자', '나가지', '나간김에', '나간다', '나간당', '나갈', '나갈거야', '나갈게', '나갈게요', '나갈겡', '나갈까', '나갈께', '나갈듯', '나갈때', '나갈라고', '나갈준비', '나감', '나갔다', '나갔다가', '나갔어', '나고', '나그거', '나그럼', '나근데', '나까지', '나나', '나나나', '나내일', '나네', '나눈', '나눠', '나눠서', '나눠주고', '나는', '나는데', '나능', '나니', '나니까', '나대신', '나더', '나던데', '나도', '나도그래', '나도나도', '나도먹고싶다', '나도야', '나도오늘', '나도줘', '나돈데', '나동', '나두', '나두나두', '나둥', '나듀', '나들이', '나때문에', '나땜에', '나라', '나라면', '나랑', '나랑같이', '나랑도', '나랑은', '나를', '나름', '나만', '나머지', '나머지는', '나머진', '나면', '나무', '나물', '나방금', '나배고파', '나베', '나보고', '나보다', '나빠', '나빼고', '나쁘지', '나쁘지않지', '나쁘진', '나쁜', '나서', '나아', '나아직', '나야', '나야말로', '나어제', '나에게', '나에겐', '나였으면', '나오게', '나오겠지', '나오고', '나오기', '나오나', '나오네', '나오는', '나오는거', '나오는게', '나오는데', '나오늘', '나오니', '나오니까', '나오더라', '나오던데', '나오라고', '나오려나', '나오면', '나오셈', '나오자마자', '나오지', '나온', '나온거', '나온김에', '나온다', '나온다고', '나온대', '나온데', '나올', '나올거야', '나올때', '나올래', '나옴', '나와', '나와도', '나와따', '나와라', '나와서', '나와써', '나와야', '나와야지', '나와요', '나와용', '나왓는데', '나왓다', '나왓어', '나왓오', '나왔네', '나왔는데', '나왔다', '나왔다고', '나왔당', '나왔대', '나왔더라', '나왔어', '나왔어요', '나왔엉', '나왔오', '나왔옹', '나왔음', '나왔지', '나왕', '나요즘', '나으니까', '나으려나', '나으면', '나은데', '나은듯', '나을', '나을거', '나을거같아', '나을까', '나을듯', '나음', '나의', '나이', '나이스', '나이제', '나이키', '나일단', '나좀', '나중에', '나중엔', '나줘', '나지', '나지금', '나진짜', '나처럼', '나트륨', '나한테', '나한테는', '나한테도', '나한텐', '나혼자', '낙곱새', '낙지', '낙지랑', '낙지볶음', '낚시', '난다', '난다고', '난또', '난리', '난리남', '난리네', '난린데', '난오늘', '난이제', '난중에', '난지금', '날까', '날도', '날로', '날씨', '날씨가', '날씨는', '날씨도', '날씨야', '날씨에', '날아가서', '날에', '날은', '날을', '날이', '날이라', '날이야', '날인데', '날잡고', '날잡아서', '날짜', '날짜가', '날짜는', '날짜를', '날짜만', '날치알', '남겨', '남겨서', '남겼어', '남고', '남기고', '남기면', '남김', '남는', '남산', '남아', '남아따', '남아서', '남앗어', '남았네', '남았는데', '남았다', '남았어', '남았어요', '남았오', '남았으니까', '남양주', '남원', '남으면', '남은', '남은거', '남은건', '남음', '남이', '남이섬', '남자', '남자가', '남자친구', '남자친구가', '남자친구랑', '남친', '남친이', '남친이랑', '남편', '남편은', '남편이', '남포', '남포동', '남해', '낫겠다', '낫겠지', '낫고', '낫나', '낫다', '낫더라', '낫지', '낫지않나', '낫지않아', '낫지않을까', '났어', '낮부터', '낮술', '낮에', '낮에는', '낮에도', '낮엔', '낮은', '낮잠', '내가', '내거', '내것도', '내고', '내기', '내기준', '내꺼', '내꺼는', '내꺼도', '내꺼야', '내껀', '내꾸', '내꾸ㅎㅎ', '내꾸가', '내꾸꾸', '내꾸는', '내꾸당', '내꾸도', '내꾸동', '내꾸랑', '내꾸우', '내꾸우ㅎㅎ', '내꾼', '내내', '내년', '내년에', '내년에는', '내놔', '내는', '내님', '내님도', '내님은', '내님이', '내도', '내돈', '내돈으로', '내동생', '내랑', '내려', '내려가', '내려가는', '내려가는중', '내려가면', '내려가서', '내려갈게', '내려갈까', '내려감', '내려서', '내려오면', '내려와', '내려와서', '내려왕', '내려요', '내려용', '내려주고', '내렸는데', '내렸다', '내렸어', '내령', '내리고', '내리는', '내리면', '내리자마자', '내린다', '내린당', '내릴게', '내릴까', '내릴듯', '내릴때', '내림', '내만', '내말이', '내맘대로', '내면', '내몫까지', '내사랑', '내생각엔', '내서', '내스타일', '내스탈', '내용', '내일', '내일가서', '내일가자', '내일까지', '내일도', '내일두', '내일로', '내일만', '내일모레', '내일보자', '내일봐', '내일부터', '내일아침에', '내일은', '내일이', '내일이나', '내일이랑', '내일이면', '내일이야', '내장', '내차', '내취향', '내친구', '내친구가', '내친구도', '내쿠', '내쿠ㅎㅎ', '낼까지', '낼도', '낼모레', '낼봐', '낼부터', '낼부턴', '낼아침에', '낼은', '낼이', '냄비', '냄비밥', '냄비에', '냄새', '냄새가', '냄새나', '냄새는', '냄새도', '냉동', '냉동실', '냉동실에', '냉동실에서', '냉동으로', '냉면', '냉면은', '냉장고', '냉장고가', '냉장고에', '냉장고에서', '냐냐', '냐아', '냠냠', '너가', '너구리', '너꺼', '너낌', '너네', '너네가', '너네는', '너네도', '너네랑', '너네집', '너네집에', '너네집에서', '너넨', '너눈', '너는', '너도', '너두', '너랑', '너를', '너만', '너모', '너무', '너무나', '너무너무', '너무많아', '너무맛잇어', '너무멀어', '너무비싸', '너무좋다', '너무좋아', '너무좋지', '너무하네', '너무하다', '너무해', '너뮤', '너므', '너보다', '너에게', '너오면', '너의', '너처럼', '너한테', '너희', '너희가', '너희는', '넉넉잡아', '넉넉하게', '넉넉히', '넓고', '넓은', '넘게', '넘나', '넘나리', '넘넘', '넘모', '넘어', '넘어가', '넘어가면', '넘어가서', '넘어서', '넘어야', '넘으면', '넘을듯', '넘조아', '넘좋아', '넣고', '넣구', '넣는', '넣는게', '넣어', '넣어놓고', '넣어놔', '넣어도', '넣어서', '넣어야', '넣어야지', '넣어야해', '넣어주고', '넣어줘', '넣엇어', '넣었는데', '넣었어', '넣으면', '넣은', '넣은거야', '넣을', '넣을까', '넣음', '넣지', '네가', '네개', '네네', '네네네', '네네치킨', '네넴', '네넵', '네넹', '네비', '네서', '네시', '네시까지', '네시반', '네시에', '네시쯤', '네에', '네에에', '네에엥', '네엡', '네엥', '네이버', '네이버에', '네일', '넴넴', '넴지', '넵ㅎㅎ', '넵넵', '넷이', '넷이서', '넹ㅋㅋ', '넹ㅎㅎ', '넹넹', '넹넹넹', '노노', '노노노', '노놉', '노농', '노는', '노는거', '노는게', '노는데', '노는중', '노니까', '노답', '노랑통닭', '노래', '노래를', '노래방', '노량진', '노맛', '노맛이야', '노브랜드', '노상관', '노우', '노원', '노원에서', '노을', '노잼', '노트북', '녹아', '녹차', '녹차라떼', '논문', '놀거야', '놀게', '놀고', '놀고싶다', '놀구', '놀기', '놀까', '놀다', '놀다가', '놀다와', '놀다왕', '놀람', '놀래', '놀러', '놀러가', '놀러가고', '놀러가는거', '놀러가면', '놀러가서', '놀러가자', '놀러갈게', '놀러갈까', '놀러갈래', '놀러오면', '놀러와', '놀러왕', '놀면', '놀아', '놀아도', '놀아야지', '놀아요', '놀아줘', '놀았어', '놀이기구', '놀이터', '놀자', '놀장', '놀쟈', '놀지', '놉놉', '놉수', '놋북', '높아', '높아서', '높은', '놓고', '놓으면', '놓쳐서', '놓치면', '놓침', '놔두고', '뇸뇸', '누가', '누가보면', '누구', '누구누구', '누구랑', '누구야', '누구지', '누구한테', '누굴', '누나', '누나가', '누나는', '누나도', '누나랑', '누나야', '누나한테', '누난', '누룽지', '누워서', '누워있어', '누웟어', '눈도', '눈뜨자마자', '눈물', '눈물나', '눈물이', '눈앞에', '눈에', '눈와', '눈을', '눈이', '눈치', '눈치가', '눙물', '뉴질랜드', '느긋하게', '느껴져', '느끼', '느끼해', '느끼해서', '느낌', '느낌으로', '느낌은', '느낌이', '느낌이야', '느낌인데', '느려', '늦게', '늦게가면', '늦게까지', '늦게라도', '늦게와서', '늦나', '늦네', '늦는데', '늦어', '늦어도', '늦어서', '늦어요', '늦었네', '늦었다', '늦었어', '늦으면', '늦은', '늦을', '늦을거', '늦을거같아', '늦을듯', '늦을수도', '늦음', '늦잠', '늦지', '늦지않게', '니가', '니까', '니꺼', '니네', '니네집', '니는', '니도', '니들', '니랑', '님덜', '님들', '님은', '님이', '님이랑', '다가', '다같이', '다기', '다낭', '다녀', '다녀서', '다녀오고', '다녀오면', '다녀오세요', '다녀오자', '다녀온', '다녀올게', '다녀올게요', '다녀올까', '다녀올께', '다녀옴', '다녀와', '다녀와도', '다녀와서', '다녀와요', '다녀와용', '다녀와유', '다녀왔는데', '다녀왔어', '다녀왕', '다녔는데', '다는', '다니고', '다니면', '다니자', '다님', '다다음주에', '다담주', '다담주에', '다들', '다르게', '다르네', '다르다', '다르지', '다른', '다른가', '다른거', '다른거는', '다른건', '다른건가', '다른걸', '다른것도', '다른게', '다른곳', '다른곳도', '다른곳은', '다른날', '다른데', '다른데는', '다른데도', '다른데로', '다른데서', '다른사람들이', '다름', '다리', '다리가', '다리도', '다만', '다먹', '다먹고', '다먹구', '다먹어', '다먹어따', '다먹어써', '다먹엇당', '다먹엇어', '다먹었다', '다먹었어', '다먹었엉', '다먹었지', '다먹으면', '다먹음', '다묵고', '다섯개', '다섯시', '다섯시까지', '다섯시반', '다섯시반에', '다섯시에', '다섯시쯤', '다시', '다시다', '다시마', '다시한번', '다신', '다야', '다양하게', '다양한', '다옴', '다와가', '다왔어', '다욧', '다운', '다음', '다음기회에', '다음날', '다음달', '다음달에', '다음부터는', '다음에', '다음에는', '다음엔', '다음으로', '다음은', '다음이', '다음주', '다음주가', '다음주는', '다음주도', '다음주에', '다이소', '다이소에서', '다이어리', '다이어터', '다이어트', '다이어트는', '다이어트식', '다이어트에', '다져서', '다좋아', '다진마늘', '다쿠아즈', '다하고', '다하구', '다함', '다해', '다해서', '다했다', '다했어', '다행', '다행쓰', '다행이', '다행이구만', '다행이군', '다행이네', '다행이네요', '다행이넹', '다행이다', '다행이당', '다행이당ㅎㅎ', '다행이야', '다행이에요', '다행이지', '다행인데', '다행히', '닦고', '단거', '단게', '단계', '단골집', '단둘이', '단맛', '단맛이', '단무지', '단백질', '단백질은', '단백질이', '단지', '단짠단짠', '단체로', '단톡에', '단품', '단호박', '닫아서', '달걀', '달게', '달고', '달고나', '달다', '달달', '달달하니', '달달한', '달달한거', '달달한게', '달달해', '달달해서', '달더라', '달라', '달라고', '달라서', '달려', '달려갈게', '달력에', '달아', '달아서', '달인', '달지', '달콤', '달콤하고', '닭가슴살', '닭가슴살도', '닭가슴살에', '닭가슴살은', '닭가슴살을', '닭가슴살이랑', '닭갈비', '닭강정', '닭고기', '닭꼬치', '닭다리', '닭도리탕', '닭똥집', '닭발', '닭발도', '닭발은', '닭백숙', '닭볶음탕', '닭은', '닭이', '닭죽', '닭찌찌', '닭한마리', '담고', '담궈서', '담날', '담달', '담달에', '담배', '담백하고', '담백한', '담번에', '담부터', '담부턴', '담아서', '담양', '담에', '담에는', '담엔', '담은', '담주', '담주가', '담주나', '담주는', '담주도', '담주부터', '담주에', '담주엔', '담쥬', '답답해', '답을', '답이', '답장', '답장이', '당건', '당근', '당근당근', '당근이지', '당근케이크', '당당하게', '당도', '당면', '당분간', '당분간은', '당신', '당신은', '당신의', '당신이', '당연', '당연하죠', '당연하지', '당연하징', '당연히', '당욘', '당욘하지', '당이', '당일', '당일날', '당일로', '당일에', '당일치기', '당일치기로', '당장', '당첨', '당황', '대강', '대게', '대고', '대구', '대구가서', '대구는', '대구에', '대구에서', '대기', '대기중', '대단', '대단쓰', '대단하네', '대단하다', '대단한', '대단한데', '대단해', '대답', '대답해', '대략', '대로', '대리', '대리님이', '대만', '대만에서', '대박', '대박대박', '대박쓰', '대박이네', '대박이다', '대박이당', '대박이야', '대박이지', '대부도', '대부분', '대신', '대신에', '대여', '대전', '대전에', '대전에서', '대존맛', '대중교통', '대지', '대창', '대체', '대추', '대충', '대충먹고', '대충이라도', '대파', '대패', '대하', '대학', '대학교', '대학로', '대한', '대한항공', '대해', '대해서', '더라', '더럽게', '더맛있어', '더먹어', '더부룩해', '더블', '더우니까', '더우면', '더욱', '더운데', '더워', '더워서', '더웡', '더위사냥', '더이상', '덕복이', '덕분에', '덕에', '던킨', '덜덜', '덜어서', '덥네', '덥다', '덥지', '덮밥', '데꼬', '데꾸', '데려가', '데려다', '데려다주고', '데려다주면', '데로', '데리고', '데리러', '데리러갈게', '데리러갈까', '데릴러', '데워서', '데이터', '데이트', '데헷', '델꼬', '델러', '델리만쥬', '도가니탕', '도너츠', '도넛', '도대체', '도랏', '도로', '도미노', '도미노피자', '도서관', '도서관에서', '도수가', '도시락', '도시락은', '도시락을', '도시락이', '도움이', '도저히', '도전', '도착', '도착시간', '도착쓰', '도착예정', '도착은', '도착이', '도착이야', '도착인데', '도착하겠네', '도착하겠다', '도착하고', '도착하는', '도착하는데', '도착하니까', '도착하려면', '도착하면', '도착하자마자', '도착하지', '도착한대', '도착할', '도착할거', '도착할거같아', '도착할거같은데', '도착할거야', '도착할듯', '도착할때쯤', '도착함', '도착해', '도착해서', '도착해써', '도착해요', '도착햇어', '도착했네', '도착했는데', '도착했다', '도착했어', '도착했어요', '도착했엉', '도착했오', '도착했옹', '도착했음', '도쿄', '독서실', '독일', '독특한', '돈가스', '돈가스는', '돈까스', '돈까스가', '돈까스는', '돈까스도', '돈까스랑', '돈까스를', '돈까스집', '돈까쓰', '돈내고', '돈도', '돈만', '돈없어', '돈없어서', '돈으로', '돈은', '돈을', '돈이', '돈주고', '돌고', '돌려', '돌려서', '돌리고', '돌리면', '돌아', '돌아가', '돌아가는', '돌아다니고', '돌아다니다가', '돌아다니지', '돌아오는', '돌아오면', '돌아와서', '돌잔치', '돗자리', '동그라미', '동그란', '동기', '동기들', '동남아', '동남아는', '동네', '동네는', '동네로', '동네에', '동네에서', '동대구', '동대문', '동물원', '동방에서', '동생', '동생도', '동생은', '동생이', '동생이랑', '동생한테', '동선', '동선이', '동성로', '동시에', '동아리', '동안', '동영상', '동쪽', '동치미', '동탄', '동파육', '동해', '돼서', '돼야', '돼요', '돼지', '돼지가', '돼지갈비', '돼지고기', '돼지고기는', '돼지국밥', '돼지는', '돼지야', '됏어', '됐나', '됐네', '됐는데', '됐다', '됐어', '됐으면', '됐지', '되거든', '되게', '되게따', '되겟네', '되겟다', '되겟당', '되겠군', '되겠네', '되겠넹', '되겠다', '되겠당', '되겠어', '되겠지', '되고', '되공', '되구', '되궁', '되긴', '되나', '되나여', '되나요', '되냐', '되냐고', '되네', '되는', '되는거', '되는거야', '되는거지', '되는건가', '되는구나', '되는데', '되는뎅', '되는디', '되는지', '되니', '되니까', '되니깐', '되더라', '되더라고', '되도록', '되려나', '되면', '되서', '되야', '되어', '되어서', '되어야', '되었어', '되여', '되요', '되용', '되자나', '되잖아', '되죠', '되지', '되지않을까', '되징', '된거', '된다', '된다고', '된다는데', '된다면', '된대', '된데', '된장', '된장국', '된장이', '된장찌개', '된장찌게', '된찌', '될거', '될거같아', '될거같아요', '될거같은데', '될거야', '될걸', '될것', '될것같아', '될까', '될까요', '될꺼야', '될껄', '될듯', '될때', '될라나', '될수도', '될지', '될텐데', '됨ㅋㅋㅋ', '됩니까', '됩니다', '두개', '두개가', '두개나', '두개는', '두개다', '두개를', '두개만', '두개씩', '두고', '두공기', '두군데', '두그릇', '두근', '두근두근', '두꺼운', '두꺼운거', '두꺼워서', '두끼', '두끼는', '두둥', '두루치기', '두마리', '두명', '두배', '두번', '두번이나', '두번째', '두병', '두부', '두부는', '두부랑', '두부를', '두분', '두세시간', '두시', '두시간', '두시까지', '두시반', '두시에', '두시쯤', '두유', '두유는', '두유랑', '두잔', '두장', '두정거장', '두조각', '두판', '둘다', '둘러보고', '둘레길', '둘만', '둘은', '둘이', '둘이서', '둘중', '둘중에', '둘째', '둘째날', '둘째날은', '둘째는', '뒤로', '뒤에', '드네', '드뎌', '드디어', '드라마', '드라이브', '드럽게', '드레싱', '드롭탑', '드리고', '드림', '드립니다', '드삼', '드세여', '드세요', '드세용', '드셈', '드셔', '드셔요', '드셧나여', '드셨나요', '드셨어여', '드셨어요', '드시고', '드시라고', '드시면', '드시지', '드실', '드심', '든거', '든다', '든든하게', '든든히', '듣고', '듣고보니', '듣기만해도', '듣는', '들가서', '들고', '들고갈게', '들기름에', '들러서', '들렀다', '들렀다가', '들려', '들려서', '들렸다', '들렸다가', '들릴까', '들어', '들어가', '들어가고', '들어가네', '들어가는', '들어가는거', '들어가는데', '들어가니까', '들어가도', '들어가면', '들어가서', '들어가야', '들어가야지', '들어가요', '들어가있어', '들어가자', '들어가자마자', '들어간', '들어간거', '들어간다', '들어갈', '들어갈게', '들어갈게요', '들어감', '들어갔는데', '들어갔어', '들어는', '들어도', '들어봄', '들어봐', '들어서', '들어오고', '들어오는', '들어오면', '들어올때', '들어옴', '들어와', '들어와서', '들어왔는데', '들어왔어', '들어왔어요', '들어있고', '들어있는', '들어있는거', '들어있어', '들어있어서', '들엇어', '들었는데', '들었어', '들으면', '들은거', '들음', '듬뿍', '등갈비', '등등', '등산', '등심', '디게', '디너', '디저트', '디저트는', '디저트로', '디즈니', '디즈니랜드', '디카페인', '딤섬', '따듯한', '따뜻하게', '따뜻한', '따뜻한거', '따뜻해', '따라', '따라서', '따로', '따릉이', '따숩게', '따시게', '따지면', '따흐흑', '따흑', '딱봐도', '딱새우', '딱이네', '딱이다', '딱이야', '딱이지', '딱인데', '딱좋아', '딱히', '딴거', '딴데', '딴데서', '딸기', '딸기가', '딸기는', '딸기도', '딸기라떼', '딸기랑', '딸기우유', '딸기잼', '딸기청', '땀이', '땅땅', '땅땅땅', '땅콩', '때가', '때까지', '때는', '때도', '때려', '때리고', '때마다', '때매', '때문에', '땜시', '땜에', '땡겨', '땡겨서', '땡겼는데', '땡교', '땡기고', '땡기네', '땡기는', '땡기는거', '땡기는건', '땡기는게', '땡기는데', '땡기면', '땡기지', '땡긴다', '땡길때', '땡김', '땡초', '땡큐', '떠나', '떠나고', '떠서', '떡갈비', '떡국', '떡도', '떡만두국', '떡보끼', '떡복이', '떡볶이', '떡볶이가', '떡볶이는', '떡볶이도', '떡볶이랑', '떡볶이를', '떡볶이만', '떡볶이에', '떡볶이집', '떡뽁이', '떡은', '떡을', '떡이', '떡이랑', '떡집', '떨려', '떨린다', '떨어져', '떨어져서', '떨어지면', '떨어짐', '떼잉', '또가자', '또는', '또르르', '또르륵', '또륵', '또먹고싶다', '또옥', '똑같네', '똑같다', '똑같아', '똑같애', '똑같은', '똑같은거', '똑같은데', '똑같이', '똑같지', '똑똑', '똑똑해', '똠양꿍', '똥집', '뚝딱', '뚝배기', '뛰어', '뜨거운', '뜨거운거', '뜨거운물', '뜨고', '뜨끈한', '뜨는데', '뜨면', '뜨시게', '뜨신', '뜬금', '뜯어서', '뜻이', '띠옹', '띠용', '라고', '라구', '라는', '라떼', '라떼가', '라떼는', '라떼랑', '라마다', '라멘', '라멘은', '라멘집', '라면', '라면도', '라면만', '라면먹고', '라면사리', '라면에', '라면으로', '라면은', '라면을', '라면이', '라면이나', '라면이랑', '라묜', '라볶이', '라서', '라오스', '라인', '랍스터', '랑도', '랑은', '러시아', '런던', '런치', '레드', '레몬', '레스토랑', '레슨', '레시피', '레시피가', '레시피로', '레알', '레전드', '렌즈', '렌지', '렌지에', '렌터카', '렌트', '렌트카', '렌트해서', '로또', '로비', '로제', '롤케익', '롯데', '롯데리아', '롯데리아는', '롯데마트', '롯데몰', '롯데시네마', '롯데월드', '롯리', '롯백', '롱패딩', '루꼴라', '루트', '루프탑', '룰루', '룰루랄라', '리뷰', '리스트', '리얼', '리조또', '리조트', '리필', '린정', '링크', '마감', '마나', '마냥', '마누라', '마늘', '마늘도', '마늘맛', '마늘바게트', '마늘빵', '마니', '마니마니', '마니머거', '마니머겅', '마니먹어', '마니와', '마다', '마들렌', '마따', '마라', '마라샹궈', '마라탕', '마라탕도', '마라탕에', '마라탕은', '마라탕집', '마리', '마무리', '마무리하고', '마미', '마사지', '마산', '마세요', '마셔', '마셔도', '마셔서', '마셔야', '마셔야지', '마셔야징', '마셔야해', '마셔요', '마셨나', '마셨는데', '마셨다', '마셨어', '마스크', '마시게', '마시고', '마시고싶다', '마시구', '마시는', '마시는거', '마시는데', '마시는중', '마시니까', '마시따', '마시러', '마시려고', '마시멜로', '마시면', '마시면서', '마시써', '마시자', '마시지', '마신', '마실', '마실거', '마실거야', '마실까', '마실래', '마심', '마싯', '마싯게', '마싯게따', '마싯겟다', '마싯겟당', '마싯겠다', '마싯는거', '마싯다', '마싯서', '마싯어', '마요', '마요네즈', '마음', '마음대로', '마음만', '마음에', '마음으로', '마음은', '마음을', '마음의', '마음이', '마이', '마일리지로', '마자', '마자마자', '마자여', '마자옄ㅋㅋ', '마자요', '마자용', '마장', '마쟈', '마쟈마쟈', '마쟝', '마저', '마져', '마져마져', '마죠', '마중', '마즘', '마지막', '마지막날', '마지막에', '마지막으로', '마지막을', '마지막주', '마지막주에', '마쳐', '마쳐서', '마치', '마치고', '마치구', '마치는', '마치면', '마침', '마카롱', '마카롱도', '마카롱에', '마카롱은', '마카롱을', '마카롱이', '마카오', '마켓컬리', '마트', '마트가면', '마트가서', '마트에', '마트에서', '마파두부', '마포', '막걸리', '막걸리는', '막걸리랑', '막국수', '막내', '막상', '막차', '막차가', '막창', '막혀', '막혀서', '막히네', '막힌다', '막힘', '만나', '만나게', '만나고', '만나구', '만나기', '만나기로', '만나기로했어', '만나까', '만나나', '만나나요', '만나는', '만나는거', '만나는건', '만나는게', '만나는데', '만나니까', '만나도', '만나러', '만나면', '만나서', '만나야', '만나야지', '만나여', '만나요', '만나용', '만나유', '만나자', '만나자고', '만나장', '만나쟈', '만나쟝', '만나지', '만나지말자', '만난다', '만난다고', '만날', '만날거면', '만날거야', '만날까', '만날까요', '만날때', '만날래', '만날수', '만남', '만났는데', '만났어', '만났어요', '만낭', '만두', '만두가', '만두국', '만두는', '만두도', '만두랑', '만두를', '만두만', '만두전골', '만둣국', '만드는', '만드는거', '만드는데', '만든', '만든거', '만든거야', '만든게', '만들', '만들게', '만들고', '만들기', '만들까', '만들때', '만들면', '만들수', '만들어', '만들어도', '만들어봐', '만들어서', '만들어야', '만들어야지', '만들어준', '만들어줄게', '만들어줘', '만들었는데', '만들었어', '만들자', '만들지', '만약', '만약에', '만에', '만원', '만원에', '만원이면', '만원인데', '만원짜리', '만족', '만찬', '만큼', '만한', '만화카페', '많겠다', '많고', '많구', '많구나', '많긴', '많나', '많나봐', '많네', '많넹', '많다', '많다고', '많당', '많더라', '많더라고', '많더라구', '많던데', '많데', '많아', '많아서', '많아여', '많아요', '많아져서', '많았어', '많았어요', '많앙', '많어', '많으니', '많으니까', '많으니깐', '많으면', '많은', '많은가', '많은거', '많은데', '많은듯', '많은지', '많을', '많을거야', '많을듯', '많음', '많이', '많이는', '많이도', '많이들', '많이많이', '많이먹어', '많이먹어서', '많이먹었어', '많이먹으면', '많이먹음', '많이해서', '많자나', '많잖아', '많지', '많지는', '말고', '말고는', '말고도', '말곤', '말구', '말까', '말대로', '말도', '말도안돼', '말라', '말라고', '말로', '말로는', '말리고', '말만', '말씀', '말아', '말아서', '말아요', '말야', '말어', '말에', '말은', '말을', '말이', '말이야', '말이지', '말인가', '말인데', '말자', '말지', '말차', '말투', '말하고', '말하기', '말하는', '말하는거', '말하는거야', '말하는거지', '말하는건가', '말하는게', '말하니까', '말하면', '말하자', '말하지', '말한', '말한거', '말한거야', '말할', '말할게', '말함', '말해', '말해뭐해', '말해바', '말해봐', '말해서', '말해요', '말해조', '말해죠', '말해주께', '말해주면', '말해줄게', '말해줌', '말해줘', '말해줘요', '말해줭', '말했는데', '말했던', '말했어', '말했자나', '말했잖아', '맘껏', '맘대로', '맘대루', '맘마', '맘스터치', '맘에', '맘에들어', '맘은', '맘이', '맘터', '맘터는', '맘편히', '맙소사', '맛나', '맛나게', '맛나겟다', '맛나겟당', '맛나겠네', '맛나겠다', '맛나겠당', '맛나고', '맛나네', '맛나다', '맛나대', '맛나더라', '맛나맛나', '맛나면', '맛나보여', '맛나보인다', '맛나서', '맛나요', '맛나지', '맛난', '맛난거', '맛난걸로', '맛난데', '맛남', '맛났어', '맛도', '맛동산', '맛만', '맛보고', '맛없게', '맛없고', '맛없는', '맛없는거', '맛없는데', '맛없다', '맛없다고', '맛없대', '맛없더라', '맛없어', '맛없어도', '맛없어서', '맛없었어', '맛없엉', '맛없으면', '맛없음', '맛없지', '맛에', '맛으로', '맛은', '맛을', '맛이', '맛이나', '맛이다', '맛이써', '맛이야', '맛이없어', '맛이없어서', '맛이지', '맛인가', '맛인데', '맛인지', '맛일까', '맛임', '맛잇게', '맛잇게먹어', '맛잇게먹어용', '맛잇겟네', '맛잇겟다', '맛잇겟당', '맛잇겠다', '맛잇고', '맛잇긴', '맛잇나', '맛잇냐', '맛잇네', '맛잇는', '맛잇는거', '맛잇는게', '맛잇는데', '맛잇니', '맛잇다', '맛잇다고', '맛잇당', '맛잇대', '맛잇더라', '맛잇던데', '맛잇드라', '맛잇디', '맛잇어', '맛잇어보여', '맛잇어서', '맛잇엇겟다', '맛잇엇는데', '맛잇엇어', '맛잇엉', '맛잇오', '맛잇을듯', '맛잇음', '맛잇자나', '맛잇지', '맛있', '맛있게', '맛있게따', '맛있게먹어', '맛있게먹어요', '맛있게먹엉', '맛있겟다', '맛있겠구만', '맛있겠군', '맛있겠네', '맛있겠네요', '맛있겠노', '맛있겠는데', '맛있겠다', '맛있겠다ㅠㅠ', '맛있겠당', '맛있겠따', '맛있겠어', '맛있겠지', '맛있고', '맛있긴', '맛있긴하지', '맛있긴한데', '맛있긴해', '맛있길래', '맛있나', '맛있나보네', '맛있나봐', '맛있냐', '맛있네', '맛있넹', '맛있는', '맛있는거', '맛있는거같아', '맛있는거먹고', '맛있는거먹어', '맛있는거야', '맛있는건', '맛있는걸', '맛있는걸로', '맛있는것도', '맛있는게', '맛있는데', '맛있는뎅', '맛있는듯', '맛있는디', '맛있는지', '맛있는집', '맛있니', '맛있다', '맛있다고', '맛있다구', '맛있다는', '맛있다는데', '맛있다던데', '맛있당', '맛있대', '맛있더라', '맛있더라고', '맛있더라구', '맛있더랑', '맛있던데', '맛있데', '맛있드라', '맛있디', '맛있어', '맛있어보여', '맛있어보이는데', '맛있어보인다', '맛있어서', '맛있어야', '맛있어요', '맛있엇어', '맛있었겠네', '맛있었겠다', '맛있었는데', '맛있었다', '맛있었던', '맛있었어', '맛있었어요', '맛있었엉', '맛있었오', '맛있었음', '맛있었지', '맛있엉', '맛있오', '맛있옹', '맛있으니까', '맛있으려나', '맛있으면', '맛있을', '맛있을거', '맛있을거같아', '맛있을거같은데', '맛있을거야', '맛있을까', '맛있을듯', '맛있음', '맛있자나', '맛있잖아', '맛있제', '맛있져', '맛있죠', '맛있지', '맛있지만', '맛있징', '맛잘알', '맛점', '맛점해요', '맛점해용', '맛집', '맛집도', '맛집은', '맛집을', '맛집이', '맛집이래', '맛집이야', '맛집임', '맛초킹', '망고', '망고는', '망고랑', '망원동', '망할', '망함', '망했어', '맞게', '맞겠다', '맞겠지', '맞고', '맞나', '맞나ㅋㅋ', '맞네', '맞넹', '맞는', '맞는거', '맞는데', '맞는듯', '맞니', '맞다', '맞다고', '맞다맞다', '맞당', '맞습니다', '맞아', '맞아ㅋㅋ', '맞아ㅋㅋㅋ', '맞아맞아', '맞아맞앙ㅎㅎ', '맞아서', '맞아여', '맞아요', '맞아용', '맞앙', '맞앙ㅎㅎ', '맞어', '맞어맞어', '맞엉', '맞오', '맞으면', '맞은편', '맞을걸', '맞을듯', '맞음', '맞제', '맞죠', '맞지', '맞지맞지', '맞추고', '맞추기', '맞추자', '맞춤법', '맞춰', '맞춰봐', '맞춰서', '맞춰야지', '맡기고', '매년', '매니저님', '매떡', '매번', '매실', '매우', '매우면', '매운', '매운거', '매운걸', '매운게', '매운데', '매운맛', '매운맛은', '매운맛이', '매운탕', '매움', '매워', '매워서', '매웠어', '매일', '매일매일', '매장', '매장에', '매장에서', '매장이', '매점에서', '매주', '매진', '매콤', '매콤한', '매콤한거', '매형이', '맥날', '맥날은', '맥날이', '맥도날드', '맥모닝', '맥윙', '맥주', '맥주가', '맥주나', '맥주는', '맥주도', '맥주랑', '맥주를', '맥주만', '맥주에', '맥주한잔', '맨날', '맨투맨', '맵게', '맵고', '맵다', '맵다고', '맵지', '머가', '머거', '머거도', '머거떠', '머거라', '머거서', '머거써', '머거야지', '머거요', '머것어', '머겅', '머고', '머그까', '머그러', '머그면', '머글거야', '머글까', '머글꺼야', '머글래', '머금', '머냐', '머네', '머니까', '머라도', '머래', '머리', '머리가', '머리는', '머리도', '머리를', '머리만', '머리에', '머먹게', '머먹냐', '머먹어', '머먹엇어', '머먹었어', '머먹엉', '머먹을지', '머먹지', '머먹징', '머묵지', '머야', '머양', '머여', '머임', '머지', '머텅아', '머핀', '머하냐', '머하니', '머하지', '머해', '머해용', '머행', '먹거나', '먹거든', '먹게', '먹겠네', '먹겠다', '먹겠다고', '먹겠습니다', '먹겠어', '먹겠지', '먹고', '먹고가', '먹고갈까', '먹고나면', '먹고나서', '먹고는', '먹고도', '먹고시퍼', '먹고시픈거', '먹고싶고', '먹고싶네', '먹고싶넹', '먹고싶다', '먹고싶다고', '먹고싶당', '먹고싶대', '먹고싶따', '먹고싶어', '먹고싶어서', '먹고싶어요', '먹고싶어짐', '먹고싶었는데', '먹고싶었어', '먹고싶엉', '먹고싶오', '먹고싶으면', '먹고싶은', '먹고싶은거', '먹고싶은거야', '먹고싶은거있어', '먹고싶은건', '먹고싶은게', '먹고싶은데', '먹고싶을때', '먹고싶음', '먹고싶지', '먹고오자', '먹고올게', '먹고와', '먹고왔어', '먹고잇어', '먹고있는데', '먹고있어', '먹고파', '먹고픈거', '먹고픈데', '먹구', '먹구ㅎㅎ', '먹구시퍼', '먹구싶다', '먹구싶당', '먹구싶어', '먹구싶은거', '먹구올게', '먹구와', '먹구와요', '먹구왕', '먹구있어', '먹구있엉', '먹규', '먹기', '먹기가', '먹기는', '먹기도', '먹기로', '먹기로함', '먹기만', '먹기에는', '먹기엔', '먹기전에', '먹긴', '먹나', '먹나요', '먹나용', '먹냐', '먹네', '먹넹', '먹노', '먹느라', '먹는', '먹는거', '먹는거는', '먹는거면', '먹는거야', '먹는거얌', '먹는거임', '먹는거지', '먹는건', '먹는건가', '먹는건데', '먹는걸로', '먹는것도', '먹는게', '먹는겨', '먹는구나', '먹는다', '먹는다고', '먹는다구', '먹는다는', '먹는다면', '먹는당', '먹는대', '먹는데', '먹는뎅', '먹는듯', '먹는디', '먹는중', '먹는중이야', '먹는중인데', '먹는즁', '먹는지', '먹니', '먹다', '먹다가', '먹다남은', '먹다니', '먹다보니', '먹다보니까', '먹다보면', '먹더라', '먹던', '먹던가', '먹던거', '먹던데', '먹던지', '먹든', '먹든가', '먹든지', '먹방', '먹습니다', '먹어', '먹어ㅋㅋ', '먹어ㅎㅎ', '먹어도', '먹어도돼', '먹어도되고', '먹어두', '먹어따', '먹어떠', '먹어또용ㅎㅎ', '먹어라', '먹어랑', '먹어바', '먹어버려', '먹어보게', '먹어보고', '먹어보고싶다', '먹어보고싶어', '먹어보고싶은데', '먹어보까', '먹어보니까', '먹어보려고', '먹어보면', '먹어보자', '먹어보쟈', '먹어보지', '먹어본', '먹어본적', '먹어본적이', '먹어볼게', '먹어볼까', '먹어볼까나', '먹어볼래', '먹어봄', '먹어봐', '먹어봐서', '먹어봐야겠다', '먹어봐야지', '먹어봣는데', '먹어봣어', '먹어봤는데', '먹어봤다', '먹어봤어', '먹어봤지', '먹어서', '먹어써', '먹어야', '먹어야게따', '먹어야겟다', '먹어야겠네', '먹어야겠다', '먹어야겠당', '먹어야겠어', '먹어야대', '먹어야돼', '먹어야되는데', '먹어야제', '먹어야죠', '먹어야쥐', '먹어야지', '먹어야징', '먹어야하나', '먹어야하는데', '먹어야할듯', '먹어야할지', '먹어야함', '먹어야해', '먹어야해서', '먹어여', '먹어요', '먹어욤', '먹어용', '먹어유', '먹어줘', '먹어줘야', '먹어줘야지', '먹어쪄', '먹언', '먹엇냐', '먹엇네', '먹엇는데', '먹엇다', '먹엇더니', '먹엇던', '먹엇어', '먹엇엉', '먹엇오', '먹엇음', '먹엇지', '먹었거든', '먹었고', '먹었구', '먹었구나', '먹었나', '먹었나봐', '먹었냐', '먹었냥', '먹었네', '먹었넹', '먹었눈데', '먹었는데', '먹었는데도', '먹었는디', '먹었니', '먹었다', '먹었다고', '먹었다구', '먹었다니', '먹었당', '먹었대', '먹었더니', '먹었던', '먹었던거', '먹었따', '먹었습니다', '먹었어', '먹었어여', '먹었어요', '먹었어요ㅎㅎ', '먹었어용', '먹었었는데', '먹었엉', '먹었오', '먹었옹', '먹었으', '먹었으니', '먹었으니까', '먹었으면', '먹었을', '먹었을때', '먹었을텐데', '먹었음', '먹었자나', '먹었잖아', '먹었지', '먹었징', '먹었찌', '먹엉', '먹오', '먹옹', '먹으까', '먹으니', '먹으니까', '먹으니깐', '먹으라고', '먹으라구', '먹으래', '먹으러', '먹으러가', '먹으러가자', '먹으러간다', '먹으러갈까', '먹으러갈래', '먹으러옴', '먹으러와', '먹으려', '먹으려고', '먹으려구', '먹으려나', '먹으려다가', '먹으려면', '먹으렴', '먹으로', '먹으면', '먹으면되지', '먹으면서', '먹으믄', '먹으셈', '먹은', '먹은거', '먹은거야', '먹은거지', '먹은건', '먹은건데', '먹은게', '먹은겨', '먹은듯', '먹은지', '먹을', '먹을가', '먹을거', '먹을거같아', '먹을거같은데', '먹을거니까', '먹을거면', '먹을거야', '먹을거얌', '먹을거양', '먹을거임', '먹을거지', '먹을건', '먹을건데', '먹을건뎅', '먹을걸', '먹을것', '먹을것도', '먹을게', '먹을게요', '먹을겨', '먹을고야', '먹을까', '먹을까나', '먹을까요', '먹을깡', '먹을꺼', '먹을꺼면', '먹을꺼야', '먹을껀데', '먹을껄', '먹을께', '먹을꼬야', '먹을꾸야', '먹을듯', '먹을때', '먹을때는', '먹을때도', '먹을때마다', '먹을땐', '먹을라고', '먹을라구', '먹을라면', '먹을라했는데', '먹을래', '먹을래요', '먹을랫는데', '먹을랬는데', '먹을랭', '먹을려고', '먹을려구', '먹을려면', '먹을만', '먹을만한', '먹을만함', '먹을만해', '먹을수', '먹을수도', '먹을수있어', '먹을줄', '먹을지', '먹을테니', '먹을텐데', '먹음', '먹음ㅋㅋ', '먹음ㅋㅋㅋ', '먹읍시다', '먹이고', '먹자', '먹자ㅋㅋ', '먹자고', '먹자구', '먹자나', '먹자는데', '먹자마자', '먹자먹자', '먹자요', '먹잖아', '먹장', '먹쟈', '먹쟝', '먹죠', '먹지', '먹지는', '먹지도', '먹지마', '먹지말고', '먹지말구', '먹지말자', '먹지뭐', '먹진', '먹징', '먼가', '먼데', '먼뎅', '먼소리야', '먼저', '먼저가', '먼저가서', '먼지', '멀고', '멀긴', '멀다', '멀라', '멀리', '멀면', '멀어', '멀어서', '멀어요', '멀었어', '멀자나', '멀지', '멋있다', '멋있어', '멋져', '멋지네', '멋지다', '멋지지', '멋진', '멍게', '메가', '메가박스', '메가커피', '메뉴', '메뉴가', '메뉴는', '메뉴도', '메뉴로', '메뉴를', '메뉴판', '메동', '메로나', '메롱', '메리어트', '메모', '메이플', '메인', '메일', '메추리알', '멘보샤', '멘붕', '멜론', '며칠', '며칠전부터', '며칠전에', '면도', '면만', '면발', '면세점', '면은', '면을', '면이', '면접', '면허', '멸치', '명동', '명동에', '명란', '명란젓', '명랑핫도그', '명륜진사갈비', '명이나물', '명절', '명절에', '몇개', '몇개만', '몇군데', '몇명', '몇번', '몇분', '몇분에', '몇시', '몇시가', '몇시간', '몇시까지', '몇시로', '몇시부터', '몇시야', '몇시에', '몇시에가', '몇시에끝나', '몇시에만나', '몇시에와', '몇시에요', '몇시지', '몇시쯤', '몇시쯤에', '몇신데', '몇일', '몇일전에', '모가', '모냐', '모닝', '모닝빵', '모두', '모두가', '모든', '모든게', '모래', '모레', '모르게', '모르게따', '모르게써', '모르겟네', '모르겟는데', '모르겟다', '모르겟어', '모르겟오', '모르겠고', '모르겠네', '모르겠넹', '모르겠는데', '모르겠다', '모르겠당', '모르겠어', '모르겠어서', '모르겠어요', '모르겠엉', '모르겠오', '모르겠음', '모르겠지만', '모르고', '모르나', '모르는', '모르는데', '모르니', '모르니까', '모르니깐', '모르지', '모르지만', '모르징', '모른다', '모른다고', '모를', '모름', '모먹어', '모먹지', '모묵으료낭', '모묵으료낭ㅎㅎ', '모밀', '모습', '모습이', '모시고', '모아서', '모야', '모양', '모양이', '모여', '모여서', '모이는', '모이면', '모임', '모임은', '모자', '모자라서', '모자쓰고', '모지', '모징', '모짜렐라', '모텔', '모하냐', '모하니', '모하지', '모해', '모해ㅎ', '모해용', '모행', '모행ㅎ', '목금', '목금토', '목금토일', '목동', '목사님', '목살', '목소리', '목에', '목요일', '목요일날', '목요일도', '목요일에', '목요일은', '목요일이', '목욕탕', '목욜', '목욜날', '목욜에', '목욜은', '목이', '목포', '목표', '목표는', '목표로', '몫까지', '몬가', '몬나', '몬데', '몬스터', '몰겟네', '몰겠네', '몰겠다', '몰라', '몰라ㅋㅋ', '몰라도', '몰라서', '몰라여', '몰라요', '몰라용', '몰랏네', '몰랏어', '몰랐네', '몰랐는데', '몰랐어', '몰랐지', '몰랑', '몰래', '몰러', '몰아서', '몸도', '몸무게', '몸보신', '몸에', '몸에서', '몸은', '몸을', '몸이', '몹시', '못가', '못가겠다', '못가고', '못가네', '못가면', '못가서', '못가지', '못간다', '못간다고', '못갈듯', '못감', '못머거', '못머금', '못먹겠네', '못먹겠다', '못먹겠어', '못먹고', '못먹는', '못먹는게', '못먹는데', '못먹어', '못먹어서', '못먹어요', '못먹었어', '못먹었지', '못먹으니까', '못먹으면', '못먹은', '못먹음', '못먹자나', '못먹지', '못보겠네', '못보고', '못보니까', '못봄', '못봐', '못봐서', '못봤어', '못사', '못써', '못자고', '못자서', '못참지', '못하겠다', '못하겠어', '못하고', '못하구', '못하네', '못하는', '못하는거', '못하는데', '못하니까', '못하면', '못한', '못할', '못할듯', '못함', '못해', '못해도', '못해서', '못했네', '못했는데', '못했다', '못했어', '몽쉘', '묘하게', '무거워', '무국', '무난하게', '무라', '무려', '무료', '무료로', '무리', '무리하지', '무리해서', '무사히', '무생채', '무서운', '무서운데', '무서워', '무서워서', '무섭', '무섭네', '무섭다', '무섭지', '무슨', '무슨라면', '무슨말이야', '무슨맛', '무슨맛이야', '무슨맛인지', '무슨빵', '무슨일', '무슨일이야', '무시', '무야지', '무얼', '무엇', '무엇을', '무엇이', '무적권', '무제한', '무조건', '무조건이지', '무족권', '무지', '무튼', '무한', '무한리필', '무한리필집', '무화과', '묵고', '묵고싶다', '묵구', '묵나', '묵는구낭ㅎㅎ', '묵는다능ㅎㅎ', '묵어', '묵어꾸나ㅎㅎ', '묵어꾸낭ㅎㅎ', '묵어도', '묵어따능ㅎㅎ', '묵어또ㅎㅎ', '묵어또용ㅎㅎ', '묵어볼게용ㅎㅎ', '묵어서', '묵어야', '묵어야지', '묵어야하는데', '묵어용ㅎㅎ', '묵었어', '묵었으료낭', '묵으러', '묵으료나', '묵으료낭ㅎㅎ', '묵으면', '묵은지', '묵을', '묵을까', '묵음', '묵자', '묵쟈', '문닫아서', '문앞에', '문어', '문을', '문자', '문제', '문제가', '문제네', '문제는', '문제다', '문제야', '문제지', '물가', '물가가', '물건', '물고기', '물넣고', '물놀이', '물도', '물려', '물로', '물론', '물론이지', '물만', '물어', '물어바', '물어보고', '물어보께', '물어보니까', '물어보면', '물어보자', '물어보지', '물어볼게', '물어볼겡', '물어볼까', '물어볼께', '물어봄', '물어봐', '물어봐바', '물어봐봐', '물어봐야겠다', '물어봐야지', '물어봐줘', '물어봤는데', '물어봤더니', '물어봤어', '물에', '물은', '물을', '물이', '물이랑', '물회', '뭐가', '뭐게', '뭐고', '뭐꼬', '뭐냐', '뭐냐고', '뭐니', '뭐더라', '뭐든', '뭐든지', '뭐라', '뭐라고', '뭐라도', '뭐라두', '뭐랄까', '뭐람', '뭐랑', '뭐래', '뭐로', '뭐를', '뭐머겅', '뭐먹', '뭐먹게', '뭐먹고', '뭐먹고싶어', '뭐먹나', '뭐먹냐', '뭐먹냥', '뭐먹는데', '뭐먹는지', '뭐먹니', '뭐먹어', '뭐먹어써', '뭐먹어요', '뭐먹어용', '뭐먹엇어', '뭐먹었는데', '뭐먹었어', '뭐먹었어요', '뭐먹엉', '뭐먹으까', '뭐먹을거야', '뭐먹을까', '뭐먹을래', '뭐먹을지', '뭐먹음', '뭐먹지', '뭐먹징', '뭐묵지', '뭐뭐', '뭐시기', '뭐야', '뭐야뭐야', '뭐얌', '뭐양', '뭐얔ㅋㅋㅋㅋ', '뭐어때', '뭐에', '뭐에요', '뭐여', '뭐였지', '뭐요', '뭐이리', '뭐임', '뭐있어', '뭐있지', '뭐좀', '뭐죠', '뭐지', '뭐징', '뭐하게', '뭐하고', '뭐하나', '뭐하냐', '뭐하노', '뭐하는데', '뭐하니', '뭐하러', '뭐하지', '뭐할까', '뭐할지', '뭐함', '뭐해', '뭐해요', '뭐했어', '뭐행', '뭔가', '뭔데', '뭔데요', '뭔뎅', '뭔들', '뭔디', '뭔말이야', '뭔소리야', '뭔지', '뭘까', '뭘로', '뮤당', '뮤슨', '뮤지컬', '미국', '미국에서', '미국은', '미나리', '미니', '미루고', '미뤄', '미리', '미리가서', '미리미리', '미린', '미분당', '미사', '미세먼지', '미소', '미술관', '미숫가루', '미아내', '미안', '미안미안', '미안하네', '미안하다', '미안하다고', '미안한데', '미안합니다', '미안해', '미안해서', '미안해요', '미안행', '미안혀', '미역', '미역국', '미역국에', '미역국은', '미역국이랑', '미용실', '미정', '미쳐', '미쳐따', '미쳣네', '미쳣다', '미쳣어', '미쳤나', '미쳤네', '미쳤다', '미쳤어', '미쳤음', '미쳤지', '미치겠네', '미치겠다', '미친', '미친듯이', '미침', '미트볼', '미틴', '미팅', '미피', '믹스커피', '민초', '민트', '민트초코', '믿고', '믿어', '믿어요', '밀가루', '밀가루가', '밀가루를', '밀려서', '밀면', '밀크티', '밀키트', '밀푀유', '밀푀유나베', '밑반찬', '밑반찬이', '밑에', '밑에는', '밑에서', '밑으로', '바가지', '바게트', '바글바글', '바껴서', '바꼈어', '바꾸고', '바꾸면', '바꿀까', '바꿈', '바꿔', '바꿔도', '바꿔서', '바꿨어', '바뀌고', '바뀌어서', '바뀜', '바나나', '바나나랑', '바나나우유', '바닐라', '바닐라라떼', '바다', '바다가', '바다는', '바다도', '바닥에', '바닷가', '바라는', '바람', '바람도', '바람에', '바람이', '바럼', '바로', '바로가면', '바로바로', '바루', '바르고', '바르셀로나', '바바', '바베큐', '바보', '바보다', '바보야', '바부', '바부넘', '바부러망', '바부럼', '바부야', '바부얌', '바부어럼', '바부엄', '바뷰럼', '바브엄', '바븐엄', '바빠', '바빠서', '바빠요', '바뻐', '바쁘게', '바쁘고', '바쁘구나', '바쁘나', '바쁘네', '바쁘다', '바쁘면', '바쁘지', '바쁜', '바쁜가', '바쁜거', '바쁜데', '바쁨', '바사삭', '바삭', '바삭바삭', '바삭하게', '바삭하고', '바삭한거', '바싹', '바지', '바지락', '바질', '바질페스토', '박람회', '박물관', '박스', '밖에', '밖에서', '밖으로', '밖이라', '밖이야', '반개', '반까지', '반대', '반도', '반드시', '반만', '반미', '반바지', '반반', '반반으로', '반숙', '반에', '반으로', '반은', '반응', '반응이', '반절', '반정도', '반주', '반쯤', '반차', '반차쓰고', '반찬', '반찬도', '반찬에', '반찬으로', '반찬은', '반찬을', '반찬이', '반찬이랑', '반함', '받고', '받구', '받는', '받는데', '받아', '받아서', '받았는데', '받았어', '받으러', '받으면', '받으면서', '받은', '받은거', '받을', '받을게', '받음', '받지', '발견', '발라서', '발리', '발사믹', '발이', '발표', '밤늦게', '밤새', '밤에', '밤에는', '밤에도', '밤엔', '밤을', '밤이', '밥까지', '밥넣고', '밥다먹고', '밥대신', '밥도', '밥럼', '밥만', '밥만먹고', '밥머거', '밥머겅', '밥먹게', '밥먹고', '밥먹고싶어', '밥먹고있어', '밥먹구', '밥먹는', '밥먹는거', '밥먹는게', '밥먹는다', '밥먹는당', '밥먹는데', '밥먹는중', '밥먹어', '밥먹어야지', '밥먹어요', '밥먹엇어', '밥먹었어', '밥먹엉', '밥먹으러', '밥먹으러가', '밥먹으려고', '밥먹으로', '밥먹으면', '밥먹으면서', '밥먹을', '밥먹을거야', '밥먹을까', '밥먹을때', '밥먹을래', '밥먹음', '밥먹자', '밥먹지', '밥무러', '밥묵고', '밥묵구', '밥묵자', '밥버거', '밥부터', '밥상', '밥안먹고', '밥에', '밥으로', '밥은', '밥은먹었어', '밥은먹었엉', '밥은요', '밥을', '밥이', '밥이나', '밥이라도', '밥이랑', '밥좀', '밥집', '밥하고', '밥하기', '방금', '방긋', '방문', '방법', '방법을', '방법이', '방어', '방에', '방에서', '방울토마토', '방으로', '방은', '방을', '방이', '방잡고', '방콕', '방탈출', '방학', '방학때', '방향으로', '밭에', '배가', '배거파', '배고', '배고파', '배고파ㅠ', '배고파ㅠㅠ', '배고파서', '배고파아', '배고파요', '배고팡', '배고푸다', '배고푸당', '배고프겟다', '배고프겠다', '배고프겠당', '배고프고', '배고프네', '배고프니까', '배고프다', '배고프다고', '배고프당', '배고프면', '배고프지', '배고프진', '배고픈', '배고픈거', '배고픈데', '배고픈디', '배고플', '배고플때', '배고픔', '배구팡', '배그', '배는', '배달', '배달도', '배달로', '배달료', '배달비', '배달시켜', '배달시켜서', '배달은', '배달을', '배달음식', '배달의', '배달이', '배도', '배떡', '배라', '배랑', '배를', '배만', '배민', '배민에', '배민에서', '배민으로', '배부르게', '배부르겠다', '배부르고', '배부르다', '배부르당', '배부르면', '배부른', '배부른데', '배부름', '배불', '배불러', '배불러서', '배불렁', '배불로', '배불리', '배송', '배송비', '배신자', '배아파', '배아파서', '배안고파', '배에', '배에서', '배우고', '배추', '배타고', '배터리', '배터져', '배터지게', '백만원', '백반집', '백수', '백수라', '백숙', '백순대', '백퍼', '백화점', '백화점에', '뱅기', '뱅기가', '뱅기값', '뱅기는', '뱅기에서', '뱅기표', '뱅쇼', '버거', '버거가', '버거는', '버거킹', '버거킹은', '버려', '버렸어', '버리고', '버리기', '버리는', '버림', '버블', '버블티', '버섯', '버섯이랑', '버스', '버스가', '버스기다리는중', '버스는', '버스도', '버스로', '버스를', '버스에서', '버스정류장', '버스타', '버스타고', '버스타구', '버스타러', '버스타면', '버스탈까', '버스탐', '버스탓어', '버스탔어', '버터', '버터랑', '버터에', '번거롭게', '번도', '번에', '번호', '벌레', '벌써', '벌써부터', '벌써요', '벌어서', '벌컥벌컥', '범계', '범계로', '법카', '법카로', '벚꽃', '베라', '베란다', '베란다에', '베스킨', '베스트', '베이글', '베이비', '베이스', '베이커리', '베이컨', '베토디', '베트남', '베트남은', '벤티로', '변경', '변했어', '별거', '별걸', '별게', '별로', '별로고', '별로네', '별로니', '별로다', '별로더라', '별로던데', '별로라', '별로라고', '별로래', '별로면', '별로야', '별로얌', '별로없어', '별로여서', '별로였어', '별로임', '별로지', '별론데', '별루', '별루다', '별루야', '별이', '별일', '병문안', '병원', '병원갔다가', '병원밥', '병원에', '병원에서', '병원으로', '병원은', '보게', '보고', '보고서', '보고시퍼', '보고싶네', '보고싶다', '보고싶당', '보고싶어', '보고싶어서', '보고싶어요', '보고싶으니까', '보고싶은데', '보고올게', '보고있어', '보고픈', '보구', '보구싶다', '보기', '보기로', '보기만', '보기엔', '보긴', '보까', '보끔밥', '보나', '보내', '보내고', '보내구', '보내는', '보내도', '보내면', '보내봐', '보내야지', '보내요', '보내자', '보내주면', '보내준', '보내줄게', '보내줄겡', '보내줄까', '보내줌', '보내줘', '보낸', '보낸거', '보낼게', '보냄', '보냈는데', '보냈다', '보냈어', '보네', '보는', '보는거', '보는거야', '보는거지', '보는건', '보는걸로', '보는게', '보는데', '보는중', '보니', '보니까', '보니깐', '보다', '보다가', '보다는', '보단', '보더니', '보드게임', '보드카', '보라색', '보라카이', '보람이', '보러', '보러가야지', '보러가자', '보러갈까', '보려고', '보려면', '보류', '보리밥', '보면', '보면서', '보믄', '보쌈', '보쌈이랑', '보여', '보여서', '보여죠', '보여주고', '보여줄게', '보여줘', '보이네', '보이는', '보이는거', '보이는데', '보이면', '보이지', '보이차', '보인다', '보자', '보자고', '보자구', '보자마자', '보장', '보쟈', '보쟝', '보조배터리', '보지', '보지도', '보통', '보통맛', '보통은', '보험', '복숭아', '복숭아는', '복잡해', '볶고', '볶다가', '볶아', '볶아서', '볶은', '볶음', '볶음밥', '볶음밥까지', '볶음밥도', '볶음밥에', '볶음밥은', '볶음밥이', '볶음밥이랑', '본가', '본가에', '본거', '본거같은데', '본격적으로', '본다', '본다고', '본연의', '본인이', '본적이', '본점', '본죽', '볼거', '볼거야', '볼게', '볼게요', '볼겡', '볼까', '볼까요', '볼까용', '볼께', '볼때', '볼때마다', '볼라고', '볼래', '볼랭', '볼링', '볼수', '볼수있어', '볼일', '볼케이노', '봄에', '봅세', '봅시다', '봅시당', '봉구스', '봉사', '봉지', '봉지에', '봐도', '봐두', '봐라', '봐바', '봐봐', '봐봐야지', '봐서', '봐써', '봐야', '봐야겠다', '봐야돼', '봐야되는데', '봐야지', '봐야징', '봐야하나', '봐야해', '봐여', '봐요', '봐용', '봐유', '봐준다', '봐줘', '봣는데', '봣어', '봤는데', '봤니', '봤다', '봤던', '봤어', '봤어요', '봤오', '봤지', '뵙고', '부끄', '부담', '부대', '부대찌개', '부대찌게', '부덤', '부동산', '부드러운', '부드럽고', '부들부들', '부디', '부러워', '부럼', '부럽', '부럽네', '부럽다', '부럽당', '부럽지', '부르고', '부르면', '부리또', '부모님', '부모님도', '부모님은', '부모님이', '부모님이랑', '부부', '부분', '부산', '부산가서', '부산대', '부산도', '부산에', '부산에서', '부산역', '부산으로', '부산은', '부어서', '부위', '부인', '부인은', '부장님', '부장님이', '부족하면', '부족해', '부족해서', '부지런히', '부찌', '부천', '부추', '부추랑', '부추전', '부침개', '부탁', '부탁드립니다', '부탁할게', '부탁해', '부탁해요', '부터', '부페', '부평', '부평에', '부평에서', '북한산', '분명', '분명히', '분모자', '분식', '분식집', '분식집에서', '분위기', '분위기가', '분위기는', '분위기도', '분이', '분짜', '불가', '불가능', '불고기', '불고기버거', '불금', '불닭', '불닭볶음면', '불닭소스', '불러', '불러서', '불러줘', '불렀는데', '불맛', '불쌍해', '불안해', '불족발', '불편하면', '불편해', '불편해서', '붕어빵', '붙여서', '붙으면', '붙이고', '뷔페', '뷔페는', '뷔페도', '뷰가', '브라우니', '브랜드', '브런치', '브런치는', '브레이크', '브로콜리', '블랑', '블랙', '블로그', '블루', '블루베리', '블루보틀', '비가', '비건', '비계', '비는', '비도', '비려', '비록', '비린내', '비밀', '비번', '비벼', '비벼먹으면', '비벼서', '비비고', '비비큐', '비빔', '비빔국수', '비빔면', '비빔면에', '비빔면이랑', '비빔밥', '비빔밥이', '비슷', '비슷하게', '비슷하네', '비슷하지', '비슷한', '비슷한거', '비슷한데', '비슷해', '비싸', '비싸게', '비싸겠지', '비싸고', '비싸긴', '비싸네', '비싸니까', '비싸다', '비싸다고', '비싸더라', '비싸도', '비싸면', '비싸서', '비싸잖아', '비싸지', '비싸지만', '비싸진', '비싼', '비싼가', '비싼거', '비싼건', '비싼데', '비싼디', '비쌈', '비에이치씨', '비엔나', '비오고', '비오네', '비오는', '비오는날', '비오는데', '비오니까', '비오면', '비온다', '비온대', '비옴', '비와', '비와도', '비와서', '비요뜨', '비용은', '비자', '비주얼', '비주얼은', '비주얼이', '비쥬얼', '비타민', '비해', '비행기', '비행기가', '비행기값', '비행기도', '비행기에서', '비행기타고', '비행기표', '빅맥', '빈속에', '빌려서', '빕스', '빙수', '빙수도', '빠네', '빠르게', '빠르네', '빠르넹', '빠르다', '빠르당', '빠르면', '빠르지', '빠른', '빠른가', '빠른데', '빠바', '빠이', '빠잉', '빠져', '빠져서', '빠졌어', '빠지고', '빠지면', '빠진', '빠짐', '빡세', '빡세게', '빡시게', '빡침', '빤니', '빨간', '빨간거', '빨간색', '빨라', '빨랑', '빨래', '빨리', '빨리가', '빨리갈게', '빨리먹고', '빨리빨리', '빨리와', '빨리왕', '빵도', '빵만', '빵먹고', '빵에', '빵은', '빵을', '빵이', '빵이랑', '빵집', '빵집에', '빼고', '빼곤', '빼도', '빼면', '빼빼로', '빼야지', '빽다방', '뼈해장국', '뽀뽀', '뿌듯', '뿌려', '뿌려서', '뿌리고', '뿌리면', '뿌링클', '사가', '사가고', '사가까', '사가께', '사가면', '사가서', '사가야겠다', '사가야지', '사가자', '사가정', '사가지', '사가지고', '사간다', '사갈거야', '사갈게', '사갈게요', '사갈겡', '사갈까', '사갈께', '사감', '사거리', '사게', '사고', '사고싶다', '사고싶어', '사과', '사과가', '사과는', '사과도', '사과랑', '사과즙', '사구', '사기', '사길', '사놓고', '사놓은', '사놓은거', '사놨는데', '사는', '사는거', '사는거야', '사는게', '사는데', '사니까', '사다', '사다가', '사다놓고', '사다줄게', '사다줄까', '사다줘', '사달라고', '사당', '사당에서', '사당역', '사도', '사들고', '사라', '사라고', '사라져서', '사라졌어', '사라짐', '사람', '사람도', '사람들', '사람들도', '사람들은', '사람들이', '사람들이랑', '사람만', '사람많아', '사람많아서', '사람은', '사람이', '사람이야', '사람한테', '사랑', '사랑이', '사랑하는', '사랑해', '사랑해요', '사랑해용', '사랑행', '사러', '사려고', '사리', '사먹게', '사먹고', '사먹는', '사먹는거보다', '사먹는게', '사먹어', '사먹어봐', '사먹어서', '사먹어야겠다', '사먹어야지', '사먹었는데', '사먹었어', '사먹으러', '사먹으면', '사먹을', '사먹을까', '사먹음', '사먹자', '사먹지', '사면', '사모님', '사무실', '사무실로', '사무실에', '사무실에서', '사볼까', '사서', '사실', '사실상', '사실은', '사야', '사야겟다', '사야겠다', '사야지', '사야징', '사야하나', '사야하는데', '사야해', '사오고', '사오라고', '사오면', '사오셈', '사오자', '사오지마', '사온', '사온거', '사올걸', '사올게', '사올까', '사올래', '사옴', '사와', '사와라', '사와서', '사와야겠다', '사와야지', '사와요', '사왓어', '사왔는데', '사왔어', '사요', '사우나', '사이', '사이다', '사이드', '사이에', '사이즈', '사이즈가', '사이트', '사자', '사장', '사장님', '사장님이', '사장이', '사주고', '사주까', '사주께', '사주면', '사준', '사준거', '사준다고', '사줄게', '사줄게요', '사줄까', '사줌', '사줘', '사줘서', '사줘야지', '사줬어', '사지', '사지마', '사진', '사진도', '사진만', '사진에', '사진으로', '사진은', '사진을', '사진이', '사진이나', '사진이야', '사진좀', '사진찍고', '사케동', '사탕', '삭제', '산거', '산거야', '산건', '산건데', '산게', '산낙지', '산다', '산다고', '산본', '산에', '산책', '산책도', '산책하고', '살거', '살거야', '살게', '살게요', '살고', '살까', '살도', '살라고', '살래', '살려고', '살려줘', '살면', '살면서', '살살', '살수', '살아', '살아서', '살아야지', '살은', '살을', '살이', '살지', '살짝', '살쪄', '살찌는', '살찐다', '살치살', '삶아', '삶아서', '삶은', '삶은계란', '삶의', '삶이', '삼각김밥', '삼각대', '삼겹', '삼겹살', '삼겹살도', '삼겹살에', '삼겹살은', '삼겹살을', '삼겹살이', '삼겹살이랑', '삼계탕', '삼김', '삼시세끼', '삼십분', '삼일', '삼첩분식', '삼촌', '삼촌이', '삼치', '삽겹살', '삿는데', '삿다', '삿어', '삿오', '삿포로', '샀네', '샀는데', '샀다', '샀대', '샀어', '샀어요', '샀오', '샀음', '샀지', '상관', '상관없는데', '상관없다', '상관없어', '상관없엉', '상관없오', '상관없옹', '상관없음', '상관없이', '상관없지', '상관은', '상담', '상당히', '상상도', '상상만해도', '상상이', '상추', '상추랑', '상큼한', '상태', '상태가', '상태에서', '상품', '상품권', '상하이', '상해', '상해서', '상황', '상황보고', '상황봐서', '상황을', '상황이', '새거', '새로', '새로나온거', '새로생긴', '새로운', '새로운거', '새벽', '새벽까지', '새벽부터', '새벽에', '새우', '새우가', '새우깡', '새우는', '새우도', '새우랑', '새우버거', '새우장', '새우탕', '새우튀김', '새콤달콤', '새콤한', '새해', '색깔', '색깔이', '색다른', '색이', '샌드위치', '샌드위치가', '샌드위치도', '샌드위치랑', '샐러드', '샐러드가', '샐러드나', '샐러드는', '샐러드도', '샐러드랑', '샐러드로', '샐러드를', '샐러드만', '샐러드에', '샘플', '생각', '생각나', '생각나네', '생각나는', '생각나는거', '생각나는건', '생각나는게', '생각나더라', '생각나면', '생각나서', '생각난건데', '생각난다', '생각남', '생각났어', '생각도', '생각만', '생각만해도', '생각보다', '생각보단', '생각안나', '생각없이', '생각에', '생각엔', '생각으로', '생각은', '생각을', '생각이', '생각이야', '생각인데', '생각좀', '생각중', '생각중이야', '생각중인데', '생각하고', '생각하는', '생각하니', '생각하니까', '생각하면', '생각하면서', '생각하자', '생각한', '생각함', '생각해', '생각해도', '생각해보고', '생각해보니', '생각해보니까', '생각해보면', '생각해보자', '생각해볼게', '생각해봐', '생각해봤는데', '생각해서', '생각했는데', '생각했어', '생각했지', '생강', '생겨', '생겨서', '생겻어', '생겼네', '생겼는데', '생겼다', '생겼어', '생고기', '생굴', '생기면', '생긴', '생긴거', '생긴건', '생긴게', '생김', '생리', '생맥', '생선', '생선구이', '생선은', '생선을', '생신', '생으로', '생일', '생일날', '생일도', '생일때', '생일에', '생일이', '생일이라', '생일인데', '생일축하해', '생일파티', '생크림', '생크림은', '생크림이', '생파', '샤부샤부', '샤브', '샤브샤브', '샤브샤브를', '샤워', '샤워하고', '샷추가', '샹궈', '서가앤쿡', '서귀포', '서둘러', '서로', '서류', '서면', '서면에', '서면에서', '서브웨이', '서브웨이가', '서비스', '서비스로', '서산', '서서', '서울', '서울가면', '서울가서', '서울도', '서울로', '서울서', '서울에', '서울에도', '서울에서', '서울역', '서울역에서', '서울오면', '서울은', '서울이야', '석촌호수', '섞어', '섞어서', '섞으면', '선교사님', '선물', '선물도', '선물로', '선물은', '선배', '선배가', '선생님', '선생님은', '선생님이', '선약이', '선택', '선택은', '선택이', '선풍기', '설거지', '설거지는', '설날', '설날에', '설렁탕', '설레', '설렌다', '설마', '설명', '설빙', '설에', '설탕', '설탕을', '설탕이', '설탕이랑', '섭웨', '섭웨이', '성공', '성당', '성분이', '성수', '성수기', '성수동', '성심당', '세개', '세계', '세군데', '세끼', '세면도구', '세명이서', '세미나', '세번', '세부', '세븐일레븐', '세상', '세상에', '세상에나', '세상에서', '세시', '세시간', '세시까지', '세시반', '세시에', '세시쯤', '세우고', '세일하길래', '세종', '세트', '세트가', '세트로', '센터', '셀카봉', '셋다', '셋은', '셋이', '셋이서', '셋중에', '셔틀', '소개팅', '소고기', '소고기가', '소고기는', '소고기랑', '소고기를', '소곱창', '소금', '소금을', '소금이랑', '소는', '소름', '소리', '소리가', '소맥', '소면', '소바', '소분해서', '소불고기', '소세지', '소소하게', '소소한', '소속', '소스', '소스가', '소스는', '소스도', '소스랑', '소스를', '소스만', '소스에', '소시지', '소식', '소오름', '소주', '소주가', '소주는', '소주도', '소주랑', '소주에', '소주한잔', '소중하게', '소중한', '소풍', '소화', '소화가', '소화도', '소화시키고', '소화제', '속도', '속상', '속상하네', '속상하다', '속상해', '속에', '속에서', '속옷', '속은', '속을', '속이', '속초', '속초는', '속초에서', '손가락', '손님', '손님들', '손님은', '손님이', '손도', '손에', '손으로', '손을', '손이', '손잡고', '손질', '손톱', '솔직히', '솜사탕', '송금', '송년회', '송도', '쇼핑', '쇼핑하고', '수가', '수건', '수고', '수고하구', '수고해요', '수고했어', '수고했어요', '수금', '수는', '수다', '수도', '수련회', '수리', '수목', '수목금', '수목금토', '수목원', '수박', '수박은', '수박주스', '수수료', '수업', '수업끝나고', '수업은', '수업이', '수업인데', '수영', '수영복', '수영장', '수영장도', '수영장에서', '수영장은', '수영장이', '수영하고', '수요미식회', '수요일', '수요일까지', '수요일날', '수요일에', '수요일은', '수요일이', '수욜', '수욜날', '수욜로', '수욜에', '수욜은', '수원', '수원에', '수원에서', '수원역', '수원역에', '수원역에서', '수원으로', '수유', '수육', '수제', '수제버거', '수제비', '수플레', '수하물', '수화물', '숙박', '숙박비', '숙박은', '숙소', '숙소가', '숙소가서', '숙소는', '숙소도', '숙소랑', '숙소로', '숙소를', '숙소만', '숙소에', '숙소에서', '숙제', '숙주', '숙취', '숙취가', '순간', '순대', '순대국', '순대국밥', '순대는', '순대도', '순대랑', '순대볶음', '순댓국', '순두부', '순두부찌개', '순삭', '순살', '순살이', '순식간에', '순천', '순천만', '순한맛', '숟가락', '숟가락으로', '술도', '술마셔', '술마시고', '술마시러', '술마시면', '술만', '술먹고', '술먹어서', '술먹으면', '술안주로', '술은', '술을', '술이', '술이나', '술이랑', '술집', '술한잔', '쉐라톤', '쉐이크', '쉑쉑', '쉑쉑버거', '쉬고', '쉬고있어', '쉬구', '쉬나', '쉬는', '쉬는게', '쉬는날', '쉬는데', '쉬는시간', '쉬는중', '쉬니까', '쉬다', '쉬다가', '쉬려고', '쉬림프', '쉬면', '쉬면서', '쉬어', '쉬어서', '쉬어야지', '쉬어요', '쉬엄쉬엄', '쉬었다가', '쉬엉', '쉬워', '쉬자', '쉬지', '쉰다', '쉰다고', '쉴까', '쉴때', '쉴래', '쉽게', '쉽지', '슈가', '슈크림', '슈크림빵', '슈퍼에서', '슝슝', '스낵랩', '스르륵', '스리라차', '스무디', '스벅', '스벅가서', '스벅도', '스벅에', '스벅에서', '스벅은', '스벅이', '스스로', '스시', '스시집', '스위스', '스위트', '스케줄', '스케줄이', '스케쥴', '스케쥴이', '스콘', '스크램블', '스키장', '스타벅스', '스타벅스에', '스타일', '스타필드', '스탈', '스터디', '스테끼', '스테이크', '스테이크가', '스테이크는', '스테이크랑', '스테이크에', '스토리', '스튜디오', '스트레스', '스파', '스파게티', '스파게티는', '스팸', '스팸이랑', '스페인', '스프', '스프가', '슬랙스', '슬슬', '슬쩍', '슬퍼', '슬프네', '슬프다', '슬픈', '슬픔', '시간', '시간내서', '시간대', '시간대가', '시간대에', '시간도', '시간돼', '시간되면', '시간될때', '시간만', '시간맞춰서', '시간보고', '시간봐서', '시간없어서', '시간에', '시간으로', '시간은', '시간을', '시간이', '시간이랑', '시간인데', '시간좀', '시간표', '시계', '시골', '시국에', '시국이', '시금치', '시기가', '시까지', '시나몬', '시내', '시내로', '시내에', '시내에서', '시도', '시러', '시러해', '시럽', '시렁', '시로', '시른데', '시리얼', '시설', '시설은', '시스템', '시에', '시원하게', '시원하고', '시원한', '시원한거', '시원해', '시작', '시작도', '시작이야', '시작해', '시작해서', '시장', '시장가서', '시장에', '시장에서', '시장이', '시중에', '시즌', '시청', '시카고', '시켜', '시켜놓고', '시켜놔', '시켜도', '시켜또ㅎㅎ', '시켜먹고', '시켜먹는', '시켜먹는거', '시켜먹는게', '시켜먹어', '시켜먹었는데', '시켜먹었어', '시켜먹으면', '시켜먹을까', '시켜먹음', '시켜먹자', '시켜먹지', '시켜묵자', '시켜봐', '시켜서', '시켜써', '시켜야', '시켜야지', '시켜줄게', '시켜줄까', '시켜줘', '시켯는데', '시켯어', '시켰거든', '시켰는데', '시켰다', '시켰어', '시켰엉', '시키게', '시키고', '시키구', '시키려고', '시키면', '시키면서', '시키자', '시키지', '시킨', '시킨거', '시킨다', '시킨당', '시킬', '시킬게', '시킬까', '시킴', '시티', '시퍼', '시험', '시험끝나고', '시험보고', '시험은', '시험을', '시험이', '시흥', '식감', '식감도', '식감이', '식단', '식당', '식당가서', '식당도', '식당에', '식당에서', '식당은', '식당을', '식당이', '식대', '식비', '식빵', '식빵에', '식빵이', '식사', '식사가', '식사는', '식사를', '식사하고', '식어도', '식어서', '식욕', '식욕이', '식으면', '식은', '식장', '식초', '식탁에', '식혜', '신경', '신기', '신기하게', '신기하네', '신기하다', '신기하당', '신기하지', '신기한', '신기함', '신기해', '신나', '신나게', '신나서', '신난다', '신난당', '신남', '신났네', '신도림', '신도림에서', '신라면', '신라스테이', '신라호텔', '신림', '신림에서', '신메뉴', '신발', '신분증', '신사', '신상', '신선한', '신세계', '신원', '신전', '신전떡볶이', '신제품', '신청', '신촌', '신촌에', '신촌에서', '신촌으로', '신호', '신혼여행', '실내', '실내에서', '실력이', '실망', '실망이다', '실수로', '실습', '실제로', '실컷', '실패', '실화', '실화냐', '싫고', '싫다', '싫다고', '싫대', '싫어', '싫어서', '싫어요', '싫어하는', '싫어하는데', '싫어함', '싫어해', '싫어해서', '싫엉', '싫으면', '싫은데', '싫음', '싫지', '심각', '심각하게', '심심', '심심하다', '심심하면', '심심한데', '심심해', '심심해서', '심야영화', '심장이', '심지어', '심하게', '심해', '심해서', '십마넌', '십만원', '십분', '싱가폴', '싶고', '싶군', '싶기도', '싶긴', '싶긴한데', '싶네', '싶니', '싶다', '싶다고', '싶다며', '싶당', '싶습니다', '싶어', '싶어서', '싶어요', '싶었는데', '싶었어', '싶으면', '싶은', '싶은거', '싶은게', '싶은곳', '싶은데', '싶은디', '싶을', '싶음', '싶지', '싶지만', '싸갈까', '싸게', '싸고', '싸구려', '싸긴', '싸길래', '싸네', '싸니까', '싸다', '싸들고', '싸먹으면', '싸면', '싸서', '싸악', '싸와', '싸우고', '싸이버거', '싸지', '싹다', '싼거', '싼데', '쌀국수', '쌀국수는', '쌀국수도', '쌀국수집', '쌀은', '쌈밥', '쌈장', '쌉가능', '쌤이', '쌩유', '써도', '써서', '써야지', '썰어서', '썼어', '쏘리', '쏘쏘', '쏘주', '쏘카', '쏜다', '쏴리', '쐬고', '쑥스', '쓰고', '쓰는', '쓰는데', '쓰레기', '쓰면', '쓰지', '쓴다', '쓴다고', '쓸데없이', '씨가', '씨는', '씨도', '씨랑', '씨리얼', '씨유', '씨유에서', '씨익', '씹으면', '씻고', '씻고올게', '씻구', '씻어', '씻어서', '씻어야지', '씻었어', '씻으러', '씻음', '아ㅋㅋ', '아ㅋㅋㅋ', '아ㅋㅋㅋㅋ', '아ㅏ', '아ㅜㅜ', '아ㅠ', '아가', '아고', '아구', '아구래', '아구랭', '아구찜', '아그래', '아그랭', '아그런가', '아그럼', '아근데', '아기', '아까', '아까는', '아까부터', '아까비', '아까운데', '아까움', '아까워', '아까워서', '아깐', '아깝', '아깝네', '아깝다', '아깝지', '아껴서', '아나', '아냐', '아냐아냐', '아냠', '아냥', '아네', '아녀', '아녀아녀', '아녔어', '아녕', '아놔', '아뇨', '아뇽', '아뉘', '아뉭', '아뉴', '아는', '아는데', '아니', '아니ㅋㅋ', '아니가', '아니거든', '아니겟지', '아니겠지', '아니고', '아니구', '아니구나', '아니군', '아니근데', '아니까', '아니냐', '아니냐고', '아니냐구', '아니네', '아니니', '아니니까', '아니다', '아니당', '아니더라', '아니던데', '아니라', '아니라고', '아니라서', '아니래', '아니먄', '아니면', '아니묜', '아니믄', '아니아니', '아니아닝', '아니야', '아니야아', '아니얌', '아니양', '아니어니', '아니어도', '아니어서', '아니었나', '아니었어', '아니에여', '아니에요', '아니여', '아니였어', '아니예요', '아니오', '아니요', '아니용', '아니유', '아니이', '아니자나', '아니잖아', '아니제', '아니죠', '아니지', '아니지만', '아니징', '아닌', '아닌가', '아닌가봐', '아닌가요', '아닌감', '아닌거', '아닌것', '아닌데', '아닌뎅', '아닌듯', '아닌디', '아닌지', '아닐', '아닐걸', '아닐까', '아닐듯', '아님', '아닙니까', '아닙니다', '아닛', '아닝', '아닠ㅋㅋㅋ', '아닠ㅋㅋㅋㅋ', '아닠ㅋㅋㅋㅋㅋ', '아닠ㅋㅋㅋㅋㅋㅋ', '아닠ㅋㅋㅋㅋㅋㅋㅋ', '아들', '아들은', '아들이', '아따', '아또요', '아라', '아라떠', '아라또', '아라써', '아라썽', '아라쏘', '아라쓰', '아랏어', '아랐어', '아래', '아마', '아마도', '아마두', '아마스빈', '아마자', '아맞나', '아맞네', '아맞다', '아맞당', '아맞아', '아메', '아메리', '아메리카노', '아메리카노가', '아메리카노랑', '아몬드', '아몬드브리즈', '아무', '아무거나', '아무것도', '아무곳이나', '아무데나', '아무도', '아무때나', '아무래도', '아무리', '아무튼', '아배고파', '아버님', '아버님도', '아버님이', '아버님이랑', '아버지', '아버지가', '아버지는', '아버지랑', '아보카도', '아부지', '아부지가', '아부지랑', '아비꼬', '아빠', '아빠가', '아빠는', '아빠도', '아빠랑', '아빠한테', '아빤', '아삭아삭', '아숩', '아쉬운데', '아쉬워', '아쉬워서', '아쉬웠어', '아쉽', '아쉽게', '아쉽게도', '아쉽겠다', '아쉽구만', '아쉽군', '아쉽네', '아쉽다', '아쉽당', '아쉽지만', '아스크림', '아시아나', '아싸', '아쒸', '아씨', '아아', '아아아', '아아아아', '아아아아아', '아아앙', '아악', '아앗', '아앙', '아에', '아예', '아오', '아왜', '아우', '아울렛', '아웃', '아웃겨', '아웃닭', '아웃백', '아웅', '아유', '아으', '아이', '아이가', '아이고', '아이고야', '아이구', '아이궁', '아이다', '아이들', '아이디', '아이디어', '아이스', '아이스로', '아이스크림', '아이스크림도', '아이스크림은', '아이스크림을', '아이스크림이', '아이스크림이랑', '아이스티', '아이참', '아이패드', '아이폰', '아인슈페너', '아임', '아잉', '아자아자', '아저씨', '아저씨가', '아점', '아점으로', '아정말', '아주', '아주그냥', '아주아주', '아주좋아', '아줌마', '아줌마가', '아쥬', '아직', '아직까지', '아직까지는', '아직까진', '아직도', '아직두', '아직요', '아직은', '아직이요', '아진짜', '아참', '아침', '아침까지', '아침도', '아침마다', '아침만', '아침먹고', '아침밥', '아침부터', '아침에', '아침에는', '아침에도', '아침엔', '아침으로', '아침은', '아침을', '아침이', '아침일찍', '아파', '아파서', '아파트', '아포', '아프고', '아프다', '아프면', '아프지', '아픈데', '아하', '아하ㅎㅎ', '아하아하', '아핫', '아항', '아홉시', '아홉시에', '아후', '아휴', '안가', '안가게', '안가고', '안가구', '안가네', '안가는', '안가는게', '안가니까', '안가도', '안가도돼', '안가면', '안가봄', '안가봐서', '안가봤는데', '안가봤어', '안가서', '안가야지', '안가지', '안간다', '안간다고', '안간대', '안간지', '안갈래', '안감', '안갔어', '안갔지', '안걸려', '안경', '안고', '안고파', '안고파서', '안고팡', '안고픈데', '안그래', '안그래도', '안그래두', '안그러면', '안그럼', '안나', '안나가', '안나가고', '안나고', '안나네', '안나는데', '안나서', '안나오네', '안나옴', '안나와', '안나와서', '안난다', '안남', '안남아서', '안남았네', '안넣고', '안녕', '안녕하세요', '안농', '안뇽', '안늦어', '안다', '안달고', '안대', '안댐', '안댕', '안돼', '안돼ㅠ', '안돼서', '안돼안돼', '안돼에', '안돼요', '안됐어', '안됑', '안되', '안되겟다', '안되겠네', '안되겠다', '안되겠어', '안되겠지', '안되고', '안되나', '안되낭', '안되냐', '안되네', '안되는', '안되는거', '안되는데', '안되는디', '안되니', '안되니까', '안되려나', '안되면', '안되서', '안되요', '안되지', '안된다', '안된다고', '안된당', '안된대', '안된데', '안될', '안될거', '안될까', '안될듯', '안됨', '안됩니다', '안땡겨', '안땡김', '안떠', '안마셔', '안마시고', '안마시면', '안막히면', '안만나', '안맞네', '안맞아', '안맞아서', '안맞으면', '안매운거', '안매워', '안머거', '안머금', '안먹', '안먹게', '안먹고', '안먹구', '안먹는', '안먹는게', '안먹는다', '안먹는다고', '안먹는데', '안먹니', '안먹어', '안먹어도', '안먹어본', '안먹어봄', '안먹어봐서', '안먹어봣어', '안먹어봤는데', '안먹어봤어', '안먹어서', '안먹어야지', '안먹어요', '안먹엇어', '안먹었는데', '안먹었다', '안먹었어', '안먹었지', '안먹엉', '안먹으니까', '안먹으려고', '안먹으면', '안먹은지', '안먹을', '안먹을거야', '안먹을래', '안먹음', '안먹자나', '안먹잖아', '안먹지', '안면도', '안받고', '안받네', '안받아', '안보고', '안보여', '안보이네', '안봄', '안봐', '안봐도', '안봐서', '안사', '안사고', '안사도', '안산', '안산에서', '안샀어', '안쉬고', '안심', '안써', '안쓰고', '안양', '안에', '안에는', '안에서', '안오고', '안오네', '안오는데', '안오면', '안오지', '안온다', '안온대', '안옴', '안와', '안와도', '안와서', '안왔어', '안으로', '안자', '안자고', '안전하게', '안전한', '안정함', '안조아해', '안졸려', '안좋고', '안좋네', '안좋다고', '안좋대', '안좋아', '안좋아서', '안좋아하는데', '안좋아하잖아', '안좋아함', '안좋아해', '안좋아해서', '안좋으면', '안좋은', '안좋은데', '안주', '안주가', '안주는', '안주도', '안주로', '안주를', '안줘', '안줘도', '안질려', '안쪄', '안추워', '안타깝네', '안파나', '안파냐', '안팔아', '안피곤해', '안하고', '안하구', '안하나', '안하네', '안하는', '안하는게', '안하는데', '안하니까', '안하면', '안하지', '안한다', '안한다고', '안한대', '안할래', '안함', '안해', '안해도', '안해서', '안했나', '안했는데', '안했어', '안했으면', '안했지', '앉아', '앉아서', '앉아있어', '앉았어', '않게', '않겠나', '않겠어', '않겠지', '않고', '않구', '않나', '않냐', '않네', '않는', '않는데', '않니', '않다', '않더라', '않아', '않아서', '않아여', '않아요', '않았나', '않았는데', '않았어', '않았음', '않앙', '않어', '않오', '않으까', '않으면', '않은', '않은데', '않을', '않을거야', '않을까', '않을까여', '않을까요', '않을깡', '않음', '않지', '않지만', '알거같아', '알게', '알게따', '알게떠', '알게또', '알게써', '알게썽', '알게쏘', '알게쓰', '알게쪄', '알겟다', '알겟어', '알겟어요', '알겟어용', '알겟엉', '알겟오', '알겟옹', '알겟으', '알겟져', '알겠다', '알겠당', '알겠슈', '알겠습니다', '알겠습니당', '알겠어', '알겠어ㅋㅋㅋ', '알겠어여', '알겠어요', '알겠어용', '알겠어유', '알겠엉', '알겠오', '알겠옹', '알겠으', '알겠음', '알겠죠', '알겠지', '알곘어', '알고', '알고보니', '알듯', '알따', '알떠', '알라딘', '알람', '알러지', '알려', '알려조', '알려죠', '알려주께', '알려주라', '알려주면', '알려주삼', '알려주세요', '알려준', '알려줄게', '알려줄까', '알려줌', '알려줘', '알려줘서', '알려줘요', '알려줭', '알리오올리오', '알면', '알면서', '알면서도', '알바', '알바가', '알바도', '알바를', '알써', '알썽', '알쏘', '알쓰', '알씀', '알아', '알아보고', '알아보자', '알아볼게', '알아볼까', '알아볼께', '알아봐', '알아봐야지', '알아봤는데', '알아서', '알아서해', '알아써', '알아여', '알아요', '알안', '알앗는데', '알앗어', '알앗엉', '알았네', '알았는데', '알았다', '알았어', '알았어ㅋㅋ', '알았어요', '알았어용', '알았엉', '알았오', '알았옹', '알았으', '알았으면', '알았음', '알았지', '알어', '알오', '알잖아', '알제', '알죠', '알쥐', '알지', '알지알지', '알찌게', '알차게', '알콜', '알탕', '암거나', '암것도', '암것두', '암꺼나', '암데나', '암때나', '암튼', '압구정', '압구정에서', '앖어', '앙대', '앙버터', '앙앙', '앙앙ㅎㅅㅎ', '앙앙ㅎㅎ', '앙앙앙', '앜ㅋ', '앜ㅋㅋ', '앜ㅋㅋㅋ', '앜ㅋㅋㅋㅋ', '앜ㅋㅋㅋㅋㅋ', '앜ㅋㅋㅋㅋㅋㅋ', '앜ㅋㅋㅋㅋㅋㅋㅋ', '앜ㅋㅋㅋㅋㅋㅋㅋㅋ', '앜ㅋㅋㅋㅋㅋㅋㅋㅋㅋ', '앜ㅋㅋㅋㅋㅋㅋㅋㅋㅋㅋ', '앜ㅋㅋㅋㅋㅋㅋㅋㅋㅋㅋㅋ', '앜ㅋㅋㅋㅋㅋㅋㅋㅋㅋㅋㅋㅋ', '앜ㅋㅋㅋㅋㅋㅋㅋㅋㅋㅋㅋㅋㅋㅋ', '앞에', '앞에서', '앞으로', '앞으로는', '앞으로도', '앞으론', '앞이라', '앞이야', '앞인데', '애가', '애기', '애기는', '애기들', '애기들은', '애기야', '애깅', '애는', '애두라', '애드라', '애들', '애들도', '애들아', '애들은', '애들이', '애들이랑', '애들하고', '애들한테', '애매', '애매하게', '애매하네', '애매하다', '애매하면', '애매하지', '애매한', '애매한데', '애매해', '애매해서', '애슐리', '애초에', '애플', '애호박', '야간', '야경', '야곱', '야구', '야구장', '야근', '야근데', '야금야금', '야무지게', '야스', '야스야스', '야시장', '야식', '야식으로', '야식은', '야식이', '야쓰', '야쓰야쓰', '야아', '야아스', '야야', '야야야', '야외에서', '야채', '야채가', '야채는', '야채도', '야채랑', '야채를', '야채만', '야탑', '야호', '약간', '약먹고', '약속', '약속시간', '약속은', '약속을', '약속이', '약속잇어', '약속있어', '약속있어서', '약은', '얇게', '얇고', '얇은', '얌얌', '얌전히', '얍얍', '얏호', '양고기', '양꼬치', '양꼬치를', '양념', '양념도', '양념에', '양념은', '양념을', '양념이', '양념장', '양념치킨', '양념해서', '양도', '양말', '양배추', '양배추는', '양배추즙', '양산', '양상추', '양식', '양심', '양양', '양은', '양을', '양이', '양장피', '양재', '양재에서', '양주', '양치하고', '양파', '양파가', '양파도', '양파랑', '양파를', '양평', '얘가', '얘기', '얘기가', '얘기는', '얘기도', '얘기를', '얘기중', '얘기하고', '얘기하구', '얘기하니까', '얘기하다가', '얘기하면', '얘기하면서', '얘기하자', '얘기할게', '얘기해', '얘기해보고', '얘기해보자', '얘기해봐', '얘기해서', '얘기해줘', '얘네', '얘는', '얘드라', '얘들아', '어ㅋ', '어ㅋㅋ', '어구', '어느', '어느날', '어느새', '어느정도', '어늘', '어니', '어댜', '어데', '어디', '어디가', '어디가고', '어디가서', '어디가지', '어디갈까', '어디갈래', '어디갈지', '어디감', '어디갔는데', '어디갔어', '어디고', '어디까지', '어디꺼', '어디냐', '어디니', '어디다', '어디더라', '어디든', '어디라도', '어디러', '어디로', '어디로가', '어디로갈까', '어디루', '어디를', '어디서', '어디서봐', '어디서해', '어디세요', '어디야', '어디얌', '어디양', '어디어디', '어디에', '어디에서', '어디에요', '어디여', '어디였지', '어디요', '어디임', '어디있어', '어디지', '어디징', '어디쯤', '어디쯤이야', '어디쯤인데', '어딘가', '어딘데', '어딘뎅', '어딘디', '어딘지', '어딜', '어딜가', '어딜가나', '어딜가든', '어딧어', '어딨어', '어때', '어때어때', '어때여', '어때요', '어때용', '어때유', '어땟어', '어땠어', '어땡', '어땨', '어떄', '어떠냐', '어떠냐고', '어떠니', '어떠세요', '어떠신지', '어떠케', '어떡하지', '어떡해', '어떤', '어떤가', '어떤가요', '어떤거', '어떤걸', '어떤게', '어떤데', '어떤지', '어떨까', '어떨지', '어떰', '어떻게', '어떻게든', '어떻게해', '어떻노', '어뗘', '어뜨케', '어라', '어려운', '어려운데', '어려워', '어렵네', '어렵다', '어렵지', '어렸을때', '어른들', '어린이', '어린이날', '어릴', '어릴때', '어릴때는', '어머', '어머나', '어머니', '어머니가', '어머니랑', '어머니한테', '어머님', '어머님이', '어머님이랑', '어무니', '어무니가', '어무니랑', '어묵', '어서', '어서와', '어어', '어어어', '어엉', '어여', '어여와', '어우', '어울려', '어울리는', '어으', '어이', '어이구', '어이없네', '어이없어', '어제', '어제는', '어제도', '어제보다', '어제부터', '어제오늘', '어제처럼', '어젠', '어짜피', '어째', '어째서', '어쨋든', '어쨌든', '어쩌고', '어쩌구', '어쩌다', '어쩌다보니', '어쩌면', '어쩌지', '어쩌징', '어쩐지', '어쩔', '어쩔까', '어쩔수', '어쩔수없어', '어쩔수없이', '어쩔수없지', '어쩜', '어찌', '어차피', '어카지', '어캄', '어캐', '어케', '어케가', '어케이', '어케해', '어키', '어키어키', '어플', '어허', '어후', '어휴', '억지로', '언냐', '언넝', '언눙', '언능', '언능와', '언니', '언니가', '언니네', '언니네서', '언니는', '언니도', '언니두', '언니들', '언니들이', '언니들이랑', '언니랑', '언니야', '언니의', '언니한테', '언닌', '언닝', '언제', '언제가', '언제가냐', '언제가노', '언제가는데', '언제가지', '언제갈까', '언제감', '언제까지', '언제끝나', '언제나', '언제냐', '언제는', '언제돼', '언제든', '언제든지', '언제라고', '언제로', '언제만나', '언제먹어', '언제보지', '언제볼까', '언제부터', '언제야', '언제언제', '언제오냐', '언제오는데', '언제옴', '언제와', '언제왕', '언제요', '언제지', '언제쯤', '언제한번', '언제해', '언젠가', '언젠간', '언젠데', '언젠지', '얹어서', '얼굴', '얼굴도', '얼굴만', '얼굴보고', '얼굴이', '얼그레이', '얼능', '얼렁', '얼렁와', '얼려서', '얼른', '얼른가서', '얼른갈게', '얼른와', '얼른자', '얼릉', '얼린', '얼마', '얼마나', '얼마나걸려', '얼마만에', '얼마야', '얼마임', '얼마전에', '얼마지', '얼만데', '얼만큼', '얼음', '얼음도', '얼음이', '얼추', '얼큰', '엄니', '엄니가', '엄니랑', '엄마', '엄마가', '엄마는', '엄마도', '엄마랑', '엄마보고', '엄마아빠', '엄마아빠가', '엄마아빠는', '엄마야', '엄마의', '엄마표', '엄마한테', '엄만', '엄빠', '엄빠가', '엄빠는', '엄빠랑', '엄빠한테', '엄청', '엄청나', '엄청나게', '엄청나네', '엄청난', '엄청많이', '엄청엄청', '업그레이드', '업무', '업어', '없거든', '없겠네', '없겠다', '없겠지', '없고', '없구', '없구나', '없구만', '없군', '없긴', '없긴한데', '없길래', '없나', '없나요', '없낭', '없냐', '없네', '없네요', '없넹', '없노', '없누', '없는', '없는거', '없는거야', '없는거지', '없는건가', '없는걸', '없는게', '없는데', '없는뎅', '없는듯', '없는디', '없니', '없다', '없다고', '없다구', '없다니', '없당', '없대', '없더', '없더라', '없더라고', '없던', '없던데', '없따', '없습니다', '없어', '없어ㅠㅠ', '없어도', '없어서', '없어여', '없어요', '없어용', '없어져서', '없어졌어', '없어지고', '없어짐', '없엇어', '없었는데', '없었어', '없었으면', '없엉', '없오', '없옹', '없으', '없으니', '없으니까', '없으니깐', '없으려나', '없으면', '없을', '없을거', '없을걸', '없을까', '없을듯', '없을때', '없을수가', '없을텐데', '없음', '없이', '없자나', '없잖아', '없죠', '없지', '없지만', '없징', '엉ㅋㅋ', '엉ㅋㅋㅋ', '엉ㅋㅋㅋㅋ', '엉엉', '엉엉ㅋㅋ', '엉엉엉', '엊그제', '엌ㅋㅋ', '엌ㅋㅋㅋ', '엌ㅋㅋㅋㅋ', '엌ㅋㅋㅋㅋㅋ', '엌ㅋㅋㅋㅋㅋㅋ', '엌ㅋㅋㅋㅋㅋㅋㅋ', '엌ㅋㅋㅋㅋㅋㅋㅋㅋ', '에게', '에고', '에구', '에구구', '에궁', '에그', '에그드랍', '에그마요', '에그타르트', '에너지', '에너지바', '에다가', '에라이', '에머이', '에바', '에바야', '에반데', '에버랜드', '에서', '에스컬레이터', '에스프레소', '에어부산', '에어비앤비', '에어비앤비는', '에어비엔비', '에어아시아', '에어컨', '에어프라이기', '에어프라이기에', '에어프라이어', '에어프라이어로', '에어프라이어에', '에에', '에에에', '에엥', '에이', '에이드', '에이스', '에잇', '에잉', '에프', '에프로', '에프에', '에헴', '에혀', '에효', '에휴', '엘베', '엠티', '여권', '여기', '여기가', '여기가자', '여기까지', '여기는', '여기다', '여기도', '여기두', '여기랑', '여기로', '여기를', '여기서', '여기서도', '여기야', '여기에', '여기와서', '여기저기', '여긴', '여나', '여는', '여덟시', '여덟시에', '여러', '여러가지', '여러개', '여러군데', '여러모로', '여러번', '여러분', '여름', '여름에', '여름엔', '여름휴가', '여보', '여보가', '여보는', '여보도', '여보랑', '여보야', '여보여보', '여봉', '여봉이', '여봉이가', '여봉이는', '여봉이랑', '여부', '여부야', '여붕', '여뷰', '여섯시', '여섯시까지', '여섯시반', '여섯시반에', '여섯시에', '여섯시쯤', '여수', '여수는', '여수에', '여어', '여유', '여유가', '여유롭게', '여유있게', '여의도', '여의도로', '여자', '여자는', '여자친구', '여자친구가', '여자친구랑', '여전히', '여주', '여즘', '여치니', '여치니는', '여친', '여친이랑', '여태', '여태까지', '여툰', '여튼', '여행', '여행가는거', '여행가면', '여행가서', '여행도', '여행은', '여행을', '여행의', '여행이', '여행지', '역까지', '역대급', '역쉬', '역시', '역시나', '역에', '역에서', '역으로', '연구실', '연구실에서', '연극', '연남동', '연대', '연락', '연락도', '연락오면', '연락을', '연락이', '연락줄게', '연락줘', '연락줘요', '연락줭', '연락하고', '연락할게', '연락할게요', '연락할게용', '연락할겡', '연락할께', '연락함', '연락해', '연락해볼게', '연락해서', '연락해요', '연락해용', '연말', '연말에', '연말이라', '연속', '연수', '연습', '연어', '연어가', '연어는', '연어덮밥', '연어도', '연어를', '연어장', '연어초밥', '연유', '연차', '연차를', '연휴', '연휴때', '연희동', '열고', '열두시', '열두시까지', '열두시에', '열두시쯤', '열라면', '열무김치', '열받네', '열받아', '열시', '열시미', '열시반', '열시반에', '열시에', '열심히', '열어', '열어서', '열차', '열한시', '열한시까지', '열한시에', '열한시쯤', '엽떡', '엽떡에', '엽떡은', '엽떡이', '엽떡이랑', '영도', '영등포', '영등포에서', '영상', '영어', '영어로', '영업', '영종도', '영화', '영화가', '영화관', '영화나', '영화는', '영화도', '영화를', '영화보고', '영화보구', '영화보러', '영화보면', '영화보면서', '영화보자', '영화볼까', '옆에', '옆에서', '옆으로', '옆집', '예매', '예매하고', '예배', '예비군', '예뻐', '예뿌다', '예쁘게', '예쁘고', '예쁘다', '예쁘지', '예쁜', '예쁜데', '예산', '예상', '예스', '예스예스', '예쓰', '예아', '예압', '예약', '예약번호', '예약완료', '예약은', '예약을', '예약이', '예약하고', '예약하면', '예약한', '예약한다', '예약할게', '예약할까', '예약함', '예약해', '예약해서', '예약해야', '예약해야지', '예약했는데', '예약했어', '예에', '예에에', '예예', '예의가', '예이', '예전', '예전부터', '예전에', '예전에는', '예전엔', '예정', '예정이야', '예정입니다', '옙옙', '옛날', '옛날에', '옛날엔', '옛날통닭', '오ㅋㅋ', '오ㅋㅋㅋ', '오ㅎㅎ', '오게', '오겠네', '오겠지', '오고', '오구', '오구오구', '오궁', '오궁ㅎㅎ', '오규', '오그래', '오기', '오기로', '오기전에', '오나', '오냐', '오냥', '오너라', '오널', '오네', '오노', '오눌', '오는', '오는거', '오는거야', '오는거지', '오는건', '오는게', '오는겨', '오는길에', '오는데', '오늘', '오늘까지', '오늘까지만', '오늘도', '오늘두', '오늘따라', '오늘만', '오늘말고', '오늘부터', '오늘은', '오늘의', '오늘이', '오늘이나', '오늘이야', '오늘저녁', '오늘저녁에', '오늘저녁은', '오늘점심은', '오능', '오니', '오니까', '오다가', '오댜', '오뎅', '오뎅탕', '오돌뼈', '오디', '오디가', '오디로', '오디서', '오디야', '오디양', '오때', '오땡', '오뚜기', '오라', '오라고', '오라구', '오라방', '오래', '오래걸려', '오래걸려서', '오래걸리네', '오래걸림', '오래는', '오래돼서', '오래됐는데', '오래됐다', '오래됐어', '오래된', '오래됨', '오래오래', '오랜만', '오랜만에', '오랜만이다', '오랜만이라', '오랫만에', '오레오', '오렌지', '오려고', '오려나', '오려면', '오로', '오로지', '오른쪽', '오름', '오리', '오리고기', '오리백숙', '오리지날', '오리지널', '오리지널이', '오마이갓', '오마카세', '오만원', '오매', '오메', '오메기떡', '오면', '오면서', '오모나', '오므라이스', '오믄', '오미자', '오바', '오바야', '오버워치', '오분', '오븐에', '오빠', '오빠가', '오빠네', '오빠는', '오빠도', '오빠두', '오빠랑', '오빠만', '오빠야', '오빠야가', '오빠한테', '오빤', '오빵', '오사카', '오산', '오삼', '오설록', '오세여', '오세요', '오세용', '오셈', '오셔', '오셔서', '오셔요', '오션뷰', '오셨다', '오셨어', '오슈', '오시나요', '오시면', '오시오', '오실', '오심', '오아', '오야', '오엥', '오예', '오예오예', '오오', '오오ㅎㅎ', '오오오', '오오오오', '오오오오오', '오오오오오오', '오오오옹', '오오옹', '오오키', '오올', '오옷', '오옹', '오와', '오왕', '오우', '오우야', '오웅', '오응', '오이', '오이도', '오이잉', '오일', '오잉', '오자', '오자마자', '오쟈', '오전', '오전부터', '오전에', '오전에는', '오전은', '오전이', '오져', '오지', '오지게', '오지마', '오진다', '오진짜', '오짐', '오징어', '오징어랑', '오차피', '오천원', '오카이', '오케', '오케바리', '오케오케', '오케이', '오케잉', '오켕', '오키', '오키나와', '오키도키', '오키도키요', '오키도키용', '오키오키', '오키오킹', '오키요', '오키용', '오키이', '오키키', '오킹', '오타', '오토바이', '오트밀', '오티', '오픈', '오호', '오호ㅎㅎ', '오호라', '오호이', '오홀', '오홋', '오홋ㅋㅋ', '오홋ㅎㅎ', '오홍', '오홍ㅋㅋ', '오홍ㅎㅎ', '오홍홍', '오홓', '오후', '오후는', '오후도', '오후에', '오후에는', '오후에도', '오후엔', '오히려', '옥께이', '옥수수', '옥수수도', '옥히', '온거', '온거야', '온김에', '온나', '온니', '온다', '온다고', '온다구', '온다네', '온다는데', '온당', '온대', '온댕', '온데', '온도', '온라인', '온리', '온제', '온천', '올ㅋ', '올거', '올거면', '올거야', '올건데', '올게', '올게요', '올겨', '올까', '올꺼', '올꺼야', '올듯', '올때', '올때까지', '올때쯤', '올땐', '올라가', '올라가는', '올라가면', '올라가서', '올라간', '올라갈', '올라감', '올라서', '올라오는', '올라오면', '올라옴', '올라와', '올라와서', '올래', '올래요', '올랭', '올려', '올려서', '올리고', '올리고당', '올리면', '올리브', '올리브영', '올린', '올림', '올만에', '올수', '올수있어', '올지', '올해', '올해는', '옮기고', '옳다', '옳아', '옴뇸뇸', '옴마', '옴마가', '옵치', '옶어', '옷갈아입고', '옷도', '옷만', '옷에', '옷은', '옷을', '옷이', '옷이랑', '옷입고', '옷입구', '옷좀', '옹옹', '옼ㅋㅋㅋㅋㅋ', '와구와구', '와근데', '와도', '와두', '와따', '와또용ㅎㅎ', '와라', '와랑', '와사비', '와서', '와써', '와씨', '와아', '와야', '와야겠다', '와야지', '와야해', '와여', '와요', '와용', '와우', '와웅', '와유', '와응', '와이', '와이파이', '와이프', '와인', '와인도', '와인은', '와인이랑', '와중에', '와줘', '와줘서', '와진짜', '와퍼', '와플', '와플기계', '와플은', '완료', '완벽', '완벽한', '완벽해', '완성', '완전', '완전히', '완젼', '완존', '완죤', '왓는데', '왓다', '왓어', '왓오', '왔나', '왔네', '왔는데', '왔다', '왔다가', '왔다갔다', '왔당', '왔습니다', '왔어', '왔어여', '왔어요', '왔어요ㅎㅎ', '왔어용', '왔엉', '왔오', '왔으면', '왔음', '왔지', '왕복', '왕십리', '왕십리에서', '왕창', '왜가', '왜그래', '왜그러지', '왜그렇게', '왜냐', '왜냐면', '왜냐하면', '왜때문에', '왜애', '왜에', '왜여', '왜왜', '왜요', '왜욤', '왜용', '왜유', '왜융', '왜이래', '왜이렇게', '왜이리', '왜자꾸', '왜저래', '왜죠', '왜지', '왜캐', '왜케', '왠만하면', '왠만한', '왠일', '왠일로', '왠지', '왤캐', '왤케', '왱왱', '외국에서', '외박', '외식', '외출', '왼쪽', '왼쪽에', '요가', '요거', '요거트', '요거트는', '요거트랑', '요거프레소', '요고', '요구르트', '요기', '요기도', '요기서', '요기요', '요런거', '요렇게', '요리', '요리가', '요리는', '요리도', '요리를', '요리좀', '요리해서', '요며칠', '요번에', '요번주', '요새', '요새는', '요샌', '요일', '요즘', '요즘도', '요즘에', '요즘에는', '요즘엔', '요즘은', '요플레', '요플레를', '욕조', '욥욥', '용기', '용돈', '용산', '용산에', '용산에서', '용산역', '용인', '우걱우걱', '우니', '우도', '우동', '우동사리', '우동은', '우동이', '우동이랑', '우럭', '우리', '우리가', '우리끼리', '우리나라', '우리는', '우리도', '우리동네', '우리동네에', '우리둘다', '우리둘이', '우리랑', '우리만', '우리방', '우리방은', '우리아빠', '우리애기', '우리엄마', '우리에겐', '우리여보', '우리의', '우리자기', '우리집', '우리집도', '우리집앞', '우리집에', '우리집에서', '우리집엔', '우리집와', '우리집와서', '우리집으로', '우리집은', '우리집이', '우리한테', '우린', '우산', '우선', '우선은', '우씨', '우아', '우앙', '우엑', '우연히', '우오', '우와', '우왕', '우우', '우우우', '우우웅', '우움', '우웅', '우웅ㅇ', '우웩', '우유', '우유가', '우유는', '우유도', '우유랑', '우유를', '우유에', '우육면', '우응', '우잉', '우짜지', '우째', '우체국', '운동', '운동끝', '운동끝나고', '운동도', '운동은', '운동을', '운동이', '운동하고', '운동하구', '운동하면', '운전', '운전은', '운전을', '운전해서', '울동네', '울릉도', '울면서', '울방이', '울산', '울산가서', '울산에서', '울산은', '울애기', '울어', '울엄마', '울엄마도', '울여봉이', '울자기', '울지마', '울집', '울집도', '울집에', '울집에서', '울집은', '움직이고', '움직이기', '움직이는', '움직이지', '웁스', '웃겨', '웃기네', '웃기다', '웃기당', '웃긴게', '웃긴다', '웃김', '웅ㅇ', '웅ㅋ', '웅ㅋㅋ', '웅ㅋㅋㅋ', '웅ㅋㅋㅋㅋ', '웅ㅋㅋㅋㅋㅋ', '웅ㅋㅋㅋㅋㅋㅋ', '웅ㅎ', '웅ㅎㅎ', '웅ㅎㅎㅎ', '웅ㅜㅜ', '웅ㅠ', '웅ㅠㅠ', '웅뜨', '웅우', '웅웅', '웅웅ㅇ', '웅웅ㅋㅋ', '웅웅ㅋㅋㅋ', '웅웅ㅋㅋㅋㅋ', '웅웅ㅋㅋㅋㅋㅋ', '웅웅ㅎ', '웅웅ㅎㅎ', '웅웅ㅎㅎㅎ', '웅웅ㅎㅎㅎㅎ', '웅웅웅', '웅웅헤헤', '웅응', '웅응ㅎ', '웅응ㅎㅎ', '워낙', '워크샵', '워터파크', '워후', '원두', '원두로', '원래', '원래는', '원래대로', '원래도', '원장님이', '원조', '원주', '원피스', '원하는', '원하는데', '원하면', '원해', '월급', '월남쌈', '월남쌈은', '월미도', '월수금', '월요일', '월요일까지', '월요일날', '월요일도', '월요일로', '월요일에', '월요일은', '월욜', '월욜날', '월욜에', '월욜은', '월화', '월화수', '웨이팅', '웬만하면', '웬만한', '웬열', '웬일로', '웬지', '위가', '위로', '위메프에서', '위에', '위에서', '위장이', '위주로', '위치', '위치가', '위치는', '위치도', '위치를', '위하여', '위한', '위해', '위해서', '위험해', '유가네', '유감', '유니버셜', '유럽', '유럽은', '유명하대', '유명하지', '유명한', '유명한데', '유명함', '유명해', '유명해서', '유부초밥', '유산균', '유심', '유일하게', '유일한', '유자차', '유치원에서', '유통기한', '유통기한이', '유튜브', '유튜브에서', '유후', '육개장', '육수', '육수는', '육전', '육포', '육회', '육회도', '육회랑', '육회비빔밥', '융웅', '융융', '으로', '으아', '으아아', '으악', '으앙', '으어', '으웃', '으웅', '으으', '으으으', '으으음', '으으응', '으윽', '으음', '으응', '으이', '으이구', '으이그', '으잉', '으휴', '으흠', '은근', '은근히', '은행', '을매나', '을왕리', '을지로', '음료', '음료가', '음료는', '음료도', '음료랑', '음료수', '음식', '음식도', '음식들', '음식에', '음식으로', '음식은', '음식을', '음식이', '음식이야', '음식점', '음식점이', '음악', '음음', '음청', '응ㅋ', '응ㅋㅋ', '응ㅋㅋㅋ', '응ㅋㅋㅋㅋ', '응ㅋㅋㅋㅋㅋ', '응ㅋㅋㅋㅋㅋㅋ', '응ㅎ', '응ㅎㅎ', '응떡', '응웅', '응으', '응응', '응응ㅇ', '응응ㅋㅋ', '응응ㅋㅋㅋ', '응응ㅋㅋㅋㅋ', '응응ㅋㅋㅋㅋㅋ', '응응ㅎㅎ', '응응ㅎㅎㅎ', '응응응', '의견', '의미가', '의미로', '의외로', '의자', '의자에', '의정부', '의지가', '이가', '이거', '이거는', '이거다', '이거도', '이거라도', '이거랑', '이거만', '이거바', '이거보고', '이거봐', '이거야', '이거저거', '이거지', '이건', '이건가', '이걸', '이걸로', '이것', '이것도', '이것만', '이것봐', '이것저것', '이게', '이게뭐야', '이고', '이곳저곳', '이궁', '이나', '이네', '이네서', '이는', '이다', '이대', '이대로', '이도', '이동', '이동네', '이두', '이득', '이디야', '이따', '이따가', '이따봐', '이따봐요', '이따봐용', '이때', '이떠', '이또ㅎㅎ', '이또용ㅎㅎ', '이라고', '이라는', '이라면', '이랑', '이래', '이래놓고', '이래서', '이랬는데', '이러고', '이러나', '이러네', '이러는데', '이러니까', '이러다', '이러다가', '이러면', '이러면서', '이러케', '이런', '이런거', '이런건', '이런걸', '이런것도', '이런게', '이런곳', '이런날', '이런데', '이런데가', '이런데는', '이런데도', '이런데서', '이런식으로', '이런이런', '이럴', '이럴거면', '이럴때', '이럴땐', '이럴수가', '이럼', '이렇게', '이렇게까지', '이렇게만', '이론', '이른', '이를', '이름', '이름도', '이름만', '이름은', '이름을', '이름이', '이리', '이마트', '이마트가서', '이마트에', '이마트에서', '이만', '이만큼', '이말이야', '이면', '이모', '이모가', '이모네', '이모는', '이모도', '이모랑', '이모티콘', '이미', '이번', '이번달', '이번달에', '이번달은', '이번에', '이번에는', '이번에도', '이번엔', '이번주', '이번주가', '이번주는', '이번주도', '이번주말', '이번주말에', '이번주에', '이번주엔', '이벤트', '이분', '이불', '이빨', '이뻐', '이뻐서', '이뿌게', '이뿌니', '이뿌다', '이뿌당', '이쁘게', '이쁘고', '이쁘네', '이쁘니', '이쁘다', '이쁜', '이쁜거', '이쁜데', '이쁜이', '이사', '이삭', '이삭토스트', '이상', '이상하게', '이상하네', '이상하다', '이상하지', '이상한', '이상한거', '이상한데', '이상해', '이수', '이스타', '이슬톡톡', '이시간에', '이시국에', '이십분', '이써', '이쏘', '이씨', '이야', '이야기', '이야기가', '이야기도', '이야기를', '이야기하고', '이어', '이어폰', '이열', '이와중에', '이왕', '이왕이면', '이요', '이욜', '이용', '이월드', '이유', '이유가', '이유는', '이유로', '이유를', '이의', '이이', '이이잉', '이잉', '이자카야', '이잖아', '이전에', '이정도', '이정도는', '이정도면', '이제', '이제는', '이제부터', '이제야', '이제와서', '이젠', '이주', '이중에', '이즈', '이지', '이집', '이쪽으로', '이차', '이차돌', '이참에', '이층', '이친구', '이케', '이케아', '이탈리아', '이태리', '이태원', '이태원에', '이틀', '이틀동안', '이틀만', '이한테', '이한테도', '이해', '이해가', '이해해', '이형', '이형이랑', '이후', '이후로', '이후에', '익산', '익선동', '인가', '인간적으로', '인강', '인계동', '인기', '인기가', '인나서', '인남', '인당', '인데', '인도', '인사', '인사동', '인사하고', '인생', '인스타', '인스타에', '인스턴트', '인원', '인원이', '인자', '인절미', '인정', '인정이지', '인정인정', '인정합니다', '인제', '인줄', '인증', '인증샷', '인지', '인천', '인천공항', '인천에', '인천에서', '인천으로', '인천은', '인터넷', '인터넷에', '인터넷에서', '인터넷으로', '인테리어', '인형', '일곱시', '일곱시반', '일곱시에', '일곱시쯤', '일끝나고', '일끝나구', '일나서', '일년', '일년에', '일단', '일단은', '일도', '일듯', '일루와', '일마치고', '일만', '일박에', '일반', '일반식', '일보고', '일본', '일본가서', '일본도', '일본식', '일본어', '일본에', '일본에서', '일본은', '일본이', '일부러', '일산', '일산에서', '일식', '일어나', '일어나면', '일어나서', '일어나야지', '일어나야해', '일어나자마자', '일어남', '일어났는데', '일어났다', '일어났어', '일어났어요', '일에', '일요일', '일요일날', '일요일도', '일요일로', '일요일에', '일요일엔', '일요일은', '일요일이', '일요일인데', '일욜', '일욜까지', '일욜날', '일욜도', '일욜에', '일욜엔', '일욜은', '일월', '일은', '일을', '일이', '일이나', '일이야', '일인', '일정', '일정에', '일정은', '일정을', '일정이', '일주일', '일주일동안', '일주일만에', '일주일에', '일주일은', '일찍', '일찍가서', '일찍와', '일찍와서', '일찍은', '일층에', '일케', '일하고', '일하구', '일하기', '일하느라', '일하는', '일하는데', '일하니까', '일하러', '일하면', '일하면서', '일하지', '일할', '일할때', '일함', '일해', '일해서', '일해야지', '일회용', '임마', '임산부', '임티', '입고', '입구', '입구에', '입구에서', '입니다', '입맛', '입맛도', '입맛만', '입맛에', '입맛은', '입맛이', '입안에', '입었어', '입에', '입에서', '입으로', '입으면', '입은', '입을', '입음', '입이', '입천장', '잇고', '잇구', '잇구나', '잇길래', '잇나', '잇냐', '잇네', '잇는', '잇는거', '잇는데', '잇는지', '잇다', '잇다가', '잇대', '잇어', '잇어서', '잇어여', '잇어요', '잇엇는데', '잇엇어', '잇엉', '잇오', '잇으니', '잇으니까', '잇으면', '잇을게', '잇을듯', '잇음', '잇자나', '잇지', '있거든', '있게', '있겠네', '있겠다', '있겠어', '있겠지', '있겠지만', '있고', '있구', '있구나', '있구만', '있군', '있긴', '있긴하지', '있긴한데', '있긴해', '있길', '있길래', '있나', '있나봐', '있나여', '있나요', '있나용', '있남', '있낭', '있냐', '있냐고', '있네', '있네요', '있넹', '있누', '있는', '있는가', '있는거', '있는거야', '있는거지', '있는건', '있는건가', '있는걸', '있는걸로', '있는것', '있는것도', '있는게', '있는곳', '있는데', '있는데로', '있는뎅', '있는듯', '있는디', '있는줄', '있는중', '있는지', '있니', '있닝', '있다', '있다가', '있다고', '있다구', '있다네', '있다는', '있다는데', '있다니', '있다던데', '있다면', '있당', '있대', '있댕', '있더라', '있더라고', '있더라구', '있던', '있던가', '있던거', '있던데', '있데', '있도록', '있습니다', '있어', '있어ㅋㅋ', '있어도', '있어또ㅎㅎ', '있어서', '있어야', '있어야지', '있어야해', '있어여', '있어요', '있어요ㅎㅎ', '있어용', '있었거든', '있었구나', '있었나', '있었네', '있었는데', '있었다', '있었던', '있었어', '있었어요', '있었으면', '있었음', '있었지', '있었지만', '있엉', '있오', '있옹', '있으', '있으니', '있으니까', '있으니깐', '있으려나', '있으면', '있을', '있을거', '있을거같아', '있을거야', '있을걸', '있을것', '있을게', '있을게요', '있을겡', '있을까', '있을까요', '있을껄', '있을께', '있을듯', '있을때', '있을래', '있을수도', '있을지', '있을텐데', '있음', '있음ㅋㅋㅋ', '있자나', '있자너', '있잖아', '있죠', '있지', '있지만', '있지요', '잉잉', '자갸', '자게', '자고', '자고가', '자구', '자극적인거', '자기', '자기ㅎㅎ', '자기가', '자기네', '자기눈', '자기는', '자기능', '자기도', '자기두', '자기랑', '자기를', '자기만', '자기야', '자기야아', '자기야아아', '자기야아아아', '자기얌', '자기양', '자기자기', '자기전에', '자기집', '자기한테', '자긴', '자깅', '자꾸', '자나', '자냐', '자네', '자는', '자는거', '자는건', '자는게', '자는데', '자니', '자니까', '자다', '자다가', '자도', '자동으로', '자동차', '자두', '자라', '자라고', '자랑', '자려고', '자려구', '자르고', '자리', '자리가', '자리는', '자리도', '자리에', '자리에서', '자매', '자매가', '자매는', '자매랑', '자면', '자면서', '자몽', '자바칩', '자서', '자세히', '자소서', '자야겠다', '자야지', '자야징', '자야해', '자연', '자연별곡', '자연스럽게', '자요', '자용', '자유', '자유롭게', '자자', '자전거', '자전거타고', '자주', '자주먹네', '자지', '자체가', '자체를', '자취방', '자취하면', '작게', '작고', '작네', '작년', '작년에', '작아', '작아서', '작업', '작은', '작은거', '작은게', '잔다', '잔다고', '잔당', '잔뜩', '잔소리', '잔치국수', '잘가', '잘거야', '잘게', '잘까', '잘다녀와', '잘다녀와요', '잘돼', '잘됐네', '잘됐다', '잘라서', '잘래', '잘먹고', '잘먹네', '잘먹는데', '잘먹어', '잘먹어서', '잘먹었어', '잘먹을게', '잘먹음', '잘모르겠어', '잘몰라', '잘못', '잘아네', '잘어울려', '잘자', '잘자고', '잘자구', '잘자요', '잘자용', '잘잤나유', '잘잤어', '잘잤어요', '잘하고', '잘하구', '잘하네', '잘하는', '잘하는데', '잘하면', '잘함', '잘해', '잘해따', '잘해떠', '잘해또', '잘해또요', '잘해또용ㅎㅎ', '잘해또잘해또', '잘해또잘해또ㅎㅎ', '잘해써', '잘해쏘', '잘해요', '잘해쪄', '잘햇네', '잘햇다', '잘햇어', '잘햇어용', '잘햇엉', '잘했구만', '잘했네', '잘했네ㅎㅎ', '잘했넹', '잘했다', '잘했어', '잘했어ㅋㅋ', '잘했어ㅎㅎ', '잘했어요', '잘했어용', '잘했어잘했어', '잘했엉', '잘했오', '잘했옹', '잘했지', '잠깐', '잠깐만', '잠깐이라도', '잠도', '잠들어서', '잠만', '잠시', '잠시만', '잠시만여', '잠시만요', '잠실', '잠실로', '잠실에', '잠실에서', '잠실역', '잠온다', '잠옷', '잠와', '잠은', '잠을', '잠이', '잠잠해지면', '잡고', '잡아', '잡아도', '잡아서', '잡아야', '잡았어', '잡으면', '잡은', '잡을', '잡을까', '잡음', '잡자', '잡채', '잡채도', '잡채밥', '잡히면', '잤는데', '잤어', '잤어요', '장난', '장난감', '장난아니네', '장난아니다', '장난아니야', '장난하나', '장례식', '장례식장', '장모님', '장보고', '장보러', '장봐서', '장사', '장사가', '장소', '장소가', '장소는', '장소를', '장아찌', '장어', '장어는', '장어덮밥', '장을', '장이', '장인', '장조림', '재고', '재난지원금', '재료', '재료가', '재료는', '재료도', '재료를', '재미가', '재미있게', '재밋게', '재밌게', '재밌겠다', '재밌는', '재밌다', '재밌어', '재밌었어', '재밌지', '재우고', '재택', '잼게', '잼께', '잼나게', '쟁반짜장', '쟈기', '쟈기가', '쟈기는', '쟈기도', '쟈기랑', '쟈기야', '쟈긴', '쟈철', '쟈철타고', '쟤는', '저가', '저거', '저거는', '저거도', '저거랑', '저거만', '저거에', '저건', '저걸', '저걸로', '저것도', '저것만', '저게', '저기', '저기가', '저기가서', '저기는', '저기도', '저기로', '저기서', '저기야', '저기에', '저기요', '저긴', '저나', '저날', '저냥', '저녁', '저녁까지', '저녁도', '저녁때', '저녁만', '저녁먹고', '저녁먹구', '저녁먹었어', '저녁먹으러', '저녁먹을까', '저녁먹자', '저녁메뉴', '저녁뭐먹지', '저녁밥', '저녁부터', '저녁시간', '저녁식사', '저녁약속', '저녁에', '저녁에는', '저녁에도', '저녁엔', '저녁으로', '저녁은', '저녁을', '저녁이', '저녁이나', '저녁이라', '저녁이랑', '저녁이면', '저녁이야', '저녁쯤', '저눈', '저는', '저도', '저두', '저두요', '저때', '저랑', '저런', '저런거', '저런건', '저런게', '저런데', '저렇게', '저렴', '저렴하게', '저렴하고', '저렴한', '저렴한데', '저렴해', '저리', '저번', '저번보다', '저번에', '저번에는', '저번에도', '저번엔', '저번주', '저번주도', '저번주에', '저번처럼', '저요', '저의', '저장', '저정도', '저정도면', '저한테', '저희', '저희가', '저희는', '적게', '적고', '적금', '적당', '적당한', '적당히', '적어', '적어놔', '적어도', '적어서', '적은', '적은데', '적이', '전골', '전까지', '전까지는', '전날', '전날에', '전도', '전라도', '전문', '전문점', '전번', '전복', '전복죽', '전부', '전부다', '전부터', '전시', '전시회', '전어', '전에', '전에는', '전에도', '전엔', '전이랑', '전자레인지', '전자레인지에', '전자렌지', '전자렌지에', '전주', '전주는', '전주식당', '전주에', '전주에서', '전철', '전체적으로', '전해줘', '전혀', '전화', '전화가', '전화는', '전화도', '전화로', '전화를', '전화번호', '전화오면', '전화와서', '전화줘', '전화하께', '전화하면', '전화할게', '전화할께', '전화함', '전화해', '전화해볼게', '전화해서', '전화했는데', '절대', '절대로', '절레절레', '절반', '젊은', '점심', '점심까지', '점심도', '점심때', '점심만', '점심먹고', '점심먹구', '점심먹었어', '점심먹으러', '점심먹자', '점심메뉴', '점심부터', '점심시간', '점심시간에', '점심시간이', '점심시간이네', '점심시간이두앙ㅎㅎ', '점심에', '점심엔', '점심으로', '점심은', '점심을', '점심이', '점심이나', '점심인데', '점심쯤', '점심쯤에', '점저', '점점', '접때', '접수', '접시', '젓가락', '젓가락으로', '정답', '정도', '정도가', '정도는', '정도로', '정도만', '정도면', '정도야', '정도에', '정돈', '정류장', '정리', '정리중', '정리하고', '정리하구', '정리해서', '정말', '정말루', '정문', '정문에서', '정보', '정상', '정성이', '정식', '정신', '정신없이', '정신이', '정육점', '정자', '정작', '정하고', '정하면', '정하자', '정하쟈', '정함', '정해', '정해놓고', '정해서', '정해야', '정해야지', '정해져', '정해줘', '정해지면', '정했다', '정했어', '정확하게', '정확한', '정확히', '정확히는', '제가', '제대로', '제대로된', '제때', '제로', '제로콜라', '제발', '제부도', '제사', '제육', '제육덮밥', '제육볶음', '제육에', '제육이', '제육이랑', '제일', '제주', '제주가서', '제주는', '제주도', '제주도가', '제주도가서', '제주도나', '제주도는', '제주도도', '제주도로', '제주도를', '제주도에', '제주도에서', '제주에', '제주에서', '제주항공', '젠장', '젤라또', '젤로', '젤리', '져아', '졌어', '조각', '조개', '조개구이', '조개찜', '조금', '조금더', '조금만', '조금씩', '조금은', '조금이라도', '조기', '조리', '조리퐁', '조만간', '조미료', '조식', '조식도', '조식은', '조식이', '조식포함', '조심', '조심하고', '조심해', '조심해서', '조심해야지', '조심히', '조심히가', '조심히와', '조아', '조아아', '조아여', '조아요', '조아요조아용ㅎㅎ', '조아용', '조아유', '조아조아', '조아조아ㅎㅎ', '조아조앙', '조아조앙ㅎㅎ', '조아하는', '조아해', '조아행', '조앗', '조앙', '조오치', '조와', '조용한', '조용히', '조으네조으네ㅎㅎ', '조으다', '조으다조으다', '조으다조으다ㅎㅎ', '조으다조으당ㅎㅎ', '조은', '조은데', '조음', '조절', '조져', '조조', '조지고', '조지자', '조진다', '조치', '조카', '조켓다', '조타', '조타조타', '조하', '조합', '조합이', '조합이야', '족발', '족발도', '족발은', '족발이', '족발이랑', '족발집', '존맛', '존맛이다', '존맛이라고', '존맛이래', '존맛이야', '존맛이지', '존맛인데', '존맛임', '존맛탱', '존맛탱구리', '존맛탱이야', '존맛탱임', '존좋', '졸려', '졸려서', '졸령', '졸리네', '졸리다', '졸리당', '졸리면', '졸업', '졸업식', '좀더', '좀따', '좀따가', '좀만', '좀이따', '좀이따가', '좀잇다', '좀있다', '좀있으면', '좀전에', '좁아', '좁아서', '종로', '종류', '종류가', '종류는', '종류도', '종류별로', '종이', '종일', '종종', '좋게', '좋게따', '좋겟네', '좋겟다', '좋겟당', '좋겠구만', '좋겠군', '좋겠네', '좋겠는데', '좋겠다', '좋겠당', '좋겠따', '좋겠어', '좋겠지', '좋고', '좋구', '좋구나', '좋구만', '좋구먼', '좋군', '좋군요', '좋긴', '좋긴하지', '좋긴한데', '좋긴해', '좋나', '좋네', '좋네ㅋ', '좋네ㅋㅋ', '좋네여', '좋네요', '좋넹', '좋니', '좋다', '좋다ㅋㅋ', '좋다고', '좋다구', '좋다는데', '좋다더라', '좋다좋다', '좋당', '좋당ㅎㅎ', '좋대', '좋더라', '좋더라구', '좋던데', '좋데', '좋드라', '좋소', '좋습니다', '좋습니당', '좋아', '좋아ㅋㅋ', '좋아ㅎㅎ', '좋아보여', '좋아보이네', '좋아보인다', '좋아서', '좋아아', '좋아여', '좋아요', '좋아요ㅎㅎ', '좋아욤', '좋아용', '좋아유', '좋아졌어', '좋아좋아', '좋아하거든', '좋아하고', '좋아하나', '좋아하냐', '좋아하네', '좋아하는', '좋아하는거', '좋아하는건', '좋아하는게', '좋아하는구나', '좋아하는데', '좋아하니', '좋아하니까', '좋아하더라', '좋아하던', '좋아하면', '좋아하셔', '좋아하자나', '좋아하잖아', '좋아하지', '좋아하진', '좋아한다', '좋아한다고', '좋아할', '좋아할듯', '좋아함', '좋아합니다', '좋아해', '좋아해서', '좋아해여', '좋아해요', '좋아했는데', '좋아행', '좋았겠네', '좋았겠다', '좋았는데', '좋았다', '좋았어', '좋았어요', '좋았을텐데', '좋았음', '좋았지', '좋앙', '좋으네', '좋으니까', '좋으려나', '좋으면', '좋은', '좋은거', '좋은거같아', '좋은거야', '좋은건', '좋은걸', '좋은것', '좋은게', '좋은곳', '좋은데', '좋은데서', '좋은뎅', '좋은듯', '좋은디', '좋은생각', '좋은생각이야', '좋은시간', '좋을', '좋을거', '좋을거같아', '좋을거같은데', '좋을것', '좋을것같아', '좋을까', '좋을까요', '좋을듯', '좋을지', '좋을텐데', '좋음', '좋잖아', '좋제', '좋죠', '좋쥬', '좋지', '좋지ㅎㅎ', '좋지만', '좋지않아', '좋지요', '좋지용', '좋지이', '좋지좋지', '좋징', '좋치', '좌석', '좌석이', '죄다', '죄송', '죄송합니다', '죄책감', '죠스', '죠아', '죠아죠아', '죠앙', '주고', '주구장창', '주기적으로', '주께', '주꾸미', '주나', '주네', '주는', '주는거', '주는데', '주더라', '주던데', '주라', '주려고', '주로', '주말', '주말까지', '주말도', '주말에', '주말에는', '주말에도', '주말에만', '주말엔', '주말은', '주말이', '주말이라', '주말인데', '주먹밥', '주먹밥도', '주먹밥에', '주면', '주문', '주문완료', '주문이', '주문하고', '주문하면', '주문할까', '주문함', '주문해', '주문해서', '주문해야지', '주변', '주변에', '주변에서', '주세요', '주세용', '주셨네', '주셨어', '주소', '주스', '주심', '주에', '주위에', '주일', '주일에', '주중에', '주지', '주차', '주차장', '주차장에', '주차하고', '죽겠다', '죽겠어', '죽는', '죽는줄', '죽만', '죽어', '죽은', '죽을', '죽이', '죽이네', '죽인다', '준거', '준다', '준다고', '준대', '준비', '준비가', '준비끝', '준비는', '준비를', '준비물', '준비중', '준비중이야', '준비하고', '준비하구', '준비하느라', '준비하는데', '준비하면', '준비할게', '준비해', '준비해서', '준비해야지', '줄게', '줄까', '줄께', '줄라고', '줄서서', '줄은', '줄이', '줄이고', '줄줄', '중간', '중간에', '중간에서', '중간중간', '중국', '중국당면', '중국산', '중국어', '중국에서', '중국요리', '중국은', '중국음식', '중국집', '중국집에서', '중독', '중독이야', '중식', '중앙동', '중앙시장', '중에', '중에서', '중요', '중요하지', '중요한', '중요한게', '중요해', '중이라', '중이야', '중이에여', '중이에요', '중인데', '중입니다', '중학교', '줘도', '줘서', '줘야', '줘야지', '줘야해', '줘요', '줬는데', '줬어', '쥬스', '쥬아', '즐거운', '즐겁게', '즐겨', '증말', '지가', '지갑', '지겨워', '지굼', '지금', '지금가면', '지금까지', '지금도', '지금부터', '지금요', '지금은', '지금이', '지금이라도', '지나가다', '지나가다가', '지나가면서', '지나고', '지나면', '지나서', '지난', '지난거', '지난번', '지난번에', '지난번처럼', '지난주', '지난주에', '지났는데', '지났어', '지는', '지도', '지려', '지리네', '지리산', '지린다', '지만', '지방', '지방이', '지송', '지에스', '지에스에', '지에스에서', '지역', '지점', '지점마다', '지지고', '지짜', '지쳐', '지쳐서', '지친다', '지코바', '지키고', '지하', '지하로', '지하상가', '지하에', '지하철', '지하철로', '지하철에서', '지하철역', '지하철은', '지하철이', '지하철타고', '지하철타면', '직원', '직원들', '직원들이', '직원이', '직전에', '직접', '진ㅋ자', '진도', '진라면', '진로', '진료', '진리', '진리야', '진리지', '진심', '진심으로', '진에어', '진자', '진작', '진작에', '진정한', '진지하게', '진짜', '진짜ㅠ', '진짜ㅠㅠ', '진짜로', '진짜루', '진짜맛있어', '진짜야', '진짜요', '진짜지', '진짜진짜', '진쨔', '진하게', '진하고', '진한', '진해', '질려', '질려서', '질렸어', '질린다', '질이', '짐도', '짐만', '짐싸고', '짐은', '짐을', '짐이', '집가', '집가고', '집가기', '집가는', '집가는길', '집가는길에', '집가는중', '집가는즁', '집가면', '집가면서', '집가서', '집가야지', '집가요', '집가자', '집간다', '집갈때', '집감', '집근처', '집근처에', '집근처에서', '집까지', '집도', '집도착', '집들이', '집밥', '집밥이', '집사님', '집안', '집앞', '집앞에', '집앞에서', '집앞으로', '집에', '집에가', '집에가면', '집에가서', '집에는', '집에도', '집에만', '집에서', '집에서는', '집에서도', '집에선', '집에오면', '집에와서', '집에있는', '집에있는거', '집에있어', '집엔', '집오면', '집옴', '집와서', '집으로', '집으루', '집은', '집을', '집이', '집이가', '집이냐', '집이니', '집이다', '집이야', '집이에요', '집이지', '집인데', '집임', '집중', '집중해서', '집쪽으로', '징짜', '짜게', '짜고', '짜글이', '짜리', '짜면', '짜서', '짜잔', '짜장', '짜장면', '짜장면에', '짜장면이랑', '짜장밥', '짜증', '짜증나', '짜증나게', '짜증나네', '짜증난다', '짜파게티', '짜파게티랑', '짜파게티에', '짜파구리', '짜피', '짠거', '짧게', '짧아', '짧은', '짬뽕', '짬뽕도', '짬뽕밥', '짬뽕에', '짬뽕은', '짬뽕이', '짱나', '짱나네', '짱맛', '짱맛이야', '짱맛있어', '짱이네', '짱이다', '짱이당', '짱이야', '짱이지', '짱인데', '짱임', '짱조아', '짱좋아', '짱짱', '쨋든', '쨌든', '쩌네', '쩐다', '쩐당', '쩔어', '쩔지', '쩜쩜', '쪄서', '쪼금', '쪼금만', '쪼꼼', '쪼끔', '쪼매', '쪼아', '쪼오오옥', '쪼오옥', '쪽에', '쪽에서', '쪽으로', '쪽이', '쫄면', '쫄면도', '쫄면에', '쫌따', '쫌만', '쭈꾸미', '쯤에', '찌개', '찌개에', '찌고', '찍고', '찍구', '찍어', '찍어먹으면', '찍어서', '찍어야지', '찍었어', '찍으러', '찍으면', '찍은', '찍은거', '찍을', '찍자', '찐으로', '찐하게', '찜닭', '찜질방', '찜질방에서', '찡긋', '차가', '차가운', '차가지고', '차갑게', '차근차근', '차끌고', '차는', '차도', '차돌', '차돌박이', '차라리', '차려', '차로', '차를', '차막혀', '차만', '차암나', '차에', '차에서', '차이', '차이가', '차이는', '차타고', '차타구', '차타면', '차피', '착각해서', '착하네', '착하다', '찬성', '찬양팀', '찬찬히', '참고', '참고로', '참기름', '참깨', '참깨라면', '참나', '참는다', '참는중', '참석', '참아', '참아야지', '참아야해', '참았어', '참외', '참으면', '참을', '참자', '참지', '참치', '참치가', '참치김밥', '참치는', '참치랑', '참치마요', '찹쌀', '찹찹', '창문', '창원', '창원에', '찾고', '찾기', '찾는', '찾다가', '찾아', '찾아보고', '찾아보까', '찾아보께', '찾아보는데', '찾아보니', '찾아보니까', '찾아보다가', '찾아보면', '찾아보자', '찾아볼게', '찾아볼게요', '찾아볼겡', '찾아볼까', '찾아볼께', '찾아봄', '찾아봐', '찾아봐도', '찾아봐야겠다', '찾아봐야지', '찾아봣는데', '찾아봤는데', '찾아서', '찾앗다', '찾았는데', '찾았다', '찾았어', '찾으러', '찾으면', '찾은', '찾을', '찾음', '채선당', '채소', '채소가', '채소를', '채식', '채우고', '책도', '책상', '책은', '챙겨', '챙겨가야지', '챙겨갈게', '챙겨먹고', '챙겨먹구', '챙겨먹어', '챙겨먹어요', '챙겨서', '챙겨줘', '챙겼어', '챙기고', '챙기구', '챙기는', '챙기면', '챙길거', '챙길게', '챙길까', '챙김', '챱챱', '처갓집', '처럼', '처음', '처음봐', '처음부터', '처음에', '처음으로', '처음이야', '천국', '천안', '천안에서', '천원', '천처니', '천천히', '천천히와', '천천히왕', '천천히해', '천호', '첨봄', '첨부터', '첨에', '첨엔', '첫끼를', '첫날', '첫날에', '첫날은', '첫번째', '첫째주', '첫차', '청경채', '청계천', '청국장', '청년', '청년다방', '청년부', '청바지', '청소', '청소하고', '청양고추', '청주', '청첩장', '청포도', '청하', '체력', '체력이', '체리', '체인', '체크', '체크아웃', '체크아웃하고', '체크인', '쳐도', '쳐봐', '쳐서', '초딩때', '초록색', '초반에', '초밥', '초밥도', '초밥은', '초밥이랑', '초밥집', '초에', '초장', '초장에', '초코', '초코가', '초코는', '초코맛', '초코바', '초코우유', '초코케익', '초코쿠키', '초코파이', '초콜렛', '초콜릿', '초큼', '촉촉', '촉촉한', '총총', '촬영', '최고', '최고다', '최고야', '최고의', '최고임', '최고지', '최곤데', '최근', '최근에', '최대', '최대한', '최선을', '최소', '최악이다', '최애', '쵝오', '쵸큼', '추가', '추가로', '추가하면', '추가해', '추가해서', '추석', '추석때', '추석에', '추어탕', '추억', '추억의', '추우니까', '추우면', '추운데', '추울때', '추움', '추워', '추워서', '추천', '추천점', '추천좀', '추천한', '추천합니다', '추카추카', '축구', '축의금', '축제', '축하', '축하해', '춘천', '출구', '출구로', '출구에서', '출국', '출근', '출근은', '출근이야', '출근인데', '출근하니까', '출근하면', '출근할때', '출근해', '출근해서', '출근했어', '출근했어요', '출동', '출바알', '출발', '출발은', '출발을', '출발하려고', '출발하면', '출발하면서', '출발한다', '출발한당', '출발할', '출발할거야', '출발할게', '출발할게요', '출발할까', '출발할듯', '출발할때', '출발함', '출발합니다', '출발합니당', '출발해', '출발해도', '출발해서', '출발해요', '출발해용', '출발했어', '출발했어요', '출발행', '출장', '춥고', '춥네', '춥다', '춥대', '춥지', '충격', '충분', '충분하지', '충분해', '충분히', '충전', '충전기', '충주', '취소', '취소수수료', '취소하고', '취소하면', '취소해', '취해서', '취향', '취향은', '취향이', '츄러스', '츄릅', '치고', '치과', '치느님', '치맥', '치면', '치약', '치우고', '치즈', '치즈가', '치즈는', '치즈도', '치즈랑', '치즈를', '치즈만', '치즈버거', '치즈볼', '치즈볼도', '치즈스틱', '치즈케이크', '치즈케익', '치즈크러스트', '치즈피자', '치케', '치키니', '치킨', '치킨너겟', '치킨도', '치킨마요', '치킨만', '치킨먹고', '치킨먹을거야', '치킨버거', '치킨에', '치킨으로', '치킨은', '치킨을', '치킨이', '치킨이나', '치킨이랑', '치킨이야', '치킨집', '치팅데이', '친구', '친구가', '친구네', '친구는', '친구도', '친구들', '친구들도', '친구들은', '친구들이', '친구들이랑', '친구랑', '친구야', '친구집', '친구집에서', '친구한테', '친척들', '친한', '칠리', '칠리새우', '침고여', '침대', '침대가', '침대에서', '침샘', '침이', '칫솔', '칭구', '칭구들', '칭구랑', '칭따오', '카누', '카드', '카드는', '카드로', '카라멜', '카라반', '카레', '카레가', '카레는', '카레도', '카레랑', '카레를', '카레에', '카메라', '카면', '카스테라', '카톡', '카톡도', '카톡에', '카톡으로', '카톡을', '카톡이', '카톡할게', '카트', '카페', '카페가', '카페가고', '카페가서', '카페가자', '카페갔다가', '카페나', '카페는', '카페도', '카페라떼', '카페로', '카페를', '카페만', '카페베네', '카페서', '카페야', '카페에', '카페에서', '카페인', '칵테일', '칵테일은', '칼국수', '칼국수는', '칼국수도', '칼국수랑', '칼로', '칼로리', '칼로리가', '칼로리는', '칼로리도', '칼퇴', '칼퇴하고', '캐나다', '캐리어', '캐리어에', '캠핑', '캠핑은', '캠핑장', '캡슐', '캬캬', '캬캬캬', '캬캬캬캬', '커군', '커리', '커서', '커지', '커플', '커픠', '커피', '커피가', '커피나', '커피는', '커피도', '커피랑', '커피로', '커피를', '커피마시고', '커피만', '커피머신', '커피빈', '커피사서', '커피에', '커피한잔', '컨디션', '컨디션은', '컨디션이', '컴터', '컴퓨터', '컵누들', '컵라면', '컵라면도', '컵라면은', '컵라면이', '컵라면이랑', '컵밥', '컵에', '케이블카', '케이스', '케이에프씨', '케이크', '케이크가', '케이크는', '케이크도', '케이크랑', '케이크를', '케익', '케익도', '케익은', '케잌', '케케', '케케ㅋㅋㅋㅋ', '케케케', '케텍스', '코노', '코다리', '코로나', '코로나가', '코로나때매', '코로나때문에', '코로나땜에', '코로나라', '코로나라서', '코스', '코스는', '코스로', '코스트코', '코스트코에서', '코엑스', '코오', '코올', '코코', '코코넛', '코타키나발루', '코트', '코히', '콘도', '콘서트', '콘치즈', '콜드브루', '콜라', '콜라가', '콜라는', '콜라도', '콜라랑', '콜레스테롤', '콜콜', '콧물', '콩국수', '콩나물', '콩나물국', '콩나물국밥', '콩나물도', '콩나물이랑', '콩불', '쿄쿄', '쿠앤크', '쿠우쿠우', '쿠쿠', '쿠쿠쿠', '쿠키', '쿠키가', '쿠키는', '쿠팡에서', '쿠폰', '쿠폰도', '쿠폰으로', '쿠폰이', '퀄리티', '퀄리티가', '퀘사디아', '크게', '크고', '크기', '크기가', '크네', '크다', '크레페', '크로와상', '크로플', '크루즈', '크리스마스', '크리스마스때', '크리스마스에', '크리스피', '크림', '크림이', '크림치즈', '크림파스타', '크면', '크으', '크지', '크크', '크크크', '크흠', '크흡', '큰거', '큰걸로', '큰게', '큰데', '큰언니', '큰일', '큰일나', '큰일났다', '큰일이네', '큰일이다', '큰일이야', '클럽', '클리어', '클스마스', '큼큼', '킁킁', '키득ㅋㄷ', '키득ㅋㅋㅋㅋ', '키야', '키위', '키키', '키키키', '키키키키', '키킼', '킥ㅋㅋㅋㅋ', '킹크랩', '킼킼', '타고', '타구', '타는', '타는거', '타는거야', '타는게', '타는데', '타도', '타러', '타르트', '타먹으면', '타면', '타서', '타요', '타이거', '타이밍', '타이밍이', '타이베이', '타임', '타자', '타지', '타코', '타코야끼', '타코야키', '탄다', '탄산', '탄산수', '탄수화물', '탄수화물을', '탄수화물이', '탈까', '탈락', '탐탐', '탓어', '탔는데', '탔다', '탔어', '탔어요', '탔어요ㅎㅎ', '탔엉', '탕수육', '탕수육도', '탕수육은', '탕수육이', '탕슉', '탕탕탕', '태국', '태어나서', '태우고', '태우러', '태워서', '태풍', '택배', '택배로', '택시', '택시가', '택시비', '택시타고', '택시타면', '터미널', '터미널로', '터미널에서', '터져', '터져서', '터지는', '터지면', '터짐', '터키', '텀블러', '텁텁해', '테라로사', '테라스', '테이블', '테이크아웃', '텐더', '텐데', '텐트', '토끼', '토닥토닥', '토마토', '토마토는', '토스트', '토스트도', '토요일', '토요일날', '토요일도', '토요일로', '토요일에', '토요일에는', '토요일엔', '토요일은', '토요일이', '토요일인데', '토욜', '토욜날', '토욜도', '토욜에', '토욜은', '토일', '토일월', '토피넛', '토핑', '톡줘', '톡톡', '톡할게', '톡해', '톡해요', '통닭', '통신사', '통에', '통영', '통으로', '통째로', '통해서', '통화', '퇴근', '퇴근길에', '퇴근시간', '퇴근시간이라', '퇴근은', '퇴근을', '퇴근이', '퇴근이다', '퇴근전에', '퇴근하고', '퇴근하구', '퇴근하면', '퇴근하면서', '퇴근하자마자', '퇴근한다', '퇴근할', '퇴근할때', '퇴근합니다', '퇴근해', '퇴근해서', '퇴근해요', '퇴근해용', '퇴근했어', '투게더', '투썸', '투썸에서', '투어', '투움바', '튀겨서', '튀긴', '튀긴거', '튀김', '튀김도', '튀김은', '튀김이', '트럭', '트레이더스', '트리', '특가', '특별한', '특별히', '특유의', '특이해', '특히', '틀어놓고', '틈새라면', '틈이', '티라미수', '티라미슈', '티백', '티비', '티비에', '티비에서', '티웨이', '티켓', '팀장님', '팀장님이', '팀플', '파김치', '파나', '파네', '파는', '파는거', '파는거야', '파는거지', '파는게', '파는곳', '파는곳이', '파는데', '파는데가', '파닭', '파도', '파랑', '파뤼', '파리', '파리바게트', '파바', '파스타', '파스타가', '파스타는', '파스타도', '파스타랑', '파스타를', '파스타면', '파스타에', '파스타집', '파슷하', '파운드', '파이', '파이팅', '파인애플', '파인트', '파일', '파전', '파전에', '파주', '파토', '파티', '파티다', '파파존스', '파프리카', '파프리카랑', '팍팍', '판교', '판교에서', '판다', '판대', '팔고', '팔길래', '팔더라', '팔던데', '팔면', '팔아', '팔아서', '팔어', '팔지', '팝콘', '팟타이', '팡팡', '팥빙수', '팥죽', '패딩', '패션', '패스', '패스하고', '패쓰', '패키지', '패키지로', '패티', '팬케이크', '팽이버섯', '퍼서', '페리카나', '페북', '페스츄리', '페퍼로니', '펜션', '펜션은', '펜션이', '편도', '편육', '편의점', '편의점가서', '편의점도', '편의점에', '편의점에서', '편의점이', '편지', '편하게', '편하고', '편하긴', '편하다', '편하지', '편한', '편한거', '편한대로', '편한대루', '편한데', '편한데로', '편할', '편할때', '편함', '편해', '편해서', '편히', '평생', '평소', '평소보다', '평소에', '평소에는', '평이', '평일', '평일도', '평일에', '평일에는', '평일에도', '평일엔', '평일은', '평일이', '평일이라', '평점', '평택', '포기', '포기하고', '포도', '포인트', '포장', '포장도', '포장마차', '포장은', '포장하면', '포장해', '포장해갈까', '포장해서', '포장해와서', '포차', '포카칩', '포테이토', '포함', '포함해서', '포항', '폴바셋', '표가', '표정', '표정이', '푸드코트', '푸딩', '푸라닭', '푸욱', '푸짐하게', '푸하', '푹쉬어', '푹자고', '푹자구', '푹잤으료낭', '풀고', '풀로', '풀리면', '풀빌라', '풀어서', '품절', '프라푸치노', '프라하', '프랑스', '프레즐', '프레첼', '프렌치토스트', '프로', '프로젝트', '프로틴바', '프리', '프리미엄', '프린트', '프링글스', '프사', '플라스틱', '플러스', '플렉스', '피곤', '피곤하겠다', '피곤하네', '피곤하다', '피곤하면', '피곤하지', '피곤한', '피곤한데', '피곤할텐데', '피곤해', '피곤해서', '피나치공', '피맥', '피방', '피방에서', '피부', '피부과', '피시방', '피시방에서', '피씨방', '피아노', '피자', '피자가', '피자나', '피자는', '피자도', '피자랑', '피자를', '피자만', '피자몰', '피자빵', '피자스쿨', '피자에', '피자집', '피자헛', '피치', '피크닉', '피클', '피피티', '피해서', '픽업', '픽업해서', '필리핀', '필수', '필수지', '필요', '필요가', '필요는', '필요없어', '필요하다', '필요하면', '필요한', '필요한거', '필요함', '필요해', '필테', '핑계로', '하거나', '하거든', '하게', '하겟다', '하겠네', '하겠다', '하겠습니다', '하겠지', '하고', '하고싶다', '하고싶어', '하고싶은', '하고싶은거', '하고싶은대로', '하고싶은데', '하고와', '하고있어', '하구', '하기', '하기로', '하기엔', '하긴', '하길래', '하까', '하께', '하나', '하나가', '하나는', '하나더', '하나도', '하나두', '하나랑', '하나로', '하나를', '하나만', '하나밖에', '하나봐', '하나씩', '하나야', '하나에', '하나요', '하나하나', '하남', '하냐', '하냐고', '하네', '하네요', '하넹', '하느라', '하는', '하는거', '하는거야', '하는거지', '하는건', '하는건가', '하는건데', '하는걸로', '하는것도', '하는게', '하는겨', '하는곳', '하는구나', '하는데', '하는뎅', '하는디', '하는중', '하는지', '하늘', '하늘이', '하니', '하니까', '하니깐', '하다', '하다가', '하다니', '하다보면', '하더니', '하더라', '하더라고', '하더라구', '하던가', '하던데', '하던지', '하도', '하드라', '하라고', '하러', '하려', '하려고', '하려구', '하려나', '하려면', '하렴', '하루', '하루가', '하루는', '하루도', '하루를', '하루만', '하루만에', '하루에', '하루종일', '하루죙일', '하룻밤', '하리보', '하면', '하면되지', '하면서', '하모', '하믄', '하세요', '하셈', '하셔서', '하시고', '하시네', '하시는', '하시는데', '하시죠', '하실', '하심', '하씨', '하아', '하악', '하암', '하앙', '하얀', '하얗게', '하여간', '하오', '하오하오', '하와이', '하우스', '하이', '하이디라오', '하이볼', '하이하이', '하잇', '하자', '하자고', '하자나', '하자마자', '하잖아', '하장', '하쟈', '하쟝', '하죠', '하지', '하지마', '하지만', '하지말고', '하징', '하차', '하트', '하트뿅', '하튼', '하필', '하하', '하하하', '하하하하', '하핫', '하핳', '학관와서', '학교', '학교가', '학교는', '학교로', '학교앞', '학교에', '학교에서', '학식', '학식은', '학원', '학원에', '학원이', '학회', '한가득', '한가해', '한강', '한강가서', '한강에서', '한강은', '한개', '한개는', '한개만', '한개씩', '한거', '한거야', '한거임', '한거지', '한건', '한건데', '한게', '한겨', '한곳', '한공기', '한국', '한국사', '한국에', '한국에서', '한국은', '한국인', '한국인이', '한군데', '한그릇', '한근', '한글날', '한꺼번에', '한끼', '한끼는', '한끼도', '한끼에', '한남동', '한다', '한다고', '한다는데', '한다면', '한달', '한달동안', '한달에', '한달은', '한당', '한대', '한데', '한뎅', '한동안', '한두번', '한디', '한라봉', '한라산', '한마리', '한명', '한명은', '한명이', '한바가지', '한바퀴', '한박스', '한방에', '한번', '한번더', '한번도', '한번두', '한번만', '한번밖에', '한번씩', '한번에', '한번은', '한번쯤은', '한병', '한복', '한봉지', '한사바리', '한살림', '한솥', '한숨', '한시', '한시간', '한시간도', '한시간동안', '한시간만', '한시간반', '한시간이면', '한시간정도', '한시까지', '한시반', '한시에', '한시쯤', '한식', '한신', '한신포차', '한옥마을', '한우', '한의원', '한입', '한입만', '한입먹고', '한입에', '한잔', '한잔만', '한잔씩', '한잔하고', '한잔해', '한정거장', '한정식', '한조각', '한줄', '한참', '한창', '한캔', '한테', '한테도', '한통', '한판', '한편', '한표', '한화', '할거', '할거같아', '할거면', '할거야', '할거임', '할건데', '할걸', '할것', '할것도', '할게', '할게여', '할게요', '할겡', '할까', '할까나', '할까요', '할꺼', '할꺼야', '할껄', '할께', '할듯', '할때', '할라고', '할라피뇨', '할래', '할래요', '할려고', '할려구', '할로윈', '할리스', '할맥', '할머니', '할머니가', '할머니네', '할머니도', '할머니랑', '할머니집', '할무니', '할수', '할수도', '할수잇어', '할수있어', '할아버지', '할아버지가', '할인', '할인해서', '할일', '할일이', '할줄', '할지', '할텐데', '함ㅋㅋ', '함께', '함박', '합격', '합니다', '합시다', '합시당', '합정', '합정에', '합정에서', '합주', '합쳐서', '핫도그', '핫도그랑', '핫바', '핫초코', '핫팩', '항공', '항공권', '항상', '항정살', '해가', '해가지고', '해결', '해놓고', '해놓으면', '해놔', '해놨는데', '해놨어', '해달라고', '해도', '해돋이', '해동', '해두', '해라', '해먹고', '해먹기', '해먹는', '해먹어', '해먹어도', '해먹어봐', '해먹어야지', '해먹으까', '해먹으려고', '해먹으면', '해먹을', '해먹을거야', '해먹을까', '해먹을라고', '해먹음', '해먹자', '해먹지', '해물', '해물찜', '해물탕', '해바', '해보고', '해보까', '해보자', '해볼게', '해볼까', '해볼께', '해봄', '해봐', '해봐야', '해봐야겠다', '해봐야지', '해봤는데', '해봤어', '해산물', '해서', '해쉬브라운', '해써', '해야', '해야겟다', '해야겠네', '해야겠다', '해야겠어', '해야대', '해야돼', '해야되는데', '해야지', '해야징', '해야하고', '해야하나', '해야하는데', '해야하니까', '해야하지', '해야한다', '해야할', '해야할듯', '해야함', '해야해', '해여', '해외', '해외는', '해외여행', '해요', '해용', '해운대', '해장', '해장국', '해장으로', '해장은', '해주고', '해주까', '해주께', '해주는', '해주는거', '해주라', '해주면', '해주세요', '해주지', '해준', '해준다', '해준대', '해줄', '해줄게', '해줄까', '해줄께', '해줌', '해줘', '해줘서', '해줘야지', '해줘요', '해줬는데', '해줬어', '해줭', '해헤', '핵노맛', '핵맛', '핸드폰', '햄도', '햄버거', '햄버거가', '햄버거나', '햄버거는', '햄버거도', '햄버거랑', '햄버거를', '햄벅', '햄이랑', '햇는데', '햇님', '햇더니', '햇반', '햇빛', '햇어', '햇오', '햇음', '햇자나', '햇지', '했거든', '했고', '했구나', '했나', '했네', '했눈데', '했는데', '했는뎅', '했는디', '했다', '했다가', '했다고', '했당', '했대', '했더니', '했던', '했던거', '했습니다', '했어', '했어요', '했어용', '했었나', '했었는데', '했었지', '했엉', '했오', '했으', '했으니', '했으니까', '했으면', '했을', '했음', '했자나', '했잖아', '했지', '했지만', '했징', '행님', '행벅', '행복', '행복하게', '행복하다', '행복한', '행복해', '행사', '향신료', '향이', '허거걱', '허걱', '허겁지겁', '허기져', '허니', '허니가', '허니는', '허니콤보', '허락', '허리', '허리가', '허버허버', '허쉬', '허어', '허어얼', '허억', '허얼', '허전해', '허허', '허허허', '허허허허', '헉스', '헉헉', '헐ㅋ', '헐ㅋㅋ', '헐ㅋㅋㅋ', '헐ㅋㅋㅋㅋ', '헐ㅋㅋㅋㅋㅋ', '헐ㅋㅋㅋㅋㅋㅋㅋ', '헐대박', '헐랭', '헐퀴', '헐킈', '헐헐', '헝헝', '헠헠', '헤ㅎ', '헤어져도', '헤어지고', '헤에', '헤엑', '헤이', '헤이즐넛', '헤헤', '헤헤ㅋㅋㅋㅋ', '헤헤ㅎ', '헤헤헤', '헤헤헤헤', '헤헷', '헤헿', '헬스', '헬스장', '헿ㅋㅋㅋ', '혀가', '현금', '현대', '현대옥', '현명한', '현미', '현백', '현재', '현지', '현지에서', '형님', '형님이', '형님이랑', '형도', '형들', '형부', '형부가', '형부는', '형부랑', '형은', '형이', '형이랑', '형한테', '호곡', '호다닥', '호달달', '호두', '호두과자', '호떡', '호로로록', '호로록', '호박', '호박고구마', '호박죽', '호불호', '호불호가', '호빵', '호수', '호수공원', '호식이', '호에', '호엑', '호엥', '호오', '호우', '호잇', '호잉', '호주', '호치민', '호캉스', '호텔', '호텔가서', '호텔도', '호텔로', '호텔에', '호텔에서', '호텔은', '호텔이', '호호', '호호호', '혹쉬', '혹시', '혹시나', '혹시나해서', '혹시라도', '혹시모르니까', '혹시몰라서', '혹은', '혼밥', '혼술', '혼자', '혼자가', '혼자가도', '혼자가면', '혼자는', '혼자라도', '혼자먹어', '혼자서', '혼자야', '홀랭', '홀렝', '홀리', '홀홀', '홈런볼', '홈쇼핑', '홈플', '홈플러스', '홈플러스에서', '홈플에서', '홍대', '홍대로', '홍대에', '홍대에서', '홍루이젠', '홍삼', '홍차', '홍천', '홍콩', '홍콩반점', '홍콩은', '화가', '화나', '화난다', '화목', '화수', '화수목', '화요', '화요일', '화요일날', '화요일에', '화요일은', '화욜', '화욜날', '화욜에', '화욜은', '화이트', '화이팅', '화장', '화장실', '화장실도', '화장품', '확률이', '확실하게', '확실한', '확실해', '확실히', '확인', '확인하고', '확정', '확정되면', '확정은', '확정이야', '확진자', '환불', '환상', '환상의', '환승', '환승해서', '환영', '환전', '홧팅', '황금올리브', '회가', '회나', '회는', '회덮밥', '회도', '회랑', '회를', '회먹고', '회비', '회사', '회사가', '회사는', '회사로', '회사서', '회사언니가', '회사에', '회사에서', '회색', '회식', '회식이야', '회에', '회의', '회의가', '횟집', '횟집에서', '효과', '효과가', '후기', '후기가', '후기도', '후기좀', '후다닥', '후덜덜', '후딱', '후라이', '후라이드', '후라이드는', '후라이팬', '후라이팬에', '후로', '후루룩', '후문', '후배', '후보', '후식', '후식으로', '후식은', '후아', '후에', '후엥', '후우', '후움', '후웅', '후잉', '후추', '후쿠오카', '후쿠오카는', '후하', '후회', '후후', '후후후', '후훔', '후훗', '후훟', '훈제', '훌랄라', '훌쩍', '훠궈', '훠궈는', '훨씬', '휘핑', '휴가', '휴가가', '휴가는', '휴가때', '휴가라', '휴가라서', '휴가를', '휴가야', '휴게소', '휴게소에서', '휴무', '휴무래', '휴무야', '휴식', '휴양지', '휴우', '흐규', '흐규ㅜ', '흐규ㅠ', '흐미', '흐아', '흐앙', '흐어', '흐엉', '흐으으음', '흐으음', '흐음', '흐흐', '흑당', '흑돼지', '흑임자', '흑흑', '흙흙', '흠냐', '흠흠', '흡입', '희희', '흰색', '히익', '히잉', '히히', '히히히', '히히히히', '히힛', '히힝', '히힣', '힐링', '힘내', '힘내라', '힘내서', '힘내요', '힘내용', '힘내유', '힘내자', '힘드네', '힘드니까', '힘드러', '힘드려나', '힘든', '힘든거', '힘든데', '힘들', '힘들거', '힘들것', '힘들게', '힘들겠네', '힘들겠다', '힘들고', '힘들까봐', '힘들다', '힘들듯', '힘들면', '힘들어', '힘들어서', '힘들어요', '힘들었는데', '힘들었어', '힘들잖아', '힘들지', '힘들텐데', '힘듦', '힘듬', '힘을', '힘이', '힝ㅜㅜ', '힝구', '힝구ㅜ', '힝구ㅜㅜ', '힝힝']\n"
          ]
        }
      ]
    },
    {
      "cell_type": "code",
      "metadata": {
        "colab": {
          "base_uri": "https://localhost:8080/"
        },
        "id": "L0y9iQd_LSgU",
        "outputId": "ca79c4f5-d6f3-4a3f-e0a0-1b22d06f8ff6"
      },
      "source": [
        "classifier = MultinomialNB()\n",
        "classifier.fit(X_train_countvector, y_train)\n",
        "\n",
        "y_predict = classifier.predict(vectorizer.transform(X_val))\n",
        "cm = confusion_matrix(y_val, y_predict)\n",
        "df_cm = pd.DataFrame(cm, index = ['실제값(0)', '실제값(1)'], columns = ['예측값(0)', '예측값(1)'])\n",
        "print(classification_report(y_val, y_predict))\n"
      ],
      "execution_count": 89,
      "outputs": [
        {
          "output_type": "stream",
          "name": "stdout",
          "text": [
            "              precision    recall  f1-score   support\n",
            "\n",
            "           0       0.52      0.80      0.63    133504\n",
            "           1       0.57      0.26      0.36    133965\n",
            "\n",
            "    accuracy                           0.53    267469\n",
            "   macro avg       0.54      0.53      0.49    267469\n",
            "weighted avg       0.54      0.53      0.49    267469\n",
            "\n"
          ]
        }
      ]
    },
    {
      "cell_type": "code",
      "metadata": {
        "colab": {
          "base_uri": "https://localhost:8080/"
        },
        "id": "d7EwHsdhPGwu",
        "outputId": "daf33ba7-ed76-4f42-8e21-6bcf600ae267"
      },
      "source": [
        "print(df_cm)"
      ],
      "execution_count": 90,
      "outputs": [
        {
          "output_type": "stream",
          "name": "stdout",
          "text": [
            "        예측값(0)  예측값(1)\n",
            "실제값(0)  107148   26356\n",
            "실제값(1)   99129   34836\n"
          ]
        }
      ]
    },
    {
      "cell_type": "code",
      "metadata": {
        "colab": {
          "base_uri": "https://localhost:8080/"
        },
        "id": "esdYRGQdMDlk",
        "outputId": "caaaa1a2-2f19-49dd-990e-42ccc9f7f629"
      },
      "source": [
        "y_test_predict = classifier.predict(vectorizer.transform(X_test))\n",
        "print(classification_report(y_test, y_test_predict))"
      ],
      "execution_count": 50,
      "outputs": [
        {
          "output_type": "stream",
          "name": "stdout",
          "text": [
            "              precision    recall  f1-score   support\n",
            "\n",
            "           0       0.81      0.99      0.89    542377\n",
            "           1       0.51      0.05      0.09    133974\n",
            "\n",
            "    accuracy                           0.80    676351\n",
            "   macro avg       0.66      0.52      0.49    676351\n",
            "weighted avg       0.75      0.80      0.73    676351\n",
            "\n"
          ]
        }
      ]
    }
  ]
}