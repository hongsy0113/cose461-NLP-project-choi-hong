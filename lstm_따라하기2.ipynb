{
  "nbformat": 4,
  "nbformat_minor": 0,
  "metadata": {
    "colab": {
      "name": "lstm 따라하기2.ipynb",
      "provenance": [],
      "collapsed_sections": [],
      "include_colab_link": true
    },
    "kernelspec": {
      "display_name": "Python 3",
      "name": "python3"
    },
    "language_info": {
      "name": "python"
    }
  },
  "cells": [
    {
      "cell_type": "markdown",
      "metadata": {
        "id": "view-in-github",
        "colab_type": "text"
      },
      "source": [
        "<a href=\"https://colab.research.google.com/github/hongsy0113/cose461-NLP-project-choi-hong/blob/main/lstm_%EB%94%B0%EB%9D%BC%ED%95%98%EA%B8%B02.ipynb\" target=\"_parent\"><img src=\"https://colab.research.google.com/assets/colab-badge.svg\" alt=\"Open In Colab\"/></a>"
      ]
    },
    {
      "cell_type": "code",
      "metadata": {
        "colab": {
          "base_uri": "https://localhost:8080/"
        },
        "id": "e4m9MYGG4qE2",
        "outputId": "4855107c-2468-4a72-d6e4-9cc0aa9e1589"
      },
      "source": [
        "!pip install soynlp\n",
        "!pip install konlpy\n",
        "from soynlp.normalizer import *\n",
        "import soynlp\n",
        "\n",
        "\n"
      ],
      "execution_count": 2,
      "outputs": [
        {
          "output_type": "stream",
          "name": "stdout",
          "text": [
            "Collecting soynlp\n",
            "  Downloading soynlp-0.0.493-py3-none-any.whl (416 kB)\n",
            "\u001b[?25l\r\u001b[K     |▉                               | 10 kB 22.5 MB/s eta 0:00:01\r\u001b[K     |█▋                              | 20 kB 28.4 MB/s eta 0:00:01\r\u001b[K     |██▍                             | 30 kB 15.0 MB/s eta 0:00:01\r\u001b[K     |███▏                            | 40 kB 10.5 MB/s eta 0:00:01\r\u001b[K     |████                            | 51 kB 5.3 MB/s eta 0:00:01\r\u001b[K     |████▊                           | 61 kB 5.4 MB/s eta 0:00:01\r\u001b[K     |█████▌                          | 71 kB 6.0 MB/s eta 0:00:01\r\u001b[K     |██████▎                         | 81 kB 6.7 MB/s eta 0:00:01\r\u001b[K     |███████                         | 92 kB 4.8 MB/s eta 0:00:01\r\u001b[K     |███████▉                        | 102 kB 5.2 MB/s eta 0:00:01\r\u001b[K     |████████▋                       | 112 kB 5.2 MB/s eta 0:00:01\r\u001b[K     |█████████▍                      | 122 kB 5.2 MB/s eta 0:00:01\r\u001b[K     |██████████▏                     | 133 kB 5.2 MB/s eta 0:00:01\r\u001b[K     |███████████                     | 143 kB 5.2 MB/s eta 0:00:01\r\u001b[K     |███████████▉                    | 153 kB 5.2 MB/s eta 0:00:01\r\u001b[K     |████████████▋                   | 163 kB 5.2 MB/s eta 0:00:01\r\u001b[K     |█████████████▍                  | 174 kB 5.2 MB/s eta 0:00:01\r\u001b[K     |██████████████▏                 | 184 kB 5.2 MB/s eta 0:00:01\r\u001b[K     |███████████████                 | 194 kB 5.2 MB/s eta 0:00:01\r\u001b[K     |███████████████▊                | 204 kB 5.2 MB/s eta 0:00:01\r\u001b[K     |████████████████▌               | 215 kB 5.2 MB/s eta 0:00:01\r\u001b[K     |█████████████████▎              | 225 kB 5.2 MB/s eta 0:00:01\r\u001b[K     |██████████████████              | 235 kB 5.2 MB/s eta 0:00:01\r\u001b[K     |██████████████████▉             | 245 kB 5.2 MB/s eta 0:00:01\r\u001b[K     |███████████████████▋            | 256 kB 5.2 MB/s eta 0:00:01\r\u001b[K     |████████████████████▍           | 266 kB 5.2 MB/s eta 0:00:01\r\u001b[K     |█████████████████████▎          | 276 kB 5.2 MB/s eta 0:00:01\r\u001b[K     |██████████████████████          | 286 kB 5.2 MB/s eta 0:00:01\r\u001b[K     |██████████████████████▉         | 296 kB 5.2 MB/s eta 0:00:01\r\u001b[K     |███████████████████████▋        | 307 kB 5.2 MB/s eta 0:00:01\r\u001b[K     |████████████████████████▍       | 317 kB 5.2 MB/s eta 0:00:01\r\u001b[K     |█████████████████████████▏      | 327 kB 5.2 MB/s eta 0:00:01\r\u001b[K     |██████████████████████████      | 337 kB 5.2 MB/s eta 0:00:01\r\u001b[K     |██████████████████████████▊     | 348 kB 5.2 MB/s eta 0:00:01\r\u001b[K     |███████████████████████████▌    | 358 kB 5.2 MB/s eta 0:00:01\r\u001b[K     |████████████████████████████▎   | 368 kB 5.2 MB/s eta 0:00:01\r\u001b[K     |█████████████████████████████   | 378 kB 5.2 MB/s eta 0:00:01\r\u001b[K     |█████████████████████████████▉  | 389 kB 5.2 MB/s eta 0:00:01\r\u001b[K     |██████████████████████████████▋ | 399 kB 5.2 MB/s eta 0:00:01\r\u001b[K     |███████████████████████████████▌| 409 kB 5.2 MB/s eta 0:00:01\r\u001b[K     |████████████████████████████████| 416 kB 5.2 MB/s \n",
            "\u001b[?25hRequirement already satisfied: scikit-learn>=0.20.0 in /usr/local/lib/python3.7/dist-packages (from soynlp) (0.22.2.post1)\n",
            "Requirement already satisfied: numpy>=1.12.1 in /usr/local/lib/python3.7/dist-packages (from soynlp) (1.19.5)\n",
            "Requirement already satisfied: scipy>=1.1.0 in /usr/local/lib/python3.7/dist-packages (from soynlp) (1.4.1)\n",
            "Requirement already satisfied: psutil>=5.0.1 in /usr/local/lib/python3.7/dist-packages (from soynlp) (5.4.8)\n",
            "Requirement already satisfied: joblib>=0.11 in /usr/local/lib/python3.7/dist-packages (from scikit-learn>=0.20.0->soynlp) (1.1.0)\n",
            "Installing collected packages: soynlp\n",
            "Successfully installed soynlp-0.0.493\n",
            "Collecting konlpy\n",
            "  Downloading konlpy-0.5.2-py2.py3-none-any.whl (19.4 MB)\n",
            "\u001b[K     |████████████████████████████████| 19.4 MB 1.4 MB/s \n",
            "\u001b[?25hRequirement already satisfied: numpy>=1.6 in /usr/local/lib/python3.7/dist-packages (from konlpy) (1.19.5)\n",
            "Collecting beautifulsoup4==4.6.0\n",
            "  Downloading beautifulsoup4-4.6.0-py3-none-any.whl (86 kB)\n",
            "\u001b[K     |████████████████████████████████| 86 kB 5.7 MB/s \n",
            "\u001b[?25hCollecting JPype1>=0.7.0\n",
            "  Downloading JPype1-1.3.0-cp37-cp37m-manylinux_2_5_x86_64.manylinux1_x86_64.whl (448 kB)\n",
            "\u001b[K     |████████████████████████████████| 448 kB 72.4 MB/s \n",
            "\u001b[?25hRequirement already satisfied: tweepy>=3.7.0 in /usr/local/lib/python3.7/dist-packages (from konlpy) (3.10.0)\n",
            "Requirement already satisfied: lxml>=4.1.0 in /usr/local/lib/python3.7/dist-packages (from konlpy) (4.2.6)\n",
            "Collecting colorama\n",
            "  Downloading colorama-0.4.4-py2.py3-none-any.whl (16 kB)\n",
            "Requirement already satisfied: typing-extensions in /usr/local/lib/python3.7/dist-packages (from JPype1>=0.7.0->konlpy) (3.10.0.2)\n",
            "Requirement already satisfied: requests[socks]>=2.11.1 in /usr/local/lib/python3.7/dist-packages (from tweepy>=3.7.0->konlpy) (2.23.0)\n",
            "Requirement already satisfied: six>=1.10.0 in /usr/local/lib/python3.7/dist-packages (from tweepy>=3.7.0->konlpy) (1.15.0)\n",
            "Requirement already satisfied: requests-oauthlib>=0.7.0 in /usr/local/lib/python3.7/dist-packages (from tweepy>=3.7.0->konlpy) (1.3.0)\n",
            "Requirement already satisfied: oauthlib>=3.0.0 in /usr/local/lib/python3.7/dist-packages (from requests-oauthlib>=0.7.0->tweepy>=3.7.0->konlpy) (3.1.1)\n",
            "Requirement already satisfied: chardet<4,>=3.0.2 in /usr/local/lib/python3.7/dist-packages (from requests[socks]>=2.11.1->tweepy>=3.7.0->konlpy) (3.0.4)\n",
            "Requirement already satisfied: urllib3!=1.25.0,!=1.25.1,<1.26,>=1.21.1 in /usr/local/lib/python3.7/dist-packages (from requests[socks]>=2.11.1->tweepy>=3.7.0->konlpy) (1.24.3)\n",
            "Requirement already satisfied: certifi>=2017.4.17 in /usr/local/lib/python3.7/dist-packages (from requests[socks]>=2.11.1->tweepy>=3.7.0->konlpy) (2021.10.8)\n",
            "Requirement already satisfied: idna<3,>=2.5 in /usr/local/lib/python3.7/dist-packages (from requests[socks]>=2.11.1->tweepy>=3.7.0->konlpy) (2.10)\n",
            "Requirement already satisfied: PySocks!=1.5.7,>=1.5.6 in /usr/local/lib/python3.7/dist-packages (from requests[socks]>=2.11.1->tweepy>=3.7.0->konlpy) (1.7.1)\n",
            "Installing collected packages: JPype1, colorama, beautifulsoup4, konlpy\n",
            "  Attempting uninstall: beautifulsoup4\n",
            "    Found existing installation: beautifulsoup4 4.6.3\n",
            "    Uninstalling beautifulsoup4-4.6.3:\n",
            "      Successfully uninstalled beautifulsoup4-4.6.3\n",
            "Successfully installed JPype1-1.3.0 beautifulsoup4-4.6.0 colorama-0.4.4 konlpy-0.5.2\n"
          ]
        }
      ]
    },
    {
      "cell_type": "code",
      "metadata": {
        "id": "UXuP4pAi4Qp-"
      },
      "source": [
        "\n",
        "import json\n",
        "from pandas import json_normalize\n",
        "\n",
        "import torch\n",
        "from torch import nn\n",
        "\n",
        "import numpy as np\n",
        "import pandas as pd\n",
        "import numpy as np\n",
        "import matplotlib.pyplot as plt\n",
        "import re\n",
        "import urllib.request\n",
        "from konlpy.tag import Okt\n",
        "from tqdm import tqdm\n",
        "from tensorflow.keras.preprocessing.text import Tokenizer\n",
        "from tensorflow.keras.preprocessing.sequence import pad_sequences"
      ],
      "execution_count": 3,
      "outputs": []
    },
    {
      "cell_type": "code",
      "metadata": {
        "colab": {
          "base_uri": "https://localhost:8080/"
        },
        "id": "hFr8oBdHAv-t",
        "outputId": "e5e50d7c-cd38-43f7-97f8-6b5b312aa641"
      },
      "source": [
        "# json data 파일들을 google drive에 저장\n",
        "# google drive 에 있는 파일들을 접근하기 위해 mount\n",
        "from google.colab import drive\n",
        "drive.mount('/content/gdrive')"
      ],
      "execution_count": 6,
      "outputs": [
        {
          "output_type": "stream",
          "name": "stdout",
          "text": [
            "Mounted at /content/gdrive\n"
          ]
        }
      ]
    },
    {
      "cell_type": "code",
      "metadata": {
        "id": "mMReAFyldVDY"
      },
      "source": [
        "#위에서의 json2df 함수 수정함\n",
        "def json2df (file):\n",
        "  with open(file, 'r') as f:\n",
        "    jdata = json.load(f)\n",
        "  \n",
        "  meta_list = [['header', 'dialogueInfo', 'numberOfParticipants'],\n",
        "             ['header', 'dialogueInfo', 'numberOfUtterances'],\n",
        "             ['header', 'dialogueInfo', 'dialogueID'],\n",
        "            ]\n",
        "  # dataframe of utterances \n",
        "  df1 = pd.json_normalize(jdata['data'][:], record_path=['body'], meta= meta_list, errors='ignore')\n",
        "  # dataframe of participants info\n",
        "  df2 = pd.json_normalize(jdata['data'], record_path=['header', 'participantsInfo'],  meta= [['header', 'dialogueInfo', 'dialogueID']], errors='ignore')\n",
        "  # join df1 and df2 where (df1.dialogueID == df2.dialogueID and df1.participantID == df2.participantID)\n",
        "  df = pd.merge(left = df1 , right = df2, how = \"left\", on = [\"header.dialogueInfo.dialogueID\", 'participantID' ],sort=False)\n",
        "\n",
        "  # rename column names\n",
        "  # 열이름 너무 길어서 바꿈. P는 참가자, U는 메시지, D는 대화, T는 turn 으로 통일시킴. 맘에 안 들면 바꿔도 ok\n",
        "  df.rename(columns = {'header.dialogueInfo.numberOfParticipants' : 'P_num', \n",
        "                       'header.dialogueInfo.numberOfUtterances': 'U_num', \n",
        "                       'header.dialogueInfo.dialogueID':'D_id',\n",
        "                       'utteranceID':'U_id',\n",
        "                       'participantID':'P_id',\n",
        "                       'gender':'P_gender',\n",
        "                       'age':'P_age'}, inplace = True)\n",
        "\n",
        "  df= df[['utterance', 'U_id', 'P_id', 'P_num', 'D_id', 'P_gender']]\n",
        "\n",
        "  # 대화 id 를 0부터 일련번호로 변경\n",
        "  D_id_list = []\n",
        "\n",
        "  num = -1 \n",
        "  current = None\n",
        "  for id in df['D_id']:\n",
        "    if id != current:\n",
        "      num +=1\n",
        "      current = id\n",
        "    D_id_list.append(num)\n",
        "\n",
        "  df['D_id'] = D_id_list\n",
        "\n",
        "  return df\n",
        "\n",
        "\n",
        "# 행사.json, 식음료.json 등 여러 데이터셋을 하나로 만들기 위한 함수\n",
        "def concat_json2df (file_list):\n",
        "  result = None\n",
        "\n",
        "  for i, file in enumerate(file_list):\n",
        "    df = json2df(file)\n",
        "    if (i==0):\n",
        "      result = df.copy()\n",
        "    else:\n",
        "      result = pd.concat([result,df])\n",
        "  return result"
      ],
      "execution_count": 4,
      "outputs": []
    },
    {
      "cell_type": "code",
      "metadata": {
        "colab": {
          "base_uri": "https://localhost:8080/",
          "height": 670
        },
        "id": "0WccqHnmZ1fO",
        "outputId": "b77e8f02-51f9-47c4-bb5a-946c5247dfbd"
      },
      "source": [
        "f_list = ['/content/gdrive/MyDrive/cose461/일과직업.json']\n",
        "\n",
        "raw_df = concat_json2df(f_list)\n",
        "\n",
        "\n",
        "raw_df.head(20)"
      ],
      "execution_count": 220,
      "outputs": [
        {
          "output_type": "execute_result",
          "data": {
            "text/html": [
              "<div>\n",
              "<style scoped>\n",
              "    .dataframe tbody tr th:only-of-type {\n",
              "        vertical-align: middle;\n",
              "    }\n",
              "\n",
              "    .dataframe tbody tr th {\n",
              "        vertical-align: top;\n",
              "    }\n",
              "\n",
              "    .dataframe thead th {\n",
              "        text-align: right;\n",
              "    }\n",
              "</style>\n",
              "<table border=\"1\" class=\"dataframe\">\n",
              "  <thead>\n",
              "    <tr style=\"text-align: right;\">\n",
              "      <th></th>\n",
              "      <th>utterance</th>\n",
              "      <th>U_id</th>\n",
              "      <th>P_id</th>\n",
              "      <th>P_num</th>\n",
              "      <th>D_id</th>\n",
              "      <th>P_gender</th>\n",
              "    </tr>\n",
              "  </thead>\n",
              "  <tbody>\n",
              "    <tr>\n",
              "      <th>0</th>\n",
              "      <td>여러 명 같이 하나보네?</td>\n",
              "      <td>U1</td>\n",
              "      <td>P01</td>\n",
              "      <td>2</td>\n",
              "      <td>0</td>\n",
              "      <td>여성</td>\n",
              "    </tr>\n",
              "    <tr>\n",
              "      <th>1</th>\n",
              "      <td>#@이모티콘#</td>\n",
              "      <td>U2</td>\n",
              "      <td>P01</td>\n",
              "      <td>2</td>\n",
              "      <td>0</td>\n",
              "      <td>여성</td>\n",
              "    </tr>\n",
              "    <tr>\n",
              "      <th>2</th>\n",
              "      <td>응 한 10명?</td>\n",
              "      <td>U3</td>\n",
              "      <td>P02</td>\n",
              "      <td>2</td>\n",
              "      <td>0</td>\n",
              "      <td>여성</td>\n",
              "    </tr>\n",
              "    <tr>\n",
              "      <th>3</th>\n",
              "      <td>프로그램 다운이 안 됐대</td>\n",
              "      <td>U4</td>\n",
              "      <td>P02</td>\n",
              "      <td>2</td>\n",
              "      <td>0</td>\n",
              "      <td>여성</td>\n",
              "    </tr>\n",
              "    <tr>\n",
              "      <th>4</th>\n",
              "      <td>아</td>\n",
              "      <td>U5</td>\n",
              "      <td>P01</td>\n",
              "      <td>2</td>\n",
              "      <td>0</td>\n",
              "      <td>여성</td>\n",
              "    </tr>\n",
              "    <tr>\n",
              "      <th>5</th>\n",
              "      <td>강제로 쉬는 시간</td>\n",
              "      <td>U6</td>\n",
              "      <td>P01</td>\n",
              "      <td>2</td>\n",
              "      <td>0</td>\n",
              "      <td>여성</td>\n",
              "    </tr>\n",
              "    <tr>\n",
              "      <th>6</th>\n",
              "      <td>평일엥 일하겠네 우리 #@이름#</td>\n",
              "      <td>U7</td>\n",
              "      <td>P01</td>\n",
              "      <td>2</td>\n",
              "      <td>0</td>\n",
              "      <td>여성</td>\n",
              "    </tr>\n",
              "    <tr>\n",
              "      <th>7</th>\n",
              "      <td>평일엔...</td>\n",
              "      <td>U8</td>\n",
              "      <td>P01</td>\n",
              "      <td>2</td>\n",
              "      <td>0</td>\n",
              "      <td>여성</td>\n",
              "    </tr>\n",
              "    <tr>\n",
              "      <th>8</th>\n",
              "      <td>다음 주부터는</td>\n",
              "      <td>U9</td>\n",
              "      <td>P02</td>\n",
              "      <td>2</td>\n",
              "      <td>0</td>\n",
              "      <td>여성</td>\n",
              "    </tr>\n",
              "    <tr>\n",
              "      <th>9</th>\n",
              "      <td>바쁘겠다</td>\n",
              "      <td>U10</td>\n",
              "      <td>P02</td>\n",
              "      <td>2</td>\n",
              "      <td>0</td>\n",
              "      <td>여성</td>\n",
              "    </tr>\n",
              "    <tr>\n",
              "      <th>10</th>\n",
              "      <td>그래도 스케줄은 그지같이 안짤거 아니야</td>\n",
              "      <td>U1</td>\n",
              "      <td>P01</td>\n",
              "      <td>2</td>\n",
              "      <td>1</td>\n",
              "      <td>여성</td>\n",
              "    </tr>\n",
              "    <tr>\n",
              "      <th>11</th>\n",
              "      <td>전 정말 웃음이 안나요</td>\n",
              "      <td>U2</td>\n",
              "      <td>P02</td>\n",
              "      <td>2</td>\n",
              "      <td>1</td>\n",
              "      <td>여성</td>\n",
              "    </tr>\n",
              "    <tr>\n",
              "      <th>12</th>\n",
              "      <td>그게 다행이져</td>\n",
              "      <td>U3</td>\n",
              "      <td>P02</td>\n",
              "      <td>2</td>\n",
              "      <td>1</td>\n",
              "      <td>여성</td>\n",
              "    </tr>\n",
              "    <tr>\n",
              "      <th>13</th>\n",
              "      <td>#@이모티콘#</td>\n",
              "      <td>U4</td>\n",
              "      <td>P01</td>\n",
              "      <td>2</td>\n",
              "      <td>1</td>\n",
              "      <td>여성</td>\n",
              "    </tr>\n",
              "    <tr>\n",
              "      <th>14</th>\n",
              "      <td>ㅋㅋㅋㅋㅋㅋㅋ</td>\n",
              "      <td>U5</td>\n",
              "      <td>P02</td>\n",
              "      <td>2</td>\n",
              "      <td>1</td>\n",
              "      <td>여성</td>\n",
              "    </tr>\n",
              "    <tr>\n",
              "      <th>15</th>\n",
              "      <td>ㅋㅋㅋㅋ</td>\n",
              "      <td>U6</td>\n",
              "      <td>P01</td>\n",
              "      <td>2</td>\n",
              "      <td>1</td>\n",
              "      <td>여성</td>\n",
              "    </tr>\n",
              "    <tr>\n",
              "      <th>16</th>\n",
              "      <td>내 연차 함부로 안써줬으면 좋겠다</td>\n",
              "      <td>U7</td>\n",
              "      <td>P02</td>\n",
              "      <td>2</td>\n",
              "      <td>1</td>\n",
              "      <td>여성</td>\n",
              "    </tr>\n",
              "    <tr>\n",
              "      <th>17</th>\n",
              "      <td>나 쓰고싶을때 쓰게ㅋㅋ</td>\n",
              "      <td>U8</td>\n",
              "      <td>P02</td>\n",
              "      <td>2</td>\n",
              "      <td>1</td>\n",
              "      <td>여성</td>\n",
              "    </tr>\n",
              "    <tr>\n",
              "      <th>18</th>\n",
              "      <td>이제 쓸 연차도 없지 않나여?</td>\n",
              "      <td>U9</td>\n",
              "      <td>P01</td>\n",
              "      <td>2</td>\n",
              "      <td>1</td>\n",
              "      <td>여성</td>\n",
              "    </tr>\n",
              "    <tr>\n",
              "      <th>19</th>\n",
              "      <td>담달부터 다시 생겨여ㅋㅋ</td>\n",
              "      <td>U10</td>\n",
              "      <td>P02</td>\n",
              "      <td>2</td>\n",
              "      <td>1</td>\n",
              "      <td>여성</td>\n",
              "    </tr>\n",
              "  </tbody>\n",
              "</table>\n",
              "</div>"
            ],
            "text/plain": [
              "                utterance U_id P_id P_num  D_id P_gender\n",
              "0           여러 명 같이 하나보네?   U1  P01     2     0       여성\n",
              "1                 #@이모티콘#   U2  P01     2     0       여성\n",
              "2                응 한 10명?   U3  P02     2     0       여성\n",
              "3           프로그램 다운이 안 됐대   U4  P02     2     0       여성\n",
              "4                       아   U5  P01     2     0       여성\n",
              "5               강제로 쉬는 시간   U6  P01     2     0       여성\n",
              "6       평일엥 일하겠네 우리 #@이름#   U7  P01     2     0       여성\n",
              "7                  평일엔...   U8  P01     2     0       여성\n",
              "8                 다음 주부터는   U9  P02     2     0       여성\n",
              "9                    바쁘겠다  U10  P02     2     0       여성\n",
              "10  그래도 스케줄은 그지같이 안짤거 아니야   U1  P01     2     1       여성\n",
              "11           전 정말 웃음이 안나요   U2  P02     2     1       여성\n",
              "12                그게 다행이져   U3  P02     2     1       여성\n",
              "13                #@이모티콘#   U4  P01     2     1       여성\n",
              "14                ㅋㅋㅋㅋㅋㅋㅋ   U5  P02     2     1       여성\n",
              "15                   ㅋㅋㅋㅋ   U6  P01     2     1       여성\n",
              "16     내 연차 함부로 안써줬으면 좋겠다   U7  P02     2     1       여성\n",
              "17           나 쓰고싶을때 쓰게ㅋㅋ   U8  P02     2     1       여성\n",
              "18       이제 쓸 연차도 없지 않나여?   U9  P01     2     1       여성\n",
              "19          담달부터 다시 생겨여ㅋㅋ  U10  P02     2     1       여성"
            ]
          },
          "metadata": {},
          "execution_count": 220
        }
      ]
    },
    {
      "cell_type": "code",
      "metadata": {
        "id": "t5JItO32vyww"
      },
      "source": [
        "df = raw_df.copy()"
      ],
      "execution_count": 221,
      "outputs": []
    },
    {
      "cell_type": "markdown",
      "metadata": {
        "id": "U3FLaHkDZG9M"
      },
      "source": [
        "# 1. lstm 모델\n",
        "\n",
        "https://wikidocs.net/44249 \n",
        "이 내용 거의 따라함\n",
        "\n",
        " lstm 모델 따라하기 2 의 아이디어\n",
        "- 같은 화자의 데이터는 하나의 덩어리로 처리하도록"
      ]
    },
    {
      "cell_type": "code",
      "metadata": {
        "colab": {
          "base_uri": "https://localhost:8080/"
        },
        "id": "0eO5NFLhITuF",
        "outputId": "fd7d93f0-4dc6-4506-d734-3a4cec122f5e"
      },
      "source": [
        "# Naive-Bayes Method.\n",
        "#df = df[['utterance', 'P_gender']]\n",
        "df['P_gender'].value_counts()"
      ],
      "execution_count": 222,
      "outputs": [
        {
          "output_type": "execute_result",
          "data": {
            "text/plain": [
              "여성    970761\n",
              "남성    195332\n",
              "Name: P_gender, dtype: int64"
            ]
          },
          "metadata": {},
          "execution_count": 222
        }
      ]
    },
    {
      "cell_type": "code",
      "metadata": {
        "id": "H1RLmBieJe0V"
      },
      "source": [
        "# Gender to discrete variable\n",
        "# 0 : '여성', 1 : '남성'\n",
        "df['P_gender'] = [0 if gender=='여성' else 1 for gender in df['P_gender']]\n",
        "df = df.set_index(['D_id','P_id'] )"
      ],
      "execution_count": 223,
      "outputs": []
    },
    {
      "cell_type": "code",
      "metadata": {
        "colab": {
          "base_uri": "https://localhost:8080/",
          "height": 235
        },
        "id": "Cot0_6n2jdcG",
        "outputId": "eba005cc-f4ae-431d-809f-71406fdf6091"
      },
      "source": [
        "df = df.sort_index()\n",
        "df['index'] = df.index\n",
        "df.head(5)"
      ],
      "execution_count": 224,
      "outputs": [
        {
          "output_type": "execute_result",
          "data": {
            "text/html": [
              "<div>\n",
              "<style scoped>\n",
              "    .dataframe tbody tr th:only-of-type {\n",
              "        vertical-align: middle;\n",
              "    }\n",
              "\n",
              "    .dataframe tbody tr th {\n",
              "        vertical-align: top;\n",
              "    }\n",
              "\n",
              "    .dataframe thead th {\n",
              "        text-align: right;\n",
              "    }\n",
              "</style>\n",
              "<table border=\"1\" class=\"dataframe\">\n",
              "  <thead>\n",
              "    <tr style=\"text-align: right;\">\n",
              "      <th></th>\n",
              "      <th></th>\n",
              "      <th>utterance</th>\n",
              "      <th>U_id</th>\n",
              "      <th>P_num</th>\n",
              "      <th>P_gender</th>\n",
              "      <th>index</th>\n",
              "    </tr>\n",
              "    <tr>\n",
              "      <th>D_id</th>\n",
              "      <th>P_id</th>\n",
              "      <th></th>\n",
              "      <th></th>\n",
              "      <th></th>\n",
              "      <th></th>\n",
              "      <th></th>\n",
              "    </tr>\n",
              "  </thead>\n",
              "  <tbody>\n",
              "    <tr>\n",
              "      <th rowspan=\"5\" valign=\"top\">0</th>\n",
              "      <th>P01</th>\n",
              "      <td>여러 명 같이 하나보네?</td>\n",
              "      <td>U1</td>\n",
              "      <td>2</td>\n",
              "      <td>0</td>\n",
              "      <td>(0, P01)</td>\n",
              "    </tr>\n",
              "    <tr>\n",
              "      <th>P01</th>\n",
              "      <td>#@이모티콘#</td>\n",
              "      <td>U2</td>\n",
              "      <td>2</td>\n",
              "      <td>0</td>\n",
              "      <td>(0, P01)</td>\n",
              "    </tr>\n",
              "    <tr>\n",
              "      <th>P01</th>\n",
              "      <td>아</td>\n",
              "      <td>U5</td>\n",
              "      <td>2</td>\n",
              "      <td>0</td>\n",
              "      <td>(0, P01)</td>\n",
              "    </tr>\n",
              "    <tr>\n",
              "      <th>P01</th>\n",
              "      <td>강제로 쉬는 시간</td>\n",
              "      <td>U6</td>\n",
              "      <td>2</td>\n",
              "      <td>0</td>\n",
              "      <td>(0, P01)</td>\n",
              "    </tr>\n",
              "    <tr>\n",
              "      <th>P01</th>\n",
              "      <td>평일엥 일하겠네 우리 #@이름#</td>\n",
              "      <td>U7</td>\n",
              "      <td>2</td>\n",
              "      <td>0</td>\n",
              "      <td>(0, P01)</td>\n",
              "    </tr>\n",
              "  </tbody>\n",
              "</table>\n",
              "</div>"
            ],
            "text/plain": [
              "                   utterance U_id P_num  P_gender     index\n",
              "D_id P_id                                                  \n",
              "0    P01       여러 명 같이 하나보네?   U1     2         0  (0, P01)\n",
              "     P01             #@이모티콘#   U2     2         0  (0, P01)\n",
              "     P01                   아   U5     2         0  (0, P01)\n",
              "     P01           강제로 쉬는 시간   U6     2         0  (0, P01)\n",
              "     P01   평일엥 일하겠네 우리 #@이름#   U7     2         0  (0, P01)"
            ]
          },
          "metadata": {},
          "execution_count": 224
        }
      ]
    },
    {
      "cell_type": "code",
      "metadata": {
        "colab": {
          "base_uri": "https://localhost:8080/",
          "height": 514
        },
        "id": "QkaCfwGCkrtR",
        "outputId": "9922875d-3312-440e-89b0-a183703e9bc5"
      },
      "source": [
        "s = df.groupby(df.index)['utterance'].apply(' '.join).to_frame()\n",
        "\n",
        "s.head(15)"
      ],
      "execution_count": 225,
      "outputs": [
        {
          "output_type": "execute_result",
          "data": {
            "text/html": [
              "<div>\n",
              "<style scoped>\n",
              "    .dataframe tbody tr th:only-of-type {\n",
              "        vertical-align: middle;\n",
              "    }\n",
              "\n",
              "    .dataframe tbody tr th {\n",
              "        vertical-align: top;\n",
              "    }\n",
              "\n",
              "    .dataframe thead th {\n",
              "        text-align: right;\n",
              "    }\n",
              "</style>\n",
              "<table border=\"1\" class=\"dataframe\">\n",
              "  <thead>\n",
              "    <tr style=\"text-align: right;\">\n",
              "      <th></th>\n",
              "      <th>utterance</th>\n",
              "    </tr>\n",
              "  </thead>\n",
              "  <tbody>\n",
              "    <tr>\n",
              "      <th>(0, P01)</th>\n",
              "      <td>여러 명 같이 하나보네? #@이모티콘# 아 강제로 쉬는 시간 평일엥 일하겠네 우리 ...</td>\n",
              "    </tr>\n",
              "    <tr>\n",
              "      <th>(0, P02)</th>\n",
              "      <td>응 한 10명? 프로그램 다운이 안 됐대 다음 주부터는 바쁘겠다</td>\n",
              "    </tr>\n",
              "    <tr>\n",
              "      <th>(1, P01)</th>\n",
              "      <td>그래도 스케줄은 그지같이 안짤거 아니야 #@이모티콘# ㅋㅋㅋㅋ 이제 쓸 연차도 없지...</td>\n",
              "    </tr>\n",
              "    <tr>\n",
              "      <th>(1, P02)</th>\n",
              "      <td>전 정말 웃음이 안나요 그게 다행이져 ㅋㅋㅋㅋㅋㅋㅋ 내 연차 함부로 안써줬으면 좋겠...</td>\n",
              "    </tr>\n",
              "    <tr>\n",
              "      <th>(2, P01)</th>\n",
              "      <td>근데 만약에 남성이 결혼을 안한다면 기혼자와 미혼자 간의 휴가 차이가 발생하지 않을...</td>\n",
              "    </tr>\n",
              "    <tr>\n",
              "      <th>(2, P02)</th>\n",
              "      <td>응 그렇겠지 미혼자들이 아무래도 불공평하다고 느낄거야 아니면 미혼자만을 위한 휴가를...</td>\n",
              "    </tr>\n",
              "    <tr>\n",
              "      <th>(3, P01)</th>\n",
              "      <td>헐쌤 그럼 내가 전화해본거 아실꺼 아니야ㅠㅠ 나 이상하게 보겠어ㅠㅠ ㅠㅠ나 안 그래...</td>\n",
              "    </tr>\n",
              "    <tr>\n",
              "      <th>(3, P02)</th>\n",
              "      <td>아니 그건 아님 #@이름#이 전화한거 아셔 긍까 낼 어린이집 방학 얘기 하지마 낼 ...</td>\n",
              "    </tr>\n",
              "    <tr>\n",
              "      <th>(4, P01)</th>\n",
              "      <td>추석 앞앞 날부터 3일쉬고! ㅋㅋㅋㅋㅋㅋㅋㅋㅋㅋㅋㅋ 대신 오늘 쉽니다,, 어냐아녀 ...</td>\n",
              "    </tr>\n",
              "    <tr>\n",
              "      <th>(4, P02)</th>\n",
              "      <td>아이고야.... 추석때도  그럼 일했겠네.. 아 연달아 쉰다는 소리로 착각함..</td>\n",
              "    </tr>\n",
              "    <tr>\n",
              "      <th>(5, P01)</th>\n",
              "      <td>내년설이무섭다난.... 물어보긴함 그게스트레스야 나혼자스트레스겁나받아 묻지도말랐으면...</td>\n",
              "    </tr>\n",
              "    <tr>\n",
              "      <th>(5, P02)</th>\n",
              "      <td>하씨...나도 우리는 취업 그렁걸로 암말안하긴하는데 요즘 어른들도 아는분들은.아는데...</td>\n",
              "    </tr>\n",
              "    <tr>\n",
              "      <th>(6, P01)</th>\n",
              "      <td>나 퇴근전에 한번 더 공지해야겟다 아진짜 너무 빡침 ㅎㅎ 아니 진짜 이해가 안됨 일...</td>\n",
              "    </tr>\n",
              "    <tr>\n",
              "      <th>(6, P02)</th>\n",
              "      <td>그새ㅔ끼들은 뭐하나 제댈 흐하는거 ㅇ 하는게없삼 맨날 술만 처먹을줄알지 마자,,,그...</td>\n",
              "    </tr>\n",
              "    <tr>\n",
              "      <th>(7, P01)</th>\n",
              "      <td>야야ㅑㅑ두라 세금이랑 식비떼고 주는거면 얼마정도 떼는거야??? ㅇㅇㅇ 세금 20마넌...</td>\n",
              "    </tr>\n",
              "  </tbody>\n",
              "</table>\n",
              "</div>"
            ],
            "text/plain": [
              "                                                  utterance\n",
              "(0, P01)  여러 명 같이 하나보네? #@이모티콘# 아 강제로 쉬는 시간 평일엥 일하겠네 우리 ...\n",
              "(0, P02)                응 한 10명? 프로그램 다운이 안 됐대 다음 주부터는 바쁘겠다\n",
              "(1, P01)  그래도 스케줄은 그지같이 안짤거 아니야 #@이모티콘# ㅋㅋㅋㅋ 이제 쓸 연차도 없지...\n",
              "(1, P02)  전 정말 웃음이 안나요 그게 다행이져 ㅋㅋㅋㅋㅋㅋㅋ 내 연차 함부로 안써줬으면 좋겠...\n",
              "(2, P01)  근데 만약에 남성이 결혼을 안한다면 기혼자와 미혼자 간의 휴가 차이가 발생하지 않을...\n",
              "(2, P02)  응 그렇겠지 미혼자들이 아무래도 불공평하다고 느낄거야 아니면 미혼자만을 위한 휴가를...\n",
              "(3, P01)  헐쌤 그럼 내가 전화해본거 아실꺼 아니야ㅠㅠ 나 이상하게 보겠어ㅠㅠ ㅠㅠ나 안 그래...\n",
              "(3, P02)  아니 그건 아님 #@이름#이 전화한거 아셔 긍까 낼 어린이집 방학 얘기 하지마 낼 ...\n",
              "(4, P01)  추석 앞앞 날부터 3일쉬고! ㅋㅋㅋㅋㅋㅋㅋㅋㅋㅋㅋㅋ 대신 오늘 쉽니다,, 어냐아녀 ...\n",
              "(4, P02)       아이고야.... 추석때도  그럼 일했겠네.. 아 연달아 쉰다는 소리로 착각함..\n",
              "(5, P01)  내년설이무섭다난.... 물어보긴함 그게스트레스야 나혼자스트레스겁나받아 묻지도말랐으면...\n",
              "(5, P02)  하씨...나도 우리는 취업 그렁걸로 암말안하긴하는데 요즘 어른들도 아는분들은.아는데...\n",
              "(6, P01)  나 퇴근전에 한번 더 공지해야겟다 아진짜 너무 빡침 ㅎㅎ 아니 진짜 이해가 안됨 일...\n",
              "(6, P02)  그새ㅔ끼들은 뭐하나 제댈 흐하는거 ㅇ 하는게없삼 맨날 술만 처먹을줄알지 마자,,,그...\n",
              "(7, P01)  야야ㅑㅑ두라 세금이랑 식비떼고 주는거면 얼마정도 떼는거야??? ㅇㅇㅇ 세금 20마넌..."
            ]
          },
          "metadata": {},
          "execution_count": 225
        }
      ]
    },
    {
      "cell_type": "code",
      "metadata": {
        "colab": {
          "base_uri": "https://localhost:8080/",
          "height": 504
        },
        "id": "Z7aJBOI3miXS",
        "outputId": "59a3ae05-8f23-4dbf-bf82-c77f9e1bd8f7"
      },
      "source": [
        "df = pd.merge(left = s.reset_index(), right = df[['P_gender','index']], how = \"left\", left_on=['index'], right_on= ['index'], sort=False).drop_duplicates().set_index('index').reset_index()\n",
        "df"
      ],
      "execution_count": 226,
      "outputs": [
        {
          "output_type": "execute_result",
          "data": {
            "text/html": [
              "<div>\n",
              "<style scoped>\n",
              "    .dataframe tbody tr th:only-of-type {\n",
              "        vertical-align: middle;\n",
              "    }\n",
              "\n",
              "    .dataframe tbody tr th {\n",
              "        vertical-align: top;\n",
              "    }\n",
              "\n",
              "    .dataframe thead th {\n",
              "        text-align: right;\n",
              "    }\n",
              "</style>\n",
              "<table border=\"1\" class=\"dataframe\">\n",
              "  <thead>\n",
              "    <tr style=\"text-align: right;\">\n",
              "      <th></th>\n",
              "      <th>index</th>\n",
              "      <th>utterance</th>\n",
              "      <th>P_gender</th>\n",
              "    </tr>\n",
              "  </thead>\n",
              "  <tbody>\n",
              "    <tr>\n",
              "      <th>0</th>\n",
              "      <td>(0, P01)</td>\n",
              "      <td>여러 명 같이 하나보네? #@이모티콘# 아 강제로 쉬는 시간 평일엥 일하겠네 우리 ...</td>\n",
              "      <td>0</td>\n",
              "    </tr>\n",
              "    <tr>\n",
              "      <th>1</th>\n",
              "      <td>(0, P02)</td>\n",
              "      <td>응 한 10명? 프로그램 다운이 안 됐대 다음 주부터는 바쁘겠다</td>\n",
              "      <td>0</td>\n",
              "    </tr>\n",
              "    <tr>\n",
              "      <th>2</th>\n",
              "      <td>(1, P01)</td>\n",
              "      <td>그래도 스케줄은 그지같이 안짤거 아니야 #@이모티콘# ㅋㅋㅋㅋ 이제 쓸 연차도 없지...</td>\n",
              "      <td>0</td>\n",
              "    </tr>\n",
              "    <tr>\n",
              "      <th>3</th>\n",
              "      <td>(1, P02)</td>\n",
              "      <td>전 정말 웃음이 안나요 그게 다행이져 ㅋㅋㅋㅋㅋㅋㅋ 내 연차 함부로 안써줬으면 좋겠...</td>\n",
              "      <td>0</td>\n",
              "    </tr>\n",
              "    <tr>\n",
              "      <th>4</th>\n",
              "      <td>(2, P01)</td>\n",
              "      <td>근데 만약에 남성이 결혼을 안한다면 기혼자와 미혼자 간의 휴가 차이가 발생하지 않을...</td>\n",
              "      <td>1</td>\n",
              "    </tr>\n",
              "    <tr>\n",
              "      <th>...</th>\n",
              "      <td>...</td>\n",
              "      <td>...</td>\n",
              "      <td>...</td>\n",
              "    </tr>\n",
              "    <tr>\n",
              "      <th>164409</th>\n",
              "      <td>(76197, P04)</td>\n",
              "      <td>펜트하우스 보는데 홀린듯 계속보게되네 지금 보고잇는데 엄마 옆에서 계속 스포하는 중이다ㅠ</td>\n",
              "      <td>0</td>\n",
              "    </tr>\n",
              "    <tr>\n",
              "      <th>164410</th>\n",
              "      <td>(76198, P01)</td>\n",
              "      <td>ㅋㅋㅋㅋㅋㅋ 사이버 대학이라 바뀌는게 없다 ㅋㅋㅋ 딴데도 찾아봐 헐랭 여자라 그런가...</td>\n",
              "      <td>1</td>\n",
              "    </tr>\n",
              "    <tr>\n",
              "      <th>164411</th>\n",
              "      <td>(76198, P02)</td>\n",
              "      <td>ㅋㅋㅋㅋㅋㅋㅋㅋㅋㅋㅋㅋ 난 내일도 쿠팡 되길... 마켓컬리 두번 지원했는데 두번다 ...</td>\n",
              "      <td>0</td>\n",
              "    </tr>\n",
              "    <tr>\n",
              "      <th>164412</th>\n",
              "      <td>(76199, P01)</td>\n",
              "      <td>남자부사수 생기는데~ 이게 하렘아니고 뭐노 너 빠른이니까 무시하지말라해 정정합니다 ...</td>\n",
              "      <td>0</td>\n",
              "    </tr>\n",
              "    <tr>\n",
              "      <th>164413</th>\n",
              "      <td>(76199, P02)</td>\n",
              "      <td>ㅋㅋ 나 무시하면 어캄 종특 아니노? 이미 29이라 하고 다녔는데 내년에 31라고 ...</td>\n",
              "      <td>0</td>\n",
              "    </tr>\n",
              "  </tbody>\n",
              "</table>\n",
              "<p>164414 rows × 3 columns</p>\n",
              "</div>"
            ],
            "text/plain": [
              "               index  ... P_gender\n",
              "0           (0, P01)  ...        0\n",
              "1           (0, P02)  ...        0\n",
              "2           (1, P01)  ...        0\n",
              "3           (1, P02)  ...        0\n",
              "4           (2, P01)  ...        1\n",
              "...              ...  ...      ...\n",
              "164409  (76197, P04)  ...        0\n",
              "164410  (76198, P01)  ...        1\n",
              "164411  (76198, P02)  ...        0\n",
              "164412  (76199, P01)  ...        0\n",
              "164413  (76199, P02)  ...        0\n",
              "\n",
              "[164414 rows x 3 columns]"
            ]
          },
          "metadata": {},
          "execution_count": 226
        }
      ]
    },
    {
      "cell_type": "code",
      "metadata": {
        "id": "6aZEi3FG5fmk"
      },
      "source": [
        "from soynlp.tokenizer import RegexTokenizer\n",
        "from soynlp.normalizer import *\n",
        "\n",
        "tokenizer = RegexTokenizer()"
      ],
      "execution_count": 227,
      "outputs": []
    },
    {
      "cell_type": "code",
      "metadata": {
        "id": "o7yZ1kft9fhw"
      },
      "source": [
        "# 실행 안 해도 됨\n",
        "\"\"\"\n",
        "# soynlp 의 repeat_normalzie 함수\n",
        "# 반복되는 글자들을 num_repeat 수 만큼 통일시킨다.\n",
        "# 그냥 이 함수를 쓸까 하다가 다 똑같이 통일하면 의미를 온전히 표현 못할 수도 있을거 같아서 나중에 필요하면 ㅋㅋㅋ 개수를 threshold를 기준으로 분류하든지\n",
        "\n",
        "def repeat_normalize(sent, num_repeats=2):\n",
        "    if num_repeats > 0:\n",
        "        sent = soynlp.repeatchars_pattern.sub('\\\\1' * num_repeats, sent)\n",
        "    sent = doublespace_pattern.sub(' ', sent)\n",
        "    return sent.strip()\n",
        "\"\"\"\n",
        "def my_repeat_normalize(sent, num_repeats=2):\n",
        "    if num_repeats > 0:\n",
        "        sent = soynlp.repeatchars_pattern.sub('\\\\1' * num_repeats, sent)\n",
        "    sent = doublespace_pattern.sub(' ', sent)\n",
        "    return sent.strip()\n"
      ],
      "execution_count": 165,
      "outputs": []
    },
    {
      "cell_type": "code",
      "metadata": {
        "colab": {
          "base_uri": "https://localhost:8080/",
          "height": 530
        },
        "id": "MLWHr3yy5mbo",
        "outputId": "b02efd21-4d2d-4621-a350-4acced2a6c4c"
      },
      "source": [
        "# soynlp 설명 참고 링크\n",
        "#https://github.com/lovit/soynlp\n",
        "# df['utterance'] 에서 ㅋㅋㅋㅋㅋ와 같이 반복되는 글지 normalize 하고 tokenize\n",
        "\n",
        "def text_normalize(sent):\n",
        "  #result= emoticon_normalize(sent, num_repeats= 2)\n",
        "  result = tokenizer.tokenize(sent)\n",
        "  for i, token in enumerate(result):  \n",
        "    tmp = emoticon_normalize(token, num_repeats= 2)\n",
        "    result[i] = repeat_normalize(tmp, num_repeats=1)\n",
        "    #result[i] = tmp\n",
        "    pass\n",
        "  return result\n",
        "\n",
        "df['sents'] = df['utterance'].apply(text_normalize)\n",
        "df.head(10)"
      ],
      "execution_count": 228,
      "outputs": [
        {
          "output_type": "execute_result",
          "data": {
            "text/html": [
              "<div>\n",
              "<style scoped>\n",
              "    .dataframe tbody tr th:only-of-type {\n",
              "        vertical-align: middle;\n",
              "    }\n",
              "\n",
              "    .dataframe tbody tr th {\n",
              "        vertical-align: top;\n",
              "    }\n",
              "\n",
              "    .dataframe thead th {\n",
              "        text-align: right;\n",
              "    }\n",
              "</style>\n",
              "<table border=\"1\" class=\"dataframe\">\n",
              "  <thead>\n",
              "    <tr style=\"text-align: right;\">\n",
              "      <th></th>\n",
              "      <th>index</th>\n",
              "      <th>utterance</th>\n",
              "      <th>P_gender</th>\n",
              "      <th>sents</th>\n",
              "    </tr>\n",
              "  </thead>\n",
              "  <tbody>\n",
              "    <tr>\n",
              "      <th>0</th>\n",
              "      <td>(0, P01)</td>\n",
              "      <td>여러 명 같이 하나보네? #@이모티콘# 아 강제로 쉬는 시간 평일엥 일하겠네 우리 ...</td>\n",
              "      <td>0</td>\n",
              "      <td>[여러, 명, 같이, 하나보네, ?, #@, 이모티콘, #, 아, 강제로, 쉬는, ...</td>\n",
              "    </tr>\n",
              "    <tr>\n",
              "      <th>1</th>\n",
              "      <td>(0, P02)</td>\n",
              "      <td>응 한 10명? 프로그램 다운이 안 됐대 다음 주부터는 바쁘겠다</td>\n",
              "      <td>0</td>\n",
              "      <td>[응, 한, 10, 명, ?, 프로그램, 다운이, 안, 됐대, 다음, 주부터는, 바...</td>\n",
              "    </tr>\n",
              "    <tr>\n",
              "      <th>2</th>\n",
              "      <td>(1, P01)</td>\n",
              "      <td>그래도 스케줄은 그지같이 안짤거 아니야 #@이모티콘# ㅋㅋㅋㅋ 이제 쓸 연차도 없지...</td>\n",
              "      <td>0</td>\n",
              "      <td>[그래도, 스케줄은, 그지같이, 안짤거, 아니야, #@, 이모티콘, #, ㅋㅋ, 이...</td>\n",
              "    </tr>\n",
              "    <tr>\n",
              "      <th>3</th>\n",
              "      <td>(1, P02)</td>\n",
              "      <td>전 정말 웃음이 안나요 그게 다행이져 ㅋㅋㅋㅋㅋㅋㅋ 내 연차 함부로 안써줬으면 좋겠...</td>\n",
              "      <td>0</td>\n",
              "      <td>[전, 정말, 웃음이, 안나요, 그게, 다행이져, ㅋㅋ, 내, 연차, 함부로, 안써...</td>\n",
              "    </tr>\n",
              "    <tr>\n",
              "      <th>4</th>\n",
              "      <td>(2, P01)</td>\n",
              "      <td>근데 만약에 남성이 결혼을 안한다면 기혼자와 미혼자 간의 휴가 차이가 발생하지 않을...</td>\n",
              "      <td>1</td>\n",
              "      <td>[근데, 만약에, 남성이, 결혼을, 안한다면, 기혼자와, 미혼자, 간의, 휴가, 차...</td>\n",
              "    </tr>\n",
              "    <tr>\n",
              "      <th>5</th>\n",
              "      <td>(2, P02)</td>\n",
              "      <td>응 그렇겠지 미혼자들이 아무래도 불공평하다고 느낄거야 아니면 미혼자만을 위한 휴가를...</td>\n",
              "      <td>0</td>\n",
              "      <td>[응, 그렇겠지, 미혼자들이, 아무래도, 불공평하다고, 느낄거야, 아니면, 미혼자만...</td>\n",
              "    </tr>\n",
              "    <tr>\n",
              "      <th>6</th>\n",
              "      <td>(3, P01)</td>\n",
              "      <td>헐쌤 그럼 내가 전화해본거 아실꺼 아니야ㅠㅠ 나 이상하게 보겠어ㅠㅠ ㅠㅠ나 안 그래...</td>\n",
              "      <td>0</td>\n",
              "      <td>[헐쌤, 그럼, 내가, 전화해본거, 아실꺼, 아니야, ㅠㅠ, 나, 이상하게, 보겠어...</td>\n",
              "    </tr>\n",
              "    <tr>\n",
              "      <th>7</th>\n",
              "      <td>(3, P02)</td>\n",
              "      <td>아니 그건 아님 #@이름#이 전화한거 아셔 긍까 낼 어린이집 방학 얘기 하지마 낼 ...</td>\n",
              "      <td>0</td>\n",
              "      <td>[아니, 그건, 아님, #@, 이름, #, 이, 전화한거, 아셔, 긍까, 낼, 어린...</td>\n",
              "    </tr>\n",
              "    <tr>\n",
              "      <th>8</th>\n",
              "      <td>(4, P01)</td>\n",
              "      <td>추석 앞앞 날부터 3일쉬고! ㅋㅋㅋㅋㅋㅋㅋㅋㅋㅋㅋㅋ 대신 오늘 쉽니다,, 어냐아녀 ...</td>\n",
              "      <td>0</td>\n",
              "      <td>[추석, 앞앞, 날부터, 3, 일쉬고, !, ㅋㅋ, 대신, 오늘, 쉽니다, ,,, ...</td>\n",
              "    </tr>\n",
              "    <tr>\n",
              "      <th>9</th>\n",
              "      <td>(4, P02)</td>\n",
              "      <td>아이고야.... 추석때도  그럼 일했겠네.. 아 연달아 쉰다는 소리로 착각함..</td>\n",
              "      <td>0</td>\n",
              "      <td>[아이고야, ...., 추석때도, 그럼, 일했겠네, .., 아, 연달아, 쉰다는, ...</td>\n",
              "    </tr>\n",
              "  </tbody>\n",
              "</table>\n",
              "</div>"
            ],
            "text/plain": [
              "      index  ...                                              sents\n",
              "0  (0, P01)  ...  [여러, 명, 같이, 하나보네, ?, #@, 이모티콘, #, 아, 강제로, 쉬는, ...\n",
              "1  (0, P02)  ...  [응, 한, 10, 명, ?, 프로그램, 다운이, 안, 됐대, 다음, 주부터는, 바...\n",
              "2  (1, P01)  ...  [그래도, 스케줄은, 그지같이, 안짤거, 아니야, #@, 이모티콘, #, ㅋㅋ, 이...\n",
              "3  (1, P02)  ...  [전, 정말, 웃음이, 안나요, 그게, 다행이져, ㅋㅋ, 내, 연차, 함부로, 안써...\n",
              "4  (2, P01)  ...  [근데, 만약에, 남성이, 결혼을, 안한다면, 기혼자와, 미혼자, 간의, 휴가, 차...\n",
              "5  (2, P02)  ...  [응, 그렇겠지, 미혼자들이, 아무래도, 불공평하다고, 느낄거야, 아니면, 미혼자만...\n",
              "6  (3, P01)  ...  [헐쌤, 그럼, 내가, 전화해본거, 아실꺼, 아니야, ㅠㅠ, 나, 이상하게, 보겠어...\n",
              "7  (3, P02)  ...  [아니, 그건, 아님, #@, 이름, #, 이, 전화한거, 아셔, 긍까, 낼, 어린...\n",
              "8  (4, P01)  ...  [추석, 앞앞, 날부터, 3, 일쉬고, !, ㅋㅋ, 대신, 오늘, 쉽니다, ,,, ...\n",
              "9  (4, P02)  ...  [아이고야, ...., 추석때도, 그럼, 일했겠네, .., 아, 연달아, 쉰다는, ...\n",
              "\n",
              "[10 rows x 4 columns]"
            ]
          },
          "metadata": {},
          "execution_count": 228
        }
      ]
    },
    {
      "cell_type": "markdown",
      "metadata": {
        "id": "fcYfjWDICRit"
      },
      "source": [
        "데이터 전처리 고려해야 할 점 ㅜㅜ\n",
        "\n",
        "- ㅋㅋㅋㅋ, ㅇㅇㅇㅇ 어떻게 처리할지. 단순히 여러개 있어도 다 같은 걸로 취급할지 말지\n",
        "- !, ? 도 마찬가지. soynlp의 textonly 함수를 통해 기호들은 제거가 쉽게 가능할듯 한데. 그럼 정보의 손실이 있을수도\n",
        "- 이모티콘 이름. 우리 데이터에서 사람 이름은 #@이름# 으로 되어있음. \n",
        "- 형태소 분석"
      ]
    },
    {
      "cell_type": "code",
      "metadata": {
        "id": "TlFMaG3c3gAK"
      },
      "source": [
        "### word embedding 만들기 위해 corpus 처럼 만들자\n",
        "# 굳이 안 해봐도 됨\n",
        "my =df['sents'].values\n",
        "my = my.tolist()\n"
      ],
      "execution_count": 213,
      "outputs": []
    },
    {
      "cell_type": "code",
      "metadata": {
        "colab": {
          "base_uri": "https://localhost:8080/"
        },
        "id": "A4CkOySuFWn5",
        "outputId": "612e2ad0-6394-4f1f-a114-1adab53bb9fb"
      },
      "source": [
        "# 여기도 실행 안 해도 됨\n",
        "\n",
        "from gensim.models import Word2Vec\n",
        "from gensim.models import KeyedVectors\n",
        "import gensim\n",
        "\n",
        "embedding = gensim.models.Word2Vec(my, size=10, window=7, negative=3, min_count=10)\n",
        "embedding.save('word2vec.model')  # weight vector 모델을 저장합니다.\n",
        "\n",
        "model_ = gensim.models.Word2Vec.load('word2vec.model') # Weight Vector 모델을 볼러와 유사한 단어를 예측합니다.\n",
        "print(model_.wv['선풍기'])\n",
        "print(model_.most_similar('선풍기'))"
      ],
      "execution_count": 215,
      "outputs": [
        {
          "output_type": "stream",
          "name": "stdout",
          "text": [
            "[ 0.01631937 -0.0410938  -0.06624013 -0.16547953  0.17240083 -0.29262748\n",
            "  0.0798369   0.04167588  0.01425139 -0.27402058]\n",
            "[('쿨한', 0.9782341718673706), ('스타벅스', 0.9633550643920898), ('내리고', 0.9597049951553345), ('공기', 0.9561885595321655), ('돌고', 0.9545408487319946), ('소문', 0.9541475772857666), ('애기들', 0.9537941813468933), ('모두의', 0.9533302187919617), ('물', 0.9531503915786743), ('분이랑', 0.9529528021812439)]\n"
          ]
        },
        {
          "output_type": "stream",
          "name": "stderr",
          "text": [
            "/usr/local/lib/python3.7/dist-packages/ipykernel_launcher.py:12: DeprecationWarning: Call to deprecated `most_similar` (Method will be removed in 4.0.0, use self.wv.most_similar() instead).\n",
            "  if sys.path[0] == '':\n"
          ]
        }
      ]
    },
    {
      "cell_type": "code",
      "metadata": {
        "colab": {
          "base_uri": "https://localhost:8080/"
        },
        "id": "c-6f5L1FSG6e",
        "outputId": "b67ba6d0-ceda-4b52-c68d-4b7d0b8c2568"
      },
      "source": [
        "df_women = df[df['P_gender']==0]\n",
        "df_men = df[df['P_gender']==1]\n",
        "\n",
        "print(\"Number of women : {}, Number of men : {}\".format(df_women['P_gender'].value_counts()[0], df_men['P_gender'].value_counts()[1]))"
      ],
      "execution_count": 229,
      "outputs": [
        {
          "output_type": "stream",
          "name": "stdout",
          "text": [
            "Number of women : 137649, Number of men : 26765\n"
          ]
        }
      ]
    },
    {
      "cell_type": "code",
      "metadata": {
        "colab": {
          "base_uri": "https://localhost:8080/",
          "height": 290
        },
        "id": "g8ElT8jRTvxQ",
        "outputId": "8708de35-b228-4e03-fe14-3f9af32c7f56"
      },
      "source": [
        "df_women = df_women.sample(n= df_men['P_gender'].value_counts()[1], random_state=7)\n",
        "df = pd.concat([df_women, df_men], sort=True)\n",
        "df.head()"
      ],
      "execution_count": 230,
      "outputs": [
        {
          "output_type": "execute_result",
          "data": {
            "text/html": [
              "<div>\n",
              "<style scoped>\n",
              "    .dataframe tbody tr th:only-of-type {\n",
              "        vertical-align: middle;\n",
              "    }\n",
              "\n",
              "    .dataframe tbody tr th {\n",
              "        vertical-align: top;\n",
              "    }\n",
              "\n",
              "    .dataframe thead th {\n",
              "        text-align: right;\n",
              "    }\n",
              "</style>\n",
              "<table border=\"1\" class=\"dataframe\">\n",
              "  <thead>\n",
              "    <tr style=\"text-align: right;\">\n",
              "      <th></th>\n",
              "      <th>P_gender</th>\n",
              "      <th>index</th>\n",
              "      <th>sents</th>\n",
              "      <th>utterance</th>\n",
              "    </tr>\n",
              "  </thead>\n",
              "  <tbody>\n",
              "    <tr>\n",
              "      <th>53486</th>\n",
              "      <td>0</td>\n",
              "      <td>(24781, P02)</td>\n",
              "      <td>[노트북을, 사는, 건, 어때, ㅠㅠ, 하기는, ㅠㅠ, 만약, 3, 단계, 돼서, ...</td>\n",
              "      <td>노트북을 사는 건 어때 ㅠㅠㅠㅠ 하기는 ㅠㅠ 만약 3단계 돼서 아예 재택으로 돌리게...</td>\n",
              "    </tr>\n",
              "    <tr>\n",
              "      <th>139968</th>\n",
              "      <td>0</td>\n",
              "      <td>(64872, P01)</td>\n",
              "      <td>[릠들, 저, 진짜, 그만둔다고, 말했어요, 12, 월까지, 일하기류요, 허허, 예...</td>\n",
              "      <td>릠들 저 진짜 그만둔다고 말했어요 12월까지 일하기류요 허허 예에~~~~~~~ 오년...</td>\n",
              "    </tr>\n",
              "    <tr>\n",
              "      <th>127136</th>\n",
              "      <td>0</td>\n",
              "      <td>(58930, P02)</td>\n",
              "      <td>[허허허, ㅎㅎ, 낼은, 또, 어디가시나, ㅋㅋ, 울여보이, 엄청바뿌구만, 진짜로,...</td>\n",
              "      <td>허허허 ㅎㅎ 낼은 또 어디가시나 ㅋㅋ울여보이 엄청바뿌구만 진짜로 ㅋㅋㅋ ㅋㅋㅋ후딱직...</td>\n",
              "    </tr>\n",
              "    <tr>\n",
              "      <th>6299</th>\n",
              "      <td>0</td>\n",
              "      <td>(2929, P01)</td>\n",
              "      <td>[나, 며칠전에, 꿀알바했음, 어떤, 녹음실가서, 한국말, 녹음해주는거인데, 한, ...</td>\n",
              "      <td>나 며칠전에 꿀알바했음 어떤 녹음실가서 한국말 녹음해주는거인데 한 40분동안 읽었는...</td>\n",
              "    </tr>\n",
              "    <tr>\n",
              "      <th>95832</th>\n",
              "      <td>0</td>\n",
              "      <td>(44426, P02)</td>\n",
              "      <td>[그냥, 7, 월것만, 성과에, 넣으세요, .., 비용절감, 어쩌고, 할라고, 각재...</td>\n",
              "      <td>그냥 7월것만 성과에 넣으세요.. 비용절감 어쩌고 할라고 각재는거구만 오 좀 귀엽네...</td>\n",
              "    </tr>\n",
              "  </tbody>\n",
              "</table>\n",
              "</div>"
            ],
            "text/plain": [
              "        P_gender  ...                                          utterance\n",
              "53486          0  ...  노트북을 사는 건 어때 ㅠㅠㅠㅠ 하기는 ㅠㅠ 만약 3단계 돼서 아예 재택으로 돌리게...\n",
              "139968         0  ...  릠들 저 진짜 그만둔다고 말했어요 12월까지 일하기류요 허허 예에~~~~~~~ 오년...\n",
              "127136         0  ...  허허허 ㅎㅎ 낼은 또 어디가시나 ㅋㅋ울여보이 엄청바뿌구만 진짜로 ㅋㅋㅋ ㅋㅋㅋ후딱직...\n",
              "6299           0  ...  나 며칠전에 꿀알바했음 어떤 녹음실가서 한국말 녹음해주는거인데 한 40분동안 읽었는...\n",
              "95832          0  ...  그냥 7월것만 성과에 넣으세요.. 비용절감 어쩌고 할라고 각재는거구만 오 좀 귀엽네...\n",
              "\n",
              "[5 rows x 4 columns]"
            ]
          },
          "metadata": {},
          "execution_count": 230
        }
      ]
    },
    {
      "cell_type": "code",
      "metadata": {
        "id": "1RsXO5MKKTWH"
      },
      "source": [
        "X = df['sents']\n",
        "y = df['P_gender']\n",
        "\n",
        "from sklearn.naive_bayes import MultinomialNB\n",
        "from sklearn.feature_extraction.text import CountVectorizer\n",
        "from sklearn.model_selection import train_test_split\n",
        "from sklearn.metrics import classification_report, confusion_matrix\n",
        "\n",
        "X_train, X_test, y_train, y_test = train_test_split(X, y, test_size=0.2, random_state=7)\n",
        "#X_train, X_val, y_train, y_val = train_test_split(X_train, y_train, test_size=0.25, random_state=7)\n",
        "\n"
      ],
      "execution_count": 252,
      "outputs": []
    },
    {
      "cell_type": "code",
      "metadata": {
        "id": "j3VpFun6P2SY"
      },
      "source": [
        "tokenizer = Tokenizer()\n",
        "tokenizer.fit_on_texts(X_train)"
      ],
      "execution_count": 232,
      "outputs": []
    },
    {
      "cell_type": "code",
      "metadata": {
        "colab": {
          "base_uri": "https://localhost:8080/"
        },
        "id": "VgdGogzYPtHD",
        "outputId": "0e67e3a7-9a38-4a9e-9dd6-a46e78a17949"
      },
      "source": [
        "print(tokenizer.word_index)"
      ],
      "execution_count": 188,
      "outputs": [
        {
          "output_type": "stream",
          "name": "stdout",
          "text": [
            "{'#@': 1, '이름': 2, '#': 3, 'ㅋㅋㅋ': 4, '.': 5, '짜증나': 6, '?': 7, '랑': 8, '와': 9, '버스가안나와': 10, '조회가안대': 11, '아까캡쳐해서보여줫자나': 12, '버스어플에왜이런게잇지': 13, '조회안돼': 14, '뭐하길래답장이이렇게없어': 15, '답장개느려': 16, '자나보네': 17, '답장제대로안하는남자는': 18, '?????♂?': 19, '잠': 20, 'ㅈ': 21, '들기전에도말이야': 22, '.9': 23, '일도안하면서': 24, '고속버스어플있서': 25, '???': 26, '잠이나': 27, '자라': 28, '~?': 29, '잠들어슨데': 30, '어떻게해': 31, '그전에': 32, '그렇게': 33, '안늦었는데': 34, '..?': 35, '한': 36, '두번': 37, '늦었지': 38, '..': 39, '오늘': 40, '일하고와서': 41, '왜내가슬퍼': 42, '읽었어': 43, '아니': 44, '나도다': 45, '도': 46, '벌써': 47, '일어났다': 48, 'ㅋㅋ': 49, '놀러간다고': 50, '우리': 51, '뭐': 52, '맨날': 53, '보겠다': 54, '그러자': 55, '아냐': 56, 'ㅠㅠ': 57, '진짜': 58, '괜찮앙': 59, '같이': 60, '노는것만으로도': 61, '너무너무': 62, '신낫어': 63, '있음': 64, '??': 65, '누나가지금': 66, '뭐라했다고': 67, '나': 68, '10': 69, '시에': 70, '일어나서': 71, '밥도목먹음': 72, '엄마': 73, '왜케': 74, '안나가': 75, '레알': 76, '!': 77, '동의': 78, '꺼놓고': 79, '창문은': 80, '그대로': 81, '열어녾고': 82}\n"
          ]
        }
      ]
    },
    {
      "cell_type": "code",
      "metadata": {
        "colab": {
          "base_uri": "https://localhost:8080/"
        },
        "id": "ZEoQZw53QUzi",
        "outputId": "3939027b-7794-4dd1-a2b4-204ae729d8b4"
      },
      "source": [
        "threshold = 3\n",
        "total_cnt = len(tokenizer.word_index) # 단어의 수\n",
        "rare_cnt = 0 # 등장 빈도수가 threshold보다 작은 단어의 개수를 카운트\n",
        "total_freq = 0 # 훈련 데이터의 전체 단어 빈도수 총 합\n",
        "rare_freq = 0 # 등장 빈도수가 threshold보다 작은 단어의 등장 빈도수의 총 합\n",
        "\n",
        "# 단어와 빈도수의 쌍(pair)을 key와 value로 받는다.\n",
        "for key, value in tokenizer.word_counts.items():\n",
        "    total_freq = total_freq + value\n",
        "\n",
        "    # 단어의 등장 빈도수가 threshold보다 작으면\n",
        "    if(value < threshold):\n",
        "        rare_cnt = rare_cnt + 1\n",
        "        rare_freq = rare_freq + value\n",
        "\n",
        "print('단어 집합(vocabulary)의 크기 :',total_cnt)\n",
        "print('등장 빈도가 %s번 이하인 희귀 단어의 수: %s'%(threshold - 1, rare_cnt))\n",
        "print(\"단어 집합에서 희귀 단어의 비율:\", (rare_cnt / total_cnt)*100)     # data 적게 할 때는 division by zero 나올수도\n",
        "print(\"전체 등장 빈도에서 희귀 단어 등장 빈도 비율:\", (rare_freq / total_freq)*100)"
      ],
      "execution_count": 249,
      "outputs": [
        {
          "output_type": "stream",
          "name": "stdout",
          "text": [
            "단어 집합(vocabulary)의 크기 : 256982\n",
            "등장 빈도가 2번 이하인 희귀 단어의 수: 227784\n",
            "단어 집합에서 희귀 단어의 비율: 88.6381147317711\n",
            "전체 등장 빈도에서 희귀 단어 등장 빈도 비율: 25.108391433013992\n"
          ]
        }
      ]
    },
    {
      "cell_type": "code",
      "metadata": {
        "colab": {
          "base_uri": "https://localhost:8080/"
        },
        "id": "49HpD6EbQZzn",
        "outputId": "1f07b834-41c5-44fa-aeb7-22cb3951f0de"
      },
      "source": [
        "# 전체 단어 개수 중 빈도수 threshold 이하인 단어는 제거.\n",
        "# 0번 패딩 토큰을 고려하여 + 1\n",
        "vocab_size = total_cnt - rare_cnt + 1\n",
        "print('단어 집합의 크기 :',vocab_size)"
      ],
      "execution_count": 250,
      "outputs": [
        {
          "output_type": "stream",
          "name": "stdout",
          "text": [
            "단어 집합의 크기 : 29199\n"
          ]
        }
      ]
    },
    {
      "cell_type": "code",
      "metadata": {
        "id": "wGp5qrHyQde1"
      },
      "source": [
        "tokenizer = Tokenizer(vocab_size) \n",
        "tokenizer.fit_on_texts(X_train)\n",
        "X_train = tokenizer.texts_to_sequences(X_train)\n",
        "X_test = tokenizer.texts_to_sequences(X_test)"
      ],
      "execution_count": 253,
      "outputs": []
    },
    {
      "cell_type": "code",
      "metadata": {
        "id": "4oPrFFfpQ7oJ"
      },
      "source": [
        "y_train = np.array(y_train)\n",
        "y_test = np.array(y_test)"
      ],
      "execution_count": 254,
      "outputs": []
    },
    {
      "cell_type": "code",
      "metadata": {
        "colab": {
          "base_uri": "https://localhost:8080/",
          "height": 315
        },
        "id": "R_Yq-mq8R0Jf",
        "outputId": "349b5cc4-b3ed-4261-b3ff-b4c6defd0441"
      },
      "source": [
        "print('메시지의 최대 길이 :',max(len(l) for l in X_train))\n",
        "print('메시지의 평균 길이 :',sum(map(len, X_train))/len(X_train))\n",
        "plt.hist([len(s) for s in X_train], bins=50)\n",
        "plt.xlabel('length of samples')\n",
        "plt.ylabel('number of samples')\n",
        "plt.show()"
      ],
      "execution_count": 255,
      "outputs": [
        {
          "output_type": "stream",
          "name": "stdout",
          "text": [
            "메시지의 최대 길이 : 422\n",
            "메시지의 평균 길이 : 17.43314496543994\n"
          ]
        },
        {
          "output_type": "display_data",
          "data": {
            "image/png": "[encoded data removed]",
            "text/plain": [
              "<Figure size 432x288 with 1 Axes>"
            ]
          },
          "metadata": {
            "needs_background": "light"
          }
        }
      ]
    },
    {
      "cell_type": "code",
      "metadata": {
        "colab": {
          "base_uri": "https://localhost:8080/"
        },
        "id": "WjNMmaB2SQza",
        "outputId": "181670fc-d2ef-4863-f308-8badcc71e27a"
      },
      "source": [
        "def below_threshold_len(max_len, nested_list):\n",
        "  count = 0\n",
        "  for sentence in nested_list:\n",
        "    if(len(sentence) <= max_len):\n",
        "        count = count + 1\n",
        "  print('전체 샘플 중 길이가 %s 이하인 샘플의 비율: %s'%(max_len, (count / len(nested_list))*100))\n",
        "\n",
        "below_threshold_len(50,X_train)"
      ],
      "execution_count": 256,
      "outputs": [
        {
          "output_type": "stream",
          "name": "stdout",
          "text": [
            "전체 샘플 중 길이가 50 이하인 샘플의 비율: 97.68821221744815\n"
          ]
        }
      ]
    },
    {
      "cell_type": "code",
      "metadata": {
        "id": "6T0ovxUDSdfd"
      },
      "source": [
        "max_len = 50\n",
        "X_train = pad_sequences(X_train, maxlen = max_len)\n",
        "X_test = pad_sequences(X_test, maxlen = max_len)"
      ],
      "execution_count": 257,
      "outputs": []
    },
    {
      "cell_type": "code",
      "metadata": {
        "id": "NR0DkfIzSjEv"
      },
      "source": [
        "from tensorflow.keras.layers import Embedding, Dense, LSTM\n",
        "from tensorflow.keras.models import Sequential\n",
        "from tensorflow.keras.models import load_model\n",
        "from tensorflow.keras.callbacks import EarlyStopping, ModelCheckpoint"
      ],
      "execution_count": 258,
      "outputs": []
    },
    {
      "cell_type": "code",
      "metadata": {
        "id": "AHQsJTg6SkcO"
      },
      "source": [
        "embedding_dim = 100\n",
        "hidden_units = 128\n",
        "\n",
        "model = Sequential()\n",
        "model.add(Embedding(vocab_size, embedding_dim))\n",
        "model.add(LSTM(hidden_units))\n",
        "model.add(Dense(1, activation='sigmoid'))"
      ],
      "execution_count": 259,
      "outputs": []
    },
    {
      "cell_type": "code",
      "metadata": {
        "id": "WxocjzyWSvyM"
      },
      "source": [
        "es = EarlyStopping(monitor='val_loss', mode='min', verbose=1, patience=4)\n",
        "mc = ModelCheckpoint('best_model.h5', monitor='val_acc', mode='max', verbose=1, save_best_only=True)"
      ],
      "execution_count": 260,
      "outputs": []
    },
    {
      "cell_type": "code",
      "metadata": {
        "colab": {
          "base_uri": "https://localhost:8080/"
        },
        "id": "9EB3LrJoSxUA",
        "outputId": "05545731-a22b-49dc-8f66-281c511f2c07"
      },
      "source": [
        "model.compile(optimizer='rmsprop', loss='binary_crossentropy', metrics=['acc'])\n",
        "history = model.fit(X_train, y_train, epochs=15, callbacks=[es, mc], batch_size=64, validation_split=0.2)"
      ],
      "execution_count": 261,
      "outputs": [
        {
          "output_type": "stream",
          "name": "stdout",
          "text": [
            "Epoch 1/15\n",
            "536/536 [==============================] - ETA: 0s - loss: 0.6353 - acc: 0.6424\n",
            "Epoch 00001: val_acc improved from -inf to 0.64915, saving model to best_model.h5\n",
            "536/536 [==============================] - 80s 146ms/step - loss: 0.6353 - acc: 0.6424 - val_loss: 0.6191 - val_acc: 0.6492\n",
            "Epoch 2/15\n",
            "536/536 [==============================] - ETA: 0s - loss: 0.5306 - acc: 0.7322\n",
            "Epoch 00002: val_acc improved from 0.64915 to 0.67694, saving model to best_model.h5\n",
            "536/536 [==============================] - 79s 147ms/step - loss: 0.5306 - acc: 0.7322 - val_loss: 0.6207 - val_acc: 0.6769\n",
            "Epoch 3/15\n",
            "536/536 [==============================] - ETA: 0s - loss: 0.4646 - acc: 0.7765\n",
            "Epoch 00003: val_acc did not improve from 0.67694\n",
            "536/536 [==============================] - 78s 146ms/step - loss: 0.4646 - acc: 0.7765 - val_loss: 0.6268 - val_acc: 0.6622\n",
            "Epoch 4/15\n",
            "536/536 [==============================] - ETA: 0s - loss: 0.4092 - acc: 0.8102\n",
            "Epoch 00004: val_acc did not improve from 0.67694\n",
            "536/536 [==============================] - 78s 146ms/step - loss: 0.4092 - acc: 0.8102 - val_loss: 0.6554 - val_acc: 0.6576\n",
            "Epoch 5/15\n",
            "536/536 [==============================] - ETA: 0s - loss: 0.3540 - acc: 0.8398\n",
            "Epoch 00005: val_acc did not improve from 0.67694\n",
            "536/536 [==============================] - 78s 145ms/step - loss: 0.3540 - acc: 0.8398 - val_loss: 0.7538 - val_acc: 0.6585\n",
            "Epoch 00005: early stopping\n"
          ]
        }
      ]
    },
    {
      "cell_type": "code",
      "metadata": {
        "colab": {
          "base_uri": "https://localhost:8080/"
        },
        "id": "v_tvKsG4S1nN",
        "outputId": "842a4f99-bc57-442e-9967-a9f0281420f5"
      },
      "source": [
        "loaded_model = load_model('best_model.h5')\n",
        "print(\"\\n 테스트 정확도: %.4f\" % (loaded_model.evaluate(X_test, y_test)[1]))"
      ],
      "execution_count": 262,
      "outputs": [
        {
          "output_type": "stream",
          "name": "stdout",
          "text": [
            "335/335 [==============================] - 7s 19ms/step - loss: 0.6165 - acc: 0.6735\n",
            "\n",
            " 테스트 정확도: 0.6735\n"
          ]
        }
      ]
    }
  ]
}