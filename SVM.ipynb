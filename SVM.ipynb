{
  "nbformat": 4,
  "nbformat_minor": 0,
  "metadata": {
    "colab": {
      "name": "SVM",
      "provenance": [],
      "collapsed_sections": [],
      "include_colab_link": true
    },
    "kernelspec": {
      "display_name": "Python 3",
      "name": "python3"
    },
    "language_info": {
      "name": "python"
    }
  },
  "cells": [
    {
      "cell_type": "markdown",
      "metadata": {
        "id": "view-in-github",
        "colab_type": "text"
      },
      "source": [
        "<a href=\"https://colab.research.google.com/github/hongsy0113/cose461-NLP-project-choi-hong/blob/main/SVM.ipynb\" target=\"_parent\"><img src=\"https://colab.research.google.com/assets/colab-badge.svg\" alt=\"Open In Colab\"/></a>"
      ]
    },
    {
      "cell_type": "code",
      "metadata": {
        "id": "UXuP4pAi4Qp-"
      },
      "source": [
        "import pandas as pd\n",
        "import numpy as np\n",
        "import json\n",
        "from pandas import json_normalize\n"
      ],
      "execution_count": 16,
      "outputs": []
    },
    {
      "cell_type": "code",
      "metadata": {
        "colab": {
          "base_uri": "https://localhost:8080/"
        },
        "id": "hFr8oBdHAv-t",
        "outputId": "abbf7238-3a18-4668-a8d1-d960d82a400e"
      },
      "source": [
        "# json data 파일들을 google drive에 저장\n",
        "# google drive 에 있는 파일들을 접근하기 위해 mount\n",
        "from google.colab import drive\n",
        "drive.mount('/content/gdrive')"
      ],
      "execution_count": 17,
      "outputs": [
        {
          "output_type": "stream",
          "name": "stdout",
          "text": [
            "Drive already mounted at /content/gdrive; to attempt to forcibly remount, call drive.mount(\"/content/gdrive\", force_remount=True).\n"
          ]
        }
      ]
    },
    {
      "cell_type": "code",
      "metadata": {
        "colab": {
          "base_uri": "https://localhost:8080/",
          "height": 363
        },
        "id": "0eO5NFLhITuF",
        "outputId": "5b637de2-9e95-4853-df0e-02e69861253a"
      },
      "source": [
        "# SVM classification Method.\n",
        "df = pd.read_csv('/content/gdrive/MyDrive/cose461/data_100.csv')\n",
        "df.head(10)"
      ],
      "execution_count": 18,
      "outputs": [
        {
          "output_type": "execute_result",
          "data": {
            "text/html": [
              "<div>\n",
              "<style scoped>\n",
              "    .dataframe tbody tr th:only-of-type {\n",
              "        vertical-align: middle;\n",
              "    }\n",
              "\n",
              "    .dataframe tbody tr th {\n",
              "        vertical-align: top;\n",
              "    }\n",
              "\n",
              "    .dataframe thead th {\n",
              "        text-align: right;\n",
              "    }\n",
              "</style>\n",
              "<table border=\"1\" class=\"dataframe\">\n",
              "  <thead>\n",
              "    <tr style=\"text-align: right;\">\n",
              "      <th></th>\n",
              "      <th>index</th>\n",
              "      <th>utterance</th>\n",
              "      <th>P_gender</th>\n",
              "    </tr>\n",
              "  </thead>\n",
              "  <tbody>\n",
              "    <tr>\n",
              "      <th>0</th>\n",
              "      <td>('9fdbaeb2-3f1a-5ba2-a6a6-53d9a57fd33d', 'P02')</td>\n",
              "      <td>학교 6일에감 내일가냐? 불썅 ㅇㅎㅇㅎ ㅇㅇㅇㅇ왜안산에있어 다1교시얔ㅋㅋ</td>\n",
              "      <td>0</td>\n",
              "    </tr>\n",
              "    <tr>\n",
              "      <th>1</th>\n",
              "      <td>('3fb66713-37a2-50e5-9b0a-afb898c06eea', 'P02')</td>\n",
              "      <td>천처니 오십셔,, 한 다섯시 맞춰서 오면 되지않으까 싶네욤 ㅎㅎ 흑흑 보고파 오뤼 ...</td>\n",
              "      <td>0</td>\n",
              "    </tr>\n",
              "    <tr>\n",
              "      <th>2</th>\n",
              "      <td>('642fd586-be49-5bd9-b596-ccb2c8badab6', 'P02')</td>\n",
              "      <td>ㅋㅋㅋㅋㅋㅋㅋ 더워? 하긴여기도 그렇게안추워 ㅋㅋㅋㅋㅋㅋ벌써마지막이야?? 오늘 하루...</td>\n",
              "      <td>0</td>\n",
              "    </tr>\n",
              "    <tr>\n",
              "      <th>3</th>\n",
              "      <td>('b8d86fc3-2154-562c-b8d6-bb566d72fa4f', 'P02')</td>\n",
              "      <td>딱히읍지 나야 왜?? 인스타보니까 놀러가신거? 13일에 오는거야? 구래 볼수있늠 보...</td>\n",
              "      <td>0</td>\n",
              "    </tr>\n",
              "    <tr>\n",
              "      <th>4</th>\n",
              "      <td>('ce82e17c-5730-5ed4-8bf9-40eac1f5d99a', 'P01')</td>\n",
              "      <td>속초에 월, 화 비온다고 되어있는데 화부턴 날씨가 추워지더라고 2도 내생각엔 오빠 ...</td>\n",
              "      <td>0</td>\n",
              "    </tr>\n",
              "    <tr>\n",
              "      <th>5</th>\n",
              "      <td>('c4cda8af-f443-5add-9c5d-c17859c975ae', 'P01')</td>\n",
              "      <td>근데 커피를 저기다가 흘릴일이없거든 ... ㅋㅋㅋㅋ 배고프당 너무너무너무너무 나 지...</td>\n",
              "      <td>0</td>\n",
              "    </tr>\n",
              "    <tr>\n",
              "      <th>6</th>\n",
              "      <td>('a700867e-3173-5b98-b6fb-f8648d6d7fea', 'P02')</td>\n",
              "      <td>아니~ 단식원은 가본적 없어 단식원을 왜 가~ 가서 고생만 해 어차피 그런거는 다시...</td>\n",
              "      <td>0</td>\n",
              "    </tr>\n",
              "    <tr>\n",
              "      <th>7</th>\n",
              "      <td>('d40c6bef-e632-5a8c-b2ac-2e910f8b3bf6', 'P02')</td>\n",
              "      <td>제관 팀플장소 차서 카퍼ㅣ드림 왔어 아이쿠,, 글게말야 ㅋㅋㅋㅋㅋㄱ 있오 나 수업 ...</td>\n",
              "      <td>0</td>\n",
              "    </tr>\n",
              "    <tr>\n",
              "      <th>8</th>\n",
              "      <td>('93ba610a-57ed-5d0e-991e-1698ebeebb51', 'P02')</td>\n",
              "      <td>주말 평일은 시간없는뎅 토욜밖에안됨 ㅇㅇ 나도 그때 제본이랑 짐정리해야됨</td>\n",
              "      <td>0</td>\n",
              "    </tr>\n",
              "    <tr>\n",
              "      <th>9</th>\n",
              "      <td>('9bd9dfd5-e432-5d15-aaff-17a3c2cdf440', 'P01')</td>\n",
              "      <td>한번 배워보고싶긴하다 오빠한테 물어봐야겠네 아~ 카페에서 커피 여유롭게 마시고싶다 ...</td>\n",
              "      <td>0</td>\n",
              "    </tr>\n",
              "  </tbody>\n",
              "</table>\n",
              "</div>"
            ],
            "text/plain": [
              "                                             index  ... P_gender\n",
              "0  ('9fdbaeb2-3f1a-5ba2-a6a6-53d9a57fd33d', 'P02')  ...        0\n",
              "1  ('3fb66713-37a2-50e5-9b0a-afb898c06eea', 'P02')  ...        0\n",
              "2  ('642fd586-be49-5bd9-b596-ccb2c8badab6', 'P02')  ...        0\n",
              "3  ('b8d86fc3-2154-562c-b8d6-bb566d72fa4f', 'P02')  ...        0\n",
              "4  ('ce82e17c-5730-5ed4-8bf9-40eac1f5d99a', 'P01')  ...        0\n",
              "5  ('c4cda8af-f443-5add-9c5d-c17859c975ae', 'P01')  ...        0\n",
              "6  ('a700867e-3173-5b98-b6fb-f8648d6d7fea', 'P02')  ...        0\n",
              "7  ('d40c6bef-e632-5a8c-b2ac-2e910f8b3bf6', 'P02')  ...        0\n",
              "8  ('93ba610a-57ed-5d0e-991e-1698ebeebb51', 'P02')  ...        0\n",
              "9  ('9bd9dfd5-e432-5d15-aaff-17a3c2cdf440', 'P01')  ...        0\n",
              "\n",
              "[10 rows x 3 columns]"
            ]
          },
          "metadata": {},
          "execution_count": 18
        }
      ]
    },
    {
      "cell_type": "code",
      "metadata": {
        "id": "gWnfTEOb4iLV"
      },
      "source": [
        "from soynlp.normalizer import *\n",
        "from konlpy.tag import Okt\n",
        "import re\n",
        "\n",
        "okt = Okt()\n",
        "\n",
        "def clean(doc) :\n",
        "\n",
        "  new_doc = list()\n",
        "  doc = okt.pos(doc, norm=True)\n",
        "\n",
        "  stop_tags = ['Determiner', 'Josa', 'Foreign']\n",
        "  stop_words = ['은', '는', '이', '가', '', '이름', '계정', '주소', '신원', '전번', '금융', '번호', '소속', '기타']\n",
        "  for text, tag in doc:  \n",
        "\n",
        "    if tag in stop_tags:\n",
        "      continue\n",
        "\n",
        "    text = re.sub(r'[^ㄱ-ㅣ가-힣?.!~\\^]+', '', text)  # remove digits.  \n",
        "    text = emoticon_normalize(text, num_repeats=2) # remove repeated emoticon. e.g) ㅋㅋㅋㅋ=>ㅋㅋ, ㅠㅠㅠㅠ=>ㅠㅠ\n",
        "    text = repeat_normalize(text, num_repeats=1) # remove repeated character\n",
        "    \n",
        "    if text in stop_words or (tag=='Verb' and len(text)<=1):\n",
        "      continue\n",
        "      \n",
        "    new_doc.append(text)\n",
        "\n",
        "  return new_doc"
      ],
      "execution_count": null,
      "outputs": []
    },
    {
      "cell_type": "code",
      "metadata": {
        "id": "IyMBbj85FDXB"
      },
      "source": [
        "df['sents'] = df['utterance'].apply(clean)"
      ],
      "execution_count": null,
      "outputs": []
    },
    {
      "cell_type": "code",
      "metadata": {
        "id": "Sb7vXhAhIkwa"
      },
      "source": [
        "X = df['sents']\n",
        "y = df['P_gender']\n",
        "\n",
        "from sklearn.feature_extraction.text import CountVectorizer\n",
        "from sklearn.model_selection import train_test_split\n",
        "from sklearn.metrics import classification_report, confusion_matrix\n",
        "\n",
        "X_train, X_test, y_train, y_test = train_test_split(X, y, test_size=0.2, random_state=7)"
      ],
      "execution_count": null,
      "outputs": []
    },
    {
      "cell_type": "code",
      "metadata": {
        "id": "1RsXO5MKKTWH",
        "colab": {
          "base_uri": "https://localhost:8080/"
        },
        "outputId": "246f0b53-9203-4dd1-9ca4-224610ac70ca"
      },
      "source": [
        "vectorizer = CountVectorizer().fit(X_train)\n",
        "X_train_countvector = vectorizer.transform(X_train)\n",
        "\n",
        "feature_names = vectorizer.get_feature_names()\n",
        "len(feature_names)"
      ],
      "execution_count": null,
      "outputs": [
        {
          "output_type": "stream",
          "name": "stderr",
          "text": [
            "/usr/local/lib/python3.7/dist-packages/sklearn/utils/deprecation.py:87: FutureWarning: Function get_feature_names is deprecated; get_feature_names is deprecated in 1.0 and will be removed in 1.2. Please use get_feature_names_out instead.\n",
            "  warnings.warn(msg, category=FutureWarning)\n"
          ]
        },
        {
          "output_type": "execute_result",
          "data": {
            "text/plain": [
              "593197"
            ]
          },
          "metadata": {},
          "execution_count": 8
        }
      ]
    },
    {
      "cell_type": "code",
      "metadata": {
        "colab": {
          "base_uri": "https://localhost:8080/"
        },
        "id": "90xYHczV7KCg",
        "outputId": "af224cce-8d9c-4a39-9b65-bc501d593a7c"
      },
      "source": [
        "from sklearn.model_selection import cross_validate\n",
        "from sklearn.svm import LinearSVC\n",
        "classifier = LinearSVC()\n",
        "scoring = ['accuracy', 'precision', 'recall', 'f1', 'roc_auc']\n",
        "\n",
        "cv_results = cross_validate(classifier, X_train_countvector, y_train, scoring=scoring, cv=5)"
      ],
      "execution_count": null,
      "outputs": [
        {
          "output_type": "stream",
          "name": "stderr",
          "text": [
            "/usr/local/lib/python3.7/dist-packages/sklearn/svm/_base.py:1208: ConvergenceWarning: Liblinear failed to converge, increase the number of iterations.\n",
            "  ConvergenceWarning,\n",
            "/usr/local/lib/python3.7/dist-packages/sklearn/svm/_base.py:1208: ConvergenceWarning: Liblinear failed to converge, increase the number of iterations.\n",
            "  ConvergenceWarning,\n",
            "/usr/local/lib/python3.7/dist-packages/sklearn/svm/_base.py:1208: ConvergenceWarning: Liblinear failed to converge, increase the number of iterations.\n",
            "  ConvergenceWarning,\n",
            "/usr/local/lib/python3.7/dist-packages/sklearn/svm/_base.py:1208: ConvergenceWarning: Liblinear failed to converge, increase the number of iterations.\n",
            "  ConvergenceWarning,\n",
            "/usr/local/lib/python3.7/dist-packages/sklearn/svm/_base.py:1208: ConvergenceWarning: Liblinear failed to converge, increase the number of iterations.\n",
            "  ConvergenceWarning,\n"
          ]
        }
      ]
    },
    {
      "cell_type": "code",
      "metadata": {
        "colab": {
          "base_uri": "https://localhost:8080/"
        },
        "id": "fxqrUZiy7LRl",
        "outputId": "0fda1281-3cd1-4ea0-f247-873d1f065d59"
      },
      "source": [
        "# cv_results.keys()\n",
        "print(np.mean(cv_results['test_accuracy']))\n",
        "print(np.mean(cv_results['test_precision'])) \n",
        "print(np.mean(cv_results['test_recall']))\n",
        "print(np.mean(cv_results['test_f1']))\n",
        "print(np.mean(cv_results['test_roc_auc']))\n"
      ],
      "execution_count": null,
      "outputs": [
        {
          "output_type": "stream",
          "name": "stdout",
          "text": [
            "0.6617203149022739\n",
            "0.6617020484149235\n",
            "0.6621082827919268\n",
            "0.6619023411890438\n",
            "0.7234655657035096\n"
          ]
        }
      ]
    },
    {
      "cell_type": "code",
      "metadata": {
        "colab": {
          "base_uri": "https://localhost:8080/"
        },
        "id": "CVzm_mwEqVYJ",
        "outputId": "ee633e27-a144-4608-b7f1-a06b5f09184f"
      },
      "source": [
        "classifier = LinearSVC()\n",
        "classifier.fit(X_train_countvector, y_train)\n",
        "\n",
        "y_predict = classifier.predict(vectorizer.transform(X_test))\n",
        "cm = confusion_matrix(y_test, y_predict)\n",
        "df_cm = pd.DataFrame(cm, index = ['실제값(0)', '실제값(1)'], columns = ['예측값(0)', '예측값(1)'])\n",
        "print(classification_report(y_test, y_predict))\n",
        "\n"
      ],
      "execution_count": null,
      "outputs": [
        {
          "output_type": "stream",
          "name": "stderr",
          "text": [
            "/usr/local/lib/python3.7/dist-packages/sklearn/svm/_base.py:1208: ConvergenceWarning: Liblinear failed to converge, increase the number of iterations.\n",
            "  ConvergenceWarning,\n"
          ]
        },
        {
          "output_type": "stream",
          "name": "stdout",
          "text": [
            "              precision    recall  f1-score   support\n",
            "\n",
            "           0       0.67      0.67      0.67    100143\n",
            "           1       0.67      0.67      0.67     99955\n",
            "\n",
            "    accuracy                           0.67    200098\n",
            "   macro avg       0.67      0.67      0.67    200098\n",
            "weighted avg       0.67      0.67      0.67    200098\n",
            "\n"
          ]
        }
      ]
    },
    {
      "cell_type": "code",
      "metadata": {
        "colab": {
          "base_uri": "https://localhost:8080/"
        },
        "id": "4l_OrVJ7GAAp",
        "outputId": "e8f767b3-50ed-46e5-a537-22c17255a80e"
      },
      "source": [
        "print(df_cm)"
      ],
      "execution_count": null,
      "outputs": [
        {
          "output_type": "stream",
          "name": "stdout",
          "text": [
            "        예측값(0)  예측값(1)\n",
            "실제값(0)   66690   33453\n",
            "실제값(1)   33134   66821\n"
          ]
        }
      ]
    }
  ]
}