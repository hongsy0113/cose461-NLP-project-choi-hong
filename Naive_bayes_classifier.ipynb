{
  "nbformat": 4,
  "nbformat_minor": 0,
  "metadata": {
    "colab": {
      "name": "Naive_bayes_classifier",
      "provenance": [],
      "collapsed_sections": [],
      "include_colab_link": true
    },
    "kernelspec": {
      "display_name": "Python 3",
      "name": "python3"
    },
    "language_info": {
      "name": "python"
    }
  },
  "cells": [
    {
      "cell_type": "markdown",
      "metadata": {
        "id": "view-in-github",
        "colab_type": "text"
      },
      "source": [
        "<a href=\"https://colab.research.google.com/github/hongsy0113/cose461-NLP-project-choi-hong/blob/main/Naive_bayes_classifier.ipynb\" target=\"_parent\"><img src=\"https://colab.research.google.com/assets/colab-badge.svg\" alt=\"Open In Colab\"/></a>"
      ]
    },
    {
      "cell_type": "code",
      "metadata": {
        "id": "UXuP4pAi4Qp-"
      },
      "source": [
        "import pandas as pd\n",
        "import numpy as np\n",
        "import json\n",
        "from pandas import json_normalize\n"
      ],
      "execution_count": 17,
      "outputs": []
    },
    {
      "cell_type": "code",
      "metadata": {
        "colab": {
          "base_uri": "https://localhost:8080/"
        },
        "id": "hFr8oBdHAv-t",
        "outputId": "ea8aba33-3037-4871-d3fe-5684f1cc39ca"
      },
      "source": [
        "# json data 파일들을 google drive에 저장\n",
        "# google drive 에 있는 파일들을 접근하기 위해 mount\n",
        "from google.colab import drive\n",
        "drive.mount('/content/gdrive')"
      ],
      "execution_count": 2,
      "outputs": [
        {
          "output_type": "stream",
          "name": "stdout",
          "text": [
            "Mounted at /content/gdrive\n"
          ]
        }
      ]
    },
    {
      "cell_type": "code",
      "metadata": {
        "colab": {
          "base_uri": "https://localhost:8080/",
          "height": 363
        },
        "id": "0eO5NFLhITuF",
        "outputId": "bcf8a478-c69b-44b2-dd37-fde6ae220687"
      },
      "source": [
        "# Naive-Bayes Method.\n",
        "test = pd.read_csv('/content/gdrive/MyDrive/cose461/data_100.csv')\n",
        "test.head(10)"
      ],
      "execution_count": 55,
      "outputs": [
        {
          "output_type": "execute_result",
          "data": {
            "text/html": [
              "<div>\n",
              "<style scoped>\n",
              "    .dataframe tbody tr th:only-of-type {\n",
              "        vertical-align: middle;\n",
              "    }\n",
              "\n",
              "    .dataframe tbody tr th {\n",
              "        vertical-align: top;\n",
              "    }\n",
              "\n",
              "    .dataframe thead th {\n",
              "        text-align: right;\n",
              "    }\n",
              "</style>\n",
              "<table border=\"1\" class=\"dataframe\">\n",
              "  <thead>\n",
              "    <tr style=\"text-align: right;\">\n",
              "      <th></th>\n",
              "      <th>index</th>\n",
              "      <th>utterance</th>\n",
              "      <th>P_gender</th>\n",
              "    </tr>\n",
              "  </thead>\n",
              "  <tbody>\n",
              "    <tr>\n",
              "      <th>0</th>\n",
              "      <td>('9fdbaeb2-3f1a-5ba2-a6a6-53d9a57fd33d', 'P02')</td>\n",
              "      <td>학교 6일에감 내일가냐? 불썅 ㅇㅎㅇㅎ ㅇㅇㅇㅇ왜안산에있어 다1교시얔ㅋㅋ</td>\n",
              "      <td>0</td>\n",
              "    </tr>\n",
              "    <tr>\n",
              "      <th>1</th>\n",
              "      <td>('3fb66713-37a2-50e5-9b0a-afb898c06eea', 'P02')</td>\n",
              "      <td>천처니 오십셔,, 한 다섯시 맞춰서 오면 되지않으까 싶네욤 ㅎㅎ 흑흑 보고파 오뤼 ...</td>\n",
              "      <td>0</td>\n",
              "    </tr>\n",
              "    <tr>\n",
              "      <th>2</th>\n",
              "      <td>('642fd586-be49-5bd9-b596-ccb2c8badab6', 'P02')</td>\n",
              "      <td>ㅋㅋㅋㅋㅋㅋㅋ 더워? 하긴여기도 그렇게안추워 ㅋㅋㅋㅋㅋㅋ벌써마지막이야?? 오늘 하루...</td>\n",
              "      <td>0</td>\n",
              "    </tr>\n",
              "    <tr>\n",
              "      <th>3</th>\n",
              "      <td>('b8d86fc3-2154-562c-b8d6-bb566d72fa4f', 'P02')</td>\n",
              "      <td>딱히읍지 나야 왜?? 인스타보니까 놀러가신거? 13일에 오는거야? 구래 볼수있늠 보...</td>\n",
              "      <td>0</td>\n",
              "    </tr>\n",
              "    <tr>\n",
              "      <th>4</th>\n",
              "      <td>('ce82e17c-5730-5ed4-8bf9-40eac1f5d99a', 'P01')</td>\n",
              "      <td>속초에 월, 화 비온다고 되어있는데 화부턴 날씨가 추워지더라고 2도 내생각엔 오빠 ...</td>\n",
              "      <td>0</td>\n",
              "    </tr>\n",
              "    <tr>\n",
              "      <th>5</th>\n",
              "      <td>('c4cda8af-f443-5add-9c5d-c17859c975ae', 'P01')</td>\n",
              "      <td>근데 커피를 저기다가 흘릴일이없거든 ... ㅋㅋㅋㅋ 배고프당 너무너무너무너무 나 지...</td>\n",
              "      <td>0</td>\n",
              "    </tr>\n",
              "    <tr>\n",
              "      <th>6</th>\n",
              "      <td>('a700867e-3173-5b98-b6fb-f8648d6d7fea', 'P02')</td>\n",
              "      <td>아니~ 단식원은 가본적 없어 단식원을 왜 가~ 가서 고생만 해 어차피 그런거는 다시...</td>\n",
              "      <td>0</td>\n",
              "    </tr>\n",
              "    <tr>\n",
              "      <th>7</th>\n",
              "      <td>('d40c6bef-e632-5a8c-b2ac-2e910f8b3bf6', 'P02')</td>\n",
              "      <td>제관 팀플장소 차서 카퍼ㅣ드림 왔어 아이쿠,, 글게말야 ㅋㅋㅋㅋㅋㄱ 있오 나 수업 ...</td>\n",
              "      <td>0</td>\n",
              "    </tr>\n",
              "    <tr>\n",
              "      <th>8</th>\n",
              "      <td>('93ba610a-57ed-5d0e-991e-1698ebeebb51', 'P02')</td>\n",
              "      <td>주말 평일은 시간없는뎅 토욜밖에안됨 ㅇㅇ 나도 그때 제본이랑 짐정리해야됨</td>\n",
              "      <td>0</td>\n",
              "    </tr>\n",
              "    <tr>\n",
              "      <th>9</th>\n",
              "      <td>('9bd9dfd5-e432-5d15-aaff-17a3c2cdf440', 'P01')</td>\n",
              "      <td>한번 배워보고싶긴하다 오빠한테 물어봐야겠네 아~ 카페에서 커피 여유롭게 마시고싶다 ...</td>\n",
              "      <td>0</td>\n",
              "    </tr>\n",
              "  </tbody>\n",
              "</table>\n",
              "</div>"
            ],
            "text/plain": [
              "                                             index  ... P_gender\n",
              "0  ('9fdbaeb2-3f1a-5ba2-a6a6-53d9a57fd33d', 'P02')  ...        0\n",
              "1  ('3fb66713-37a2-50e5-9b0a-afb898c06eea', 'P02')  ...        0\n",
              "2  ('642fd586-be49-5bd9-b596-ccb2c8badab6', 'P02')  ...        0\n",
              "3  ('b8d86fc3-2154-562c-b8d6-bb566d72fa4f', 'P02')  ...        0\n",
              "4  ('ce82e17c-5730-5ed4-8bf9-40eac1f5d99a', 'P01')  ...        0\n",
              "5  ('c4cda8af-f443-5add-9c5d-c17859c975ae', 'P01')  ...        0\n",
              "6  ('a700867e-3173-5b98-b6fb-f8648d6d7fea', 'P02')  ...        0\n",
              "7  ('d40c6bef-e632-5a8c-b2ac-2e910f8b3bf6', 'P02')  ...        0\n",
              "8  ('93ba610a-57ed-5d0e-991e-1698ebeebb51', 'P02')  ...        0\n",
              "9  ('9bd9dfd5-e432-5d15-aaff-17a3c2cdf440', 'P01')  ...        0\n",
              "\n",
              "[10 rows x 3 columns]"
            ]
          },
          "metadata": {},
          "execution_count": 55
        }
      ]
    },
    {
      "cell_type": "code",
      "metadata": {
        "id": "gWnfTEOb4iLV"
      },
      "source": [
        "from soynlp.normalizer import *\n",
        "from konlpy.tag import Okt\n",
        "import re\n",
        "\n",
        "okt = Okt()\n",
        "\n",
        "def clean(doc) :\n",
        "\n",
        "  new_doc = list()\n",
        "  doc = okt.pos(doc, norm=True)\n",
        "\n",
        "  stop_tags = ['Determiner', 'Josa', 'Foreign']\n",
        "  stop_words = ['은', '는', '이', '가', '', '이름', '계정', '주소', '신원', '전번', '금융', '번호', '소속', '기타']\n",
        "  for text, tag in doc:  \n",
        "\n",
        "    if tag in stop_tags:\n",
        "      continue\n",
        "\n",
        "    text = re.sub(r'[^ㄱ-ㅣ가-힣?.!~\\^]+', '', text)  # remove digits.  \n",
        "    text = emoticon_normalize(text, num_repeats=2) # remove repeated emoticon. e.g) ㅋㅋㅋㅋ=>ㅋㅋ, ㅠㅠㅠㅠ=>ㅠㅠ\n",
        "    text = repeat_normalize(text, num_repeats=1) # remove repeated character\n",
        "    \n",
        "    if text in stop_words or (tag=='Verb' and len(text)<=1):\n",
        "      continue\n",
        "      \n",
        "    new_doc.append(text)\n",
        "\n",
        "  return new_doc"
      ],
      "execution_count": null,
      "outputs": []
    },
    {
      "cell_type": "code",
      "metadata": {
        "id": "Sb7vXhAhIkwa"
      },
      "source": [
        "X = test['sents']\n",
        "y = test['P_gender']\n",
        "\n",
        "from sklearn.naive_bayes import MultinomialNB\n",
        "from sklearn.feature_extraction.text import CountVectorizer\n",
        "from sklearn.model_selection import train_test_split\n",
        "from sklearn.metrics import classification_report, confusion_matrix\n",
        "\n",
        "X_train, X_test, y_train, y_test = train_test_split(X, y, test_size=0.2, random_state=7)"
      ],
      "execution_count": 49,
      "outputs": []
    },
    {
      "cell_type": "code",
      "metadata": {
        "id": "1RsXO5MKKTWH",
        "colab": {
          "base_uri": "https://localhost:8080/"
        },
        "outputId": "47cf57d4-ddba-4323-e5ee-28e747925026"
      },
      "source": [
        "vectorizer = CountVectorizer().fit(X_train)\n",
        "X_train_countvector = vectorizer.transform(X_train)\n",
        "\n",
        "feature_names = vectorizer.get_feature_names()\n",
        "len(feature_names)"
      ],
      "execution_count": 50,
      "outputs": [
        {
          "output_type": "stream",
          "name": "stderr",
          "text": [
            "/usr/local/lib/python3.7/dist-packages/sklearn/utils/deprecation.py:87: FutureWarning: Function get_feature_names is deprecated; get_feature_names is deprecated in 1.0 and will be removed in 1.2. Please use get_feature_names_out instead.\n",
            "  warnings.warn(msg, category=FutureWarning)\n"
          ]
        },
        {
          "output_type": "execute_result",
          "data": {
            "text/plain": [
              "593197"
            ]
          },
          "metadata": {},
          "execution_count": 50
        }
      ]
    },
    {
      "cell_type": "code",
      "metadata": {
        "id": "8WRHQ36l5cQ1"
      },
      "source": [
        "from sklearn.model_selection import cross_validate\n",
        "\n",
        "classifier = MultinomialNB()\n",
        "scoring = ['accuracy', 'precision', 'recall', 'f1', 'roc_auc']\n",
        "\n",
        "cv_results = cross_validate(classifier, X_train_countvector, y_train, scoring=scoring, cv=5)"
      ],
      "execution_count": 51,
      "outputs": []
    },
    {
      "cell_type": "code",
      "metadata": {
        "colab": {
          "base_uri": "https://localhost:8080/"
        },
        "id": "sr7eD9lk5ZFZ",
        "outputId": "36769255-84b2-4c38-9631-6a7b88048e5d"
      },
      "source": [
        "# cv_results.keys()\n",
        "print(np.mean(cv_results['test_accuracy']))\n",
        "print(np.mean(cv_results['test_precision'])) \n",
        "print(np.mean(cv_results['test_recall']))\n",
        "print(np.mean(cv_results['test_f1']))\n",
        "print(np.mean(cv_results['test_roc_auc']))\n"
      ],
      "execution_count": 52,
      "outputs": [
        {
          "output_type": "stream",
          "name": "stdout",
          "text": [
            "0.6841506838137661\n",
            "0.6976314137575063\n",
            "0.6503067733704373\n",
            "0.6731378429263541\n",
            "0.7567343460963647\n"
          ]
        }
      ]
    },
    {
      "cell_type": "code",
      "metadata": {
        "colab": {
          "base_uri": "https://localhost:8080/"
        },
        "id": "L0y9iQd_LSgU",
        "outputId": "65c9f4c9-b47a-4dbf-a393-0904a202128a"
      },
      "source": [
        "# Final test.\n",
        "\n",
        "classifier = MultinomialNB()\n",
        "classifier.fit(X_train_countvector, y_train)\n",
        "\n",
        "y_predict = classifier.predict(vectorizer.transform(X_test))\n",
        "cm = confusion_matrix(y_test, y_predict)\n",
        "df_cm = pd.DataFrame(cm, index = ['실제값(0)', '실제값(1)'], columns = ['예측값(0)', '예측값(1)'])\n",
        "print(classification_report(y_test, y_predict))\n"
      ],
      "execution_count": 53,
      "outputs": [
        {
          "output_type": "stream",
          "name": "stdout",
          "text": [
            "              precision    recall  f1-score   support\n",
            "\n",
            "           0       0.68      0.72      0.70    100143\n",
            "           1       0.70      0.65      0.68     99955\n",
            "\n",
            "    accuracy                           0.69    200098\n",
            "   macro avg       0.69      0.69      0.69    200098\n",
            "weighted avg       0.69      0.69      0.69    200098\n",
            "\n"
          ]
        }
      ]
    },
    {
      "cell_type": "code",
      "metadata": {
        "colab": {
          "base_uri": "https://localhost:8080/"
        },
        "id": "d7EwHsdhPGwu",
        "outputId": "3261cdf3-1c4d-4bbc-e435-c1f8b716e10e"
      },
      "source": [
        "print(df_cm)"
      ],
      "execution_count": 54,
      "outputs": [
        {
          "output_type": "stream",
          "name": "stdout",
          "text": [
            "        예측값(0)  예측값(1)\n",
            "실제값(0)   72360   27783\n",
            "실제값(1)   34776   65179\n"
          ]
        }
      ]
    }
  ]
}