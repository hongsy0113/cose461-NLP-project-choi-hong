{
  "nbformat": 4,
  "nbformat_minor": 0,
  "metadata": {
    "colab": {
      "name": "LSTM",
      "provenance": [],
      "collapsed_sections": [],
      "include_colab_link": true
    },
    "kernelspec": {
      "display_name": "Python 3",
      "name": "python3"
    },
    "language_info": {
      "name": "python"
    },
    "accelerator": "GPU"
  },
  "cells": [
    {
      "cell_type": "markdown",
      "metadata": {
        "id": "view-in-github",
        "colab_type": "text"
      },
      "source": [
        "<a href=\"https://colab.research.google.com/github/hongsy0113/cose461-NLP-project-choi-hong/blob/main/LSTM.ipynb\" target=\"_parent\"><img src=\"https://colab.research.google.com/assets/colab-badge.svg\" alt=\"Open In Colab\"/></a>"
      ]
    },
    {
      "cell_type": "code",
      "metadata": {
        "colab": {
          "base_uri": "https://localhost:8080/"
        },
        "id": "e4m9MYGG4qE2",
        "outputId": "c1bffdf4-86b7-44d9-cd24-ce6c72b5a3d3"
      },
      "source": [
        "!pip install soynlp\n",
        "!pip install konlpy\n",
        "\n",
        "from soynlp.normalizer import *\n",
        "import soynlp\n",
        "\n",
        "import json\n",
        "from pandas import json_normalize\n",
        "\n",
        "import torch\n",
        "from torch import nn\n",
        "\n",
        "import numpy as np\n",
        "import pandas as pd\n",
        "import numpy as np\n",
        "import matplotlib.pyplot as plt\n",
        "import re\n",
        "import urllib.request\n",
        "from konlpy.tag import Okt\n",
        "from tqdm import tqdm\n",
        "from tensorflow.keras.preprocessing.text import Tokenizer\n",
        "from tensorflow.keras.preprocessing.sequence import pad_sequences"
      ],
      "execution_count": 1,
      "outputs": [
        {
          "output_type": "stream",
          "name": "stdout",
          "text": [
            "Requirement already satisfied: soynlp in /usr/local/lib/python3.7/dist-packages (0.0.493)\n",
            "Requirement already satisfied: numpy>=1.12.1 in /usr/local/lib/python3.7/dist-packages (from soynlp) (1.19.5)\n",
            "Requirement already satisfied: scikit-learn>=0.20.0 in /usr/local/lib/python3.7/dist-packages (from soynlp) (0.22.2.post1)\n",
            "Requirement already satisfied: scipy>=1.1.0 in /usr/local/lib/python3.7/dist-packages (from soynlp) (1.4.1)\n",
            "Requirement already satisfied: psutil>=5.0.1 in /usr/local/lib/python3.7/dist-packages (from soynlp) (5.4.8)\n",
            "Requirement already satisfied: joblib>=0.11 in /usr/local/lib/python3.7/dist-packages (from scikit-learn>=0.20.0->soynlp) (1.1.0)\n",
            "Requirement already satisfied: konlpy in /usr/local/lib/python3.7/dist-packages (0.5.2)\n",
            "Requirement already satisfied: tweepy>=3.7.0 in /usr/local/lib/python3.7/dist-packages (from konlpy) (3.10.0)\n",
            "Requirement already satisfied: lxml>=4.1.0 in /usr/local/lib/python3.7/dist-packages (from konlpy) (4.2.6)\n",
            "Requirement already satisfied: colorama in /usr/local/lib/python3.7/dist-packages (from konlpy) (0.4.4)\n",
            "Requirement already satisfied: JPype1>=0.7.0 in /usr/local/lib/python3.7/dist-packages (from konlpy) (1.3.0)\n",
            "Requirement already satisfied: numpy>=1.6 in /usr/local/lib/python3.7/dist-packages (from konlpy) (1.19.5)\n",
            "Requirement already satisfied: beautifulsoup4==4.6.0 in /usr/local/lib/python3.7/dist-packages (from konlpy) (4.6.0)\n",
            "Requirement already satisfied: typing-extensions in /usr/local/lib/python3.7/dist-packages (from JPype1>=0.7.0->konlpy) (3.10.0.2)\n",
            "Requirement already satisfied: requests[socks]>=2.11.1 in /usr/local/lib/python3.7/dist-packages (from tweepy>=3.7.0->konlpy) (2.23.0)\n",
            "Requirement already satisfied: six>=1.10.0 in /usr/local/lib/python3.7/dist-packages (from tweepy>=3.7.0->konlpy) (1.15.0)\n",
            "Requirement already satisfied: requests-oauthlib>=0.7.0 in /usr/local/lib/python3.7/dist-packages (from tweepy>=3.7.0->konlpy) (1.3.0)\n",
            "Requirement already satisfied: oauthlib>=3.0.0 in /usr/local/lib/python3.7/dist-packages (from requests-oauthlib>=0.7.0->tweepy>=3.7.0->konlpy) (3.1.1)\n",
            "Requirement already satisfied: certifi>=2017.4.17 in /usr/local/lib/python3.7/dist-packages (from requests[socks]>=2.11.1->tweepy>=3.7.0->konlpy) (2021.10.8)\n",
            "Requirement already satisfied: idna<3,>=2.5 in /usr/local/lib/python3.7/dist-packages (from requests[socks]>=2.11.1->tweepy>=3.7.0->konlpy) (2.10)\n",
            "Requirement already satisfied: urllib3!=1.25.0,!=1.25.1,<1.26,>=1.21.1 in /usr/local/lib/python3.7/dist-packages (from requests[socks]>=2.11.1->tweepy>=3.7.0->konlpy) (1.24.3)\n",
            "Requirement already satisfied: chardet<4,>=3.0.2 in /usr/local/lib/python3.7/dist-packages (from requests[socks]>=2.11.1->tweepy>=3.7.0->konlpy) (3.0.4)\n",
            "Requirement already satisfied: PySocks!=1.5.7,>=1.5.6 in /usr/local/lib/python3.7/dist-packages (from requests[socks]>=2.11.1->tweepy>=3.7.0->konlpy) (1.7.1)\n"
          ]
        }
      ]
    },
    {
      "cell_type": "code",
      "metadata": {
        "colab": {
          "base_uri": "https://localhost:8080/"
        },
        "id": "hFr8oBdHAv-t",
        "outputId": "3396776a-409a-4ffa-e2d9-bf9fcf75ba6b"
      },
      "source": [
        "# json data 파일들을 google drive에 저장\n",
        "# google drive 에 있는 파일들을 접근하기 위해 mount\n",
        "from google.colab import drive\n",
        "drive.mount('/content/gdrive')"
      ],
      "execution_count": 2,
      "outputs": [
        {
          "output_type": "stream",
          "name": "stdout",
          "text": [
            "Drive already mounted at /content/gdrive; to attempt to forcibly remount, call drive.mount(\"/content/gdrive\", force_remount=True).\n"
          ]
        }
      ]
    },
    {
      "cell_type": "code",
      "metadata": {
        "id": "mMReAFyldVDY"
      },
      "source": [
        "#위에서의 json2df 함수 수정함\n",
        "def json2df (file):\n",
        "  with open(file, 'r') as f:\n",
        "    jdata = json.load(f)\n",
        "  \n",
        "  meta_list = [['header', 'dialogueInfo', 'numberOfParticipants'],\n",
        "             ['header', 'dialogueInfo', 'numberOfUtterances'],\n",
        "             ['header', 'dialogueInfo', 'dialogueID'],\n",
        "            ]\n",
        "  # dataframe of utterances \n",
        "  df1 = pd.json_normalize(jdata['data'][:], record_path=['body'], meta= meta_list, errors='ignore')\n",
        "  # dataframe of participants info\n",
        "  df2 = pd.json_normalize(jdata['data'], record_path=['header', 'participantsInfo'],  meta= [['header', 'dialogueInfo', 'dialogueID']], errors='ignore')\n",
        "  # join df1 and df2 where (df1.dialogueID == df2.dialogueID and df1.participantID == df2.participantID)\n",
        "  df = pd.merge(left = df1 , right = df2, how = \"left\", on = [\"header.dialogueInfo.dialogueID\", 'participantID' ],sort=False)\n",
        "\n",
        "  # rename column names\n",
        "  # 열이름 너무 길어서 바꿈. P는 참가자, U는 메시지, D는 대화, T는 turn 으로 통일시킴. 맘에 안 들면 바꿔도 ok\n",
        "  df.rename(columns = {'header.dialogueInfo.numberOfParticipants' : 'P_num', \n",
        "                       'header.dialogueInfo.numberOfUtterances': 'U_num', \n",
        "                       'header.dialogueInfo.dialogueID':'D_id',\n",
        "                       'utteranceID':'U_id',\n",
        "                       'participantID':'P_id',\n",
        "                       'gender':'P_gender',\n",
        "                       'age':'P_age'}, inplace = True)\n",
        "\n",
        "  df= df[['utterance', 'U_id', 'P_id', 'P_num', 'D_id', 'P_gender']]\n",
        "\n",
        "  # 대화 id 를 0부터 일련번호로 변경\n",
        "  D_id_list = []\n",
        "\n",
        "  num = -1 \n",
        "  current = None\n",
        "  for id in df['D_id']:\n",
        "    if id != current:\n",
        "      num +=1\n",
        "      current = id\n",
        "    D_id_list.append(num)\n",
        "\n",
        "  df['D_id'] = D_id_list\n",
        "\n",
        "  return df\n",
        "\n",
        "\n",
        "# 행사.json, 식음료.json 등 여러 데이터셋을 하나로 만들기 위한 함수\n",
        "def concat_json2df (file_list):\n",
        "  result = None\n",
        "\n",
        "  for i, file in enumerate(file_list):\n",
        "    df = json2df(file)\n",
        "    if (i==0):\n",
        "      result = df.copy()\n",
        "    else:\n",
        "      result = pd.concat([result,df])\n",
        "  return result"
      ],
      "execution_count": 3,
      "outputs": []
    },
    {
      "cell_type": "code",
      "metadata": {
        "colab": {
          "base_uri": "https://localhost:8080/",
          "height": 394
        },
        "id": "0WccqHnmZ1fO",
        "outputId": "a5f91d1b-260e-4b36-9829-61660ef61fd8"
      },
      "source": [
        "f_list = ['/content/gdrive/MyDrive/cose461/일과직업.json',\n",
        "          '/content/gdrive/MyDrive/cose461/시사교육.json',\n",
        "          '/content/gdrive/MyDrive/cose461/행사.json',\n",
        "          '/content/gdrive/MyDrive/cose461/개인및관계.json',\n",
        "          '/content/gdrive/MyDrive/cose461/미용과건강.json']\n",
        "\n",
        "raw_df = concat_json2df(f_list)\n",
        "\n",
        "\n",
        "raw_df.head(20)"
      ],
      "execution_count": 4,
      "outputs": [
        {
          "output_type": "error",
          "ename": "KeyboardInterrupt",
          "evalue": "ignored",
          "traceback": [
            "\u001b[0;31m---------------------------------------------------------------------------\u001b[0m",
            "\u001b[0;31mKeyboardInterrupt\u001b[0m                         Traceback (most recent call last)",
            "\u001b[0;32m<ipython-input-4-712679e39a93>\u001b[0m in \u001b[0;36m<module>\u001b[0;34m()\u001b[0m\n\u001b[1;32m      5\u001b[0m           '/content/gdrive/MyDrive/cose461/미용과건강.json']\n\u001b[1;32m      6\u001b[0m \u001b[0;34m\u001b[0m\u001b[0m\n\u001b[0;32m----> 7\u001b[0;31m \u001b[0mraw_df\u001b[0m \u001b[0;34m=\u001b[0m \u001b[0mconcat_json2df\u001b[0m\u001b[0;34m(\u001b[0m\u001b[0mf_list\u001b[0m\u001b[0;34m)\u001b[0m\u001b[0;34m\u001b[0m\u001b[0;34m\u001b[0m\u001b[0m\n\u001b[0m\u001b[1;32m      8\u001b[0m \u001b[0;34m\u001b[0m\u001b[0m\n\u001b[1;32m      9\u001b[0m \u001b[0;34m\u001b[0m\u001b[0m\n",
            "\u001b[0;32m<ipython-input-3-7511235c5a99>\u001b[0m in \u001b[0;36mconcat_json2df\u001b[0;34m(file_list)\u001b[0m\n\u001b[1;32m     48\u001b[0m \u001b[0;34m\u001b[0m\u001b[0m\n\u001b[1;32m     49\u001b[0m   \u001b[0;32mfor\u001b[0m \u001b[0mi\u001b[0m\u001b[0;34m,\u001b[0m \u001b[0mfile\u001b[0m \u001b[0;32min\u001b[0m \u001b[0menumerate\u001b[0m\u001b[0;34m(\u001b[0m\u001b[0mfile_list\u001b[0m\u001b[0;34m)\u001b[0m\u001b[0;34m:\u001b[0m\u001b[0;34m\u001b[0m\u001b[0;34m\u001b[0m\u001b[0m\n\u001b[0;32m---> 50\u001b[0;31m     \u001b[0mdf\u001b[0m \u001b[0;34m=\u001b[0m \u001b[0mjson2df\u001b[0m\u001b[0;34m(\u001b[0m\u001b[0mfile\u001b[0m\u001b[0;34m)\u001b[0m\u001b[0;34m\u001b[0m\u001b[0;34m\u001b[0m\u001b[0m\n\u001b[0m\u001b[1;32m     51\u001b[0m     \u001b[0;32mif\u001b[0m \u001b[0;34m(\u001b[0m\u001b[0mi\u001b[0m\u001b[0;34m==\u001b[0m\u001b[0;36m0\u001b[0m\u001b[0;34m)\u001b[0m\u001b[0;34m:\u001b[0m\u001b[0;34m\u001b[0m\u001b[0;34m\u001b[0m\u001b[0m\n\u001b[1;32m     52\u001b[0m       \u001b[0mresult\u001b[0m \u001b[0;34m=\u001b[0m \u001b[0mdf\u001b[0m\u001b[0;34m.\u001b[0m\u001b[0mcopy\u001b[0m\u001b[0;34m(\u001b[0m\u001b[0;34m)\u001b[0m\u001b[0;34m\u001b[0m\u001b[0;34m\u001b[0m\u001b[0m\n",
            "\u001b[0;32m<ipython-input-3-7511235c5a99>\u001b[0m in \u001b[0;36mjson2df\u001b[0;34m(file)\u001b[0m\n\u001b[1;32m      2\u001b[0m \u001b[0;32mdef\u001b[0m \u001b[0mjson2df\u001b[0m \u001b[0;34m(\u001b[0m\u001b[0mfile\u001b[0m\u001b[0;34m)\u001b[0m\u001b[0;34m:\u001b[0m\u001b[0;34m\u001b[0m\u001b[0;34m\u001b[0m\u001b[0m\n\u001b[1;32m      3\u001b[0m   \u001b[0;32mwith\u001b[0m \u001b[0mopen\u001b[0m\u001b[0;34m(\u001b[0m\u001b[0mfile\u001b[0m\u001b[0;34m,\u001b[0m \u001b[0;34m'r'\u001b[0m\u001b[0;34m)\u001b[0m \u001b[0;32mas\u001b[0m \u001b[0mf\u001b[0m\u001b[0;34m:\u001b[0m\u001b[0;34m\u001b[0m\u001b[0;34m\u001b[0m\u001b[0m\n\u001b[0;32m----> 4\u001b[0;31m     \u001b[0mjdata\u001b[0m \u001b[0;34m=\u001b[0m \u001b[0mjson\u001b[0m\u001b[0;34m.\u001b[0m\u001b[0mload\u001b[0m\u001b[0;34m(\u001b[0m\u001b[0mf\u001b[0m\u001b[0;34m)\u001b[0m\u001b[0;34m\u001b[0m\u001b[0;34m\u001b[0m\u001b[0m\n\u001b[0m\u001b[1;32m      5\u001b[0m \u001b[0;34m\u001b[0m\u001b[0m\n\u001b[1;32m      6\u001b[0m   meta_list = [['header', 'dialogueInfo', 'numberOfParticipants'],\n",
            "\u001b[0;32m/usr/lib/python3.7/json/__init__.py\u001b[0m in \u001b[0;36mload\u001b[0;34m(fp, cls, object_hook, parse_float, parse_int, parse_constant, object_pairs_hook, **kw)\u001b[0m\n\u001b[1;32m    291\u001b[0m     \u001b[0mkwarg\u001b[0m\u001b[0;34m;\u001b[0m \u001b[0motherwise\u001b[0m\u001b[0;31m \u001b[0m\u001b[0;31m`\u001b[0m\u001b[0;31m`\u001b[0m\u001b[0mJSONDecoder\u001b[0m\u001b[0;31m`\u001b[0m\u001b[0;31m`\u001b[0m \u001b[0;32mis\u001b[0m \u001b[0mused\u001b[0m\u001b[0;34m.\u001b[0m\u001b[0;34m\u001b[0m\u001b[0;34m\u001b[0m\u001b[0m\n\u001b[1;32m    292\u001b[0m     \"\"\"\n\u001b[0;32m--> 293\u001b[0;31m     return loads(fp.read(),\n\u001b[0m\u001b[1;32m    294\u001b[0m         \u001b[0mcls\u001b[0m\u001b[0;34m=\u001b[0m\u001b[0mcls\u001b[0m\u001b[0;34m,\u001b[0m \u001b[0mobject_hook\u001b[0m\u001b[0;34m=\u001b[0m\u001b[0mobject_hook\u001b[0m\u001b[0;34m,\u001b[0m\u001b[0;34m\u001b[0m\u001b[0;34m\u001b[0m\u001b[0m\n\u001b[1;32m    295\u001b[0m         \u001b[0mparse_float\u001b[0m\u001b[0;34m=\u001b[0m\u001b[0mparse_float\u001b[0m\u001b[0;34m,\u001b[0m \u001b[0mparse_int\u001b[0m\u001b[0;34m=\u001b[0m\u001b[0mparse_int\u001b[0m\u001b[0;34m,\u001b[0m\u001b[0;34m\u001b[0m\u001b[0;34m\u001b[0m\u001b[0m\n",
            "\u001b[0;32m/usr/lib/python3.7/codecs.py\u001b[0m in \u001b[0;36mdecode\u001b[0;34m(self, input, final)\u001b[0m\n\u001b[1;32m    317\u001b[0m         \u001b[0;32mraise\u001b[0m \u001b[0mNotImplementedError\u001b[0m\u001b[0;34m\u001b[0m\u001b[0;34m\u001b[0m\u001b[0m\n\u001b[1;32m    318\u001b[0m \u001b[0;34m\u001b[0m\u001b[0m\n\u001b[0;32m--> 319\u001b[0;31m     \u001b[0;32mdef\u001b[0m \u001b[0mdecode\u001b[0m\u001b[0;34m(\u001b[0m\u001b[0mself\u001b[0m\u001b[0;34m,\u001b[0m \u001b[0minput\u001b[0m\u001b[0;34m,\u001b[0m \u001b[0mfinal\u001b[0m\u001b[0;34m=\u001b[0m\u001b[0;32mFalse\u001b[0m\u001b[0;34m)\u001b[0m\u001b[0;34m:\u001b[0m\u001b[0;34m\u001b[0m\u001b[0;34m\u001b[0m\u001b[0m\n\u001b[0m\u001b[1;32m    320\u001b[0m         \u001b[0;31m# decode input (taking the buffer into account)\u001b[0m\u001b[0;34m\u001b[0m\u001b[0;34m\u001b[0m\u001b[0;34m\u001b[0m\u001b[0m\n\u001b[1;32m    321\u001b[0m         \u001b[0mdata\u001b[0m \u001b[0;34m=\u001b[0m \u001b[0mself\u001b[0m\u001b[0;34m.\u001b[0m\u001b[0mbuffer\u001b[0m \u001b[0;34m+\u001b[0m \u001b[0minput\u001b[0m\u001b[0;34m\u001b[0m\u001b[0;34m\u001b[0m\u001b[0m\n",
            "\u001b[0;31mKeyboardInterrupt\u001b[0m: "
          ]
        }
      ]
    },
    {
      "cell_type": "code",
      "metadata": {
        "id": "t5JItO32vyww"
      },
      "source": [
        "df = raw_df.copy()"
      ],
      "execution_count": null,
      "outputs": []
    },
    {
      "cell_type": "markdown",
      "metadata": {
        "id": "U3FLaHkDZG9M"
      },
      "source": [
        "# 1. lstm 모델\n",
        "\n",
        "https://wikidocs.net/44249 \n",
        "이 내용 거의 따라함\n",
        "\n",
        " lstm 모델 따라하기 2 의 아이디어\n",
        "- 같은 화자의 데이터는 하나의 덩어리로 처리하도록"
      ]
    },
    {
      "cell_type": "code",
      "metadata": {
        "colab": {
          "base_uri": "https://localhost:8080/"
        },
        "id": "0eO5NFLhITuF",
        "outputId": "20348c1a-0276-4d48-be2f-ed37c0daf4a8"
      },
      "source": [
        "# Naive-Bayes Method.\n",
        "#df = df[['utterance', 'P_gender']]\n",
        "df['P_gender'].value_counts()"
      ],
      "execution_count": null,
      "outputs": [
        {
          "output_type": "execute_result",
          "data": {
            "text/plain": [
              "여성    970761\n",
              "남성    195332\n",
              "Name: P_gender, dtype: int64"
            ]
          },
          "metadata": {},
          "execution_count": 7
        }
      ]
    },
    {
      "cell_type": "code",
      "metadata": {
        "id": "H1RLmBieJe0V"
      },
      "source": [
        "# Gender to discrete variable\n",
        "# 0 : '여성', 1 : '남성'\n",
        "df['P_gender'] = [0 if gender=='여성' else 1 for gender in df['P_gender']]\n",
        "df = df.set_index(['D_id','P_id'] )"
      ],
      "execution_count": null,
      "outputs": []
    },
    {
      "cell_type": "code",
      "metadata": {
        "colab": {
          "base_uri": "https://localhost:8080/",
          "height": 232
        },
        "id": "Cot0_6n2jdcG",
        "outputId": "db730738-b5bb-449c-9c3f-078854e0c7c5"
      },
      "source": [
        "df = df.sort_index()\n",
        "df['index'] = df.index\n",
        "df.head(5)"
      ],
      "execution_count": null,
      "outputs": [
        {
          "output_type": "execute_result",
          "data": {
            "text/html": [
              "<div>\n",
              "<style scoped>\n",
              "    .dataframe tbody tr th:only-of-type {\n",
              "        vertical-align: middle;\n",
              "    }\n",
              "\n",
              "    .dataframe tbody tr th {\n",
              "        vertical-align: top;\n",
              "    }\n",
              "\n",
              "    .dataframe thead th {\n",
              "        text-align: right;\n",
              "    }\n",
              "</style>\n",
              "<table border=\"1\" class=\"dataframe\">\n",
              "  <thead>\n",
              "    <tr style=\"text-align: right;\">\n",
              "      <th></th>\n",
              "      <th></th>\n",
              "      <th>utterance</th>\n",
              "      <th>U_id</th>\n",
              "      <th>P_num</th>\n",
              "      <th>P_gender</th>\n",
              "      <th>index</th>\n",
              "    </tr>\n",
              "    <tr>\n",
              "      <th>D_id</th>\n",
              "      <th>P_id</th>\n",
              "      <th></th>\n",
              "      <th></th>\n",
              "      <th></th>\n",
              "      <th></th>\n",
              "      <th></th>\n",
              "    </tr>\n",
              "  </thead>\n",
              "  <tbody>\n",
              "    <tr>\n",
              "      <th rowspan=\"5\" valign=\"top\">0</th>\n",
              "      <th>P01</th>\n",
              "      <td>여러 명 같이 하나보네?</td>\n",
              "      <td>U1</td>\n",
              "      <td>2</td>\n",
              "      <td>0</td>\n",
              "      <td>(0, P01)</td>\n",
              "    </tr>\n",
              "    <tr>\n",
              "      <th>P01</th>\n",
              "      <td>#@이모티콘#</td>\n",
              "      <td>U2</td>\n",
              "      <td>2</td>\n",
              "      <td>0</td>\n",
              "      <td>(0, P01)</td>\n",
              "    </tr>\n",
              "    <tr>\n",
              "      <th>P01</th>\n",
              "      <td>아</td>\n",
              "      <td>U5</td>\n",
              "      <td>2</td>\n",
              "      <td>0</td>\n",
              "      <td>(0, P01)</td>\n",
              "    </tr>\n",
              "    <tr>\n",
              "      <th>P01</th>\n",
              "      <td>강제로 쉬는 시간</td>\n",
              "      <td>U6</td>\n",
              "      <td>2</td>\n",
              "      <td>0</td>\n",
              "      <td>(0, P01)</td>\n",
              "    </tr>\n",
              "    <tr>\n",
              "      <th>P01</th>\n",
              "      <td>평일엥 일하겠네 우리 #@이름#</td>\n",
              "      <td>U7</td>\n",
              "      <td>2</td>\n",
              "      <td>0</td>\n",
              "      <td>(0, P01)</td>\n",
              "    </tr>\n",
              "  </tbody>\n",
              "</table>\n",
              "</div>"
            ],
            "text/plain": [
              "                   utterance U_id P_num  P_gender     index\n",
              "D_id P_id                                                  \n",
              "0    P01       여러 명 같이 하나보네?   U1     2         0  (0, P01)\n",
              "     P01             #@이모티콘#   U2     2         0  (0, P01)\n",
              "     P01                   아   U5     2         0  (0, P01)\n",
              "     P01           강제로 쉬는 시간   U6     2         0  (0, P01)\n",
              "     P01   평일엥 일하겠네 우리 #@이름#   U7     2         0  (0, P01)"
            ]
          },
          "metadata": {},
          "execution_count": 9
        }
      ]
    },
    {
      "cell_type": "code",
      "metadata": {
        "colab": {
          "base_uri": "https://localhost:8080/",
          "height": 508
        },
        "id": "QkaCfwGCkrtR",
        "outputId": "c39dae7e-9b8a-45d0-de49-cd7c248a662f"
      },
      "source": [
        "s = df.groupby(df.index)['utterance'].apply(' '.join).to_frame()\n",
        "\n",
        "s.head(15)"
      ],
      "execution_count": null,
      "outputs": [
        {
          "output_type": "execute_result",
          "data": {
            "text/html": [
              "<div>\n",
              "<style scoped>\n",
              "    .dataframe tbody tr th:only-of-type {\n",
              "        vertical-align: middle;\n",
              "    }\n",
              "\n",
              "    .dataframe tbody tr th {\n",
              "        vertical-align: top;\n",
              "    }\n",
              "\n",
              "    .dataframe thead th {\n",
              "        text-align: right;\n",
              "    }\n",
              "</style>\n",
              "<table border=\"1\" class=\"dataframe\">\n",
              "  <thead>\n",
              "    <tr style=\"text-align: right;\">\n",
              "      <th></th>\n",
              "      <th>utterance</th>\n",
              "    </tr>\n",
              "  </thead>\n",
              "  <tbody>\n",
              "    <tr>\n",
              "      <th>(0, P01)</th>\n",
              "      <td>여러 명 같이 하나보네? #@이모티콘# 아 강제로 쉬는 시간 평일엥 일하겠네 우리 ...</td>\n",
              "    </tr>\n",
              "    <tr>\n",
              "      <th>(0, P02)</th>\n",
              "      <td>응 한 10명? 프로그램 다운이 안 됐대 다음 주부터는 바쁘겠다</td>\n",
              "    </tr>\n",
              "    <tr>\n",
              "      <th>(1, P01)</th>\n",
              "      <td>그래도 스케줄은 그지같이 안짤거 아니야 #@이모티콘# ㅋㅋㅋㅋ 이제 쓸 연차도 없지...</td>\n",
              "    </tr>\n",
              "    <tr>\n",
              "      <th>(1, P02)</th>\n",
              "      <td>전 정말 웃음이 안나요 그게 다행이져 ㅋㅋㅋㅋㅋㅋㅋ 내 연차 함부로 안써줬으면 좋겠...</td>\n",
              "    </tr>\n",
              "    <tr>\n",
              "      <th>(2, P01)</th>\n",
              "      <td>근데 만약에 남성이 결혼을 안한다면 기혼자와 미혼자 간의 휴가 차이가 발생하지 않을...</td>\n",
              "    </tr>\n",
              "    <tr>\n",
              "      <th>(2, P02)</th>\n",
              "      <td>응 그렇겠지 미혼자들이 아무래도 불공평하다고 느낄거야 아니면 미혼자만을 위한 휴가를...</td>\n",
              "    </tr>\n",
              "    <tr>\n",
              "      <th>(3, P01)</th>\n",
              "      <td>헐쌤 그럼 내가 전화해본거 아실꺼 아니야ㅠㅠ 나 이상하게 보겠어ㅠㅠ ㅠㅠ나 안 그래...</td>\n",
              "    </tr>\n",
              "    <tr>\n",
              "      <th>(3, P02)</th>\n",
              "      <td>아니 그건 아님 #@이름#이 전화한거 아셔 긍까 낼 어린이집 방학 얘기 하지마 낼 ...</td>\n",
              "    </tr>\n",
              "    <tr>\n",
              "      <th>(4, P01)</th>\n",
              "      <td>추석 앞앞 날부터 3일쉬고! ㅋㅋㅋㅋㅋㅋㅋㅋㅋㅋㅋㅋ 대신 오늘 쉽니다,, 어냐아녀 ...</td>\n",
              "    </tr>\n",
              "    <tr>\n",
              "      <th>(4, P02)</th>\n",
              "      <td>아이고야.... 추석때도  그럼 일했겠네.. 아 연달아 쉰다는 소리로 착각함..</td>\n",
              "    </tr>\n",
              "    <tr>\n",
              "      <th>(5, P01)</th>\n",
              "      <td>내년설이무섭다난.... 물어보긴함 그게스트레스야 나혼자스트레스겁나받아 묻지도말랐으면...</td>\n",
              "    </tr>\n",
              "    <tr>\n",
              "      <th>(5, P02)</th>\n",
              "      <td>하씨...나도 우리는 취업 그렁걸로 암말안하긴하는데 요즘 어른들도 아는분들은.아는데...</td>\n",
              "    </tr>\n",
              "    <tr>\n",
              "      <th>(6, P01)</th>\n",
              "      <td>나 퇴근전에 한번 더 공지해야겟다 아진짜 너무 빡침 ㅎㅎ 아니 진짜 이해가 안됨 일...</td>\n",
              "    </tr>\n",
              "    <tr>\n",
              "      <th>(6, P02)</th>\n",
              "      <td>그새ㅔ끼들은 뭐하나 제댈 흐하는거 ㅇ 하는게없삼 맨날 술만 처먹을줄알지 마자,,,그...</td>\n",
              "    </tr>\n",
              "    <tr>\n",
              "      <th>(7, P01)</th>\n",
              "      <td>야야ㅑㅑ두라 세금이랑 식비떼고 주는거면 얼마정도 떼는거야??? ㅇㅇㅇ 세금 20마넌...</td>\n",
              "    </tr>\n",
              "  </tbody>\n",
              "</table>\n",
              "</div>"
            ],
            "text/plain": [
              "                                                  utterance\n",
              "(0, P01)  여러 명 같이 하나보네? #@이모티콘# 아 강제로 쉬는 시간 평일엥 일하겠네 우리 ...\n",
              "(0, P02)                응 한 10명? 프로그램 다운이 안 됐대 다음 주부터는 바쁘겠다\n",
              "(1, P01)  그래도 스케줄은 그지같이 안짤거 아니야 #@이모티콘# ㅋㅋㅋㅋ 이제 쓸 연차도 없지...\n",
              "(1, P02)  전 정말 웃음이 안나요 그게 다행이져 ㅋㅋㅋㅋㅋㅋㅋ 내 연차 함부로 안써줬으면 좋겠...\n",
              "(2, P01)  근데 만약에 남성이 결혼을 안한다면 기혼자와 미혼자 간의 휴가 차이가 발생하지 않을...\n",
              "(2, P02)  응 그렇겠지 미혼자들이 아무래도 불공평하다고 느낄거야 아니면 미혼자만을 위한 휴가를...\n",
              "(3, P01)  헐쌤 그럼 내가 전화해본거 아실꺼 아니야ㅠㅠ 나 이상하게 보겠어ㅠㅠ ㅠㅠ나 안 그래...\n",
              "(3, P02)  아니 그건 아님 #@이름#이 전화한거 아셔 긍까 낼 어린이집 방학 얘기 하지마 낼 ...\n",
              "(4, P01)  추석 앞앞 날부터 3일쉬고! ㅋㅋㅋㅋㅋㅋㅋㅋㅋㅋㅋㅋ 대신 오늘 쉽니다,, 어냐아녀 ...\n",
              "(4, P02)       아이고야.... 추석때도  그럼 일했겠네.. 아 연달아 쉰다는 소리로 착각함..\n",
              "(5, P01)  내년설이무섭다난.... 물어보긴함 그게스트레스야 나혼자스트레스겁나받아 묻지도말랐으면...\n",
              "(5, P02)  하씨...나도 우리는 취업 그렁걸로 암말안하긴하는데 요즘 어른들도 아는분들은.아는데...\n",
              "(6, P01)  나 퇴근전에 한번 더 공지해야겟다 아진짜 너무 빡침 ㅎㅎ 아니 진짜 이해가 안됨 일...\n",
              "(6, P02)  그새ㅔ끼들은 뭐하나 제댈 흐하는거 ㅇ 하는게없삼 맨날 술만 처먹을줄알지 마자,,,그...\n",
              "(7, P01)  야야ㅑㅑ두라 세금이랑 식비떼고 주는거면 얼마정도 떼는거야??? ㅇㅇㅇ 세금 20마넌..."
            ]
          },
          "metadata": {},
          "execution_count": 10
        }
      ]
    },
    {
      "cell_type": "code",
      "metadata": {
        "colab": {
          "base_uri": "https://localhost:8080/",
          "height": 414
        },
        "id": "Z7aJBOI3miXS",
        "outputId": "04aeb020-01dd-4149-aae3-e19e0252381e"
      },
      "source": [
        "df = pd.merge(left = s.reset_index(), right = df[['P_gender','index']], how = \"left\", left_on=['index'], right_on= ['index'], sort=False).drop_duplicates().set_index('index').reset_index()\n",
        "df"
      ],
      "execution_count": null,
      "outputs": [
        {
          "output_type": "execute_result",
          "data": {
            "text/html": [
              "<div>\n",
              "<style scoped>\n",
              "    .dataframe tbody tr th:only-of-type {\n",
              "        vertical-align: middle;\n",
              "    }\n",
              "\n",
              "    .dataframe tbody tr th {\n",
              "        vertical-align: top;\n",
              "    }\n",
              "\n",
              "    .dataframe thead th {\n",
              "        text-align: right;\n",
              "    }\n",
              "</style>\n",
              "<table border=\"1\" class=\"dataframe\">\n",
              "  <thead>\n",
              "    <tr style=\"text-align: right;\">\n",
              "      <th></th>\n",
              "      <th>index</th>\n",
              "      <th>utterance</th>\n",
              "      <th>P_gender</th>\n",
              "    </tr>\n",
              "  </thead>\n",
              "  <tbody>\n",
              "    <tr>\n",
              "      <th>0</th>\n",
              "      <td>(0, P01)</td>\n",
              "      <td>여러 명 같이 하나보네? #@이모티콘# 아 강제로 쉬는 시간 평일엥 일하겠네 우리 ...</td>\n",
              "      <td>0</td>\n",
              "    </tr>\n",
              "    <tr>\n",
              "      <th>1</th>\n",
              "      <td>(0, P02)</td>\n",
              "      <td>응 한 10명? 프로그램 다운이 안 됐대 다음 주부터는 바쁘겠다</td>\n",
              "      <td>0</td>\n",
              "    </tr>\n",
              "    <tr>\n",
              "      <th>2</th>\n",
              "      <td>(1, P01)</td>\n",
              "      <td>그래도 스케줄은 그지같이 안짤거 아니야 #@이모티콘# ㅋㅋㅋㅋ 이제 쓸 연차도 없지...</td>\n",
              "      <td>0</td>\n",
              "    </tr>\n",
              "    <tr>\n",
              "      <th>3</th>\n",
              "      <td>(1, P02)</td>\n",
              "      <td>전 정말 웃음이 안나요 그게 다행이져 ㅋㅋㅋㅋㅋㅋㅋ 내 연차 함부로 안써줬으면 좋겠...</td>\n",
              "      <td>0</td>\n",
              "    </tr>\n",
              "    <tr>\n",
              "      <th>4</th>\n",
              "      <td>(2, P01)</td>\n",
              "      <td>근데 만약에 남성이 결혼을 안한다면 기혼자와 미혼자 간의 휴가 차이가 발생하지 않을...</td>\n",
              "      <td>1</td>\n",
              "    </tr>\n",
              "    <tr>\n",
              "      <th>...</th>\n",
              "      <td>...</td>\n",
              "      <td>...</td>\n",
              "      <td>...</td>\n",
              "    </tr>\n",
              "    <tr>\n",
              "      <th>164409</th>\n",
              "      <td>(76197, P04)</td>\n",
              "      <td>펜트하우스 보는데 홀린듯 계속보게되네 지금 보고잇는데 엄마 옆에서 계속 스포하는 중이다ㅠ</td>\n",
              "      <td>0</td>\n",
              "    </tr>\n",
              "    <tr>\n",
              "      <th>164410</th>\n",
              "      <td>(76198, P01)</td>\n",
              "      <td>ㅋㅋㅋㅋㅋㅋ 사이버 대학이라 바뀌는게 없다 ㅋㅋㅋ 딴데도 찾아봐 헐랭 여자라 그런가...</td>\n",
              "      <td>1</td>\n",
              "    </tr>\n",
              "    <tr>\n",
              "      <th>164411</th>\n",
              "      <td>(76198, P02)</td>\n",
              "      <td>ㅋㅋㅋㅋㅋㅋㅋㅋㅋㅋㅋㅋ 난 내일도 쿠팡 되길... 마켓컬리 두번 지원했는데 두번다 ...</td>\n",
              "      <td>0</td>\n",
              "    </tr>\n",
              "    <tr>\n",
              "      <th>164412</th>\n",
              "      <td>(76199, P01)</td>\n",
              "      <td>남자부사수 생기는데~ 이게 하렘아니고 뭐노 너 빠른이니까 무시하지말라해 정정합니다 ...</td>\n",
              "      <td>0</td>\n",
              "    </tr>\n",
              "    <tr>\n",
              "      <th>164413</th>\n",
              "      <td>(76199, P02)</td>\n",
              "      <td>ㅋㅋ 나 무시하면 어캄 종특 아니노? 이미 29이라 하고 다녔는데 내년에 31라고 ...</td>\n",
              "      <td>0</td>\n",
              "    </tr>\n",
              "  </tbody>\n",
              "</table>\n",
              "<p>164414 rows × 3 columns</p>\n",
              "</div>"
            ],
            "text/plain": [
              "               index  ... P_gender\n",
              "0           (0, P01)  ...        0\n",
              "1           (0, P02)  ...        0\n",
              "2           (1, P01)  ...        0\n",
              "3           (1, P02)  ...        0\n",
              "4           (2, P01)  ...        1\n",
              "...              ...  ...      ...\n",
              "164409  (76197, P04)  ...        0\n",
              "164410  (76198, P01)  ...        1\n",
              "164411  (76198, P02)  ...        0\n",
              "164412  (76199, P01)  ...        0\n",
              "164413  (76199, P02)  ...        0\n",
              "\n",
              "[164414 rows x 3 columns]"
            ]
          },
          "metadata": {},
          "execution_count": 11
        }
      ]
    },
    {
      "cell_type": "code",
      "metadata": {
        "id": "DIX3wWs7H9ab",
        "colab": {
          "base_uri": "https://localhost:8080/",
          "height": 589
        },
        "outputId": "d64e6164-6885-4964-a672-4915d3774110"
      },
      "source": [
        "df = pd.read_csv('/content/gdrive/MyDrive/cose461/data_50.csv')\n",
        "df"
      ],
      "execution_count": 64,
      "outputs": [
        {
          "output_type": "execute_result",
          "data": {
            "text/html": [
              "<div>\n",
              "<style scoped>\n",
              "    .dataframe tbody tr th:only-of-type {\n",
              "        vertical-align: middle;\n",
              "    }\n",
              "\n",
              "    .dataframe tbody tr th {\n",
              "        vertical-align: top;\n",
              "    }\n",
              "\n",
              "    .dataframe thead th {\n",
              "        text-align: right;\n",
              "    }\n",
              "</style>\n",
              "<table border=\"1\" class=\"dataframe\">\n",
              "  <thead>\n",
              "    <tr style=\"text-align: right;\">\n",
              "      <th></th>\n",
              "      <th>index</th>\n",
              "      <th>utterance</th>\n",
              "      <th>P_gender</th>\n",
              "    </tr>\n",
              "  </thead>\n",
              "  <tbody>\n",
              "    <tr>\n",
              "      <th>0</th>\n",
              "      <td>('005b53d1-8c3f-55a7-8fa1-537b6a55a2ee', 'P02')</td>\n",
              "      <td>음 근데 경기도가 차없으면 여기저기 둘러보기 너무 광범위해서 일산 말고는 나도 경기...</td>\n",
              "      <td>0</td>\n",
              "    </tr>\n",
              "    <tr>\n",
              "      <th>1</th>\n",
              "      <td>('f3503e1d-2070-5b4b-a7ba-695b67541f6a', 'P01')</td>\n",
              "      <td>어디로 데리러가면 좋을까? 가는길을 몰라성ㅋㅋ 여툰 아래로 내려가잖아?? 물어보고 ...</td>\n",
              "      <td>0</td>\n",
              "    </tr>\n",
              "    <tr>\n",
              "      <th>2</th>\n",
              "      <td>('b215588e-5d90-5d5f-bca2-4d284602584a', 'P02')</td>\n",
              "      <td>ㅋㅋㅋㅋㅋㅋㅋ아왜 금욜 운동가자~ ㅇ키오키오키 좋아 ㅜㅜ 나도 갈까 목욕탕~!</td>\n",
              "      <td>0</td>\n",
              "    </tr>\n",
              "    <tr>\n",
              "      <th>3</th>\n",
              "      <td>('7772face-28c9-5f4a-9b10-2c6b523c3322', 'P01')</td>\n",
              "      <td>독립밀방 여기도 유명한가보네 ㅋㅋ 안에 잘 해놨네... 월요일에 가서 점심 먹고 카...</td>\n",
              "      <td>0</td>\n",
              "    </tr>\n",
              "    <tr>\n",
              "      <th>4</th>\n",
              "      <td>('32458022-1f17-5198-8225-48f81f050024', 'P01')</td>\n",
              "      <td>음 방콕간거 거짓말이지 #@이름#언니 행복해보이네,,,,, ㅋㅋㅋㅋㅋㅋㅋㅋ#@이름#...</td>\n",
              "      <td>0</td>\n",
              "    </tr>\n",
              "    <tr>\n",
              "      <th>...</th>\n",
              "      <td>...</td>\n",
              "      <td>...</td>\n",
              "      <td>...</td>\n",
              "    </tr>\n",
              "    <tr>\n",
              "      <th>498507</th>\n",
              "      <td>('921de53b-a103-5887-af79-31bde666efaa', 'P01')</td>\n",
              "      <td>사회복지사 꽤 많이 범 공무원처럼 호봉제라 내 후배처럼 군대 안다녀오고 25-6살부...</td>\n",
              "      <td>1</td>\n",
              "    </tr>\n",
              "    <tr>\n",
              "      <th>498508</th>\n",
              "      <td>('080de6ed-cf83-5136-9f11-d77040a6b132', 'P01')</td>\n",
              "      <td>이랬음ㅋㅋㅋㅋㅋㅋㅋㅋㅋㅋㅋㅋ ㅋㅋㅋㅋㅋㅋㅋㅋㅋㅋㅋㅋㅋㅋㅋㅋㅋㅋㅋㅋㅋ ㅋㅋㅋㅋㅋㅋㅋㅋ...</td>\n",
              "      <td>1</td>\n",
              "    </tr>\n",
              "    <tr>\n",
              "      <th>498509</th>\n",
              "      <td>('fd0deffe-8c62-54ba-a3e7-98e147bd5d6a', 'P02')</td>\n",
              "      <td>ㅋㅋㅋㅋㅋ 그게낫지 er69연맹 각 얼른문의해봐라 ㅋㅋㅋ답오냐 오는거보고 고민해보마ㅋㅋㅋ</td>\n",
              "      <td>1</td>\n",
              "    </tr>\n",
              "    <tr>\n",
              "      <th>498510</th>\n",
              "      <td>('d05a2f1e-9453-5771-a124-fc5926dd0308', 'P02')</td>\n",
              "      <td>응 추석끝나고 말해 추석이라 다들 돈좀 나갈꺼 응 그렇게해</td>\n",
              "      <td>1</td>\n",
              "    </tr>\n",
              "    <tr>\n",
              "      <th>498511</th>\n",
              "      <td>('5fb885f1-def4-58c7-8b7d-a69f3d7120b1', 'P01')</td>\n",
              "      <td>말을 해주믄 됭텐데 일단 금요일 휴가 꽝 찍었으니까 목요일까지만 열심히 산다.. 집...</td>\n",
              "      <td>1</td>\n",
              "    </tr>\n",
              "  </tbody>\n",
              "</table>\n",
              "<p>498512 rows × 3 columns</p>\n",
              "</div>"
            ],
            "text/plain": [
              "                                                  index  ... P_gender\n",
              "0       ('005b53d1-8c3f-55a7-8fa1-537b6a55a2ee', 'P02')  ...        0\n",
              "1       ('f3503e1d-2070-5b4b-a7ba-695b67541f6a', 'P01')  ...        0\n",
              "2       ('b215588e-5d90-5d5f-bca2-4d284602584a', 'P02')  ...        0\n",
              "3       ('7772face-28c9-5f4a-9b10-2c6b523c3322', 'P01')  ...        0\n",
              "4       ('32458022-1f17-5198-8225-48f81f050024', 'P01')  ...        0\n",
              "...                                                 ...  ...      ...\n",
              "498507  ('921de53b-a103-5887-af79-31bde666efaa', 'P01')  ...        1\n",
              "498508  ('080de6ed-cf83-5136-9f11-d77040a6b132', 'P01')  ...        1\n",
              "498509  ('fd0deffe-8c62-54ba-a3e7-98e147bd5d6a', 'P02')  ...        1\n",
              "498510  ('d05a2f1e-9453-5771-a124-fc5926dd0308', 'P02')  ...        1\n",
              "498511  ('5fb885f1-def4-58c7-8b7d-a69f3d7120b1', 'P01')  ...        1\n",
              "\n",
              "[498512 rows x 3 columns]"
            ]
          },
          "metadata": {},
          "execution_count": 64
        }
      ]
    },
    {
      "cell_type": "code",
      "metadata": {
        "id": "6aZEi3FG5fmk",
        "colab": {
          "base_uri": "https://localhost:8080/",
          "height": 529
        },
        "outputId": "ec019274-26ff-4f9a-a729-9f55d66f4f51"
      },
      "source": [
        "from soynlp.tokenizer import RegexTokenizer\n",
        "from soynlp.normalizer import *\n",
        "\n",
        "tokenizer = RegexTokenizer()\n",
        "\n",
        "# soynlp 설명 참고 링크\n",
        "#https://github.com/lovit/soynlp\n",
        "# df['utterance'] 에서 ㅋㅋㅋㅋㅋ와 같이 반복되는 글지 normalize 하고 tokenize\n",
        "\n",
        "def text_normalize(sent):\n",
        "  #result= emoticon_normalize(sent, num_repeats= 2)\n",
        "  result = tokenizer.tokenize(sent)\n",
        "  for i, token in enumerate(result):  \n",
        "    tmp = emoticon_normalize(token, num_repeats= 2)\n",
        "    result[i] = repeat_normalize(tmp, num_repeats=1)\n",
        "    #result[i] = tmp\n",
        "    pass\n",
        "  return result\n",
        "\n",
        "df['sents'] = df['utterance'].apply(text_normalize)\n",
        "df.head(10)"
      ],
      "execution_count": 7,
      "outputs": [
        {
          "output_type": "execute_result",
          "data": {
            "text/html": [
              "<div>\n",
              "<style scoped>\n",
              "    .dataframe tbody tr th:only-of-type {\n",
              "        vertical-align: middle;\n",
              "    }\n",
              "\n",
              "    .dataframe tbody tr th {\n",
              "        vertical-align: top;\n",
              "    }\n",
              "\n",
              "    .dataframe thead th {\n",
              "        text-align: right;\n",
              "    }\n",
              "</style>\n",
              "<table border=\"1\" class=\"dataframe\">\n",
              "  <thead>\n",
              "    <tr style=\"text-align: right;\">\n",
              "      <th></th>\n",
              "      <th>index</th>\n",
              "      <th>utterance</th>\n",
              "      <th>P_gender</th>\n",
              "      <th>sents</th>\n",
              "    </tr>\n",
              "  </thead>\n",
              "  <tbody>\n",
              "    <tr>\n",
              "      <th>0</th>\n",
              "      <td>('d681fd70-af0d-5821-bd54-f411a26a2551', 'P01')</td>\n",
              "      <td>나 할미 생일이라서 파뤼파뤼~ 저녁 먹고 올게 먹구옴 나원래 혼자 먹고 방에 들어옴...</td>\n",
              "      <td>0</td>\n",
              "      <td>[나, 할미, 생일이라서, 파뤼파뤼, ~, 저녁, 먹고, 올게, 먹구옴, 나원래, ...</td>\n",
              "    </tr>\n",
              "    <tr>\n",
              "      <th>1</th>\n",
              "      <td>('a9458b1e-2eb0-51b3-869e-665816baa439', 'P02')</td>\n",
              "      <td>근데 서울은 요즘 초큼 그런거같기두하공 ㅠ 부평? 삼산동? 오 상동어디??</td>\n",
              "      <td>0</td>\n",
              "      <td>[근데, 서울은, 요즘, 초큼, 그런거같기두하공, ㅠ, 부평, ?, 삼산동, ?, ...</td>\n",
              "    </tr>\n",
              "    <tr>\n",
              "      <th>2</th>\n",
              "      <td>('349322b2-f378-536e-a458-334b467bbb53', 'P02')</td>\n",
              "      <td>그니까 ㅋㅋㅋㅋㅋㅋ 맘먹었어지금ㅋㅋㅋㅋㅋㅋ 담에 집들이때나 해서 같이 한번 모여보장 오올</td>\n",
              "      <td>0</td>\n",
              "      <td>[그니까, ㅋㅋ, 맘먹었어지금, ㅋㅋ, 담에, 집들이때나, 해서, 같이, 한번, 모...</td>\n",
              "    </tr>\n",
              "    <tr>\n",
              "      <th>3</th>\n",
              "      <td>('6721f5f0-5b9e-5e76-b5a8-dca6271695b0', 'P04')</td>\n",
              "      <td>내는 지하철</td>\n",
              "      <td>0</td>\n",
              "      <td>[내는, 지하철]</td>\n",
              "    </tr>\n",
              "    <tr>\n",
              "      <th>4</th>\n",
              "      <td>('b1300897-af6a-5a39-aa15-e7901c7137c9', 'P03')</td>\n",
              "      <td>강화도?</td>\n",
              "      <td>0</td>\n",
              "      <td>[강화도, ?]</td>\n",
              "    </tr>\n",
              "    <tr>\n",
              "      <th>5</th>\n",
              "      <td>('d869613c-5add-5b2b-8df4-7c33233ed6ee', 'P01')</td>\n",
              "      <td>여행하면서 많이 만나네 어떤 사람은 라오스에서 남친 만났대 라오스 남부를 갔대.. ...</td>\n",
              "      <td>0</td>\n",
              "      <td>[여행하면서, 많이, 만나네, 어떤, 사람은, 라오스에서, 남친, 만났대, 라오스,...</td>\n",
              "    </tr>\n",
              "    <tr>\n",
              "      <th>6</th>\n",
              "      <td>('7ad5adee-b626-5d94-8a47-11e18b9fdb4d', 'P02')</td>\n",
              "      <td>둘다 똑같은데 공항은 혹시 늦거나 기다려야되거나 시간 촉박할까바 그러는거가툼 둘다똑...</td>\n",
              "      <td>0</td>\n",
              "      <td>[둘다, 똑같은데, 공항은, 혹시, 늦거나, 기다려야되거나, 시간, 촉박할까바, 그...</td>\n",
              "    </tr>\n",
              "    <tr>\n",
              "      <th>7</th>\n",
              "      <td>('00b2ad12-cf69-5755-bdca-0f453b4f175d', 'P01')</td>\n",
              "      <td>어이없어 아니야~그냥 돌아가는것도 싫고 해서 탔어 도착지도 그냥 그 105번 내리는...</td>\n",
              "      <td>0</td>\n",
              "      <td>[어이없어, 아니야, ~, 그냥, 돌아가는것도, 싫고, 해서, 탔어, 도착지도, 그...</td>\n",
              "    </tr>\n",
              "    <tr>\n",
              "      <th>8</th>\n",
              "      <td>('74034247-a526-50d4-8494-c01e557c72cc', 'P02')</td>\n",
              "      <td>저녁에 갈거야 너는? 집에 간다고 너는? 7시 응 어디 아프니? 잘했쓰~~~ 그래라</td>\n",
              "      <td>0</td>\n",
              "      <td>[저녁에, 갈거야, 너는, ?, 집에, 간다고, 너는, ?, 7, 시, 응, 어디,...</td>\n",
              "    </tr>\n",
              "    <tr>\n",
              "      <th>9</th>\n",
              "      <td>('32da1e90-947b-5729-89ae-62d8294077e0', 'P02')</td>\n",
              "      <td>님잠만여 저 밖이엿어요 깨잇어?? 요즘 같습니다 ㅋㅋㅋㅋㅇ 일할때보다 뭔가 더 나돌...</td>\n",
              "      <td>0</td>\n",
              "      <td>[님잠만여, 저, 밖이엿어요, 깨잇어, ??, 요즘, 같습니다, ㅋㅋㅇ, 일할때보다...</td>\n",
              "    </tr>\n",
              "  </tbody>\n",
              "</table>\n",
              "</div>"
            ],
            "text/plain": [
              "                                             index  ...                                              sents\n",
              "0  ('d681fd70-af0d-5821-bd54-f411a26a2551', 'P01')  ...  [나, 할미, 생일이라서, 파뤼파뤼, ~, 저녁, 먹고, 올게, 먹구옴, 나원래, ...\n",
              "1  ('a9458b1e-2eb0-51b3-869e-665816baa439', 'P02')  ...  [근데, 서울은, 요즘, 초큼, 그런거같기두하공, ㅠ, 부평, ?, 삼산동, ?, ...\n",
              "2  ('349322b2-f378-536e-a458-334b467bbb53', 'P02')  ...  [그니까, ㅋㅋ, 맘먹었어지금, ㅋㅋ, 담에, 집들이때나, 해서, 같이, 한번, 모...\n",
              "3  ('6721f5f0-5b9e-5e76-b5a8-dca6271695b0', 'P04')  ...                                          [내는, 지하철]\n",
              "4  ('b1300897-af6a-5a39-aa15-e7901c7137c9', 'P03')  ...                                           [강화도, ?]\n",
              "5  ('d869613c-5add-5b2b-8df4-7c33233ed6ee', 'P01')  ...  [여행하면서, 많이, 만나네, 어떤, 사람은, 라오스에서, 남친, 만났대, 라오스,...\n",
              "6  ('7ad5adee-b626-5d94-8a47-11e18b9fdb4d', 'P02')  ...  [둘다, 똑같은데, 공항은, 혹시, 늦거나, 기다려야되거나, 시간, 촉박할까바, 그...\n",
              "7  ('00b2ad12-cf69-5755-bdca-0f453b4f175d', 'P01')  ...  [어이없어, 아니야, ~, 그냥, 돌아가는것도, 싫고, 해서, 탔어, 도착지도, 그...\n",
              "8  ('74034247-a526-50d4-8494-c01e557c72cc', 'P02')  ...  [저녁에, 갈거야, 너는, ?, 집에, 간다고, 너는, ?, 7, 시, 응, 어디,...\n",
              "9  ('32da1e90-947b-5729-89ae-62d8294077e0', 'P02')  ...  [님잠만여, 저, 밖이엿어요, 깨잇어, ??, 요즘, 같습니다, ㅋㅋㅇ, 일할때보다...\n",
              "\n",
              "[10 rows x 4 columns]"
            ]
          },
          "metadata": {},
          "execution_count": 7
        }
      ]
    },
    {
      "cell_type": "code",
      "metadata": {
        "id": "Q0C5o1KXCyQH"
      },
      "source": [
        "from soynlp.normalizer import *\n",
        "from konlpy.tag import Okt\n",
        "import re\n",
        "\n",
        "okt = Okt()\n",
        "\n",
        "def clean(doc) :\n",
        "\n",
        "  new_doc = list()\n",
        "  doc = okt.pos(doc, norm=True)\n",
        "\n",
        "  stop_tags = ['Determiner', 'Josa', 'Foreign']\n",
        "  stop_words = ['은', '는', '이', '가', '', '이름']\n",
        "  for text, tag in doc:  \n",
        "\n",
        "    if tag in stop_tags:\n",
        "      continue\n",
        "\n",
        "    text = re.sub(r'[^ㄱ-ㅣ가-힣?.!~\\^]+', '', text)  # remove digits.  \n",
        "    text = emoticon_normalize(text, num_repeats=2) # remove repeated emoticon. e.g) ㅋㅋㅋㅋ=>ㅋㅋ, ㅠㅠㅠㅠ=>ㅠㅠ\n",
        "    text = repeat_normalize(text, num_repeats=1) # remove repeated character\n",
        "    \n",
        "    if text in stop_words or (tag=='Verb' and len(text)<=1):\n",
        "      continue\n",
        "      \n",
        "    new_doc.append(text)\n",
        "\n",
        "  return new_doc"
      ],
      "execution_count": 65,
      "outputs": []
    },
    {
      "cell_type": "code",
      "metadata": {
        "id": "uzQd3_r6Sqlp",
        "colab": {
          "base_uri": "https://localhost:8080/",
          "height": 529
        },
        "outputId": "4674fb54-51ba-40bd-f88e-5a902d8b26a3"
      },
      "source": [
        "df['sents'] = df['utterance'].apply(clean)\n",
        "df.head(10)"
      ],
      "execution_count": 66,
      "outputs": [
        {
          "output_type": "execute_result",
          "data": {
            "text/html": [
              "<div>\n",
              "<style scoped>\n",
              "    .dataframe tbody tr th:only-of-type {\n",
              "        vertical-align: middle;\n",
              "    }\n",
              "\n",
              "    .dataframe tbody tr th {\n",
              "        vertical-align: top;\n",
              "    }\n",
              "\n",
              "    .dataframe thead th {\n",
              "        text-align: right;\n",
              "    }\n",
              "</style>\n",
              "<table border=\"1\" class=\"dataframe\">\n",
              "  <thead>\n",
              "    <tr style=\"text-align: right;\">\n",
              "      <th></th>\n",
              "      <th>index</th>\n",
              "      <th>utterance</th>\n",
              "      <th>P_gender</th>\n",
              "      <th>sents</th>\n",
              "    </tr>\n",
              "  </thead>\n",
              "  <tbody>\n",
              "    <tr>\n",
              "      <th>0</th>\n",
              "      <td>('005b53d1-8c3f-55a7-8fa1-537b6a55a2ee', 'P02')</td>\n",
              "      <td>음 근데 경기도가 차없으면 여기저기 둘러보기 너무 광범위해서 일산 말고는 나도 경기...</td>\n",
              "      <td>0</td>\n",
              "      <td>[음, 근데, 경기도, 차, 없으면, 여기저기, 둘러보기, 너무, 광범위해서, 일산...</td>\n",
              "    </tr>\n",
              "    <tr>\n",
              "      <th>1</th>\n",
              "      <td>('f3503e1d-2070-5b4b-a7ba-695b67541f6a', 'P01')</td>\n",
              "      <td>어디로 데리러가면 좋을까? 가는길을 몰라성ㅋㅋ 여툰 아래로 내려가잖아?? 물어보고 ...</td>\n",
              "      <td>0</td>\n",
              "      <td>[어디, 데리러, 가면, 좋을까, ?, 가는, 길, 몰라, 성, ㅋㅋ, 여툰, 아래...</td>\n",
              "    </tr>\n",
              "    <tr>\n",
              "      <th>2</th>\n",
              "      <td>('b215588e-5d90-5d5f-bca2-4d284602584a', 'P02')</td>\n",
              "      <td>ㅋㅋㅋㅋㅋㅋㅋ아왜 금욜 운동가자~ ㅇ키오키오키 좋아 ㅜㅜ 나도 갈까 목욕탕~!</td>\n",
              "      <td>0</td>\n",
              "      <td>[ㅋㅋㅋ, 아, 왜, 금욜, 운동, 가자, ~, ㅇ, 키, 오키, 오키, 좋아, ㅜ...</td>\n",
              "    </tr>\n",
              "    <tr>\n",
              "      <th>3</th>\n",
              "      <td>('7772face-28c9-5f4a-9b10-2c6b523c3322', 'P01')</td>\n",
              "      <td>독립밀방 여기도 유명한가보네 ㅋㅋ 안에 잘 해놨네... 월요일에 가서 점심 먹고 카...</td>\n",
              "      <td>0</td>\n",
              "      <td>[독립, 밀방, 여기, 유명한, 가보네, ㅋㅋ, 안, 해놨네, ..., 월요일, 가...</td>\n",
              "    </tr>\n",
              "    <tr>\n",
              "      <th>4</th>\n",
              "      <td>('32458022-1f17-5198-8225-48f81f050024', 'P01')</td>\n",
              "      <td>음 방콕간거 거짓말이지 #@이름#언니 행복해보이네,,,,, ㅋㅋㅋㅋㅋㅋㅋㅋ#@이름#...</td>\n",
              "      <td>0</td>\n",
              "      <td>[음, 방콕, 간거, 거짓말, 언니, 행복, 해보이네, ㅋㅋㅋ, 니, 여행, 중, ...</td>\n",
              "    </tr>\n",
              "    <tr>\n",
              "      <th>5</th>\n",
              "      <td>('46ca6704-6cfd-53b5-af94-beb01e806699', 'P02')</td>\n",
              "      <td>나도 모르겠어 일단 올해는 열심히 돈벌고 여행가기로 충분해 맞아 사실 그걸 바래..</td>\n",
              "      <td>0</td>\n",
              "      <td>[나도, 모르겠어, 일단, 올해, 열심히, 돈, 벌고, 여행, 가기, 충분해, 맞아...</td>\n",
              "    </tr>\n",
              "    <tr>\n",
              "      <th>6</th>\n",
              "      <td>('e141faf2-59c9-52da-98eb-953d9dcd9cea', 'P03')</td>\n",
              "      <td>어디가요엄마아빠?!🍘🍦🍣🍬❤❤ 너무귀엽다💘💘</td>\n",
              "      <td>0</td>\n",
              "      <td>[어디가, 엄마, 아빠, ?!, 너무, 귀엽다]</td>\n",
              "    </tr>\n",
              "    <tr>\n",
              "      <th>7</th>\n",
              "      <td>('2d258296-134b-5e75-a38d-184de67017a3', 'P01')</td>\n",
              "      <td>#@이름# 이사 언제함? 집은 구함? 글쿤ㅋㅋ 어디로 가게? 이사가면 집들이 해ㅋㄱ...</td>\n",
              "      <td>0</td>\n",
              "      <td>[이사, 언, 제, 함, ?, 집은, 구함, ?, 글쿤, ㅋㅋ, 어디, 가게, ?,...</td>\n",
              "    </tr>\n",
              "    <tr>\n",
              "      <th>8</th>\n",
              "      <td>('9df529fd-25ca-5dde-89af-d116f4102871', 'P02')</td>\n",
              "      <td>아예 온거야??? 오 그러면 우리 함 봐야하는거 아니냥~~~~ 언제 가?? 그럼 가...</td>\n",
              "      <td>0</td>\n",
              "      <td>[아예, 온거야, ???, 오, 그러면, 우리, 함, 야하는거, 아니냥, ~~~~,...</td>\n",
              "    </tr>\n",
              "    <tr>\n",
              "      <th>9</th>\n",
              "      <td>('59a0583a-0e0d-52ab-8d73-24e442db3b14', 'P02')</td>\n",
              "      <td>와 혼자 꿀잠자는거에바지 나는 11시에인났는데ㅜ 그러고 원주가는중 갑분원주 ㅋㅋㅋㅋ...</td>\n",
              "      <td>0</td>\n",
              "      <td>[혼자, 꿀잠, 자는거에, 바지, 나, 시, ㅜ, 그러고, 원, 주가, 중, 갑, ...</td>\n",
              "    </tr>\n",
              "  </tbody>\n",
              "</table>\n",
              "</div>"
            ],
            "text/plain": [
              "                                             index  ...                                              sents\n",
              "0  ('005b53d1-8c3f-55a7-8fa1-537b6a55a2ee', 'P02')  ...  [음, 근데, 경기도, 차, 없으면, 여기저기, 둘러보기, 너무, 광범위해서, 일산...\n",
              "1  ('f3503e1d-2070-5b4b-a7ba-695b67541f6a', 'P01')  ...  [어디, 데리러, 가면, 좋을까, ?, 가는, 길, 몰라, 성, ㅋㅋ, 여툰, 아래...\n",
              "2  ('b215588e-5d90-5d5f-bca2-4d284602584a', 'P02')  ...  [ㅋㅋㅋ, 아, 왜, 금욜, 운동, 가자, ~, ㅇ, 키, 오키, 오키, 좋아, ㅜ...\n",
              "3  ('7772face-28c9-5f4a-9b10-2c6b523c3322', 'P01')  ...  [독립, 밀방, 여기, 유명한, 가보네, ㅋㅋ, 안, 해놨네, ..., 월요일, 가...\n",
              "4  ('32458022-1f17-5198-8225-48f81f050024', 'P01')  ...  [음, 방콕, 간거, 거짓말, 언니, 행복, 해보이네, ㅋㅋㅋ, 니, 여행, 중, ...\n",
              "5  ('46ca6704-6cfd-53b5-af94-beb01e806699', 'P02')  ...  [나도, 모르겠어, 일단, 올해, 열심히, 돈, 벌고, 여행, 가기, 충분해, 맞아...\n",
              "6  ('e141faf2-59c9-52da-98eb-953d9dcd9cea', 'P03')  ...                         [어디가, 엄마, 아빠, ?!, 너무, 귀엽다]\n",
              "7  ('2d258296-134b-5e75-a38d-184de67017a3', 'P01')  ...  [이사, 언, 제, 함, ?, 집은, 구함, ?, 글쿤, ㅋㅋ, 어디, 가게, ?,...\n",
              "8  ('9df529fd-25ca-5dde-89af-d116f4102871', 'P02')  ...  [아예, 온거야, ???, 오, 그러면, 우리, 함, 야하는거, 아니냥, ~~~~,...\n",
              "9  ('59a0583a-0e0d-52ab-8d73-24e442db3b14', 'P02')  ...  [혼자, 꿀잠, 자는거에, 바지, 나, 시, ㅜ, 그러고, 원, 주가, 중, 갑, ...\n",
              "\n",
              "[10 rows x 4 columns]"
            ]
          },
          "metadata": {},
          "execution_count": 66
        }
      ]
    },
    {
      "cell_type": "markdown",
      "metadata": {
        "id": "fcYfjWDICRit"
      },
      "source": [
        "데이터 전처리 고려해야 할 점 ㅜㅜ\n",
        "\n",
        "- ㅋㅋㅋㅋ, ㅇㅇㅇㅇ 어떻게 처리할지. 단순히 여러개 있어도 다 같은 걸로 취급할지 말지\n",
        "- !, ? 도 마찬가지. soynlp의 textonly 함수를 통해 기호들은 제거가 쉽게 가능할듯 한데. 그럼 정보의 손실이 있을수도\n",
        "- 이모티콘 이름. 우리 데이터에서 사람 이름은 #@이름# 으로 되어있음. \n",
        "- 형태소 분석"
      ]
    },
    {
      "cell_type": "code",
      "metadata": {
        "colab": {
          "base_uri": "https://localhost:8080/",
          "height": 208
        },
        "id": "c-6f5L1FSG6e",
        "outputId": "b7a3fa5d-6e1c-48b2-a7c0-6027ee6d3fdb"
      },
      "source": [
        "df_women = df[df['P_gender']==0]\n",
        "df_men = df[df['P_gender']==1]\n",
        "\n",
        "print(\"Number of women : {}, Number of men : {}\".format(df_women['P_gender'].value_counts()[0], df_men['P_gender'].value_counts()[1]))"
      ],
      "execution_count": 8,
      "outputs": [
        {
          "output_type": "error",
          "ename": "NameError",
          "evalue": "ignored",
          "traceback": [
            "\u001b[0;31m---------------------------------------------------------------------------\u001b[0m",
            "\u001b[0;31mNameError\u001b[0m                                 Traceback (most recent call last)",
            "\u001b[0;32m<ipython-input-8-61d294e2e4f3>\u001b[0m in \u001b[0;36m<module>\u001b[0;34m()\u001b[0m\n\u001b[1;32m      2\u001b[0m \u001b[0;31m# df_men = df[df['P_gender']==1]\u001b[0m\u001b[0;34m\u001b[0m\u001b[0;34m\u001b[0m\u001b[0;34m\u001b[0m\u001b[0m\n\u001b[1;32m      3\u001b[0m \u001b[0;34m\u001b[0m\u001b[0m\n\u001b[0;32m----> 4\u001b[0;31m \u001b[0mprint\u001b[0m\u001b[0;34m(\u001b[0m\u001b[0;34m\"Number of women : {}, Number of men : {}\"\u001b[0m\u001b[0;34m.\u001b[0m\u001b[0mformat\u001b[0m\u001b[0;34m(\u001b[0m\u001b[0mdf_women\u001b[0m\u001b[0;34m[\u001b[0m\u001b[0;34m'P_gender'\u001b[0m\u001b[0;34m]\u001b[0m\u001b[0;34m.\u001b[0m\u001b[0mvalue_counts\u001b[0m\u001b[0;34m(\u001b[0m\u001b[0;34m)\u001b[0m\u001b[0;34m[\u001b[0m\u001b[0;36m0\u001b[0m\u001b[0;34m]\u001b[0m\u001b[0;34m,\u001b[0m \u001b[0mdf_men\u001b[0m\u001b[0;34m[\u001b[0m\u001b[0;34m'P_gender'\u001b[0m\u001b[0;34m]\u001b[0m\u001b[0;34m.\u001b[0m\u001b[0mvalue_counts\u001b[0m\u001b[0;34m(\u001b[0m\u001b[0;34m)\u001b[0m\u001b[0;34m[\u001b[0m\u001b[0;36m1\u001b[0m\u001b[0;34m]\u001b[0m\u001b[0;34m)\u001b[0m\u001b[0;34m)\u001b[0m\u001b[0;34m\u001b[0m\u001b[0;34m\u001b[0m\u001b[0m\n\u001b[0m",
            "\u001b[0;31mNameError\u001b[0m: name 'df_women' is not defined"
          ]
        }
      ]
    },
    {
      "cell_type": "code",
      "metadata": {
        "colab": {
          "base_uri": "https://localhost:8080/",
          "height": 204
        },
        "id": "g8ElT8jRTvxQ",
        "outputId": "1fd3fb5b-4041-44f8-f45b-f6ea73eef576"
      },
      "source": [
        "df_women = df_women.sample(n= df_men['P_gender'].value_counts()[1], random_state=7)\n",
        "df = pd.concat([df_women, df_men], sort=True)\n",
        "df.head()"
      ],
      "execution_count": null,
      "outputs": [
        {
          "output_type": "execute_result",
          "data": {
            "text/html": [
              "<div>\n",
              "<style scoped>\n",
              "    .dataframe tbody tr th:only-of-type {\n",
              "        vertical-align: middle;\n",
              "    }\n",
              "\n",
              "    .dataframe tbody tr th {\n",
              "        vertical-align: top;\n",
              "    }\n",
              "\n",
              "    .dataframe thead th {\n",
              "        text-align: right;\n",
              "    }\n",
              "</style>\n",
              "<table border=\"1\" class=\"dataframe\">\n",
              "  <thead>\n",
              "    <tr style=\"text-align: right;\">\n",
              "      <th></th>\n",
              "      <th>P_gender</th>\n",
              "      <th>index</th>\n",
              "      <th>sents</th>\n",
              "      <th>utterance</th>\n",
              "    </tr>\n",
              "  </thead>\n",
              "  <tbody>\n",
              "    <tr>\n",
              "      <th>22753</th>\n",
              "      <td>0</td>\n",
              "      <td>('e27eca6c-9402-5998-969f-26a62d2dbeb9', 'P02')</td>\n",
              "      <td>[아, 진짜, ??, 나, 즙, 엄청, 잘, 먹잖아, ㅋㅋ, 건강, 챙긴다구, 웅웅...</td>\n",
              "      <td>아 진짜?? 나 즙 엄청 잘 먹잖아 ㅋㅋ 건강 챙긴다구 웅웅 그래도 좀 조심히 먹긴...</td>\n",
              "    </tr>\n",
              "    <tr>\n",
              "      <th>38726</th>\n",
              "      <td>0</td>\n",
              "      <td>('209957eb-90f1-53ba-9126-643ef9766c9b', 'P02')</td>\n",
              "      <td>[그럼, 천부터, 먹지말라하던가, 원래, 앞에서, 뭐라안함, 아니, 난, 또, 짜중...</td>\n",
              "      <td>그럼 천부터 먹지말라하던가 원래 앞에서 뭐라안함 아니 난 또 짜중나는게 혼날때 혼내...</td>\n",
              "    </tr>\n",
              "    <tr>\n",
              "      <th>96021</th>\n",
              "      <td>0</td>\n",
              "      <td>('4f0a3407-1143-55c0-913a-781bb0ea17db', 'P02')</td>\n",
              "      <td>[그래도, 너무, 낮추진, 말고, 인간답게, 일할, 수, 있는, 곳으로, 언니가, ...</td>\n",
              "      <td>그래도 너무 낮추진 말고 인간답게 일할 수 있는 곳으로 언니가 어느정도 커트라인 만...</td>\n",
              "    </tr>\n",
              "    <tr>\n",
              "      <th>15966</th>\n",
              "      <td>0</td>\n",
              "      <td>('bd6ffa82-aaee-5f59-98b1-c86d500b4d71', 'P02')</td>\n",
              "      <td>[맞아, ..., 책, 읽는게, 진짜, ..., 맞춤법에도, 그렇고, 어휘력에도, ...</td>\n",
              "      <td>맞아... 책 읽는게 진짜... 맞춤법에도 그렇고 어휘력에도 그렇고 도움되는데 잘 ...</td>\n",
              "    </tr>\n",
              "    <tr>\n",
              "      <th>78</th>\n",
              "      <td>0</td>\n",
              "      <td>('e707f585-d297-5ecc-9656-db07bd5aa745', 'P01')</td>\n",
              "      <td>[어, 7, 시다, 우리도, 준비하자, 이래요, 내가, 인사하면, ㅋㅋ, 벌써, 7...</td>\n",
              "      <td>어 7시다 우리도 준비하자 이래요 내가 인사하면 ㅋㅋㅋㅋㅋㅋㅋㅋㅋㅋㅋㅋㅋㅋㅋㅋㅋㅋㅋ...</td>\n",
              "    </tr>\n",
              "  </tbody>\n",
              "</table>\n",
              "</div>"
            ],
            "text/plain": [
              "       P_gender  ...                                          utterance\n",
              "22753         0  ...  아 진짜?? 나 즙 엄청 잘 먹잖아 ㅋㅋ 건강 챙긴다구 웅웅 그래도 좀 조심히 먹긴...\n",
              "38726         0  ...  그럼 천부터 먹지말라하던가 원래 앞에서 뭐라안함 아니 난 또 짜중나는게 혼날때 혼내...\n",
              "96021         0  ...  그래도 너무 낮추진 말고 인간답게 일할 수 있는 곳으로 언니가 어느정도 커트라인 만...\n",
              "15966         0  ...  맞아... 책 읽는게 진짜... 맞춤법에도 그렇고 어휘력에도 그렇고 도움되는데 잘 ...\n",
              "78            0  ...  어 7시다 우리도 준비하자 이래요 내가 인사하면 ㅋㅋㅋㅋㅋㅋㅋㅋㅋㅋㅋㅋㅋㅋㅋㅋㅋㅋㅋ...\n",
              "\n",
              "[5 rows x 4 columns]"
            ]
          },
          "metadata": {},
          "execution_count": 10
        }
      ]
    },
    {
      "cell_type": "code",
      "metadata": {
        "id": "1RsXO5MKKTWH"
      },
      "source": [
        "X = df['sents']\n",
        "y = df['P_gender']\n",
        "\n",
        "from sklearn.naive_bayes import MultinomialNB\n",
        "from sklearn.feature_extraction.text import CountVectorizer\n",
        "from sklearn.model_selection import train_test_split\n",
        "from sklearn.metrics import classification_report, confusion_matrix\n",
        "\n",
        "X_train, X_test, y_train, y_test = train_test_split(X, y, test_size=0.2, random_state=7)\n",
        "#X_train, X_val, y_train, y_val = train_test_split(X_train, y_train, test_size=0.25, random_state=7)\n",
        "\n"
      ],
      "execution_count": 67,
      "outputs": []
    },
    {
      "cell_type": "code",
      "metadata": {
        "id": "j3VpFun6P2SY"
      },
      "source": [
        "tokenizer = Tokenizer()\n",
        "tokenizer.fit_on_texts(X_train)"
      ],
      "execution_count": 68,
      "outputs": []
    },
    {
      "cell_type": "code",
      "metadata": {
        "colab": {
          "base_uri": "https://localhost:8080/"
        },
        "id": "VgdGogzYPtHD",
        "outputId": "aeb320cc-ddda-41bd-c57a-1be143270c5a"
      },
      "source": [
        "print(tokenizer.word_index)"
      ],
      "execution_count": null,
      "outputs": [
        {
          "output_type": "stream",
          "name": "stderr",
          "text": [
            "IOPub data rate exceeded.\n",
            "The notebook server will temporarily stop sending output\n",
            "to the client in order to avoid crashing it.\n",
            "To change this limit, set the config variable\n",
            "`--NotebookApp.iopub_data_rate_limit`.\n",
            "\n",
            "Current values:\n",
            "NotebookApp.iopub_data_rate_limit=1000000.0 (bytes/sec)\n",
            "NotebookApp.rate_limit_window=3.0 (secs)\n",
            "\n"
          ]
        }
      ]
    },
    {
      "cell_type": "code",
      "metadata": {
        "colab": {
          "base_uri": "https://localhost:8080/"
        },
        "id": "ZEoQZw53QUzi",
        "outputId": "6f33bacb-4aa0-4db1-f15b-4328a61be481"
      },
      "source": [
        "threshold = 3\n",
        "total_cnt = len(tokenizer.word_index) # 단어의 수\n",
        "rare_cnt = 0 # 등장 빈도수가 threshold보다 작은 단어의 개수를 카운트\n",
        "total_freq = 0 # 훈련 데이터의 전체 단어 빈도수 총 합\n",
        "rare_freq = 0 # 등장 빈도수가 threshold보다 작은 단어의 등장 빈도수의 총 합\n",
        "\n",
        "# 단어와 빈도수의 쌍(pair)을 key와 value로 받는다.\n",
        "for key, value in tokenizer.word_counts.items():\n",
        "    total_freq = total_freq + value\n",
        "\n",
        "    # 단어의 등장 빈도수가 threshold보다 작으면\n",
        "    if(value < threshold):\n",
        "        rare_cnt = rare_cnt + 1\n",
        "        rare_freq = rare_freq + value\n",
        "\n",
        "print('단어 집합(vocabulary)의 크기 :',total_cnt)\n",
        "print('등장 빈도가 %s번 이하인 희귀 단어의 수: %s'%(threshold - 1, rare_cnt))\n",
        "print(\"단어 집합에서 희귀 단어의 비율:\", (rare_cnt / total_cnt)*100)     # data 적게 할 때는 division by zero 나올수도\n",
        "print(\"전체 등장 빈도에서 희귀 단어 등장 빈도 비율:\", (rare_freq / total_freq)*100)"
      ],
      "execution_count": 69,
      "outputs": [
        {
          "output_type": "stream",
          "name": "stdout",
          "text": [
            "단어 집합(vocabulary)의 크기 : 394402\n",
            "등장 빈도가 2번 이하인 희귀 단어의 수: 282664\n",
            "단어 집합에서 희귀 단어의 비율: 71.66900776365232\n",
            "전체 등장 빈도에서 희귀 단어 등장 빈도 비율: 3.3794569190685797\n"
          ]
        }
      ]
    },
    {
      "cell_type": "code",
      "metadata": {
        "colab": {
          "base_uri": "https://localhost:8080/"
        },
        "id": "49HpD6EbQZzn",
        "outputId": "d3c9da0e-570c-45ca-9170-aaaa9738a395"
      },
      "source": [
        "# 전체 단어 개수 중 빈도수 threshold 이하인 단어는 제거.\n",
        "# 0번 패딩 토큰을 고려하여 + 1\n",
        "vocab_size = total_cnt - rare_cnt + 1\n",
        "print('단어 집합의 크기 :',vocab_size)"
      ],
      "execution_count": 70,
      "outputs": [
        {
          "output_type": "stream",
          "name": "stdout",
          "text": [
            "단어 집합의 크기 : 111739\n"
          ]
        }
      ]
    },
    {
      "cell_type": "code",
      "metadata": {
        "id": "wGp5qrHyQde1"
      },
      "source": [
        "tokenizer = Tokenizer(vocab_size) \n",
        "tokenizer.fit_on_texts(X_train)\n",
        "X_train = tokenizer.texts_to_sequences(X_train)\n",
        "X_test = tokenizer.texts_to_sequences(X_test)"
      ],
      "execution_count": 71,
      "outputs": []
    },
    {
      "cell_type": "code",
      "metadata": {
        "id": "4oPrFFfpQ7oJ"
      },
      "source": [
        "y_train = np.array(y_train)\n",
        "y_test = np.array(y_test)"
      ],
      "execution_count": 72,
      "outputs": []
    },
    {
      "cell_type": "code",
      "metadata": {
        "colab": {
          "base_uri": "https://localhost:8080/",
          "height": 315
        },
        "id": "R_Yq-mq8R0Jf",
        "outputId": "f5591aba-b9d3-4f86-fc2d-ef31ca18ee1a"
      },
      "source": [
        "print('메시지의 최대 길이 :',max(len(l) for l in X_train))\n",
        "print('메시지의 평균 길이 :',sum(map(len, X_train))/len(X_train))\n",
        "plt.hist([len(s) for s in X_train], bins=50)\n",
        "plt.xlabel('length of samples')\n",
        "plt.ylabel('number of samples')\n",
        "plt.show()"
      ],
      "execution_count": 73,
      "outputs": [
        {
          "output_type": "stream",
          "name": "stdout",
          "text": [
            "메시지의 최대 길이 : 1096\n",
            "메시지의 평균 길이 : 23.73793971550291\n"
          ]
        },
        {
          "output_type": "display_data",
          "data": {
            "image/png": "[encoded data removed]",
            "text/plain": [
              "<Figure size 432x288 with 1 Axes>"
            ]
          },
          "metadata": {
            "needs_background": "light"
          }
        }
      ]
    },
    {
      "cell_type": "code",
      "metadata": {
        "colab": {
          "base_uri": "https://localhost:8080/"
        },
        "id": "WjNMmaB2SQza",
        "outputId": "b6c49ccd-dc71-4c8e-b141-7d8853d1a940"
      },
      "source": [
        "def below_threshold_len(max_len, nested_list):\n",
        "  count = 0\n",
        "  for sentence in nested_list:\n",
        "    if(len(sentence) <= max_len):\n",
        "        count = count + 1\n",
        "  print('전체 샘플 중 길이가 %s 이하인 샘플의 비율: %s'%(max_len, (count / len(nested_list))*100))\n",
        "\n",
        "below_threshold_len(50,X_train)"
      ],
      "execution_count": 74,
      "outputs": [
        {
          "output_type": "stream",
          "name": "stdout",
          "text": [
            "전체 샘플 중 길이가 50 이하인 샘플의 비율: 95.08561742588557\n"
          ]
        }
      ]
    },
    {
      "cell_type": "code",
      "metadata": {
        "id": "6T0ovxUDSdfd"
      },
      "source": [
        "max_len = 50\n",
        "X_train = pad_sequences(X_train, maxlen = max_len)\n",
        "X_test = pad_sequences(X_test, maxlen = max_len)"
      ],
      "execution_count": 75,
      "outputs": []
    },
    {
      "cell_type": "code",
      "metadata": {
        "id": "NR0DkfIzSjEv"
      },
      "source": [
        "from tensorflow.keras.layers import Embedding, Dense, LSTM, Conv1D, MaxPooling1D, Dropout, Bidirectional\n",
        "from tensorflow.keras.models import Sequential\n",
        "from tensorflow.keras.models import load_model\n",
        "from tensorflow.keras.callbacks import EarlyStopping, ModelCheckpoint"
      ],
      "execution_count": 76,
      "outputs": []
    },
    {
      "cell_type": "code",
      "metadata": {
        "id": "AHQsJTg6SkcO"
      },
      "source": [
        "embedding_dim = 100\n",
        "hidden_units = 128\n",
        "\n",
        "model = Sequential()\n",
        "model.add(Embedding(vocab_size, embedding_dim))\n",
        "model.add(LSTM(hidden_units))\n",
        "# model.add(Dropout(0.3))\n",
        "# model.add(LSTM(hidden_units, return_sequences=False))\n",
        "# model.add(Dropout(0.2))\n",
        "model.add(Dense(1, activation='sigmoid'))\n",
        "\n",
        "es = EarlyStopping(monitor='val_loss', mode='min', verbose=1, patience=4)\n",
        "mc = ModelCheckpoint('best_model.h5', monitor='val_acc', mode='max', verbose=1, save_best_only=True)\n",
        "# model.summary()"
      ],
      "execution_count": 77,
      "outputs": []
    },
    {
      "cell_type": "code",
      "metadata": {
        "id": "MEDC5w68bhQo",
        "colab": {
          "base_uri": "https://localhost:8080/"
        },
        "outputId": "bf95eb60-f942-43e7-e151-2a6444ce7a21"
      },
      "source": [
        "model.compile(optimizer='rmsprop', loss='binary_crossentropy', metrics=['acc'])\n",
        "history = model.fit(X_train, y_train, epochs=15, callbacks=[es, mc], batch_size=64, validation_split=0.2)"
      ],
      "execution_count": 78,
      "outputs": [
        {
          "output_type": "stream",
          "name": "stdout",
          "text": [
            "Epoch 1/15\n",
            "4984/4986 [============================>.] - ETA: 0s - loss: 0.5942 - acc: 0.6765\n",
            "Epoch 00001: val_acc improved from -inf to 0.68852, saving model to best_model.h5\n",
            "4986/4986 [==============================] - 105s 21ms/step - loss: 0.5942 - acc: 0.6765 - val_loss: 0.5783 - val_acc: 0.6885\n",
            "Epoch 2/15\n",
            "4985/4986 [============================>.] - ETA: 0s - loss: 0.5396 - acc: 0.7248\n",
            "Epoch 00002: val_acc improved from 0.68852 to 0.69611, saving model to best_model.h5\n",
            "4986/4986 [==============================] - 105s 21ms/step - loss: 0.5396 - acc: 0.7248 - val_loss: 0.5715 - val_acc: 0.6961\n",
            "Epoch 3/15\n",
            "4984/4986 [============================>.] - ETA: 0s - loss: 0.4845 - acc: 0.7657\n",
            "Epoch 00003: val_acc did not improve from 0.69611\n",
            "4986/4986 [==============================] - 108s 22ms/step - loss: 0.4845 - acc: 0.7657 - val_loss: 0.5842 - val_acc: 0.6955\n",
            "Epoch 4/15\n",
            "4986/4986 [==============================] - ETA: 0s - loss: 0.4363 - acc: 0.7960\n",
            "Epoch 00004: val_acc did not improve from 0.69611\n",
            "4986/4986 [==============================] - 101s 20ms/step - loss: 0.4363 - acc: 0.7960 - val_loss: 0.6116 - val_acc: 0.6827\n",
            "Epoch 5/15\n",
            "4986/4986 [==============================] - ETA: 0s - loss: 0.3879 - acc: 0.8241\n",
            "Epoch 00005: val_acc did not improve from 0.69611\n",
            "4986/4986 [==============================] - 101s 20ms/step - loss: 0.3879 - acc: 0.8241 - val_loss: 0.6538 - val_acc: 0.6791\n",
            "Epoch 6/15\n",
            "4984/4986 [============================>.] - ETA: 0s - loss: 0.3396 - acc: 0.8496\n",
            "Epoch 00006: val_acc did not improve from 0.69611\n",
            "4986/4986 [==============================] - 107s 21ms/step - loss: 0.3396 - acc: 0.8496 - val_loss: 0.7032 - val_acc: 0.6700\n",
            "Epoch 00006: early stopping\n"
          ]
        }
      ]
    },
    {
      "cell_type": "code",
      "metadata": {
        "id": "Gdnbsig_bjiL",
        "colab": {
          "base_uri": "https://localhost:8080/"
        },
        "outputId": "b361bc9d-8a8f-46c3-acde-7ca7aa56e03e"
      },
      "source": [
        "loaded_model = load_model('best_model.h5')\n",
        "print(\"\\n 테스트 정확도: %.4f\" % (loaded_model.evaluate(X_test, y_test)[1]))\n",
        "# data_20 - 0.6718\n",
        "# data_50 - 0.6970"
      ],
      "execution_count": 79,
      "outputs": [
        {
          "output_type": "stream",
          "name": "stdout",
          "text": [
            "3116/3116 [==============================] - 23s 7ms/step - loss: 0.5699 - acc: 0.6970\n",
            "\n",
            " 테스트 정확도: 0.6970\n"
          ]
        }
      ]
    },
    {
      "cell_type": "code",
      "metadata": {
        "colab": {
          "base_uri": "https://localhost:8080/"
        },
        "id": "9EB3LrJoSxUA",
        "outputId": "7cda63f9-6303-45ff-b3a3-0dbc1a14bc8e"
      },
      "source": [
        "# 데이터 전처리 x\n",
        "model.compile(optimizer='rmsprop', loss='binary_crossentropy', metrics=['acc'])\n",
        "history = model.fit(X_train, y_train, epochs=15, callbacks=[es, mc], batch_size=64, validation_split=0.2)"
      ],
      "execution_count": null,
      "outputs": [
        {
          "output_type": "stream",
          "name": "stdout",
          "text": [
            "Epoch 1/15\n",
            "536/536 [==============================] - ETA: 0s - loss: 0.6279 - acc: 0.6456\n",
            "Epoch 00001: val_acc improved from -inf to 0.67297, saving model to best_model.h5\n",
            "536/536 [==============================] - 88s 159ms/step - loss: 0.6279 - acc: 0.6456 - val_loss: 0.6092 - val_acc: 0.6730\n",
            "Epoch 2/15\n",
            "536/536 [==============================] - ETA: 0s - loss: 0.5268 - acc: 0.7364\n",
            "Epoch 00002: val_acc improved from 0.67297 to 0.67379, saving model to best_model.h5\n",
            "536/536 [==============================] - 75s 140ms/step - loss: 0.5268 - acc: 0.7364 - val_loss: 0.6804 - val_acc: 0.6738\n",
            "Epoch 3/15\n",
            "536/536 [==============================] - ETA: 0s - loss: 0.4677 - acc: 0.7744\n",
            "Epoch 00003: val_acc improved from 0.67379 to 0.67729, saving model to best_model.h5\n",
            "536/536 [==============================] - 74s 139ms/step - loss: 0.4677 - acc: 0.7744 - val_loss: 0.6265 - val_acc: 0.6773\n",
            "Epoch 4/15\n",
            "536/536 [==============================] - ETA: 0s - loss: 0.4222 - acc: 0.8012\n",
            "Epoch 00004: val_acc did not improve from 0.67729\n",
            "536/536 [==============================] - 74s 139ms/step - loss: 0.4222 - acc: 0.8012 - val_loss: 0.6277 - val_acc: 0.6623\n",
            "Epoch 5/15\n",
            "536/536 [==============================] - ETA: 0s - loss: 0.3737 - acc: 0.8313\n",
            "Epoch 00005: val_acc did not improve from 0.67729\n",
            "536/536 [==============================] - 74s 138ms/step - loss: 0.3737 - acc: 0.8313 - val_loss: 0.6874 - val_acc: 0.6518\n",
            "Epoch 00005: early stopping\n"
          ]
        }
      ]
    },
    {
      "cell_type": "code",
      "metadata": {
        "colab": {
          "base_uri": "https://localhost:8080/"
        },
        "id": "v_tvKsG4S1nN",
        "outputId": "92b50a87-785a-4ffd-97e8-1019ab5eddaa"
      },
      "source": [
        "# 데이터 전처리 x\n",
        "loaded_model = load_model('best_model.h5')\n",
        "print(\"\\n 테스트 정확도: %.4f\" % (loaded_model.evaluate(X_test, y_test)[1]))"
      ],
      "execution_count": null,
      "outputs": [
        {
          "output_type": "stream",
          "name": "stdout",
          "text": [
            "335/335 [==============================] - 7s 20ms/step - loss: 0.6215 - acc: 0.6663\n",
            "\n",
            " 테스트 정확도: 0.6663\n"
          ]
        }
      ]
    }
  ]
}