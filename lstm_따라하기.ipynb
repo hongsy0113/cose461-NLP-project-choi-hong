{
  "nbformat": 4,
  "nbformat_minor": 0,
  "metadata": {
    "colab": {
      "name": "lstm 따라하기.ipynb",
      "provenance": [],
      "collapsed_sections": [],
      "include_colab_link": true
    },
    "kernelspec": {
      "display_name": "Python 3",
      "name": "python3"
    },
    "language_info": {
      "name": "python"
    }
  },
  "cells": [
    {
      "cell_type": "markdown",
      "metadata": {
        "id": "view-in-github",
        "colab_type": "text"
      },
      "source": [
        "<a href=\"https://colab.research.google.com/github/hongsy0113/cose461-NLP-project-choi-hong/blob/main/lstm_%EB%94%B0%EB%9D%BC%ED%95%98%EA%B8%B0.ipynb\" target=\"_parent\"><img src=\"https://colab.research.google.com/assets/colab-badge.svg\" alt=\"Open In Colab\"/></a>"
      ]
    },
    {
      "cell_type": "code",
      "metadata": {
        "colab": {
          "base_uri": "https://localhost:8080/"
        },
        "id": "e4m9MYGG4qE2",
        "outputId": "fd34f909-637b-4016-f318-fedee265a046"
      },
      "source": [
        "!pip install soynlp\n",
        "!pip install konlpy\n",
        "from soynlp.normalizer import *\n",
        "import soynlp\n",
        "\n",
        "\n"
      ],
      "execution_count": null,
      "outputs": [
        {
          "name": "stdout",
          "output_type": "stream",
          "text": [
            "Collecting soynlp\n",
            "  Downloading soynlp-0.0.493-py3-none-any.whl (416 kB)\n",
            "\u001b[?25l\r\u001b[K     |▉                               | 10 kB 24.7 MB/s eta 0:00:01\r\u001b[K     |█▋                              | 20 kB 16.0 MB/s eta 0:00:01\r\u001b[K     |██▍                             | 30 kB 19.3 MB/s eta 0:00:01\r\u001b[K     |███▏                            | 40 kB 21.6 MB/s eta 0:00:01\r\u001b[K     |████                            | 51 kB 21.1 MB/s eta 0:00:01\r\u001b[K     |████▊                           | 61 kB 15.2 MB/s eta 0:00:01\r\u001b[K     |█████▌                          | 71 kB 13.4 MB/s eta 0:00:01\r\u001b[K     |██████▎                         | 81 kB 14.7 MB/s eta 0:00:01\r\u001b[K     |███████                         | 92 kB 14.9 MB/s eta 0:00:01\r\u001b[K     |███████▉                        | 102 kB 15.7 MB/s eta 0:00:01\r\u001b[K     |████████▋                       | 112 kB 15.7 MB/s eta 0:00:01\r\u001b[K     |█████████▍                      | 122 kB 15.7 MB/s eta 0:00:01\r\u001b[K     |██████████▏                     | 133 kB 15.7 MB/s eta 0:00:01\r\u001b[K     |███████████                     | 143 kB 15.7 MB/s eta 0:00:01\r\u001b[K     |███████████▉                    | 153 kB 15.7 MB/s eta 0:00:01\r\u001b[K     |████████████▋                   | 163 kB 15.7 MB/s eta 0:00:01\r\u001b[K     |█████████████▍                  | 174 kB 15.7 MB/s eta 0:00:01\r\u001b[K     |██████████████▏                 | 184 kB 15.7 MB/s eta 0:00:01\r\u001b[K     |███████████████                 | 194 kB 15.7 MB/s eta 0:00:01\r\u001b[K     |███████████████▊                | 204 kB 15.7 MB/s eta 0:00:01\r\u001b[K     |████████████████▌               | 215 kB 15.7 MB/s eta 0:00:01\r\u001b[K     |█████████████████▎              | 225 kB 15.7 MB/s eta 0:00:01\r\u001b[K     |██████████████████              | 235 kB 15.7 MB/s eta 0:00:01\r\u001b[K     |██████████████████▉             | 245 kB 15.7 MB/s eta 0:00:01\r\u001b[K     |███████████████████▋            | 256 kB 15.7 MB/s eta 0:00:01\r\u001b[K     |████████████████████▍           | 266 kB 15.7 MB/s eta 0:00:01\r\u001b[K     |█████████████████████▎          | 276 kB 15.7 MB/s eta 0:00:01\r\u001b[K     |██████████████████████          | 286 kB 15.7 MB/s eta 0:00:01\r\u001b[K     |██████████████████████▉         | 296 kB 15.7 MB/s eta 0:00:01\r\u001b[K     |███████████████████████▋        | 307 kB 15.7 MB/s eta 0:00:01\r\u001b[K     |████████████████████████▍       | 317 kB 15.7 MB/s eta 0:00:01\r\u001b[K     |█████████████████████████▏      | 327 kB 15.7 MB/s eta 0:00:01\r\u001b[K     |██████████████████████████      | 337 kB 15.7 MB/s eta 0:00:01\r\u001b[K     |██████████████████████████▊     | 348 kB 15.7 MB/s eta 0:00:01\r\u001b[K     |███████████████████████████▌    | 358 kB 15.7 MB/s eta 0:00:01\r\u001b[K     |████████████████████████████▎   | 368 kB 15.7 MB/s eta 0:00:01\r\u001b[K     |█████████████████████████████   | 378 kB 15.7 MB/s eta 0:00:01\r\u001b[K     |█████████████████████████████▉  | 389 kB 15.7 MB/s eta 0:00:01\r\u001b[K     |██████████████████████████████▋ | 399 kB 15.7 MB/s eta 0:00:01\r\u001b[K     |███████████████████████████████▌| 409 kB 15.7 MB/s eta 0:00:01\r\u001b[K     |████████████████████████████████| 416 kB 15.7 MB/s \n",
            "\u001b[?25hRequirement already satisfied: numpy>=1.12.1 in /usr/local/lib/python3.7/dist-packages (from soynlp) (1.19.5)\n",
            "Requirement already satisfied: scikit-learn>=0.20.0 in /usr/local/lib/python3.7/dist-packages (from soynlp) (0.22.2.post1)\n",
            "Requirement already satisfied: scipy>=1.1.0 in /usr/local/lib/python3.7/dist-packages (from soynlp) (1.4.1)\n",
            "Requirement already satisfied: psutil>=5.0.1 in /usr/local/lib/python3.7/dist-packages (from soynlp) (5.4.8)\n",
            "Requirement already satisfied: joblib>=0.11 in /usr/local/lib/python3.7/dist-packages (from scikit-learn>=0.20.0->soynlp) (1.1.0)\n",
            "Installing collected packages: soynlp\n",
            "Successfully installed soynlp-0.0.493\n",
            "Collecting konlpy\n",
            "  Downloading konlpy-0.5.2-py2.py3-none-any.whl (19.4 MB)\n",
            "\u001b[K     |████████████████████████████████| 19.4 MB 1.2 MB/s \n",
            "\u001b[?25hRequirement already satisfied: numpy>=1.6 in /usr/local/lib/python3.7/dist-packages (from konlpy) (1.19.5)\n",
            "Collecting beautifulsoup4==4.6.0\n",
            "  Downloading beautifulsoup4-4.6.0-py3-none-any.whl (86 kB)\n",
            "\u001b[K     |████████████████████████████████| 86 kB 5.7 MB/s \n",
            "\u001b[?25hRequirement already satisfied: lxml>=4.1.0 in /usr/local/lib/python3.7/dist-packages (from konlpy) (4.2.6)\n",
            "Collecting JPype1>=0.7.0\n",
            "  Downloading JPype1-1.3.0-cp37-cp37m-manylinux_2_5_x86_64.manylinux1_x86_64.whl (448 kB)\n",
            "\u001b[K     |████████████████████████████████| 448 kB 65.5 MB/s \n",
            "\u001b[?25hRequirement already satisfied: tweepy>=3.7.0 in /usr/local/lib/python3.7/dist-packages (from konlpy) (3.10.0)\n",
            "Collecting colorama\n",
            "  Downloading colorama-0.4.4-py2.py3-none-any.whl (16 kB)\n",
            "Requirement already satisfied: typing-extensions in /usr/local/lib/python3.7/dist-packages (from JPype1>=0.7.0->konlpy) (3.10.0.2)\n",
            "Requirement already satisfied: six>=1.10.0 in /usr/local/lib/python3.7/dist-packages (from tweepy>=3.7.0->konlpy) (1.15.0)\n",
            "Requirement already satisfied: requests[socks]>=2.11.1 in /usr/local/lib/python3.7/dist-packages (from tweepy>=3.7.0->konlpy) (2.23.0)\n",
            "Requirement already satisfied: requests-oauthlib>=0.7.0 in /usr/local/lib/python3.7/dist-packages (from tweepy>=3.7.0->konlpy) (1.3.0)\n",
            "Requirement already satisfied: oauthlib>=3.0.0 in /usr/local/lib/python3.7/dist-packages (from requests-oauthlib>=0.7.0->tweepy>=3.7.0->konlpy) (3.1.1)\n",
            "Requirement already satisfied: urllib3!=1.25.0,!=1.25.1,<1.26,>=1.21.1 in /usr/local/lib/python3.7/dist-packages (from requests[socks]>=2.11.1->tweepy>=3.7.0->konlpy) (1.24.3)\n",
            "Requirement already satisfied: chardet<4,>=3.0.2 in /usr/local/lib/python3.7/dist-packages (from requests[socks]>=2.11.1->tweepy>=3.7.0->konlpy) (3.0.4)\n",
            "Requirement already satisfied: idna<3,>=2.5 in /usr/local/lib/python3.7/dist-packages (from requests[socks]>=2.11.1->tweepy>=3.7.0->konlpy) (2.10)\n",
            "Requirement already satisfied: certifi>=2017.4.17 in /usr/local/lib/python3.7/dist-packages (from requests[socks]>=2.11.1->tweepy>=3.7.0->konlpy) (2021.10.8)\n",
            "Requirement already satisfied: PySocks!=1.5.7,>=1.5.6 in /usr/local/lib/python3.7/dist-packages (from requests[socks]>=2.11.1->tweepy>=3.7.0->konlpy) (1.7.1)\n",
            "Installing collected packages: JPype1, colorama, beautifulsoup4, konlpy\n",
            "  Attempting uninstall: beautifulsoup4\n",
            "    Found existing installation: beautifulsoup4 4.6.3\n",
            "    Uninstalling beautifulsoup4-4.6.3:\n",
            "      Successfully uninstalled beautifulsoup4-4.6.3\n",
            "Successfully installed JPype1-1.3.0 beautifulsoup4-4.6.0 colorama-0.4.4 konlpy-0.5.2\n"
          ]
        }
      ]
    },
    {
      "cell_type": "code",
      "metadata": {
        "id": "UXuP4pAi4Qp-"
      },
      "source": [
        "\n",
        "import json\n",
        "from pandas import json_normalize\n",
        "\n",
        "import torch\n",
        "from torch import nn\n",
        "\n",
        "import numpy as np\n",
        "import pandas as pd\n",
        "import numpy as np\n",
        "import matplotlib.pyplot as plt\n",
        "import re\n",
        "import urllib.request\n",
        "from konlpy.tag import Okt\n",
        "from tqdm import tqdm\n",
        "from tensorflow.keras.preprocessing.text import Tokenizer\n",
        "from tensorflow.keras.preprocessing.sequence import pad_sequences"
      ],
      "execution_count": 2,
      "outputs": []
    },
    {
      "cell_type": "code",
      "metadata": {
        "colab": {
          "base_uri": "https://localhost:8080/"
        },
        "id": "hFr8oBdHAv-t",
        "outputId": "0d6d7672-d81c-4fc6-bc30-ceb5a2ce0a32"
      },
      "source": [
        "# json data 파일들을 google drive에 저장\n",
        "# google drive 에 있는 파일들을 접근하기 위해 mount\n",
        "from google.colab import drive\n",
        "drive.mount('/content/gdrive')"
      ],
      "execution_count": 16,
      "outputs": [
        {
          "output_type": "stream",
          "name": "stdout",
          "text": [
            "Mounted at /content/gdrive\n"
          ]
        }
      ]
    },
    {
      "cell_type": "code",
      "metadata": {
        "id": "NqHDRe3fgVLF"
      },
      "source": [
        "# Convert json file to dataFrame\n",
        "# input file parameter should be str, path and name of json file\n",
        "# output dataFrame contains utterances. \n",
        "# each utterance has dialogueInfo and participantsInfo (i.e gender)\n",
        "\n",
        "def json2df (file):\n",
        "  with open(file, 'r') as f:\n",
        "    jdata = json.load(f)\n",
        "  \n",
        "  meta_list = [['header', 'dialogueInfo', 'numberOfParticipants'],\n",
        "             ['header', 'dialogueInfo', 'numberOfUtterances'],\n",
        "             ['header', 'dialogueInfo', 'numberOfTurns'],\n",
        "             ['header', 'dialogueInfo', 'type'],\n",
        "             ['header', 'dialogueInfo', 'topic'],\n",
        "             ['header', 'dialogueInfo', 'dialogueID'],\n",
        "            ]\n",
        "  # dataframe of utterances \n",
        "  df1 = pd.json_normalize(jdata['data'][:], record_path=['body'], meta= meta_list, errors='ignore')\n",
        "  # dataframe of participants info\n",
        "  df2 = pd.json_normalize(jdata['data'], record_path=['header', 'participantsInfo'],  meta= [['header', 'dialogueInfo', 'dialogueID']], errors='ignore')\n",
        "  # join df1 and df2 where (df1.dialogueID == df2.dialogueID and df1.participantID == df2.participantID)\n",
        "  df = pd.merge(left = df1 , right = df2, how = \"left\", on = [\"header.dialogueInfo.dialogueID\", 'participantID' ],sort=False)\n",
        "\n",
        "  # rename column names\n",
        "  # 열이름 너무 길어서 바꿈. P는 참가자, U는 메시지, D는 대화, T는 turn 으로 통일시킴. 맘에 안 들면 바꿔도 ok\n",
        "  df.rename(columns = {'header.dialogueInfo.numberOfParticipants' : 'P_num', \n",
        "                       'header.dialogueInfo.numberOfUtterances': 'U_num', \n",
        "                       'header.dialogueInfo.numberOfTurns':'T_num',\n",
        "                       'header.dialogueInfo.type': 'D_type',\n",
        "                       'header.dialogueInfo.topic': 'D_topic',\n",
        "                       'header.dialogueInfo.dialogueID':'D_id',\n",
        "                       'utteranceID':'U_id',\n",
        "                       'participantID':'P_id',\n",
        "                       'turnID':'T_id',\n",
        "                       'date':'U_date',\n",
        "                       'gender':'P_gender',\n",
        "                       'residentialProvince':'P_residential',\n",
        "                       'age':'P_age'}, inplace = True)\n",
        "  # 대화 id, utterance id 를 index로 함. 마찬가지로 수정해도 됨.\n",
        "  df.set_index(['D_id','U_id'], inplace=True)\n",
        "  return df\n"
      ],
      "execution_count": 3,
      "outputs": []
    },
    {
      "cell_type": "code",
      "metadata": {
        "id": "dVAGe-cvroCw"
      },
      "source": [
        "# 행사.json, 식음료.json 등 여러 데이터셋을 하나로 만들기 위한 함수\n",
        "def concat_json2df (file_list):\n",
        "  result = None\n",
        "\n",
        "  for i, file in enumerate(file_list):\n",
        "    df = json2df(file)\n",
        "    if (i==0):\n",
        "      result = df.copy()\n",
        "    else:\n",
        "      result = pd.concat([result,df])\n",
        "  return result"
      ],
      "execution_count": 4,
      "outputs": []
    },
    {
      "cell_type": "code",
      "metadata": {
        "colab": {
          "base_uri": "https://localhost:8080/",
          "height": 709
        },
        "id": "EggR18Hvsdcb",
        "outputId": "039f27be-1d81-4d1a-b0b4-876f2ca17a67"
      },
      "source": [
        "#f_list = ['/content/gdrive/MyDrive/cose461/행사.json',\n",
        "#          '/content/gdrive/MyDrive/cose461/식음료.json']\n",
        "f_list = ['/content/gdrive/MyDrive/cose461/일과직업.json']\n",
        "\n",
        "\n",
        "\n",
        "df = concat_json2df(f_list)\n",
        "\n",
        "#test3.describe()\n",
        "df"
      ],
      "execution_count": 5,
      "outputs": [
        {
          "output_type": "execute_result",
          "data": {
            "text/html": [
              "<div>\n",
              "<style scoped>\n",
              "    .dataframe tbody tr th:only-of-type {\n",
              "        vertical-align: middle;\n",
              "    }\n",
              "\n",
              "    .dataframe tbody tr th {\n",
              "        vertical-align: top;\n",
              "    }\n",
              "\n",
              "    .dataframe thead th {\n",
              "        text-align: right;\n",
              "    }\n",
              "</style>\n",
              "<table border=\"1\" class=\"dataframe\">\n",
              "  <thead>\n",
              "    <tr style=\"text-align: right;\">\n",
              "      <th></th>\n",
              "      <th></th>\n",
              "      <th>utterance</th>\n",
              "      <th>P_id</th>\n",
              "      <th>U_date</th>\n",
              "      <th>T_id</th>\n",
              "      <th>time</th>\n",
              "      <th>P_num</th>\n",
              "      <th>U_num</th>\n",
              "      <th>T_num</th>\n",
              "      <th>D_type</th>\n",
              "      <th>D_topic</th>\n",
              "      <th>P_age</th>\n",
              "      <th>P_residential</th>\n",
              "      <th>P_gender</th>\n",
              "    </tr>\n",
              "    <tr>\n",
              "      <th>D_id</th>\n",
              "      <th>U_id</th>\n",
              "      <th></th>\n",
              "      <th></th>\n",
              "      <th></th>\n",
              "      <th></th>\n",
              "      <th></th>\n",
              "      <th></th>\n",
              "      <th></th>\n",
              "      <th></th>\n",
              "      <th></th>\n",
              "      <th></th>\n",
              "      <th></th>\n",
              "      <th></th>\n",
              "      <th></th>\n",
              "    </tr>\n",
              "  </thead>\n",
              "  <tbody>\n",
              "    <tr>\n",
              "      <th rowspan=\"5\" valign=\"top\">b389d045-aa23-5e1e-af64-7406b1ad921c</th>\n",
              "      <th>U1</th>\n",
              "      <td>여러 명 같이 하나보네?</td>\n",
              "      <td>P01</td>\n",
              "      <td>2020-10-07</td>\n",
              "      <td>T1</td>\n",
              "      <td>13:18:00</td>\n",
              "      <td>2</td>\n",
              "      <td>10</td>\n",
              "      <td>4</td>\n",
              "      <td>일상 대화</td>\n",
              "      <td>일과 직업</td>\n",
              "      <td>20대</td>\n",
              "      <td>광주광역시</td>\n",
              "      <td>여성</td>\n",
              "    </tr>\n",
              "    <tr>\n",
              "      <th>U2</th>\n",
              "      <td>#@이모티콘#</td>\n",
              "      <td>P01</td>\n",
              "      <td>2020-10-07</td>\n",
              "      <td>T1</td>\n",
              "      <td>13:18:00</td>\n",
              "      <td>2</td>\n",
              "      <td>10</td>\n",
              "      <td>4</td>\n",
              "      <td>일상 대화</td>\n",
              "      <td>일과 직업</td>\n",
              "      <td>20대</td>\n",
              "      <td>광주광역시</td>\n",
              "      <td>여성</td>\n",
              "    </tr>\n",
              "    <tr>\n",
              "      <th>U3</th>\n",
              "      <td>응 한 10명?</td>\n",
              "      <td>P02</td>\n",
              "      <td>2020-10-07</td>\n",
              "      <td>T2</td>\n",
              "      <td>13:19:00</td>\n",
              "      <td>2</td>\n",
              "      <td>10</td>\n",
              "      <td>4</td>\n",
              "      <td>일상 대화</td>\n",
              "      <td>일과 직업</td>\n",
              "      <td>20대</td>\n",
              "      <td>서울특별시</td>\n",
              "      <td>여성</td>\n",
              "    </tr>\n",
              "    <tr>\n",
              "      <th>U4</th>\n",
              "      <td>프로그램 다운이 안 됐대</td>\n",
              "      <td>P02</td>\n",
              "      <td>2020-10-07</td>\n",
              "      <td>T2</td>\n",
              "      <td>13:19:00</td>\n",
              "      <td>2</td>\n",
              "      <td>10</td>\n",
              "      <td>4</td>\n",
              "      <td>일상 대화</td>\n",
              "      <td>일과 직업</td>\n",
              "      <td>20대</td>\n",
              "      <td>서울특별시</td>\n",
              "      <td>여성</td>\n",
              "    </tr>\n",
              "    <tr>\n",
              "      <th>U5</th>\n",
              "      <td>아</td>\n",
              "      <td>P01</td>\n",
              "      <td>2020-10-07</td>\n",
              "      <td>T3</td>\n",
              "      <td>13:19:00</td>\n",
              "      <td>2</td>\n",
              "      <td>10</td>\n",
              "      <td>4</td>\n",
              "      <td>일상 대화</td>\n",
              "      <td>일과 직업</td>\n",
              "      <td>20대</td>\n",
              "      <td>광주광역시</td>\n",
              "      <td>여성</td>\n",
              "    </tr>\n",
              "    <tr>\n",
              "      <th>...</th>\n",
              "      <th>...</th>\n",
              "      <td>...</td>\n",
              "      <td>...</td>\n",
              "      <td>...</td>\n",
              "      <td>...</td>\n",
              "      <td>...</td>\n",
              "      <td>...</td>\n",
              "      <td>...</td>\n",
              "      <td>...</td>\n",
              "      <td>...</td>\n",
              "      <td>...</td>\n",
              "      <td>...</td>\n",
              "      <td>...</td>\n",
              "      <td>...</td>\n",
              "    </tr>\n",
              "    <tr>\n",
              "      <th rowspan=\"5\" valign=\"top\">7a34f374-c380-5d44-9d97-5f00ff601e2b</th>\n",
              "      <th>U13</th>\n",
              "      <td>밖에서 은근슬쩍</td>\n",
              "      <td>P01</td>\n",
              "      <td>2020-08-03</td>\n",
              "      <td>T9</td>\n",
              "      <td>16:13:00</td>\n",
              "      <td>2</td>\n",
              "      <td>17</td>\n",
              "      <td>10</td>\n",
              "      <td>일상 대화</td>\n",
              "      <td>일과 직업</td>\n",
              "      <td>20대</td>\n",
              "      <td>경기도</td>\n",
              "      <td>여성</td>\n",
              "    </tr>\n",
              "    <tr>\n",
              "      <th>U14</th>\n",
              "      <td>#@이름#씨</td>\n",
              "      <td>P01</td>\n",
              "      <td>2020-08-03</td>\n",
              "      <td>T9</td>\n",
              "      <td>16:13:00</td>\n",
              "      <td>2</td>\n",
              "      <td>17</td>\n",
              "      <td>10</td>\n",
              "      <td>일상 대화</td>\n",
              "      <td>일과 직업</td>\n",
              "      <td>20대</td>\n",
              "      <td>경기도</td>\n",
              "      <td>여성</td>\n",
              "    </tr>\n",
              "    <tr>\n",
              "      <th>U15</th>\n",
              "      <td>말놓는다</td>\n",
              "      <td>P01</td>\n",
              "      <td>2020-08-03</td>\n",
              "      <td>T9</td>\n",
              "      <td>16:13:00</td>\n",
              "      <td>2</td>\n",
              "      <td>17</td>\n",
              "      <td>10</td>\n",
              "      <td>일상 대화</td>\n",
              "      <td>일과 직업</td>\n",
              "      <td>20대</td>\n",
              "      <td>경기도</td>\n",
              "      <td>여성</td>\n",
              "    </tr>\n",
              "    <tr>\n",
              "      <th>U16</th>\n",
              "      <td>오 둘이 동갑이야~? 이러면</td>\n",
              "      <td>P02</td>\n",
              "      <td>2020-08-03</td>\n",
              "      <td>T10</td>\n",
              "      <td>16:13:00</td>\n",
              "      <td>2</td>\n",
              "      <td>17</td>\n",
              "      <td>10</td>\n",
              "      <td>일상 대화</td>\n",
              "      <td>일과 직업</td>\n",
              "      <td>20대</td>\n",
              "      <td>경기도</td>\n",
              "      <td>여성</td>\n",
              "    </tr>\n",
              "    <tr>\n",
              "      <th>U17</th>\n",
              "      <td>아뇨? 저 30살인데요!</td>\n",
              "      <td>P02</td>\n",
              "      <td>2020-08-03</td>\n",
              "      <td>T10</td>\n",
              "      <td>16:13:00</td>\n",
              "      <td>2</td>\n",
              "      <td>17</td>\n",
              "      <td>10</td>\n",
              "      <td>일상 대화</td>\n",
              "      <td>일과 직업</td>\n",
              "      <td>20대</td>\n",
              "      <td>경기도</td>\n",
              "      <td>여성</td>\n",
              "    </tr>\n",
              "  </tbody>\n",
              "</table>\n",
              "<p>1166093 rows × 13 columns</p>\n",
              "</div>"
            ],
            "text/plain": [
              "                                                 utterance  ... P_gender\n",
              "D_id                                 U_id                   ...         \n",
              "b389d045-aa23-5e1e-af64-7406b1ad921c U1      여러 명 같이 하나보네?  ...       여성\n",
              "                                     U2            #@이모티콘#  ...       여성\n",
              "                                     U3           응 한 10명?  ...       여성\n",
              "                                     U4      프로그램 다운이 안 됐대  ...       여성\n",
              "                                     U5                  아  ...       여성\n",
              "...                                                    ...  ...      ...\n",
              "7a34f374-c380-5d44-9d97-5f00ff601e2b U13          밖에서 은근슬쩍  ...       여성\n",
              "                                     U14            #@이름#씨  ...       여성\n",
              "                                     U15              말놓는다  ...       여성\n",
              "                                     U16   오 둘이 동갑이야~? 이러면  ...       여성\n",
              "                                     U17     아뇨? 저 30살인데요!  ...       여성\n",
              "\n",
              "[1166093 rows x 13 columns]"
            ]
          },
          "metadata": {},
          "execution_count": 5
        }
      ]
    },
    {
      "cell_type": "markdown",
      "metadata": {
        "id": "U3FLaHkDZG9M"
      },
      "source": [
        "# 1. lstm 모델\n",
        "\n",
        "https://wikidocs.net/44249 \n",
        "이 내용 거의 따라함\n",
        "\n",
        "그냥 raw 하게 각 메시지의 화자 성별을 예측하도록"
      ]
    },
    {
      "cell_type": "code",
      "metadata": {
        "colab": {
          "base_uri": "https://localhost:8080/"
        },
        "id": "6aZEi3FG5fmk",
        "outputId": "f0780b95-f25c-4dee-e395-70b7448ef0c6"
      },
      "source": [
        "from soynlp.tokenizer import RegexTokenizer\n",
        "from soynlp.normalizer import *\n",
        "\n",
        "tokenizer = RegexTokenizer()"
      ],
      "execution_count": 6,
      "outputs": [
        {
          "output_type": "stream",
          "name": "stderr",
          "text": [
            "/usr/local/lib/python3.7/dist-packages/soynlp/tokenizer/_tokenizer.py:19: FutureWarning: Possible nested set at position 13\n",
            "  ('english & latin', re.compile(u\"[a-zA-ZÀ-ÿ]+[[`']?s]*|[a-zA-ZÀ-ÿ]+\", re.UNICODE))\n"
          ]
        }
      ]
    },
    {
      "cell_type": "code",
      "metadata": {
        "colab": {
          "base_uri": "https://localhost:8080/"
        },
        "id": "0eO5NFLhITuF",
        "outputId": "335c2b60-fc9d-4169-dd58-c3bd290726aa"
      },
      "source": [
        "# Naive-Bayes Method.\n",
        "df = df[['utterance', 'P_gender']]\n",
        "df['P_gender'].value_counts()"
      ],
      "execution_count": 7,
      "outputs": [
        {
          "output_type": "execute_result",
          "data": {
            "text/plain": [
              "여성    970761\n",
              "남성    195332\n",
              "Name: P_gender, dtype: int64"
            ]
          },
          "metadata": {},
          "execution_count": 7
        }
      ]
    },
    {
      "cell_type": "code",
      "metadata": {
        "colab": {
          "base_uri": "https://localhost:8080/",
          "height": 577
        },
        "id": "H1RLmBieJe0V",
        "outputId": "963eeb73-0b02-4524-9e71-9b846fabfb11"
      },
      "source": [
        "# Gender to discrete variable\n",
        "# 0 : '여성', 1 : '남성'\n",
        "df['P_gender'] = [0 if gender=='여성' else 1 for gender in df['P_gender']]\n",
        "df"
      ],
      "execution_count": 8,
      "outputs": [
        {
          "output_type": "stream",
          "name": "stderr",
          "text": [
            "/usr/local/lib/python3.7/dist-packages/ipykernel_launcher.py:3: SettingWithCopyWarning: \n",
            "A value is trying to be set on a copy of a slice from a DataFrame.\n",
            "Try using .loc[row_indexer,col_indexer] = value instead\n",
            "\n",
            "See the caveats in the documentation: https://pandas.pydata.org/pandas-docs/stable/user_guide/indexing.html#returning-a-view-versus-a-copy\n",
            "  This is separate from the ipykernel package so we can avoid doing imports until\n"
          ]
        },
        {
          "output_type": "execute_result",
          "data": {
            "text/html": [
              "<div>\n",
              "<style scoped>\n",
              "    .dataframe tbody tr th:only-of-type {\n",
              "        vertical-align: middle;\n",
              "    }\n",
              "\n",
              "    .dataframe tbody tr th {\n",
              "        vertical-align: top;\n",
              "    }\n",
              "\n",
              "    .dataframe thead th {\n",
              "        text-align: right;\n",
              "    }\n",
              "</style>\n",
              "<table border=\"1\" class=\"dataframe\">\n",
              "  <thead>\n",
              "    <tr style=\"text-align: right;\">\n",
              "      <th></th>\n",
              "      <th></th>\n",
              "      <th>utterance</th>\n",
              "      <th>P_gender</th>\n",
              "    </tr>\n",
              "    <tr>\n",
              "      <th>D_id</th>\n",
              "      <th>U_id</th>\n",
              "      <th></th>\n",
              "      <th></th>\n",
              "    </tr>\n",
              "  </thead>\n",
              "  <tbody>\n",
              "    <tr>\n",
              "      <th rowspan=\"5\" valign=\"top\">b389d045-aa23-5e1e-af64-7406b1ad921c</th>\n",
              "      <th>U1</th>\n",
              "      <td>여러 명 같이 하나보네?</td>\n",
              "      <td>0</td>\n",
              "    </tr>\n",
              "    <tr>\n",
              "      <th>U2</th>\n",
              "      <td>#@이모티콘#</td>\n",
              "      <td>0</td>\n",
              "    </tr>\n",
              "    <tr>\n",
              "      <th>U3</th>\n",
              "      <td>응 한 10명?</td>\n",
              "      <td>0</td>\n",
              "    </tr>\n",
              "    <tr>\n",
              "      <th>U4</th>\n",
              "      <td>프로그램 다운이 안 됐대</td>\n",
              "      <td>0</td>\n",
              "    </tr>\n",
              "    <tr>\n",
              "      <th>U5</th>\n",
              "      <td>아</td>\n",
              "      <td>0</td>\n",
              "    </tr>\n",
              "    <tr>\n",
              "      <th>...</th>\n",
              "      <th>...</th>\n",
              "      <td>...</td>\n",
              "      <td>...</td>\n",
              "    </tr>\n",
              "    <tr>\n",
              "      <th rowspan=\"5\" valign=\"top\">7a34f374-c380-5d44-9d97-5f00ff601e2b</th>\n",
              "      <th>U13</th>\n",
              "      <td>밖에서 은근슬쩍</td>\n",
              "      <td>0</td>\n",
              "    </tr>\n",
              "    <tr>\n",
              "      <th>U14</th>\n",
              "      <td>#@이름#씨</td>\n",
              "      <td>0</td>\n",
              "    </tr>\n",
              "    <tr>\n",
              "      <th>U15</th>\n",
              "      <td>말놓는다</td>\n",
              "      <td>0</td>\n",
              "    </tr>\n",
              "    <tr>\n",
              "      <th>U16</th>\n",
              "      <td>오 둘이 동갑이야~? 이러면</td>\n",
              "      <td>0</td>\n",
              "    </tr>\n",
              "    <tr>\n",
              "      <th>U17</th>\n",
              "      <td>아뇨? 저 30살인데요!</td>\n",
              "      <td>0</td>\n",
              "    </tr>\n",
              "  </tbody>\n",
              "</table>\n",
              "<p>1166093 rows × 2 columns</p>\n",
              "</div>"
            ],
            "text/plain": [
              "                                                 utterance  P_gender\n",
              "D_id                                 U_id                           \n",
              "b389d045-aa23-5e1e-af64-7406b1ad921c U1      여러 명 같이 하나보네?         0\n",
              "                                     U2            #@이모티콘#         0\n",
              "                                     U3           응 한 10명?         0\n",
              "                                     U4      프로그램 다운이 안 됐대         0\n",
              "                                     U5                  아         0\n",
              "...                                                    ...       ...\n",
              "7a34f374-c380-5d44-9d97-5f00ff601e2b U13          밖에서 은근슬쩍         0\n",
              "                                     U14            #@이름#씨         0\n",
              "                                     U15              말놓는다         0\n",
              "                                     U16   오 둘이 동갑이야~? 이러면         0\n",
              "                                     U17     아뇨? 저 30살인데요!         0\n",
              "\n",
              "[1166093 rows x 2 columns]"
            ]
          },
          "metadata": {},
          "execution_count": 8
        }
      ]
    },
    {
      "cell_type": "code",
      "metadata": {
        "id": "o7yZ1kft9fhw"
      },
      "source": [
        "\n",
        "\"\"\"\n",
        "# soynlp 의 repeat_normalzie 함수\n",
        "# 반복되는 글자들을 num_repeat 수 만큼 통일시킨다.\n",
        "# 그냥 이 함수를 쓸까 하다가 다 똑같이 통일하면 의미를 온전히 표현 못할 수도 있을거 같아서 나중에 필요하면 ㅋㅋㅋ 개수를 threshold를 기준으로 분류하든지\n",
        "\n",
        "def repeat_normalize(sent, num_repeats=2):\n",
        "    if num_repeats > 0:\n",
        "        sent = soynlp.repeatchars_pattern.sub('\\\\1' * num_repeats, sent)\n",
        "    sent = doublespace_pattern.sub(' ', sent)\n",
        "    return sent.strip()\n",
        "\"\"\"\n",
        "def my_repeat_normalize(sent, num_repeats=2):\n",
        "    if num_repeats > 0:\n",
        "        sent = soynlp.repeatchars_pattern.sub('\\\\1' * num_repeats, sent)\n",
        "    sent = doublespace_pattern.sub(' ', sent)\n",
        "    return sent.strip()\n"
      ],
      "execution_count": 9,
      "outputs": []
    },
    {
      "cell_type": "code",
      "metadata": {
        "colab": {
          "base_uri": "https://localhost:8080/",
          "height": 534
        },
        "id": "MLWHr3yy5mbo",
        "outputId": "ed75ecdd-db01-4882-d023-4287a88a473b"
      },
      "source": [
        "# soynlp 설명 참고 링크\n",
        "#https://github.com/lovit/soynlp\n",
        "# df['utterance'] 에서 ㅋㅋㅋㅋㅋ와 같이 반복되는 글지 normalize 하고 tokenize\n",
        "\n",
        "def text_normalize(sent):\n",
        "  #result= emoticon_normalize(sent, num_repeats= 2)\n",
        "  result = tokenizer.tokenize(sent)\n",
        "  for i, token in enumerate(result):  \n",
        "    tmp = emoticon_normalize(token, num_repeats= 2)\n",
        "    result[i] = repeat_normalize(tmp, num_repeats=1)\n",
        "    #result[i] = tmp\n",
        "    pass\n",
        "  return result\n",
        "\n",
        "df['sents'] = df['utterance'].apply(text_normalize)\n",
        "df.head(10)"
      ],
      "execution_count": 10,
      "outputs": [
        {
          "output_type": "stream",
          "name": "stderr",
          "text": [
            "/usr/local/lib/python3.7/dist-packages/ipykernel_launcher.py:15: SettingWithCopyWarning: \n",
            "A value is trying to be set on a copy of a slice from a DataFrame.\n",
            "Try using .loc[row_indexer,col_indexer] = value instead\n",
            "\n",
            "See the caveats in the documentation: https://pandas.pydata.org/pandas-docs/stable/user_guide/indexing.html#returning-a-view-versus-a-copy\n",
            "  from ipykernel import kernelapp as app\n"
          ]
        },
        {
          "output_type": "execute_result",
          "data": {
            "text/html": [
              "<div>\n",
              "<style scoped>\n",
              "    .dataframe tbody tr th:only-of-type {\n",
              "        vertical-align: middle;\n",
              "    }\n",
              "\n",
              "    .dataframe tbody tr th {\n",
              "        vertical-align: top;\n",
              "    }\n",
              "\n",
              "    .dataframe thead th {\n",
              "        text-align: right;\n",
              "    }\n",
              "</style>\n",
              "<table border=\"1\" class=\"dataframe\">\n",
              "  <thead>\n",
              "    <tr style=\"text-align: right;\">\n",
              "      <th></th>\n",
              "      <th></th>\n",
              "      <th>utterance</th>\n",
              "      <th>P_gender</th>\n",
              "      <th>sents</th>\n",
              "    </tr>\n",
              "    <tr>\n",
              "      <th>D_id</th>\n",
              "      <th>U_id</th>\n",
              "      <th></th>\n",
              "      <th></th>\n",
              "      <th></th>\n",
              "    </tr>\n",
              "  </thead>\n",
              "  <tbody>\n",
              "    <tr>\n",
              "      <th rowspan=\"10\" valign=\"top\">b389d045-aa23-5e1e-af64-7406b1ad921c</th>\n",
              "      <th>U1</th>\n",
              "      <td>여러 명 같이 하나보네?</td>\n",
              "      <td>0</td>\n",
              "      <td>[여러, 명, 같이, 하나보네, ?]</td>\n",
              "    </tr>\n",
              "    <tr>\n",
              "      <th>U2</th>\n",
              "      <td>#@이모티콘#</td>\n",
              "      <td>0</td>\n",
              "      <td>[#@, 이모티콘, #]</td>\n",
              "    </tr>\n",
              "    <tr>\n",
              "      <th>U3</th>\n",
              "      <td>응 한 10명?</td>\n",
              "      <td>0</td>\n",
              "      <td>[응, 한, 10, 명, ?]</td>\n",
              "    </tr>\n",
              "    <tr>\n",
              "      <th>U4</th>\n",
              "      <td>프로그램 다운이 안 됐대</td>\n",
              "      <td>0</td>\n",
              "      <td>[프로그램, 다운이, 안, 됐대]</td>\n",
              "    </tr>\n",
              "    <tr>\n",
              "      <th>U5</th>\n",
              "      <td>아</td>\n",
              "      <td>0</td>\n",
              "      <td>[아]</td>\n",
              "    </tr>\n",
              "    <tr>\n",
              "      <th>U6</th>\n",
              "      <td>강제로 쉬는 시간</td>\n",
              "      <td>0</td>\n",
              "      <td>[강제로, 쉬는, 시간]</td>\n",
              "    </tr>\n",
              "    <tr>\n",
              "      <th>U7</th>\n",
              "      <td>평일엥 일하겠네 우리 #@이름#</td>\n",
              "      <td>0</td>\n",
              "      <td>[평일엥, 일하겠네, 우리, #@, 이름, #]</td>\n",
              "    </tr>\n",
              "    <tr>\n",
              "      <th>U8</th>\n",
              "      <td>평일엔...</td>\n",
              "      <td>0</td>\n",
              "      <td>[평일엔, ...]</td>\n",
              "    </tr>\n",
              "    <tr>\n",
              "      <th>U9</th>\n",
              "      <td>다음 주부터는</td>\n",
              "      <td>0</td>\n",
              "      <td>[다음, 주부터는]</td>\n",
              "    </tr>\n",
              "    <tr>\n",
              "      <th>U10</th>\n",
              "      <td>바쁘겠다</td>\n",
              "      <td>0</td>\n",
              "      <td>[바쁘겠다]</td>\n",
              "    </tr>\n",
              "  </tbody>\n",
              "</table>\n",
              "</div>"
            ],
            "text/plain": [
              "                                                   utterance  ...                       sents\n",
              "D_id                                 U_id                     ...                            \n",
              "b389d045-aa23-5e1e-af64-7406b1ad921c U1        여러 명 같이 하나보네?  ...        [여러, 명, 같이, 하나보네, ?]\n",
              "                                     U2              #@이모티콘#  ...               [#@, 이모티콘, #]\n",
              "                                     U3             응 한 10명?  ...            [응, 한, 10, 명, ?]\n",
              "                                     U4        프로그램 다운이 안 됐대  ...          [프로그램, 다운이, 안, 됐대]\n",
              "                                     U5                    아  ...                         [아]\n",
              "                                     U6            강제로 쉬는 시간  ...               [강제로, 쉬는, 시간]\n",
              "                                     U7    평일엥 일하겠네 우리 #@이름#  ...  [평일엥, 일하겠네, 우리, #@, 이름, #]\n",
              "                                     U8               평일엔...  ...                  [평일엔, ...]\n",
              "                                     U9              다음 주부터는  ...                  [다음, 주부터는]\n",
              "                                     U10                바쁘겠다  ...                      [바쁘겠다]\n",
              "\n",
              "[10 rows x 3 columns]"
            ]
          },
          "metadata": {},
          "execution_count": 10
        }
      ]
    },
    {
      "cell_type": "markdown",
      "metadata": {
        "id": "fcYfjWDICRit"
      },
      "source": [
        "데이터 전처리 고려해야 할 점 ㅜㅜ\n",
        "\n",
        "- ㅋㅋㅋㅋ, ㅇㅇㅇㅇ 어떻게 처리할지. 단순히 여러개 있어도 다 같은 걸로 취급할지 말지\n",
        "- !, ? 도 마찬가지. soynlp의 textonly 함수를 통해 기호들은 제거가 쉽게 가능할듯 한데. 그럼 정보의 손실이 있을수도\n",
        "- 이모티콘 이름. 우리 데이터에서 사람 이름은 #@이름# 으로 되어있음. \n",
        "- 형태소 분석"
      ]
    },
    {
      "cell_type": "code",
      "metadata": {
        "id": "TlFMaG3c3gAK"
      },
      "source": [
        "### word embedding 만들기 위해 corpus 처럼 만들자\n",
        "my =df['sents'].values\n",
        "my = my.tolist()\n"
      ],
      "execution_count": 11,
      "outputs": []
    },
    {
      "cell_type": "code",
      "metadata": {
        "colab": {
          "base_uri": "https://localhost:8080/"
        },
        "id": "A4CkOySuFWn5",
        "outputId": "34212ade-7289-4aa0-dcbb-e2050688c1b5"
      },
      "source": [
        "from gensim.models import Word2Vec\n",
        "from gensim.models import KeyedVectors\n",
        "import gensim\n",
        "\n",
        "embedding = gensim.models.Word2Vec(my, size=10, window=7, negative=3, min_count=0)\n",
        "embedding.save('word2vec.model')  # weight vector 모델을 저장합니다.\n",
        "\n",
        "model_ = gensim.models.Word2Vec.load('word2vec.model') # Weight Vector 모델을 볼러와 유사한 단어를 예측합니다.\n",
        "print(model_.wv['선풍기'])\n",
        "print(model_.most_similar('선풍기'))"
      ],
      "execution_count": 34,
      "outputs": [
        {
          "output_type": "stream",
          "name": "stdout",
          "text": [
            "[ 0.02112307  0.03254147  0.04768515 -0.0029393   0.00822681 -0.02255999\n",
            "  0.03092879  0.01184177  0.04574927 -0.04614364]\n",
            "[('엄마한테', 0.8329931497573853), ('ㅈ', 0.8307013511657715), ('이모가', 0.8080521821975708), ('딱딱', 0.7413960695266724), ('창문은요', 0.6837728023529053), ('일대일하던가', 0.6676013469696045), ('!', 0.6529248952865601), ('그전에', 0.610842227935791), ('일하고와서', 0.5693598985671997), ('봅시당', 0.5555441975593567)]\n"
          ]
        },
        {
          "output_type": "stream",
          "name": "stderr",
          "text": [
            "/usr/local/lib/python3.7/dist-packages/ipykernel_launcher.py:10: DeprecationWarning: Call to deprecated `most_similar` (Method will be removed in 4.0.0, use self.wv.most_similar() instead).\n",
            "  # Remove the CWD from sys.path while we load stuff.\n"
          ]
        }
      ]
    },
    {
      "cell_type": "code",
      "metadata": {
        "colab": {
          "base_uri": "https://localhost:8080/"
        },
        "id": "c-6f5L1FSG6e",
        "outputId": "617be8cc-c5cb-4234-ab58-ceb9ce14efec"
      },
      "source": [
        "df_women = df[df['P_gender']==0]\n",
        "df_men = df[df['P_gender']==1]\n",
        "\n",
        "print(\"Number of women : {}, Number of men : {}\".format(df_women['P_gender'].value_counts()[0], df_men['P_gender'].value_counts()[1]))"
      ],
      "execution_count": 12,
      "outputs": [
        {
          "output_type": "stream",
          "name": "stdout",
          "text": [
            "Number of women : 970761, Number of men : 195332\n"
          ]
        }
      ]
    },
    {
      "cell_type": "code",
      "metadata": {
        "colab": {
          "base_uri": "https://localhost:8080/",
          "height": 337
        },
        "id": "g8ElT8jRTvxQ",
        "outputId": "1f6247da-7170-4276-bb31-d2553db78f02"
      },
      "source": [
        "df_women = df_women.sample(n= df_men['P_gender'].value_counts()[1], random_state=7)\n",
        "df = pd.concat([df_women, df_men], sort=True)\n",
        "df.head()"
      ],
      "execution_count": 13,
      "outputs": [
        {
          "output_type": "execute_result",
          "data": {
            "text/html": [
              "<div>\n",
              "<style scoped>\n",
              "    .dataframe tbody tr th:only-of-type {\n",
              "        vertical-align: middle;\n",
              "    }\n",
              "\n",
              "    .dataframe tbody tr th {\n",
              "        vertical-align: top;\n",
              "    }\n",
              "\n",
              "    .dataframe thead th {\n",
              "        text-align: right;\n",
              "    }\n",
              "</style>\n",
              "<table border=\"1\" class=\"dataframe\">\n",
              "  <thead>\n",
              "    <tr style=\"text-align: right;\">\n",
              "      <th></th>\n",
              "      <th></th>\n",
              "      <th>P_gender</th>\n",
              "      <th>sents</th>\n",
              "      <th>utterance</th>\n",
              "    </tr>\n",
              "    <tr>\n",
              "      <th>D_id</th>\n",
              "      <th>U_id</th>\n",
              "      <th></th>\n",
              "      <th></th>\n",
              "      <th></th>\n",
              "    </tr>\n",
              "  </thead>\n",
              "  <tbody>\n",
              "    <tr>\n",
              "      <th>87da480b-5ddf-5d22-a259-fb454f7185df</th>\n",
              "      <th>U5</th>\n",
              "      <td>0</td>\n",
              "      <td>[면대면이, 아니니, 스트레스가, 덜하고, ..., 숨고통해서, 하면, 안전번호라,...</td>\n",
              "      <td>면대면이 아니니 스트레스가 덜하고...숨고통해서 하면 안전번호라 내 번호 그사람 번...</td>\n",
              "    </tr>\n",
              "    <tr>\n",
              "      <th>dc003b02-9594-5f3d-a788-a537bd4c44e7</th>\n",
              "      <th>U22</th>\n",
              "      <td>0</td>\n",
              "      <td>[#@, 이름, #, 과장님이, #@, 이름, #, 씨, 오케이랫다는데]</td>\n",
              "      <td>#@이름#과장님이 #@이름#씨 오케이랫다는데</td>\n",
              "    </tr>\n",
              "    <tr>\n",
              "      <th>7b079598-ae06-578b-8de1-b4f0667d704f</th>\n",
              "      <th>U1</th>\n",
              "      <td>0</td>\n",
              "      <td>[나보다, 윗사람, 대할때]</td>\n",
              "      <td>나보다 윗사람 대할때</td>\n",
              "    </tr>\n",
              "    <tr>\n",
              "      <th>d0a6d807-0e24-5db8-add6-8fdf4c3a72e5</th>\n",
              "      <th>U3</th>\n",
              "      <td>0</td>\n",
              "      <td>[생리, 할때마다, 저래, 진짜, 짜증나게, 한달에, 하루이틀씩]</td>\n",
              "      <td>생리 할때마다 저래 진짜 짜증나게 한달에 하루이틀씩</td>\n",
              "    </tr>\n",
              "    <tr>\n",
              "      <th>cdbc850f-ae91-5524-8098-3b29e5f924ac</th>\n",
              "      <th>U11</th>\n",
              "      <td>0</td>\n",
              "      <td>[이, 연극을, 통해, 보여주고, 싶은, 것, ,,]</td>\n",
              "      <td>이 연극을 통해 보여주고 싶은 것,,</td>\n",
              "    </tr>\n",
              "  </tbody>\n",
              "</table>\n",
              "</div>"
            ],
            "text/plain": [
              "                                           P_gender  ...                                          utterance\n",
              "D_id                                 U_id            ...                                                   \n",
              "87da480b-5ddf-5d22-a259-fb454f7185df U5           0  ...  면대면이 아니니 스트레스가 덜하고...숨고통해서 하면 안전번호라 내 번호 그사람 번...\n",
              "dc003b02-9594-5f3d-a788-a537bd4c44e7 U22          0  ...                           #@이름#과장님이 #@이름#씨 오케이랫다는데\n",
              "7b079598-ae06-578b-8de1-b4f0667d704f U1           0  ...                                        나보다 윗사람 대할때\n",
              "d0a6d807-0e24-5db8-add6-8fdf4c3a72e5 U3           0  ...                       생리 할때마다 저래 진짜 짜증나게 한달에 하루이틀씩\n",
              "cdbc850f-ae91-5524-8098-3b29e5f924ac U11          0  ...                               이 연극을 통해 보여주고 싶은 것,,\n",
              "\n",
              "[5 rows x 3 columns]"
            ]
          },
          "metadata": {},
          "execution_count": 13
        }
      ]
    },
    {
      "cell_type": "code",
      "metadata": {
        "id": "1RsXO5MKKTWH"
      },
      "source": [
        "X = df['sents']\n",
        "y = df['P_gender']\n",
        "\n",
        "from sklearn.naive_bayes import MultinomialNB\n",
        "from sklearn.feature_extraction.text import CountVectorizer\n",
        "from sklearn.model_selection import train_test_split\n",
        "from sklearn.metrics import classification_report, confusion_matrix\n",
        "\n",
        "X_train, X_test, y_train, y_test = train_test_split(X, y, test_size=0.2, random_state=7)\n",
        "X_train, X_val, y_train, y_val = train_test_split(X_train, y_train, test_size=0.25, random_state=7)\n",
        "\n"
      ],
      "execution_count": 14,
      "outputs": []
    },
    {
      "cell_type": "code",
      "metadata": {
        "id": "j3VpFun6P2SY"
      },
      "source": [
        "tokenizer = Tokenizer()\n",
        "tokenizer.fit_on_texts(X_train)"
      ],
      "execution_count": 15,
      "outputs": []
    },
    {
      "cell_type": "code",
      "metadata": {
        "colab": {
          "base_uri": "https://localhost:8080/"
        },
        "id": "VgdGogzYPtHD",
        "outputId": "408e7219-8f2b-4c76-e537-639aa9533570"
      },
      "source": [
        "print(tokenizer.word_index)"
      ],
      "execution_count": 16,
      "outputs": [
        {
          "output_type": "stream",
          "name": "stderr",
          "text": [
            "IOPub data rate exceeded.\n",
            "The notebook server will temporarily stop sending output\n",
            "to the client in order to avoid crashing it.\n",
            "To change this limit, set the config variable\n",
            "`--NotebookApp.iopub_data_rate_limit`.\n",
            "\n",
            "Current values:\n",
            "NotebookApp.iopub_data_rate_limit=1000000.0 (bytes/sec)\n",
            "NotebookApp.rate_limit_window=3.0 (secs)\n",
            "\n"
          ]
        }
      ]
    },
    {
      "cell_type": "code",
      "metadata": {
        "colab": {
          "base_uri": "https://localhost:8080/"
        },
        "id": "ZEoQZw53QUzi",
        "outputId": "cb00de47-865f-4d7f-c627-489ba2d8487a"
      },
      "source": [
        "threshold = 3\n",
        "total_cnt = len(tokenizer.word_index) # 단어의 수\n",
        "rare_cnt = 0 # 등장 빈도수가 threshold보다 작은 단어의 개수를 카운트\n",
        "total_freq = 0 # 훈련 데이터의 전체 단어 빈도수 총 합\n",
        "rare_freq = 0 # 등장 빈도수가 threshold보다 작은 단어의 등장 빈도수의 총 합\n",
        "\n",
        "# 단어와 빈도수의 쌍(pair)을 key와 value로 받는다.\n",
        "for key, value in tokenizer.word_counts.items():\n",
        "    total_freq = total_freq + value\n",
        "\n",
        "    # 단어의 등장 빈도수가 threshold보다 작으면\n",
        "    if(value < threshold):\n",
        "        rare_cnt = rare_cnt + 1\n",
        "        rare_freq = rare_freq + value\n",
        "\n",
        "print('단어 집합(vocabulary)의 크기 :',total_cnt)\n",
        "print('등장 빈도가 %s번 이하인 희귀 단어의 수: %s'%(threshold - 1, rare_cnt))\n",
        "print(\"단어 집합에서 희귀 단어의 비율:\", (rare_cnt / total_cnt)*100)\n",
        "print(\"전체 등장 빈도에서 희귀 단어 등장 빈도 비율:\", (rare_freq / total_freq)*100)"
      ],
      "execution_count": 17,
      "outputs": [
        {
          "output_type": "stream",
          "name": "stdout",
          "text": [
            "단어 집합(vocabulary)의 크기 : 206798\n",
            "등장 빈도가 2번 이하인 희귀 단어의 수: 183972\n",
            "단어 집합에서 희귀 단어의 비율: 88.9621756496678\n",
            "전체 등장 빈도에서 희귀 단어 등장 빈도 비율: 26.57525164006852\n"
          ]
        }
      ]
    },
    {
      "cell_type": "code",
      "metadata": {
        "colab": {
          "base_uri": "https://localhost:8080/"
        },
        "id": "49HpD6EbQZzn",
        "outputId": "bd116110-9395-402e-9dd6-1b8e69ffb52e"
      },
      "source": [
        "# 전체 단어 개수 중 빈도수 threshold 이하인 단어는 제거.\n",
        "# 0번 패딩 토큰을 고려하여 + 1\n",
        "vocab_size = total_cnt - rare_cnt + 1\n",
        "print('단어 집합의 크기 :',vocab_size)"
      ],
      "execution_count": 18,
      "outputs": [
        {
          "output_type": "stream",
          "name": "stdout",
          "text": [
            "단어 집합의 크기 : 22827\n"
          ]
        }
      ]
    },
    {
      "cell_type": "code",
      "metadata": {
        "id": "wGp5qrHyQde1"
      },
      "source": [
        "tokenizer = Tokenizer(vocab_size) \n",
        "tokenizer.fit_on_texts(X_train)\n",
        "X_train = tokenizer.texts_to_sequences(X_train)\n",
        "X_test = tokenizer.texts_to_sequences(X_test)"
      ],
      "execution_count": 19,
      "outputs": []
    },
    {
      "cell_type": "code",
      "metadata": {
        "id": "4oPrFFfpQ7oJ"
      },
      "source": [
        "y_train = np.array(y_train)\n",
        "y_test = np.array(y_test)"
      ],
      "execution_count": 20,
      "outputs": []
    },
    {
      "cell_type": "code",
      "metadata": {
        "colab": {
          "base_uri": "https://localhost:8080/",
          "height": 315
        },
        "id": "R_Yq-mq8R0Jf",
        "outputId": "ad09e283-5945-4d0e-ea5a-74bbe1415076"
      },
      "source": [
        "print('메시지의 최대 길이 :',max(len(l) for l in X_train))\n",
        "print('메시지의 평균 길이 :',sum(map(len, X_train))/len(X_train))\n",
        "plt.hist([len(s) for s in X_train], bins=50)\n",
        "plt.xlabel('length of samples')\n",
        "plt.ylabel('number of samples')\n",
        "plt.show()"
      ],
      "execution_count": 21,
      "outputs": [
        {
          "output_type": "stream",
          "name": "stdout",
          "text": [
            "메시지의 최대 길이 : 393\n",
            "메시지의 평균 길이 : 2.37170538997773\n"
          ]
        },
        {
          "output_type": "display_data",
          "data": {
            "image/png": "[encoded data removed]",
            "text/plain": [
              "<Figure size 432x288 with 1 Axes>"
            ]
          },
          "metadata": {
            "needs_background": "light"
          }
        }
      ]
    },
    {
      "cell_type": "code",
      "metadata": {
        "colab": {
          "base_uri": "https://localhost:8080/"
        },
        "id": "WjNMmaB2SQza",
        "outputId": "d22f826f-960e-4903-ee9a-dadc0f389da0"
      },
      "source": [
        "def below_threshold_len(max_len, nested_list):\n",
        "  count = 0\n",
        "  for sentence in nested_list:\n",
        "    if(len(sentence) <= max_len):\n",
        "        count = count + 1\n",
        "  print('전체 샘플 중 길이가 %s 이하인 샘플의 비율: %s'%(max_len, (count / len(nested_list))*100))\n",
        "\n",
        "below_threshold_len(10,X_train)"
      ],
      "execution_count": 27,
      "outputs": [
        {
          "output_type": "stream",
          "name": "stdout",
          "text": [
            "전체 샘플 중 길이가 10 이하인 샘플의 비율: 99.10920741644553\n"
          ]
        }
      ]
    },
    {
      "cell_type": "code",
      "metadata": {
        "id": "6T0ovxUDSdfd"
      },
      "source": [
        "max_len = 10\n",
        "X_train = pad_sequences(X_train, maxlen = max_len)\n",
        "X_test = pad_sequences(X_test, maxlen = max_len)"
      ],
      "execution_count": 28,
      "outputs": []
    },
    {
      "cell_type": "code",
      "metadata": {
        "id": "NR0DkfIzSjEv"
      },
      "source": [
        "from tensorflow.keras.layers import Embedding, Dense, LSTM\n",
        "from tensorflow.keras.models import Sequential\n",
        "from tensorflow.keras.models import load_model\n",
        "from tensorflow.keras.callbacks import EarlyStopping, ModelCheckpoint"
      ],
      "execution_count": 29,
      "outputs": []
    },
    {
      "cell_type": "code",
      "metadata": {
        "id": "AHQsJTg6SkcO"
      },
      "source": [
        "embedding_dim = 100\n",
        "hidden_units = 128\n",
        "\n",
        "model = Sequential()\n",
        "model.add(Embedding(vocab_size, embedding_dim))\n",
        "model.add(LSTM(hidden_units))\n",
        "model.add(Dense(1, activation='sigmoid'))"
      ],
      "execution_count": 30,
      "outputs": []
    },
    {
      "cell_type": "code",
      "metadata": {
        "id": "WxocjzyWSvyM"
      },
      "source": [
        "es = EarlyStopping(monitor='val_loss', mode='min', verbose=1, patience=4)\n",
        "mc = ModelCheckpoint('best_model.h5', monitor='val_acc', mode='max', verbose=1, save_best_only=True)"
      ],
      "execution_count": 31,
      "outputs": []
    },
    {
      "cell_type": "code",
      "metadata": {
        "colab": {
          "base_uri": "https://localhost:8080/"
        },
        "id": "9EB3LrJoSxUA",
        "outputId": "1ccb9a76-7c3d-4dd7-8c68-5de0920651a9"
      },
      "source": [
        "model.compile(optimizer='rmsprop', loss='binary_crossentropy', metrics=['acc'])\n",
        "history = model.fit(X_train, y_train, epochs=15, callbacks=[es, mc], batch_size=64, validation_split=0.2)"
      ],
      "execution_count": 32,
      "outputs": [
        {
          "output_type": "stream",
          "name": "stdout",
          "text": [
            "Epoch 1/15\n",
            "2929/2930 [============================>.] - ETA: 0s - loss: 0.6762 - acc: 0.5705\n",
            "Epoch 00001: val_acc improved from -inf to 0.57575, saving model to best_model.h5\n",
            "2930/2930 [==============================] - 155s 52ms/step - loss: 0.6762 - acc: 0.5705 - val_loss: 0.6726 - val_acc: 0.5757\n",
            "Epoch 2/15\n",
            "2929/2930 [============================>.] - ETA: 0s - loss: 0.6595 - acc: 0.6012\n",
            "Epoch 00002: val_acc improved from 0.57575 to 0.57982, saving model to best_model.h5\n",
            "2930/2930 [==============================] - 140s 48ms/step - loss: 0.6595 - acc: 0.6012 - val_loss: 0.6707 - val_acc: 0.5798\n",
            "Epoch 3/15\n",
            "2929/2930 [============================>.] - ETA: 0s - loss: 0.6427 - acc: 0.6238\n",
            "Epoch 00003: val_acc improved from 0.57982 to 0.58219, saving model to best_model.h5\n",
            "2930/2930 [==============================] - 136s 46ms/step - loss: 0.6427 - acc: 0.6238 - val_loss: 0.6773 - val_acc: 0.5822\n",
            "Epoch 4/15\n",
            "2930/2930 [==============================] - ETA: 0s - loss: 0.6304 - acc: 0.6371\n",
            "Epoch 00004: val_acc did not improve from 0.58219\n",
            "2930/2930 [==============================] - 118s 40ms/step - loss: 0.6304 - acc: 0.6371 - val_loss: 0.6797 - val_acc: 0.5814\n",
            "Epoch 5/15\n",
            "2930/2930 [==============================] - ETA: 0s - loss: 0.6189 - acc: 0.6466\n",
            "Epoch 00005: val_acc did not improve from 0.58219\n",
            "2930/2930 [==============================] - 111s 38ms/step - loss: 0.6189 - acc: 0.6466 - val_loss: 0.6877 - val_acc: 0.5790\n",
            "Epoch 6/15\n",
            "2929/2930 [============================>.] - ETA: 0s - loss: 0.6061 - acc: 0.6583\n",
            "Epoch 00006: val_acc did not improve from 0.58219\n",
            "2930/2930 [==============================] - 111s 38ms/step - loss: 0.6061 - acc: 0.6582 - val_loss: 0.7041 - val_acc: 0.5739\n",
            "Epoch 00006: early stopping\n"
          ]
        }
      ]
    },
    {
      "cell_type": "code",
      "metadata": {
        "colab": {
          "base_uri": "https://localhost:8080/"
        },
        "id": "v_tvKsG4S1nN",
        "outputId": "258b6a22-76f9-4b68-a281-3b08fadb8930"
      },
      "source": [
        "loaded_model = load_model('best_model.h5')\n",
        "print(\"\\n 테스트 정확도: %.4f\" % (loaded_model.evaluate(X_test, y_test)[1]))"
      ],
      "execution_count": 33,
      "outputs": [
        {
          "output_type": "stream",
          "name": "stdout",
          "text": [
            "2442/2442 [==============================] - 13s 5ms/step - loss: 0.6738 - acc: 0.5840\n",
            "\n",
            " 테스트 정확도: 0.5840\n"
          ]
        }
      ]
    },
    {
      "cell_type": "code",
      "metadata": {
        "id": "fEKxiKtDS9hF"
      },
      "source": [
        ""
      ],
      "execution_count": null,
      "outputs": []
    },
    {
      "cell_type": "code",
      "metadata": {
        "id": "NpChPKtiS9L9"
      },
      "source": [
        ""
      ],
      "execution_count": null,
      "outputs": []
    },
    {
      "cell_type": "markdown",
      "metadata": {
        "id": "Los3DI9FZlCb"
      },
      "source": [
        "# 2. 같은 화자가 말한 내용들을 통째로 처리하도록\n",
        " 그냥 다른 파일에서 작성함. lstm따라하기 2.ipynb"
      ]
    },
    {
      "cell_type": "code",
      "metadata": {
        "id": "mMReAFyldVDY"
      },
      "source": [
        "#위에서의 json2df 함수 수정함\n",
        "def json2df (file):\n",
        "  with open(file, 'r') as f:\n",
        "    jdata = json.load(f)\n",
        "  \n",
        "  meta_list = [['header', 'dialogueInfo', 'numberOfParticipants'],\n",
        "             ['header', 'dialogueInfo', 'numberOfUtterances'],\n",
        "             ['header', 'dialogueInfo', 'dialogueID'],\n",
        "            ]\n",
        "  # dataframe of utterances \n",
        "  df1 = pd.json_normalize(jdata['data'][:], record_path=['body'], meta= meta_list, errors='ignore')\n",
        "  # dataframe of participants info\n",
        "  df2 = pd.json_normalize(jdata['data'], record_path=['header', 'participantsInfo'],  meta= [['header', 'dialogueInfo', 'dialogueID']], errors='ignore')\n",
        "  # join df1 and df2 where (df1.dialogueID == df2.dialogueID and df1.participantID == df2.participantID)\n",
        "  df = pd.merge(left = df1 , right = df2, how = \"left\", on = [\"header.dialogueInfo.dialogueID\", 'participantID' ],sort=False)\n",
        "\n",
        "  # rename column names\n",
        "  # 열이름 너무 길어서 바꿈. P는 참가자, U는 메시지, D는 대화, T는 turn 으로 통일시킴. 맘에 안 들면 바꿔도 ok\n",
        "  df.rename(columns = {'header.dialogueInfo.numberOfParticipants' : 'P_num', \n",
        "                       'header.dialogueInfo.numberOfUtterances': 'U_num', \n",
        "                       'header.dialogueInfo.dialogueID':'D_id',\n",
        "                       'utteranceID':'U_id',\n",
        "                       'participantID':'P_id',\n",
        "                       'gender':'P_gender',\n",
        "                       'age':'P_age'}, inplace = True)\n",
        "\n",
        "  df= df[['utterance', 'U_id', 'P_id', 'P_num', 'D_id', 'P_gender']]\n",
        "\n",
        "  # 대화 id 를 0부터 일련번호로 변경\n",
        "  D_id_list = []\n",
        "\n",
        "  num = -1 \n",
        "  current = None\n",
        "  for id in df['D_id']:\n",
        "    if id != current:\n",
        "      num +=1\n",
        "      current = id\n",
        "    D_id_list.append(num)\n",
        "\n",
        "  df['D_id'] = D_id_list\n",
        "\n",
        "  return df\n",
        "\n",
        "\n",
        "# 행사.json, 식음료.json 등 여러 데이터셋을 하나로 만들기 위한 함수\n",
        "def concat_json2df (file_list):\n",
        "  result = None\n",
        "\n",
        "  for i, file in enumerate(file_list):\n",
        "    df = json2df(file)\n",
        "    if (i==0):\n",
        "      result = df.copy()\n",
        "    else:\n",
        "      result = pd.concat([result,df])\n",
        "  return result"
      ],
      "execution_count": 77,
      "outputs": []
    },
    {
      "cell_type": "code",
      "metadata": {
        "colab": {
          "base_uri": "https://localhost:8080/",
          "height": 670
        },
        "id": "0WccqHnmZ1fO",
        "outputId": "7cf5eff1-be54-483b-8c39-face45421de0"
      },
      "source": [
        "f_list = ['/content/gdrive/MyDrive/cose461/개인및관계2.json']\n",
        "\n",
        "df2 = concat_json2df(f_list)\n",
        "\n",
        "\n",
        "df2.head(20)"
      ],
      "execution_count": 78,
      "outputs": [
        {
          "output_type": "execute_result",
          "data": {
            "text/html": [
              "<div>\n",
              "<style scoped>\n",
              "    .dataframe tbody tr th:only-of-type {\n",
              "        vertical-align: middle;\n",
              "    }\n",
              "\n",
              "    .dataframe tbody tr th {\n",
              "        vertical-align: top;\n",
              "    }\n",
              "\n",
              "    .dataframe thead th {\n",
              "        text-align: right;\n",
              "    }\n",
              "</style>\n",
              "<table border=\"1\" class=\"dataframe\">\n",
              "  <thead>\n",
              "    <tr style=\"text-align: right;\">\n",
              "      <th></th>\n",
              "      <th>utterance</th>\n",
              "      <th>U_id</th>\n",
              "      <th>P_id</th>\n",
              "      <th>P_num</th>\n",
              "      <th>D_id</th>\n",
              "      <th>P_gender</th>\n",
              "    </tr>\n",
              "  </thead>\n",
              "  <tbody>\n",
              "    <tr>\n",
              "      <th>0</th>\n",
              "      <td>푹자요 우리애기</td>\n",
              "      <td>U1</td>\n",
              "      <td>P01</td>\n",
              "      <td>2</td>\n",
              "      <td>0</td>\n",
              "      <td>여성</td>\n",
              "    </tr>\n",
              "    <tr>\n",
              "      <th>1</th>\n",
              "      <td>야보랑 카토가햐아하은데</td>\n",
              "      <td>U2</td>\n",
              "      <td>P02</td>\n",
              "      <td>2</td>\n",
              "      <td>0</td>\n",
              "      <td>여성</td>\n",
              "    </tr>\n",
              "    <tr>\n",
              "      <th>2</th>\n",
              "      <td>미안해여ㅠㅠㅜㅜㅜ</td>\n",
              "      <td>U3</td>\n",
              "      <td>P02</td>\n",
              "      <td>2</td>\n",
              "      <td>0</td>\n",
              "      <td>여성</td>\n",
              "    </tr>\n",
              "    <tr>\n",
              "      <th>3</th>\n",
              "      <td>언니랑 카톡하다버니 사랑이너무 가특해서</td>\n",
              "      <td>U4</td>\n",
              "      <td>P02</td>\n",
              "      <td>2</td>\n",
              "      <td>0</td>\n",
              "      <td>여성</td>\n",
              "    </tr>\n",
              "    <tr>\n",
              "      <th>4</th>\n",
              "      <td>마구잠이 스르륵호는거있지</td>\n",
              "      <td>U5</td>\n",
              "      <td>P02</td>\n",
              "      <td>2</td>\n",
              "      <td>0</td>\n",
              "      <td>여성</td>\n",
              "    </tr>\n",
              "    <tr>\n",
              "      <th>5</th>\n",
              "      <td>아냐아냐</td>\n",
              "      <td>U6</td>\n",
              "      <td>P01</td>\n",
              "      <td>2</td>\n",
              "      <td>0</td>\n",
              "      <td>여성</td>\n",
              "    </tr>\n",
              "    <tr>\n",
              "      <th>6</th>\n",
              "      <td>그럴수잇어 피곤하지ㅠㅠ</td>\n",
              "      <td>U7</td>\n",
              "      <td>P01</td>\n",
              "      <td>2</td>\n",
              "      <td>0</td>\n",
              "      <td>여성</td>\n",
              "    </tr>\n",
              "    <tr>\n",
              "      <th>7</th>\n",
              "      <td>얼른자요!!</td>\n",
              "      <td>U8</td>\n",
              "      <td>P01</td>\n",
              "      <td>2</td>\n",
              "      <td>0</td>\n",
              "      <td>여성</td>\n",
              "    </tr>\n",
              "    <tr>\n",
              "      <th>8</th>\n",
              "      <td>사랑해 #@이름#야아</td>\n",
              "      <td>U9</td>\n",
              "      <td>P01</td>\n",
              "      <td>2</td>\n",
              "      <td>0</td>\n",
              "      <td>여성</td>\n",
              "    </tr>\n",
              "    <tr>\n",
              "      <th>9</th>\n",
              "      <td>언니도 소화시키구</td>\n",
              "      <td>U10</td>\n",
              "      <td>P02</td>\n",
              "      <td>2</td>\n",
              "      <td>0</td>\n",
              "      <td>여성</td>\n",
              "    </tr>\n",
              "    <tr>\n",
              "      <th>10</th>\n",
              "      <td>바로 자야해요</td>\n",
              "      <td>U11</td>\n",
              "      <td>P02</td>\n",
              "      <td>2</td>\n",
              "      <td>0</td>\n",
              "      <td>여성</td>\n",
              "    </tr>\n",
              "    <tr>\n",
              "      <th>11</th>\n",
              "      <td>왜내가슬퍼</td>\n",
              "      <td>U1</td>\n",
              "      <td>P01</td>\n",
              "      <td>2</td>\n",
              "      <td>1</td>\n",
              "      <td>여성</td>\n",
              "    </tr>\n",
              "    <tr>\n",
              "      <th>12</th>\n",
              "      <td>그러게</td>\n",
              "      <td>U2</td>\n",
              "      <td>P02</td>\n",
              "      <td>2</td>\n",
              "      <td>1</td>\n",
              "      <td>여성</td>\n",
              "    </tr>\n",
              "    <tr>\n",
              "      <th>13</th>\n",
              "      <td>나도슬퍼</td>\n",
              "      <td>U3</td>\n",
              "      <td>P02</td>\n",
              "      <td>2</td>\n",
              "      <td>1</td>\n",
              "      <td>여성</td>\n",
              "    </tr>\n",
              "    <tr>\n",
              "      <th>14</th>\n",
              "      <td>흑흑</td>\n",
              "      <td>U4</td>\n",
              "      <td>P02</td>\n",
              "      <td>2</td>\n",
              "      <td>1</td>\n",
              "      <td>여성</td>\n",
              "    </tr>\n",
              "    <tr>\n",
              "      <th>15</th>\n",
              "      <td>읽었어?</td>\n",
              "      <td>U5</td>\n",
              "      <td>P01</td>\n",
              "      <td>2</td>\n",
              "      <td>1</td>\n",
              "      <td>여성</td>\n",
              "    </tr>\n",
              "    <tr>\n",
              "      <th>16</th>\n",
              "      <td>안잀어....</td>\n",
              "      <td>U6</td>\n",
              "      <td>P02</td>\n",
              "      <td>2</td>\n",
              "      <td>1</td>\n",
              "      <td>여성</td>\n",
              "    </tr>\n",
              "    <tr>\n",
              "      <th>17</th>\n",
              "      <td>아니</td>\n",
              "      <td>U7</td>\n",
              "      <td>P01</td>\n",
              "      <td>2</td>\n",
              "      <td>1</td>\n",
              "      <td>여성</td>\n",
              "    </tr>\n",
              "    <tr>\n",
              "      <th>18</th>\n",
              "      <td>아직 보낸지 1분밖에 안됐지만...</td>\n",
              "      <td>U8</td>\n",
              "      <td>P02</td>\n",
              "      <td>2</td>\n",
              "      <td>1</td>\n",
              "      <td>여성</td>\n",
              "    </tr>\n",
              "    <tr>\n",
              "      <th>19</th>\n",
              "      <td>ㅋㅋㅋㅋㅋㅋㅋㅋㅋㅋㅋㅋ</td>\n",
              "      <td>U9</td>\n",
              "      <td>P02</td>\n",
              "      <td>2</td>\n",
              "      <td>1</td>\n",
              "      <td>여성</td>\n",
              "    </tr>\n",
              "  </tbody>\n",
              "</table>\n",
              "</div>"
            ],
            "text/plain": [
              "                utterance U_id P_id P_num  D_id P_gender\n",
              "0                푹자요 우리애기   U1  P01     2     0       여성\n",
              "1            야보랑 카토가햐아하은데   U2  P02     2     0       여성\n",
              "2               미안해여ㅠㅠㅜㅜㅜ   U3  P02     2     0       여성\n",
              "3   언니랑 카톡하다버니 사랑이너무 가특해서   U4  P02     2     0       여성\n",
              "4           마구잠이 스르륵호는거있지   U5  P02     2     0       여성\n",
              "5                    아냐아냐   U6  P01     2     0       여성\n",
              "6            그럴수잇어 피곤하지ㅠㅠ   U7  P01     2     0       여성\n",
              "7                  얼른자요!!   U8  P01     2     0       여성\n",
              "8             사랑해 #@이름#야아   U9  P01     2     0       여성\n",
              "9               언니도 소화시키구  U10  P02     2     0       여성\n",
              "10                바로 자야해요  U11  P02     2     0       여성\n",
              "11                  왜내가슬퍼   U1  P01     2     1       여성\n",
              "12                    그러게   U2  P02     2     1       여성\n",
              "13                   나도슬퍼   U3  P02     2     1       여성\n",
              "14                     흑흑   U4  P02     2     1       여성\n",
              "15                   읽었어?   U5  P01     2     1       여성\n",
              "16                안잀어....   U6  P02     2     1       여성\n",
              "17                     아니   U7  P01     2     1       여성\n",
              "18    아직 보낸지 1분밖에 안됐지만...   U8  P02     2     1       여성\n",
              "19           ㅋㅋㅋㅋㅋㅋㅋㅋㅋㅋㅋㅋ   U9  P02     2     1       여성"
            ]
          },
          "metadata": {},
          "execution_count": 78
        }
      ]
    }
  ]
}